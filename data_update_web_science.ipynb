{
 "cells": [
  {
   "cell_type": "markdown",
   "id": "2c7a256e-b56d-47ee-bcf5-4348bf3bd624",
   "metadata": {
    "tags": []
   },
   "source": [
    "## daily data updates for the helioforecast.space website of science data\n",
    "\n",
    "Main author: C. Möstl, Austrian Space Weather Office, GeoSphere Austria\n",
    "\n",
    "https://github.com/cmoestl/heliocats\n",
    "\n",
    "uses environment 'envs/env_helio4.yml'\n",
    "\n",
    "need to copy kernel files manually to the kernel paths\n"
   ]
  },
  {
   "cell_type": "code",
   "execution_count": 1,
   "id": "be5e0edc-69be-4ad3-a25f-0c80b84aa443",
   "metadata": {
    "tags": []
   },
   "outputs": [
    {
     "name": "stderr",
     "output_type": "stream",
     "text": [
      "/Users/chris/python/miniconda3/envs/helio4/lib/python3.10/site-packages/tqdm/auto.py:21: TqdmWarning: IProgress not found. Please update jupyter and ipywidgets. See https://ipywidgets.readthedocs.io/en/stable/user_install.html\n",
      "  from .autonotebook import tqdm as notebook_tqdm\n"
     ]
    },
    {
     "name": "stdout",
     "output_type": "stream",
     "text": [
      "system is mac\n"
     ]
    },
    {
     "name": "stderr",
     "output_type": "stream",
     "text": [
      "[NbConvertApp] Converting notebook data_update_web_science.ipynb to script\n",
      "[NbConvertApp] Writing 18722 bytes to data_update_web_science.py\n"
     ]
    }
   ],
   "source": [
    "# https://github.com/cmoestl/heliocats  data_update_web.py\n",
    "\n",
    "# for updating data every day on the servers\n",
    "\n",
    "import pickle\n",
    "import importlib\n",
    "import matplotlib.pyplot as plt\n",
    "import matplotlib\n",
    "import matplotlib.dates as mdates\n",
    "import sys\n",
    "import numpy as np\n",
    "import datetime\n",
    "import scipy.signal\n",
    "import urllib\n",
    "import json\n",
    "import os   \n",
    "import time\n",
    "import h5py\n",
    "import pytz\n",
    "import copy\n",
    "import cdflib\n",
    "import pandas as pd\n",
    "from datetime import datetime, timedelta\n",
    "import spiceypy\n",
    "import glob\n",
    "import urllib.request\n",
    "import json\n",
    "\n",
    "\n",
    "from heliocats import data as hd\n",
    "from heliocats import plot as hp\n",
    "\n",
    "\n",
    "##### check for system type\n",
    "#server\n",
    "if sys.platform == 'linux': \n",
    "    print('system is linux')\n",
    "    matplotlib.use('Agg') \n",
    "#mac\n",
    "if sys.platform =='darwin':  \n",
    "    print('system is mac')\n",
    "    #for testing\n",
    "    #%matplotlib inline     \n",
    "    matplotlib.use('Agg') \n",
    "\n",
    "\n",
    "\n",
    "################################################ CHECK  ##############################################\n",
    "os.system('jupyter nbconvert --to script data_update_web_science.ipynb')   \n",
    "\n",
    "#switches\n",
    "debug_mode=0\n",
    "\n",
    "\n",
    "#switches\n",
    "get_wind=1\n",
    "get_bepi=1\n",
    "get_stereoa=0\n",
    "get_solo=0\n",
    "get_psp=0\n",
    "\n",
    "####################################################################################################################\n",
    "\n",
    "\n",
    "#test execution times\n",
    "t0all = time.time()"
   ]
  },
  {
   "cell_type": "markdown",
   "id": "a1c436e0-430d-4398-b43e-f1796b186dfb",
   "metadata": {
    "tags": []
   },
   "source": [
    "### Configure paths depending on server or local machine\n"
   ]
  },
  {
   "cell_type": "code",
   "execution_count": 2,
   "id": "d84584f3-b9dd-4756-a8fd-b3e4a3c2d3c3",
   "metadata": {
    "tags": []
   },
   "outputs": [
    {
     "name": "stdout",
     "output_type": "stream",
     "text": [
      " \n",
      "------ PATHS \n",
      "/Users/chris/python/data/insitu_python/\n",
      "/Users/chris/python/ops/data/noaa/\n",
      "/Users/chris/python/data/wind/\n",
      "/Users/chris/python/data/solo/\n",
      "/Users/chris/python/data/stereoa/\n",
      "/Users/chris/python/data/kernels/\n",
      "/Users/chris/python/data/insitu_python/plots/\n",
      "/Users/chris/python/data/insitu_python/plots_positions/\n"
     ]
    }
   ],
   "source": [
    "if sys.platform == 'linux': \n",
    "    \n",
    "    from config_server import data_path\n",
    "    from config_server import noaa_path\n",
    "    from config_server import wind_path\n",
    "    from config_server import solo_path    \n",
    "    from config_server import stereoa_path\n",
    "    from config_server import kernels_path\n",
    "    from config_server import data_path_ml\n",
    "    \n",
    "if sys.platform =='darwin':  \n",
    "\n",
    "    from config_local import data_path\n",
    "    from config_local import noaa_path\n",
    "    from config_local import wind_path\n",
    "    from config_local import solo_path    \n",
    "    from config_local import stereoa_path\n",
    "    from config_local import kernels_path \n",
    "    from config_local import data_path_ml\n",
    "\n",
    "print(' ')\n",
    "print('------ PATHS ')\n",
    "\n",
    "print(data_path)\n",
    "print(noaa_path)\n",
    "print(wind_path)\n",
    "print(solo_path)\n",
    "print(stereoa_path)\n",
    "print(kernels_path)\n",
    "#print(data_path_ml)\n",
    "\n",
    "\n",
    "plot_path=data_path+'plots/'\n",
    "position_path=data_path+'plots_positions/'\n",
    "sun_path=data_path+'plots_sun/'\n",
    "\n",
    "print(plot_path)\n",
    "print(position_path)\n",
    "\n",
    "\n",
    "\n",
    "########### make directories first time\n",
    "if os.path.isdir(plot_path) == False: os.mkdir(plot_path)\n",
    "if os.path.isdir(plot_path+'omni2') == False: os.mkdir(plot_path+'omni2')\n",
    "if os.path.isdir(plot_path+'wind') == False: os.mkdir(plot_path+'wind')\n",
    "if os.path.isdir(plot_path+'solo') == False: os.mkdir(plot_path+'solo')\n",
    "if os.path.isdir(plot_path+'stereoa') == False: os.mkdir(plot_path+'stereoa')\n",
    "if os.path.isdir(plot_path+'combined') == False: os.mkdir(plot_path+'combined')\n",
    "\n",
    "\n",
    "if os.path.isdir(position_path) == False: os.mkdir(position_path)\n",
    "if os.path.isdir(sun_path) == False: os.mkdir(sun_path)\n",
    "if os.path.isdir(noaa_path) == False: os.mkdir(noaa_path)\n",
    "if os.path.isdir(solo_path) == False: os.mkdir(solo_path)\n",
    "if os.path.isdir(data_path_ml) == False: os.mkdir(data_path_ml)"
   ]
  },
  {
   "cell_type": "code",
   "execution_count": 3,
   "id": "4e603295-dc31-4cbe-a4ee-a016dd493ea1",
   "metadata": {
    "tags": []
   },
   "outputs": [],
   "source": [
    "#EMMA SOLO\n",
    "\n",
    "def download_solomag_1min(start_timestamp, path=f'{solo_path}'+'mag/level2/'):\n",
    "    start = start_timestamp.date()\n",
    "    end = datetime.utcnow().date() + timedelta(days=1)\n",
    "    while start < end:\n",
    "        date_str = f'{start.year}{start.month:02}{start.day:02}'\n",
    "        data_item_id = f'solo_L2_mag-rtn-normal-1-minute_{date_str}'\n",
    "        if os.path.isfile(f\"{path}{data_item_id}.cdf\") == True:\n",
    "            print(f'{data_item_id}.cdf has already been downloaded.')\n",
    "            start += timedelta(days=1)\n",
    "        else:\n",
    "            try:\n",
    "                data_url = f'http://soar.esac.esa.int/soar-sl-tap/data?retrieval_type=PRODUCT&data_item_id={data_item_id}&product_type=SCIENCE'\n",
    "                urllib.request.urlretrieve(data_url, f\"{path}{data_item_id}.cdf\")\n",
    "                print(f'Successfully downloaded {data_item_id}.cdf')\n",
    "                start += timedelta(days=1)\n",
    "            except Exception as e:\n",
    "                print('ERROR', e, data_item_id)\n",
    "                start += timedelta(days=1)\n",
    "\n",
    "\n",
    "def download_soloplas(start_timestamp, path=f'{solo_path}'+'swa/level2/'):\n",
    "    start = start_timestamp.date()\n",
    "    end = datetime.utcnow().date() + timedelta(days=1)\n",
    "    while start < end:\n",
    "        date_str = f'{start.year}{start.month:02}{start.day:02}'\n",
    "        data_item_id = f'solo_L2_swa-pas-grnd-mom_{date_str}'\n",
    "        if os.path.isfile(f\"{path}{data_item_id}.cdf\") == True:\n",
    "            print(f'{data_item_id}.cdf has already been downloaded.')\n",
    "            start += timedelta(days=1)\n",
    "        else:\n",
    "            try:\n",
    "                data_url = f'http://soar.esac.esa.int/soar-sl-tap/data?retrieval_type=PRODUCT&data_item_id={data_item_id}&product_type=SCIENCE'\n",
    "                urllib.request.urlretrieve(data_url, f\"{path}{data_item_id}.cdf\")\n",
    "                print(f'Successfully downloaded {data_item_id}.cdf')\n",
    "                start += timedelta(days=1)\n",
    "            except Exception as e:\n",
    "                print('ERROR', e, data_item_id)\n",
    "                start += timedelta(days=1)\n",
    "\n",
    "\n",
    "\"\"\"\n",
    "LOAD IN SOLO DATA FUNCTIONS: from datapath, and arranges into large dataframes for timerange\n",
    "\"\"\"\n",
    "\n",
    "\n",
    "def get_solomag(fp):\n",
    "    \"\"\"raw = rtn\"\"\"\n",
    "    try:\n",
    "        cdf = cdflib.CDF(fp)\n",
    "        t1 = cdflib.cdfepoch.to_datetime(cdf.varget('EPOCH'))\n",
    "        df = pd.DataFrame(t1, columns=['time'])\n",
    "        bx, by, bz = cdf['B_RTN'][:].T\n",
    "        df['bx'] = bx\n",
    "        df['by'] = by\n",
    "        df['bz'] = bz\n",
    "        df['bt'] = np.linalg.norm(df[['bx', 'by', 'bz']], axis=1)\n",
    "    except Exception as e:\n",
    "        print('ERROR:', e, fp)\n",
    "        df = None\n",
    "    return df\n",
    "\n",
    "\n",
    "def get_soloplas(fp):\n",
    "    \"\"\"raw = rtn\"\"\"\n",
    "    try:\n",
    "        cdf = cdflib.CDF(fp)\n",
    "        t1 = cdflib.cdfepoch.to_datetime(cdf.varget('EPOCH'))\n",
    "        df = pd.DataFrame(t1, columns=['time'])\n",
    "        df['np'] = cdf['N']\n",
    "        df['tp'] = cdf['T']\n",
    "        vx, vy, vz = cdf['V_RTN'][:].T\n",
    "        df['vx'] = vx\n",
    "        df['vy'] = vy\n",
    "        df['vz'] = vz\n",
    "        df['vt'] = np.linalg.norm(df[['vx', 'vy', 'vz']], axis=1)\n",
    "    except Exception as e:\n",
    "        print('ERROR:', e, fp)\n",
    "        df = None\n",
    "    return df\n",
    "\n",
    "\n",
    "def get_solomag_range_1min(start_timestamp, end_timestamp=datetime.utcnow(), path=f'{solo_path}'+'mag/level2/'):\n",
    "    \"\"\"Pass two datetime objects and grab .cdf files between dates, from\n",
    "    directory given.\"\"\"\n",
    "    df = None\n",
    "    start = start_timestamp.date()\n",
    "    end = end_timestamp.date() + timedelta(days=1)\n",
    "    while start < end:\n",
    "        date_str = f'{start.year}{start.month:02}{start.day:02}'\n",
    "        fn = f'{path}solo_L2_mag-rtn-normal-1-minute_{date_str}.cdf'\n",
    "        _df = get_solomag(fn)\n",
    "        if _df is not None:\n",
    "            if df is None:\n",
    "                df = _df.copy(deep=True)\n",
    "            else:\n",
    "                df = pd.concat([df, _df])\n",
    "        start += timedelta(days=1)\n",
    "    return df\n",
    "\n",
    "\n",
    "def get_soloplas_range(start_timestamp, end_timestamp=datetime.utcnow(), path=f'{solo_path}'+'swa/level2/'):\n",
    "    \"\"\"Pass two datetime objects and grab .cdf files between dates, from\n",
    "    directory given.\"\"\"\n",
    "    df = None\n",
    "    start = start_timestamp.date()\n",
    "    end = end_timestamp.date() + timedelta(days=1)\n",
    "    while start < end:\n",
    "        date_str = f'{start.year}{start.month:02}{start.day:02}'\n",
    "        fn = f'{path}solo_L2_swa-pas-grnd-mom_{date_str}.cdf'\n",
    "        _df = get_soloplas(fn)\n",
    "        if _df is not None:\n",
    "            if df is None:\n",
    "                df = _df.copy(deep=True)\n",
    "            else:\n",
    "                df = pd.concat([df, _df])\n",
    "        start += timedelta(days=1)\n",
    "    return df\n",
    "\n",
    "\n",
    "\"\"\"\n",
    "SOLO POSITION FUNCTIONS: coord maths, furnish kernels, and call position for each timestamp\n",
    "\"\"\"\n",
    "\n",
    "def cart2sphere(x,y,z):\n",
    "    r = np.sqrt(x**2+ y**2 + z**2) /1.495978707E8         \n",
    "    theta = np.arctan2(z,np.sqrt(x**2+ y**2)) * 360 / 2 / np.pi\n",
    "    phi = np.arctan2(y,x) * 360 / 2 / np.pi                   \n",
    "    return (r, theta, phi)\n",
    "\n",
    "\n",
    "#http://spiftp.esac.esa.int/data/SPICE/SOLAR-ORBITER/kernels/fk/ for solo_ANC_soc-sci-fk_V08.tf\n",
    "#http://spiftp.esac.esa.int/data/SPICE/SOLAR-ORBITER/kernels/spk/ for solo orbit .bsp\n",
    "\n",
    "def solo_furnish():\n",
    "    \"\"\"Main\"\"\"\n",
    "    solo_path = kernels_path+'solo/'\n",
    "    generic_path = kernels_path+'generic/'\n",
    "    solo_kernels = os.listdir(solo_path)\n",
    "    generic_kernels = os.listdir(generic_path)\n",
    "    print(solo_kernels)\n",
    "    print(generic_kernels)\n",
    "    for kernel in solo_kernels:\n",
    "        spiceypy.furnsh(os.path.join(solo_path, kernel))\n",
    "    for kernel in generic_kernels:\n",
    "        spiceypy.furnsh(os.path.join(generic_path, kernel))\n",
    "\n",
    "\n",
    "def get_solo_pos(t):\n",
    "    if spiceypy.ktotal('ALL') < 1:\n",
    "        solo_furnish()\n",
    "    pos = spiceypy.spkpos(\"SOLAR ORBITER\", spiceypy.datetime2et(t), \"HEEQ\", \"NONE\", \"SUN\")[0]\n",
    "    r, lat, lon = cart2sphere(pos[0],pos[1],pos[2])\n",
    "    position = t, pos[0], pos[1], pos[2], r, lat, lon\n",
    "    return position\n",
    "\n",
    "\n",
    "def get_solo_positions(time_series):\n",
    "    positions = []\n",
    "    for t in time_series:\n",
    "        position = get_solo_pos(t)\n",
    "        positions.append(position)\n",
    "    df_positions = pd.DataFrame(positions, columns=['time', 'x', 'y', 'z', 'r', 'lat', 'lon'])\n",
    "    return df_positions\n",
    "\n",
    "\n",
    "\"\"\"\n",
    "FINAL FUNCTION TO CREATE PICKLE FILE: uses all above functions to create pickle file of \n",
    "data from input timestamp to now. \n",
    "Can be read in to DataFrame using:\n",
    "obj = pd.read_pickle('solo_rtn.p')\n",
    "df = pd.DataFrame.from_records(obj)\n",
    "\"\"\"\n",
    "\n",
    "\n",
    "def create_solo_pkl(start_timestamp,data_save_path):\n",
    "    \n",
    "    #download solo mag and plasma data up to now \n",
    "    download_solomag_1min(start_timestamp)\n",
    "    download_soloplas(start_timestamp)\n",
    "\n",
    "    #load in mag data to DataFrame and resample, create empty mag and resampled DataFrame if no data\n",
    "    # if empty, drop time column ready for concat\n",
    "    df_mag = get_solomag_range_1min(start_timestamp)\n",
    "    if df_mag is None:\n",
    "        print(f'SolO MAG data is empty for this timerange')\n",
    "        df_mag = pd.DataFrame({'time':[], 'bt':[], 'bx':[], 'by':[], 'bz':[]})\n",
    "        mag_rdf = df_mag.drop(columns=['time'])\n",
    "    else:\n",
    "        mag_rdf = df_mag.set_index('time').resample('1min').mean().reset_index(drop=False)\n",
    "        mag_rdf.set_index(pd.to_datetime(mag_rdf['time']), inplace=True)\n",
    "        \n",
    "    #load in plasma data to DataFrame and resample, create empty plasma and resampled DataFrame if no data\n",
    "    #only drop time column if MAG DataFrame is not empty\n",
    "    df_plas = get_soloplas_range(start_timestamp)\n",
    "    if df_plas is None:\n",
    "        print(f'SolO SWA data is empty for this timerange')\n",
    "        df_plas = pd.DataFrame({'time':[], 'vt':[], 'vx':[], 'vy':[], 'vz':[], 'np':[], 'tp':[]})\n",
    "        plas_rdf = df_plas\n",
    "    else:\n",
    "        plas_rdf = df_plas.set_index('time').resample('1min').mean().reset_index(drop=False)\n",
    "        plas_rdf.set_index(pd.to_datetime(plas_rdf['time']), inplace=True)\n",
    "        if mag_rdf.shape[0] != 0:\n",
    "            plas_rdf = plas_rdf.drop(columns=['time'])\n",
    "\n",
    "    #need to combine mag and plasma dfs to get complete set of timestamps for position calculation\n",
    "    magplas_rdf = pd.concat([mag_rdf, plas_rdf], axis=1)\n",
    "    #some timestamps may be NaT so after joining, drop time column and reinstate from combined index col\n",
    "    magplas_rdf = magplas_rdf.drop(columns=['time'])\n",
    "    magplas_rdf['time'] = magplas_rdf.index\n",
    "     \n",
    "    #get solo positions for corresponding timestamps\n",
    "    solo_pos = get_solo_positions(magplas_rdf['time'])\n",
    "    solo_pos.set_index(pd.to_datetime(solo_pos['time']), inplace=True)\n",
    "    solo_pos = solo_pos.drop(columns=['time'])\n",
    "\n",
    "    #produce final combined DataFrame with correct ordering of columns \n",
    "    comb_df = pd.concat([magplas_rdf, solo_pos], axis=1)\n",
    "\n",
    "    #produce recarray with correct datatypes\n",
    "    time_stamps = comb_df['time']\n",
    "    dt_lst= [element.to_pydatetime() for element in list(time_stamps)] #extract timestamps in datetime.datetime format\n",
    "\n",
    "    solo=np.zeros(len(dt_lst),dtype=[('time',object),('bx', float),('by', float),('bz', float),('bt', float),\\\n",
    "                ('vx', float),('vy', float),('vz', float),('vt', float),('np', float),('tp', float),\\\n",
    "                ('x', float),('y', float),('z', float), ('r', float),('lat', float),('lon', float)])\n",
    "    solo = solo.view(np.recarray) \n",
    "\n",
    "    solo.time=dt_lst\n",
    "    solo.bx=comb_df['bx']\n",
    "    solo.by=comb_df['by']\n",
    "    solo.bz=comb_df['bz']\n",
    "    solo.bt=comb_df['bt']\n",
    "    solo.vx=comb_df['vx']\n",
    "    solo.vy=comb_df['vy']\n",
    "    solo.vz=comb_df['vz']\n",
    "    solo.vt=comb_df['vt']\n",
    "    solo.np=comb_df['np']\n",
    "    solo.tp=comb_df['tp']\n",
    "    solo.x=comb_df['x']\n",
    "    solo.y=comb_df['y']\n",
    "    solo.z=comb_df['z']\n",
    "    solo.r=comb_df['r']\n",
    "    solo.lat=comb_df['lat']\n",
    "    solo.lon=comb_df['lon']\n",
    "    \n",
    "    #dump to pickle file \n",
    "    solo.dump(data_save_path+'solo_rtn.p')\n",
    "   "
   ]
  },
  {
   "cell_type": "code",
   "execution_count": 4,
   "id": "be53936e-f715-4c68-885c-56d03f8f33e8",
   "metadata": {
    "tags": []
   },
   "outputs": [
    {
     "name": "stdout",
     "output_type": "stream",
     "text": [
      "['.DS_Store', 'solo_ANC_soc-sci-fk_V08.tf', 'solo_ANC_soc-orbit_20200210-20301120_L011_V1_00200_V01.bsp']\n",
      "['heliospheric_v004u.tf', 'naif0012.tls', 'pck00010.tpc', 'de430.bsp']\n"
     ]
    },
    {
     "data": {
      "text/plain": [
       "(datetime.datetime(2022, 12, 25, 0, 0),\n",
       " 130919302.97878873,\n",
       " -45807389.502378285,\n",
       " 10769170.316259407,\n",
       " 0.9299545099873634,\n",
       " 4.439687998000994,\n",
       " -19.284444779691697)"
      ]
     },
     "execution_count": 4,
     "metadata": {},
     "output_type": "execute_result"
    }
   ],
   "source": [
    "solo_furnish()\n",
    "\n",
    "get_solo_pos(datetime(2022,12,25))\n",
    "\n",
    "import warnings\n",
    "warnings.filterwarnings(\"ignore\")\n",
    "create_solo_pkl(datetime(2022, 12, 25),data_path)\n"
   ]
  },
  {
   "cell_type": "code",
   "execution_count": 8,
   "id": "4f9ec9dd-7a01-45fc-8428-2e7373245af4",
   "metadata": {},
   "outputs": [],
   "source": [
    "solo=pickle.load(open(data_path+'solo_rtn.p', \"rb\"))"
   ]
  },
  {
   "cell_type": "code",
   "execution_count": 9,
   "id": "ac3e0274-4d6f-4216-9d61-83ae6cd5b391",
   "metadata": {},
   "outputs": [
    {
     "data": {
      "text/plain": [
       "rec.array([(datetime.datetime(2022, 12, 25, 0, 0), 6.52396441, -2.67612195, -1.97809017, 7.32369995, 399.88031006,  14.64120388,   1.50598347, 400.18377686,  0.91684353,  7.66995573, 1.30919303e+08, -45807389.50237828, 10769170.31625941, 0.92995451,  4.439688  , -19.28444478),\n",
       "           (datetime.datetime(2022, 12, 25, 0, 1), 6.62362051, -2.51848197, -1.93028295, 7.34446001, 398.82388306,  13.67903709,  -2.85913301, 399.23464966,  0.89207149,  7.05335903, 1.30919458e+08, -45807893.26922041, 10769045.100176  , 0.92995653,  4.43962663, -19.28462011),\n",
       "           (datetime.datetime(2022, 12, 25, 0, 2), 6.54716873, -2.75747132, -2.11899948, 7.41344881, 403.80297852,  14.87091923,   8.35956192, 404.21951294,  0.93187553,  6.79419899, 1.30919612e+08, -45808397.03887697, 10768919.88218156, 0.92995854,  4.43956525, -19.28479543),\n",
       "           ...,\n",
       "           (datetime.datetime(2023, 3, 31, 23, 57),        nan,         nan,         nan,        nan, 552.36749268, -53.08939743, -44.02882385, 557.08551025, 24.78446007, 42.86363602, 5.25710867e+07,  10472721.65117803, -7497723.15284607, 0.36180929, -7.96243176,  11.26644029),\n",
       "           (datetime.datetime(2023, 3, 31, 23, 58),        nan,         nan,         nan,        nan, 579.72680664,  12.02997017,   6.24248552, 580.87536621, 25.92532349, 48.75548553, 5.25693422e+07,  10475086.80424098, -7497506.87605723, 0.36180082, -7.96238814,  11.26928399),\n",
       "           (datetime.datetime(2023, 3, 31, 23, 59),        nan,         nan,         nan,        nan, 537.56610107, -38.5161438 , -21.38693047, 539.45892334, 28.69967651, 41.76202774, 5.25675976e+07,  10477451.96959661, -7497290.57667696, 0.36179235, -7.96234449,  11.27212785)],\n",
       "          dtype=[('time', 'O'), ('bx', '<f8'), ('by', '<f8'), ('bz', '<f8'), ('bt', '<f8'), ('vx', '<f8'), ('vy', '<f8'), ('vz', '<f8'), ('vt', '<f8'), ('np', '<f8'), ('tp', '<f8'), ('x', '<f8'), ('y', '<f8'), ('z', '<f8'), ('r', '<f8'), ('lat', '<f8'), ('lon', '<f8')])"
      ]
     },
     "execution_count": 9,
     "metadata": {},
     "output_type": "execute_result"
    }
   ],
   "source": [
    "solo"
   ]
  },
  {
   "cell_type": "code",
   "execution_count": 24,
   "id": "a21b6b09-02f5-478b-8986-163b948af7fb",
   "metadata": {},
   "outputs": [
    {
     "data": {
      "text/plain": [
       "[<matplotlib.lines.Line2D at 0x2814ebb80>]"
      ]
     },
     "execution_count": 24,
     "metadata": {},
     "output_type": "execute_result"
    },
    {
     "data": {
      "image/png": "[encoded data removed]",
      "text/plain": [
       "<Figure size 640x480 with 1 Axes>"
      ]
     },
     "metadata": {},
     "output_type": "display_data"
    }
   ],
   "source": [
    "%matplotlib inline\n",
    "plt.plot(solo.time,solo.by)\n"
   ]
  },
  {
   "cell_type": "code",
   "execution_count": null,
   "id": "85dd2ce6-a72a-4011-b395-515f03056c5e",
   "metadata": {},
   "outputs": [],
   "source": []
  },
  {
   "cell_type": "code",
   "execution_count": null,
   "id": "b39b5ca6-221a-4af9-b2df-0a22db8b7759",
   "metadata": {},
   "outputs": [],
   "source": []
  },
  {
   "cell_type": "code",
   "execution_count": null,
   "id": "24c55d4e-5ad3-4eb0-b752-ddf3ebaf8e7f",
   "metadata": {},
   "outputs": [],
   "source": []
  },
  {
   "cell_type": "code",
   "execution_count": null,
   "id": "e4e5c790-ac11-4a3d-8a4f-9ceaf91e8960",
   "metadata": {},
   "outputs": [],
   "source": []
  },
  {
   "cell_type": "markdown",
   "id": "fe66f4a7-53c8-4803-a62e-62c11125e9b9",
   "metadata": {
    "tags": []
   },
   "source": [
    "### Wind data"
   ]
  },
  {
   "cell_type": "code",
   "execution_count": null,
   "id": "7c54be0c-c6ca-4cd7-b54d-0077d3334057",
   "metadata": {},
   "outputs": [],
   "source": []
  },
  {
   "cell_type": "code",
   "execution_count": 3,
   "id": "b482bc0f-cd1f-45b4-8ad5-d928883a7700",
   "metadata": {
    "tags": []
   },
   "outputs": [
    {
     "name": "stdout",
     "output_type": "stream",
     "text": [
      " \n",
      "------ download Wind data \n"
     ]
    },
    {
     "ename": "TypeError",
     "evalue": "wind_download_ascii() got an unexpected keyword argument 'start_year'",
     "output_type": "error",
     "traceback": [
      "\u001b[0;31m---------------------------------------------------------------------------\u001b[0m",
      "\u001b[0;31mTypeError\u001b[0m                                 Traceback (most recent call last)",
      "Cell \u001b[0;32mIn[3], line 10\u001b[0m\n\u001b[1;32m      8\u001b[0m \u001b[38;5;66;03m#download data for current year only    \u001b[39;00m\n\u001b[1;32m      9\u001b[0m \u001b[38;5;28;01mif\u001b[39;00m get_wind \u001b[38;5;241m>\u001b[39m \u001b[38;5;241m0\u001b[39m:\n\u001b[0;32m---> 10\u001b[0m     \u001b[43mhd\u001b[49m\u001b[38;5;241;43m.\u001b[39;49m\u001b[43mwind_download_ascii\u001b[49m\u001b[43m(\u001b[49m\u001b[43mstart_year\u001b[49m\u001b[38;5;241;43m=\u001b[39;49m\u001b[43mdatetime\u001b[49m\u001b[38;5;241;43m.\u001b[39;49m\u001b[43mdatetime\u001b[49m\u001b[38;5;241;43m.\u001b[39;49m\u001b[43mutcnow\u001b[49m\u001b[43m(\u001b[49m\u001b[43m)\u001b[49m\u001b[38;5;241;43m.\u001b[39;49m\u001b[43myear\u001b[49m\u001b[43m,\u001b[49m\u001b[43m \u001b[49m\u001b[43mwind_path\u001b[49m\u001b[38;5;241;43m=\u001b[39;49m\u001b[43mwind_path\u001b[49m\u001b[43m)\u001b[49m \n\u001b[1;32m     11\u001b[0m \u001b[38;5;28;01melse\u001b[39;00m:\n\u001b[1;32m     12\u001b[0m     \u001b[38;5;28mprint\u001b[39m(\u001b[38;5;124m'\u001b[39m\u001b[38;5;124mWind data NOT downloaded, turn on switch\u001b[39m\u001b[38;5;124m'\u001b[39m)\n",
      "\u001b[0;31mTypeError\u001b[0m: wind_download_ascii() got an unexpected keyword argument 'start_year'"
     ]
    }
   ],
   "source": [
    "if debug_mode > 0: \n",
    "    importlib.reload(hd) \n",
    "    importlib.reload(hp) \n",
    "    \n",
    "print(' ')\n",
    "print('------ download Wind data ')\n",
    "\n",
    "#download data for current year only    \n",
    "if get_wind > 0:\n",
    "    hd.wind_download_ascii(start_year=datetime.datetime.utcnow().year, wind_path=wind_path) \n",
    "else:\n",
    "    print('Wind data NOT downloaded, turn on switch')  \n",
    "\n",
    "    \n",
    "    \n",
    "    \n",
    "#filewin=\"wind_2018_now_heeq.p\" \n",
    "#start=datetime.datetime(2022, 12, 1)\n",
    "#start=datetime.datetime(2022, 12, 1)\n",
    "#end=datetime.datetime.utcnow()\n",
    "\n",
    "#hd.save_wind_data_ascii(data_path,filewin,start,end,coord='HEEQ')\n",
    "#[win,winh]=pickle.load(open(data_path+filewin, \"rb\"))\n",
    "#start=win.time[-1]-datetime.timedelta(days=365)\n",
    "#end=datetime.datetime.utcnow()         \n",
    "#hp.plot_insitu_update(win, start, end,'Wind',plot_path+'wind/',now=True)\n",
    "\n",
    "\n",
    "#on linux\n",
    "#print('download new Wind data files without overwriting existing files')\n",
    "\n",
    "#on mac for testing\n",
    "#wind_data_path='/Users/chris/python/data/wind/wind_mfi_k0'\n",
    "#os.system('curl -nc --directory-prefix='+wind_data_path+' \"ftps://spdf.gsfc.nasa.gov/pub/data/wind/mfi/mfi_k0/2020/*.cdf\"')\n",
    "\n",
    "\n",
    "\n",
    "#wind_data_path='/perm/aswo/data/wind/wind_mfi_k0'\n",
    "#print(wind_data_path)\n",
    "#os.system('wget -nc --directory-prefix='+wind_data_path+' \"ftps://spdf.gsfc.nasa.gov/pub/data/wind/mfi/mfi_k0/2020/*.cdf\"')\n",
    "#wind_data_path='/nas/helio/data/heliosat/data/wind_swe_h1'\n",
    "#os.system('wget -nc --directory-prefix='+wind_data_path+' \"ftps://spdf.gsfc.nasa.gov/pub/data/wind/swe/swe_h1/2020/*.cdf\"')\n",
    "\n",
    "#filewin=\"wind_2018_now_gse.p\" \n",
    "##xstart=datetime.datetime(2018, 1, 1)\n",
    "#end=datetime.datetime.utcnow()\n",
    "#if get_new_data: hd.save_wind_data(data_path,filewin,start,end,heeq=False)\n",
    "#[win,hwin]=pickle.load(open(data_path+filewin, \"rb\" ) )  \n",
    "\n",
    "#filewin=\"wind_2018_now_heeq.p\" \n",
    "#start=datetime.datetime(2018, 1, 1)\n",
    "#end=datetime.datetime.utcnow()\n",
    "#if get_new_data: hd.save_wind_data(data_path,filewin,start,end,heeq=True)\n",
    "\n",
    "#start=win.time[-1]-datetime.timedelta(days=100)\n",
    "#end=datetime.datetime.utcnow()         \n",
    "#hp.plot_insitu_update(win, start, end,'Wind',plot_path,now=True)"
   ]
  },
  {
   "cell_type": "markdown",
   "id": "08a40173-e258-4e66-94a3-20d9d81de66c",
   "metadata": {
    "tags": []
   },
   "source": [
    "### BepiColombo"
   ]
  },
  {
   "cell_type": "code",
   "execution_count": null,
   "id": "b45abc1b-5f41-46aa-b1f3-64c93c967336",
   "metadata": {
    "tags": []
   },
   "outputs": [],
   "source": [
    "if debug_mode > 0: \n",
    "    importlib.reload(hd) \n",
    "    importlib.reload(hp) \n",
    "\n",
    "print(' ')\n",
    "print('------ download BepiColombo data ')\n",
    "\n",
    "#if get_bepi >0: \n",
    "#    hd.download_stereoa_science_merged()"
   ]
  },
  {
   "cell_type": "code",
   "execution_count": null,
   "id": "07a8966f-a558-48db-a151-d4330d8b8b0c",
   "metadata": {
    "tags": []
   },
   "outputs": [],
   "source": []
  },
  {
   "cell_type": "code",
   "execution_count": null,
   "id": "79cfc49e-9dd7-4510-8fdc-01d99865f127",
   "metadata": {},
   "outputs": [],
   "source": []
  },
  {
   "cell_type": "code",
   "execution_count": null,
   "id": "0787c0a2-71fc-4303-a91b-5d4b159f591b",
   "metadata": {},
   "outputs": [],
   "source": []
  },
  {
   "cell_type": "code",
   "execution_count": null,
   "id": "085c475a-2354-456c-8a48-baf7f4cb7af2",
   "metadata": {},
   "outputs": [],
   "source": []
  },
  {
   "cell_type": "code",
   "execution_count": null,
   "id": "fbba81d3-e4f6-45b4-910f-4bb3a9deff8a",
   "metadata": {},
   "outputs": [],
   "source": []
  },
  {
   "cell_type": "code",
   "execution_count": null,
   "id": "52282ac4-012b-4295-9d29-08c4501ecd84",
   "metadata": {},
   "outputs": [],
   "source": []
  },
  {
   "cell_type": "markdown",
   "id": "e45cccdc-2f60-446d-a7cb-552708cc04b6",
   "metadata": {},
   "source": [
    "### STEREO-A science data"
   ]
  },
  {
   "cell_type": "code",
   "execution_count": 19,
   "id": "9138d0f0-c6dc-405e-9f5a-183c3aeb4d53",
   "metadata": {
    "tags": []
   },
   "outputs": [
    {
     "name": "stdout",
     "output_type": "stream",
     "text": [
      " \n",
      "------ download STEREO-A science data \n"
     ]
    }
   ],
   "source": [
    "if debug_mode > 0: \n",
    "    importlib.reload(hd) \n",
    "    importlib.reload(hp) \n",
    "\n",
    "print(' ')\n",
    "print('------ download STEREO-A science data ')\n",
    "\n",
    "if get_stereoa >0: \n",
    "    hd.download_stereoa_science_merged()"
   ]
  },
  {
   "cell_type": "markdown",
   "id": "935433dc-fb1b-451e-931d-59a4d115cd31",
   "metadata": {},
   "source": [
    "### Parker Solar Probe\n"
   ]
  },
  {
   "cell_type": "code",
   "execution_count": 5,
   "id": "7c27e0a2-2922-4b19-9941-4cab521704e6",
   "metadata": {},
   "outputs": [
    {
     "name": "stdout",
     "output_type": "stream",
     "text": [
      " \n",
      "------ download PSP data \n"
     ]
    }
   ],
   "source": [
    "if debug_mode > 0: \n",
    "    importlib.reload(hd) \n",
    "    importlib.reload(hp) \n",
    "\n",
    "print(' ')\n",
    "print('------ download PSP data ')\n",
    "\n",
    "#if get_psp >0: \n",
    "#    hd.download_stereoa_science_merged()\n",
    "\n",
    "\n",
    "################################# PSP data update\n",
    "\n",
    "################################## USE THIS ################################\n",
    "# old\n",
    "# load PSP data from server on linux command line onto leo server\n",
    "# go to heliosat directory /nas/helio/data/heliosat/data/psp_fields_l2\n",
    "# wget -nc \"ftps://spdf.gsfc.nasa.gov/pub/data/psp/fields/l2/mag_rtn_1min/2019/*.cdf\"\n",
    "# wget -nc \"ftps://spdf.gsfc.nasa.gov/pub/data/psp/fields/l2/mag_rtn_1min/2020/*.cdf\"\n",
    "#  /nas/helio/data/heliosat/data/psp_spc_l3\n",
    "# wget -nc \"ftps://spdf.gsfc.nasa.gov/pub/data/psp/sweap/spc/l3/l3i/2019/*.cdf\"\n",
    "# wget -nc \"ftps://spdf.gsfc.nasa.gov/pub/data/psp/sweap/spc/l3/l3i/2020/*.cdf\"\n",
    "#new\n",
    "#use beginning of icmecat.ipynb\n",
    "############################################################################\n",
    "\n",
    "# print('load PSP data') #from heliosat, converted to SCEQ similar to STEREO-A/B\n",
    "#set time there\n",
    "#change date in hd.save_psp_data\n",
    "#filepsp='psp_2018_2020_nov_rtn.p'\n",
    "#hd.save_psp_data(data_path,filepsp, sceq=False)   \n",
    "\n",
    "#filepsp='psp_2018_2020_sceq.p'\n",
    "#hd.save_psp_data(data_path,filepsp, sceq=True)   z"
   ]
  },
  {
   "cell_type": "markdown",
   "id": "cf98519d-1d14-48ee-8dbc-f3d4a2fd5d02",
   "metadata": {
    "tags": []
   },
   "source": [
    "### Solar Orbiter\n"
   ]
  },
  {
   "cell_type": "code",
   "execution_count": 15,
   "id": "897454b0-104a-4d38-a56b-ebdcc3ccf3b0",
   "metadata": {
    "tags": []
   },
   "outputs": [
    {
     "name": "stdout",
     "output_type": "stream",
     "text": [
      " \n",
      "------ download Solar Orbiter data \n"
     ]
    }
   ],
   "source": [
    "if debug_mode > 0: \n",
    "    importlib.reload(hd) \n",
    "    importlib.reload(hp) \n",
    "\n",
    "print(' ')\n",
    "print('------ download Solar Orbiter data ')\n",
    "\n",
    "#if get_solo >0: \n",
    "#    hd.download_stereoa_science_merged()"
   ]
  },
  {
   "cell_type": "markdown",
   "id": "29a44bc0-7509-426a-b8b6-e20b67ef6d60",
   "metadata": {
    "tags": []
   },
   "source": [
    "### BepiColombo"
   ]
  },
  {
   "cell_type": "code",
   "execution_count": 10,
   "id": "0218c185-accf-402d-928b-3fd0019c6bfb",
   "metadata": {
    "tags": []
   },
   "outputs": [
    {
     "name": "stdout",
     "output_type": "stream",
     "text": [
      " \n",
      "------ download BepiColombo data \n"
     ]
    }
   ],
   "source": [
    "if debug_mode > 0: \n",
    "    importlib.reload(hd) \n",
    "    importlib.reload(hp) \n",
    "\n",
    "print(' ')\n",
    "print('------ download BepiColombo data ')\n",
    "\n",
    "#if get_bepi >0: \n",
    "#    hd.download_stereoa_science_merged()"
   ]
  },
  {
   "cell_type": "code",
   "execution_count": 9,
   "id": "efac7a24-96c3-4bae-9bf4-466cb516c9e9",
   "metadata": {
    "tags": []
   },
   "outputs": [],
   "source": [
    "#sys.exit()"
   ]
  },
  {
   "cell_type": "code",
   "execution_count": null,
   "id": "5f7b3a63-8aa2-4e11-b318-d1a3091e55ed",
   "metadata": {
    "tags": []
   },
   "outputs": [],
   "source": []
  },
  {
   "cell_type": "code",
   "execution_count": 16,
   "id": "63fb4b85-db93-4c23-b44c-8f152ffbd31f",
   "metadata": {},
   "outputs": [],
   "source": [
    "\n",
    "\n",
    "############### write header file for daily updates\n",
    "#text = open('/nas/helio/data/insitu_python/data_update_headers.txt', 'w')\n",
    "#text.write('Contains headers for the data files which are updated in real time.'+'\\n \\n')\n",
    "#text.write('File creation date:  '+datetime.datetime.utcnow().strftime(\"%Y-%b-%d %H:%M\") +' \\n \\n')\n",
    "\n",
    "\n",
    "#text.write('NOAA real time solar wind: '+filenoaa+'\\n \\n'+ hnoaa+' \\n \\n')\n",
    "#text.write('load with: >> [noaa,hnoaa]=pickle.load(open(\"'+data_path+filenoaa+'\", \"rb\"))') \n",
    "#text.write(' \\n \\n \\n \\n')\n",
    "\n",
    "#text.write('STEREO-A beacon: '+filesta_sceq+'\\n \\n'+ hsta+' \\n \\n')\n",
    "#text.write('load with: >> [sta,hsta]=pickle.load(open(\"'+data_path+filesta+'\", \"rb\"))') \n",
    "#text.write(' \\n \\n \\n \\n')\n",
    "\n",
    "#text.write('Wind: '+filewin+'\\n \\n'+ hwin+' \\n \\n')\n",
    "#text.write('load with: >> [win,hwin]=pickle.load(open(\"'+data_path+filewin+'\", \"rb\" ))') \n",
    "#text.write(' \\n \\n \\n \\n')\n",
    "\n",
    "\n",
    "#text.write('OMNI2: '+fileomni+'\\n \\n'+ ho+' \\n \\n')\n",
    "#text.write('load with: >> [o,ho]=pickle.load(open(\"'+data_path+fileomni+'\", \"rb\" ))') \n",
    "#text.write(' \\n \\n \\n \\n')\n",
    "\n",
    "#text.close()"
   ]
  },
  {
   "cell_type": "code",
   "execution_count": null,
   "id": "fb6a5be2-0747-4e3b-b2fe-ebabf15f696c",
   "metadata": {
    "tags": []
   },
   "outputs": [],
   "source": [
    "\n"
   ]
  }
 ],
 "metadata": {
  "kernelspec": {
   "display_name": "Python 3 (ipykernel)",
   "language": "python",
   "name": "python3"
  },
  "language_info": {
   "codemirror_mode": {
    "name": "ipython",
    "version": 3
   },
   "file_extension": ".py",
   "mimetype": "text/x-python",
   "name": "python",
   "nbconvert_exporter": "python",
   "pygments_lexer": "ipython3",
   "version": "3.10.0"
  }
 },
 "nbformat": 4,
 "nbformat_minor": 5
}
