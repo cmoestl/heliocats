{
 "cells": [
  {
   "cell_type": "markdown",
   "id": "2c7a256e-b56d-47ee-bcf5-4348bf3bd624",
   "metadata": {
    "tags": []
   },
   "source": [
    "## daily data updates for the helioforecast.space website of science data\n",
    "\n",
    "Main author: C. Möstl, Austrian Space Weather Office, GeoSphere Austria\n",
    "\n",
    "https://github.com/cmoestl/heliocats\n",
    "\n",
    "uses environment 'envs/env_helio4.yml'\n"
   ]
  },
  {
   "cell_type": "code",
   "execution_count": 11,
   "id": "757ca544-7eb5-4e31-a500-f93e3914195f",
   "metadata": {
    "tags": []
   },
   "outputs": [
    {
     "name": "stdout",
     "output_type": "stream",
     "text": [
      "system is mac\n"
     ]
    },
    {
     "name": "stderr",
     "output_type": "stream",
     "text": [
      "[NbConvertApp] Converting notebook data_update_web_science.ipynb to script\n",
      "[NbConvertApp] Writing 8148 bytes to data_update_web_science.py\n"
     ]
    }
   ],
   "source": [
    "# https://github.com/cmoestl/heliocats  data_update_web.py\n",
    "\n",
    "# for updating data every day on the servers\n",
    "\n",
    "import pickle\n",
    "import importlib\n",
    "import matplotlib.pyplot as plt\n",
    "import matplotlib\n",
    "import matplotlib.dates as mdates\n",
    "import sys\n",
    "import numpy as np\n",
    "import datetime\n",
    "import scipy.signal\n",
    "import urllib\n",
    "import json\n",
    "import os   \n",
    "import time\n",
    "import h5py\n",
    "import pytz\n",
    "import copy\n",
    "import cdflib\n",
    "\n",
    "from heliocats import data as hd\n",
    "from heliocats import plot as hp\n",
    "\n",
    "\n",
    "##### check for system type\n",
    "#server\n",
    "if sys.platform == 'linux': \n",
    "    print('system is linux')\n",
    "    matplotlib.use('Agg') \n",
    "#mac\n",
    "if sys.platform =='darwin':  \n",
    "    print('system is mac')\n",
    "    #for testing\n",
    "    #%matplotlib inline     \n",
    "    matplotlib.use('Agg') \n",
    "\n",
    "\n",
    "\n",
    "################################################ CHECK  ##############################################\n",
    "os.system('jupyter nbconvert --to script data_update_web_science.ipynb')   \n",
    "\n",
    "#switches\n",
    "debug_mode=0\n",
    "\n",
    "\n",
    "#switches\n",
    "get_wind=0\n",
    "get_stereoa=0\n",
    "get_solo=0\n",
    "get_psp=0\n",
    "get_bepi=0\n",
    "\n",
    "####################################################################################################################\n",
    "\n",
    "\n",
    "#test execution times\n",
    "t0all = time.time()\n"
   ]
  },
  {
   "cell_type": "markdown",
   "id": "a1c436e0-430d-4398-b43e-f1796b186dfb",
   "metadata": {
    "tags": []
   },
   "source": [
    "### Configure paths depending on server or local machine\n"
   ]
  },
  {
   "cell_type": "code",
   "execution_count": 2,
   "id": "d84584f3-b9dd-4756-a8fd-b3e4a3c2d3c3",
   "metadata": {
    "tags": []
   },
   "outputs": [
    {
     "name": "stdout",
     "output_type": "stream",
     "text": [
      " \n",
      "------ PATHS \n",
      "/Users/chris/python/data/insitu_python/\n",
      "/Users/chris/python/ops/data/noaa/\n",
      "/Users/chris/python/data/wind/\n",
      "/Users/chris/python/data/stereoa/\n",
      "/Users/chris/python/data/insitu_python/ML_struct_arrays/\n",
      "/Users/chris/python/data/insitu_python/plots/\n",
      "/Users/chris/python/data/insitu_python/plots_positions/\n"
     ]
    }
   ],
   "source": [
    "if sys.platform == 'linux': \n",
    "    \n",
    "    from config_server import data_path\n",
    "    from config_server import noaa_path\n",
    "    from config_server import wind_path\n",
    "    from config_server import stereoa_path\n",
    "    from config_server import data_path_ml\n",
    "    \n",
    "if sys.platform =='darwin':  \n",
    "\n",
    "    from config_local import data_path\n",
    "    from config_local import noaa_path\n",
    "    from config_local import wind_path\n",
    "    from config_local import stereoa_path\n",
    "    from config_local import data_path_ml\n",
    "\n",
    "print(' ')\n",
    "print('------ PATHS ')\n",
    "\n",
    "print(data_path)\n",
    "print(noaa_path)\n",
    "print(wind_path)\n",
    "print(stereoa_path)\n",
    "print(data_path_ml)\n",
    "\n",
    "\n",
    "plot_path=data_path+'plots/'\n",
    "position_path=data_path+'plots_positions/'\n",
    "sun_path=data_path+'plots_sun/'\n",
    "\n",
    "print(plot_path)\n",
    "print(position_path)\n",
    "\n",
    "\n",
    "\n",
    "########### make directories first time\n",
    "if os.path.isdir(plot_path) == False: os.mkdir(plot_path)\n",
    "if os.path.isdir(plot_path+'omni2') == False: os.mkdir(plot_path+'omni2')\n",
    "if os.path.isdir(plot_path+'wind') == False: os.mkdir(plot_path+'wind')\n",
    "if os.path.isdir(plot_path+'stereoa') == False: os.mkdir(plot_path+'stereoa')\n",
    "if os.path.isdir(plot_path+'combined') == False: os.mkdir(plot_path+'combined')\n",
    "\n",
    "\n",
    "if os.path.isdir(position_path) == False: os.mkdir(position_path)\n",
    "if os.path.isdir(sun_path) == False: os.mkdir(sun_path)\n",
    "if os.path.isdir(noaa_path) == False: os.mkdir(noaa_path)\n",
    "if os.path.isdir(data_path_ml) == False: os.mkdir(data_path_ml)"
   ]
  },
  {
   "cell_type": "markdown",
   "id": "620194be-b1f6-4d92-a65b-1f9a2de36955",
   "metadata": {
    "tags": []
   },
   "source": [
    "## Development cells"
   ]
  },
  {
   "cell_type": "code",
   "execution_count": null,
   "id": "41b39614-7bb0-462b-ad0c-d759baae0694",
   "metadata": {},
   "outputs": [],
   "source": []
  },
  {
   "cell_type": "code",
   "execution_count": null,
   "id": "48d914a9-8344-40c3-af96-10357cf22043",
   "metadata": {},
   "outputs": [],
   "source": []
  },
  {
   "cell_type": "code",
   "execution_count": null,
   "id": "05e9237a-b320-4171-8111-8302254f2348",
   "metadata": {},
   "outputs": [],
   "source": []
  },
  {
   "cell_type": "code",
   "execution_count": null,
   "id": "34d69532-46e3-4bdf-aa09-ad3502ff2202",
   "metadata": {},
   "outputs": [],
   "source": []
  },
  {
   "cell_type": "markdown",
   "id": "fe66f4a7-53c8-4803-a62e-62c11125e9b9",
   "metadata": {
    "tags": []
   },
   "source": [
    "### Wind data"
   ]
  },
  {
   "cell_type": "code",
   "execution_count": 3,
   "id": "b482bc0f-cd1f-45b4-8ad5-d928883a7700",
   "metadata": {
    "tags": []
   },
   "outputs": [
    {
     "name": "stdout",
     "output_type": "stream",
     "text": [
      " \n",
      "------ download Wind data \n",
      "Wind data NOT downloaded, turn on switch\n"
     ]
    }
   ],
   "source": [
    "if debug_mode > 0: \n",
    "    importlib.reload(hd) \n",
    "    importlib.reload(hp) \n",
    "    \n",
    "print(' ')\n",
    "print('------ download Wind data ')\n",
    "\n",
    "#download data for current year only    \n",
    "if get_wind > 0:\n",
    "    hd.wind_download_ascii(start_year=datetime.datetime.utcnow().year, wind_path=wind_path) \n",
    "else:\n",
    "    print('Wind data NOT downloaded, turn on switch')  \n",
    "\n",
    "    \n",
    "    \n",
    "#filewin=\"wind_2018_now_heeq.p\" \n",
    "#start=datetime.datetime(2022, 12, 1)\n",
    "#start=datetime.datetime(2022, 12, 1)\n",
    "#end=datetime.datetime.utcnow()\n",
    "\n",
    "#hd.save_wind_data_ascii(data_path,filewin,start,end,coord='HEEQ')\n",
    "#[win,winh]=pickle.load(open(data_path+filewin, \"rb\"))\n",
    "#start=win.time[-1]-datetime.timedelta(days=365)\n",
    "#end=datetime.datetime.utcnow()         \n",
    "#hp.plot_insitu_update(win, start, end,'Wind',plot_path+'wind/',now=True)\n",
    "\n",
    "\n",
    "#on linux\n",
    "#print('download new Wind data files without overwriting existing files')\n",
    "\n",
    "#on mac for testing\n",
    "#wind_data_path='/Users/chris/python/data/wind/wind_mfi_k0'\n",
    "#os.system('curl -nc --directory-prefix='+wind_data_path+' \"ftps://spdf.gsfc.nasa.gov/pub/data/wind/mfi/mfi_k0/2020/*.cdf\"')\n",
    "\n",
    "\n",
    "\n",
    "#wind_data_path='/perm/aswo/data/wind/wind_mfi_k0'\n",
    "#print(wind_data_path)\n",
    "#os.system('wget -nc --directory-prefix='+wind_data_path+' \"ftps://spdf.gsfc.nasa.gov/pub/data/wind/mfi/mfi_k0/2020/*.cdf\"')\n",
    "#wind_data_path='/nas/helio/data/heliosat/data/wind_swe_h1'\n",
    "#os.system('wget -nc --directory-prefix='+wind_data_path+' \"ftps://spdf.gsfc.nasa.gov/pub/data/wind/swe/swe_h1/2020/*.cdf\"')\n",
    "\n",
    "#filewin=\"wind_2018_now_gse.p\" \n",
    "##xstart=datetime.datetime(2018, 1, 1)\n",
    "#end=datetime.datetime.utcnow()\n",
    "#if get_new_data: hd.save_wind_data(data_path,filewin,start,end,heeq=False)\n",
    "#[win,hwin]=pickle.load(open(data_path+filewin, \"rb\" ) )  \n",
    "\n",
    "#filewin=\"wind_2018_now_heeq.p\" \n",
    "#start=datetime.datetime(2018, 1, 1)\n",
    "#end=datetime.datetime.utcnow()\n",
    "#if get_new_data: hd.save_wind_data(data_path,filewin,start,end,heeq=True)\n",
    "\n",
    "#start=win.time[-1]-datetime.timedelta(days=100)\n",
    "#end=datetime.datetime.utcnow()         \n",
    "#hp.plot_insitu_update(win, start, end,'Wind',plot_path,now=True)"
   ]
  },
  {
   "cell_type": "markdown",
   "id": "e45cccdc-2f60-446d-a7cb-552708cc04b6",
   "metadata": {},
   "source": [
    "### STEREO-A science data"
   ]
  },
  {
   "cell_type": "code",
   "execution_count": 4,
   "id": "9138d0f0-c6dc-405e-9f5a-183c3aeb4d53",
   "metadata": {
    "tags": []
   },
   "outputs": [
    {
     "name": "stdout",
     "output_type": "stream",
     "text": [
      " \n",
      "------ download STEREO-A science data \n"
     ]
    }
   ],
   "source": [
    "if debug_mode > 0: \n",
    "    importlib.reload(hd) \n",
    "    importlib.reload(hp) \n",
    "\n",
    "print(' ')\n",
    "print('------ download STEREO-A science data ')\n",
    "\n",
    "if get_stereoa >0: \n",
    "    hd.download_stereoa_science_merged()"
   ]
  },
  {
   "cell_type": "markdown",
   "id": "935433dc-fb1b-451e-931d-59a4d115cd31",
   "metadata": {},
   "source": [
    "### Parker Solar Probe\n"
   ]
  },
  {
   "cell_type": "code",
   "execution_count": 5,
   "id": "7c27e0a2-2922-4b19-9941-4cab521704e6",
   "metadata": {},
   "outputs": [
    {
     "name": "stdout",
     "output_type": "stream",
     "text": [
      " \n",
      "------ download PSP data \n"
     ]
    }
   ],
   "source": [
    "if debug_mode > 0: \n",
    "    importlib.reload(hd) \n",
    "    importlib.reload(hp) \n",
    "\n",
    "print(' ')\n",
    "print('------ download PSP data ')\n",
    "\n",
    "#if get_psp >0: \n",
    "#    hd.download_stereoa_science_merged()\n",
    "\n",
    "\n",
    "################################# PSP data update\n",
    "\n",
    "################################## USE THIS ################################\n",
    "# old\n",
    "# load PSP data from server on linux command line onto leo server\n",
    "# go to heliosat directory /nas/helio/data/heliosat/data/psp_fields_l2\n",
    "# wget -nc \"ftps://spdf.gsfc.nasa.gov/pub/data/psp/fields/l2/mag_rtn_1min/2019/*.cdf\"\n",
    "# wget -nc \"ftps://spdf.gsfc.nasa.gov/pub/data/psp/fields/l2/mag_rtn_1min/2020/*.cdf\"\n",
    "#  /nas/helio/data/heliosat/data/psp_spc_l3\n",
    "# wget -nc \"ftps://spdf.gsfc.nasa.gov/pub/data/psp/sweap/spc/l3/l3i/2019/*.cdf\"\n",
    "# wget -nc \"ftps://spdf.gsfc.nasa.gov/pub/data/psp/sweap/spc/l3/l3i/2020/*.cdf\"\n",
    "#new\n",
    "#use beginning of icmecat.ipynb\n",
    "############################################################################\n",
    "\n",
    "# print('load PSP data') #from heliosat, converted to SCEQ similar to STEREO-A/B\n",
    "#set time there\n",
    "#change date in hd.save_psp_data\n",
    "#filepsp='psp_2018_2020_nov_rtn.p'\n",
    "#hd.save_psp_data(data_path,filepsp, sceq=False)   \n",
    "\n",
    "#filepsp='psp_2018_2020_sceq.p'\n",
    "#hd.save_psp_data(data_path,filepsp, sceq=True)   z"
   ]
  },
  {
   "cell_type": "markdown",
   "id": "cf98519d-1d14-48ee-8dbc-f3d4a2fd5d02",
   "metadata": {
    "tags": []
   },
   "source": [
    "### Solar Orbiter\n"
   ]
  },
  {
   "cell_type": "code",
   "execution_count": 15,
   "id": "897454b0-104a-4d38-a56b-ebdcc3ccf3b0",
   "metadata": {
    "tags": []
   },
   "outputs": [
    {
     "name": "stdout",
     "output_type": "stream",
     "text": [
      " \n",
      "------ download Solar Orbiter data \n"
     ]
    }
   ],
   "source": [
    "if debug_mode > 0: \n",
    "    importlib.reload(hd) \n",
    "    importlib.reload(hp) \n",
    "\n",
    "print(' ')\n",
    "print('------ download Solar Orbiter data ')\n",
    "\n",
    "#if get_solo >0: \n",
    "#    hd.download_stereoa_science_merged()"
   ]
  },
  {
   "cell_type": "markdown",
   "id": "29a44bc0-7509-426a-b8b6-e20b67ef6d60",
   "metadata": {
    "tags": []
   },
   "source": [
    "### BepiColombo"
   ]
  },
  {
   "cell_type": "code",
   "execution_count": 10,
   "id": "0218c185-accf-402d-928b-3fd0019c6bfb",
   "metadata": {
    "tags": []
   },
   "outputs": [
    {
     "name": "stdout",
     "output_type": "stream",
     "text": [
      " \n",
      "------ download BepiColombo data \n"
     ]
    }
   ],
   "source": [
    "if debug_mode > 0: \n",
    "    importlib.reload(hd) \n",
    "    importlib.reload(hp) \n",
    "\n",
    "print(' ')\n",
    "print('------ download BepiColombo data ')\n",
    "\n",
    "#if get_bepi >0: \n",
    "#    hd.download_stereoa_science_merged()"
   ]
  },
  {
   "cell_type": "code",
   "execution_count": 9,
   "id": "efac7a24-96c3-4bae-9bf4-466cb516c9e9",
   "metadata": {
    "tags": []
   },
   "outputs": [],
   "source": [
    "#sys.exit()"
   ]
  },
  {
   "cell_type": "code",
   "execution_count": null,
   "id": "5f7b3a63-8aa2-4e11-b318-d1a3091e55ed",
   "metadata": {
    "jupyter": {
     "source_hidden": true
    },
    "tags": []
   },
   "outputs": [],
   "source": []
  },
  {
   "cell_type": "code",
   "execution_count": 16,
   "id": "63fb4b85-db93-4c23-b44c-8f152ffbd31f",
   "metadata": {},
   "outputs": [],
   "source": [
    "\n",
    "\n",
    "############### write header file for daily updates\n",
    "#text = open('/nas/helio/data/insitu_python/data_update_headers.txt', 'w')\n",
    "#text.write('Contains headers for the data files which are updated in real time.'+'\\n \\n')\n",
    "#text.write('File creation date:  '+datetime.datetime.utcnow().strftime(\"%Y-%b-%d %H:%M\") +' \\n \\n')\n",
    "\n",
    "\n",
    "#text.write('NOAA real time solar wind: '+filenoaa+'\\n \\n'+ hnoaa+' \\n \\n')\n",
    "#text.write('load with: >> [noaa,hnoaa]=pickle.load(open(\"'+data_path+filenoaa+'\", \"rb\"))') \n",
    "#text.write(' \\n \\n \\n \\n')\n",
    "\n",
    "#text.write('STEREO-A beacon: '+filesta_sceq+'\\n \\n'+ hsta+' \\n \\n')\n",
    "#text.write('load with: >> [sta,hsta]=pickle.load(open(\"'+data_path+filesta+'\", \"rb\"))') \n",
    "#text.write(' \\n \\n \\n \\n')\n",
    "\n",
    "#text.write('Wind: '+filewin+'\\n \\n'+ hwin+' \\n \\n')\n",
    "#text.write('load with: >> [win,hwin]=pickle.load(open(\"'+data_path+filewin+'\", \"rb\" ))') \n",
    "#text.write(' \\n \\n \\n \\n')\n",
    "\n",
    "\n",
    "#text.write('OMNI2: '+fileomni+'\\n \\n'+ ho+' \\n \\n')\n",
    "#text.write('load with: >> [o,ho]=pickle.load(open(\"'+data_path+fileomni+'\", \"rb\" ))') \n",
    "#text.write(' \\n \\n \\n \\n')\n",
    "\n",
    "#text.close()"
   ]
  },
  {
   "cell_type": "code",
   "execution_count": null,
   "id": "fb6a5be2-0747-4e3b-b2fe-ebabf15f696c",
   "metadata": {
    "tags": []
   },
   "outputs": [],
   "source": [
    "\n"
   ]
  }
 ],
 "metadata": {
  "kernelspec": {
   "display_name": "Python 3 (ipykernel)",
   "language": "python",
   "name": "python3"
  },
  "language_info": {
   "codemirror_mode": {
    "name": "ipython",
    "version": 3
   },
   "file_extension": ".py",
   "mimetype": "text/x-python",
   "name": "python",
   "nbconvert_exporter": "python",
   "pygments_lexer": "ipython3",
   "version": "3.10.0"
  }
 },
 "nbformat": 4,
 "nbformat_minor": 5
}
