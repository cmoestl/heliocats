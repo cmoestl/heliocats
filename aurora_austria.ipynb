{
 "cells": [
  {
   "cell_type": "markdown",
   "id": "59bc55a6-dff4-48ba-a8ac-33fbcca2c972",
   "metadata": {
    "tags": []
   },
   "source": [
    "## Aurora days in Austria\n",
    "\n",
    "astropy for sunset and sunrise in central point of Austria:\n",
    "Bad Aussee\n",
    "47,6964° N , 13,3458° E\n",
    "\n",
    "- get Dst from OMNI\n",
    "count days when Dst < - 200 nT and time between sunset+ 1 hour and sunrise -1 hour\n",
    "\n",
    "- uses environment helio5, see /envs/env_helio5.yml in the heliocats package\n"
   ]
  },
  {
   "cell_type": "code",
   "execution_count": 1,
   "id": "a01e052a-28de-4297-9b92-bc5353682489",
   "metadata": {
    "tags": []
   },
   "outputs": [
    {
     "ename": "ModuleNotFoundError",
     "evalue": "No module named 'astroplan'",
     "output_type": "error",
     "traceback": [
      "\u001b[0;31m---------------------------------------------------------------------------\u001b[0m",
      "\u001b[0;31mModuleNotFoundError\u001b[0m                       Traceback (most recent call last)",
      "Cell \u001b[0;32mIn[1], line 7\u001b[0m\n\u001b[1;32m      4\u001b[0m \u001b[38;5;28;01mfrom\u001b[39;00m \u001b[38;5;21;01mastropy\u001b[39;00m\u001b[38;5;21;01m.\u001b[39;00m\u001b[38;5;21;01mcoordinates\u001b[39;00m \u001b[38;5;28;01mimport\u001b[39;00m get_sun\n\u001b[1;32m      5\u001b[0m \u001b[38;5;28;01mfrom\u001b[39;00m \u001b[38;5;21;01mdatetime\u001b[39;00m \u001b[38;5;28;01mimport\u001b[39;00m datetime, timedelta\n\u001b[0;32m----> 7\u001b[0m \u001b[38;5;28;01mimport\u001b[39;00m \u001b[38;5;21;01mastroplan\u001b[39;00m \u001b[38;5;66;03m#sunset sunrise can also be done with astroplan\u001b[39;00m\n\u001b[1;32m      9\u001b[0m \u001b[38;5;28;01mimport\u001b[39;00m \u001b[38;5;21;01mnumpy\u001b[39;00m \u001b[38;5;28;01mas\u001b[39;00m \u001b[38;5;21;01mnp\u001b[39;00m\n\u001b[1;32m     10\u001b[0m \u001b[38;5;28;01mimport\u001b[39;00m \u001b[38;5;21;01mpickle\u001b[39;00m\n",
      "\u001b[0;31mModuleNotFoundError\u001b[0m: No module named 'astroplan'"
     ]
    }
   ],
   "source": [
    "from astropy.coordinates import EarthLocation, AltAz\n",
    "from astropy.time import Time\n",
    "import astropy.units as u\n",
    "from astropy.coordinates import get_sun\n",
    "from datetime import datetime, timedelta\n",
    "\n",
    "import astroplan #sunset sunrise can also be done with astroplan\n",
    "\n",
    "import numpy as np\n",
    "import pickle\n",
    "import sys\n",
    "import os\n",
    "\n",
    "\n",
    "#from heliocats import data as hd\n",
    "#from heliocats import plot as hp\n",
    "\n",
    "##### check for system type\n",
    "#server\n",
    "if sys.platform == 'linux': \n",
    "    print('system is linux')\n",
    "    matplotlib.use('Agg') \n",
    "#mac\n",
    "if sys.platform =='darwin':  \n",
    "    print('system is mac')\n",
    "    #for testing\n",
    "    %matplotlib inline     \n",
    "    #matplotlib.use('Agg') \n",
    "\n",
    "if sys.platform == 'linux': \n",
    "    \n",
    "    from config_server import data_path\n",
    "    \n",
    "if sys.platform =='darwin':  \n",
    "\n",
    "    from config_local import data_path\n",
    "################################################ CHECK  ##############################################\n",
    "\n",
    "#make sure to convert the current notebook to a script\n",
    "os.system('jupyter nbconvert --to script aurora_austria.ipynb')   \n",
    "\n",
    "\n",
    "####################################################################################################################\n",
    "\n",
    "#test execution times\n",
    "#t0all = time.time()\n",
    "\n",
    "fileomni=\"omni_1963_now.p\"\n",
    "[o,ho]=pickle.load(open(data_path+fileomni, \"rb\" ) )  \n",
    "start=datetime.utcnow() - timedelta(days=365)\n",
    "end=datetime.utcnow() \n",
    "\n",
    "#hp.plot_insitu_update(o, start, end,'OMNI2',plot_path+'omni2/',now=True)#compare with cloud statistics in Austria ?\n"
   ]
  },
  {
   "cell_type": "code",
   "execution_count": 94,
   "id": "a24d9140-59f9-4ef3-a0d4-2715c588358d",
   "metadata": {
    "tags": []
   },
   "outputs": [
    {
     "name": "stdout",
     "output_type": "stream",
     "text": [
      "(4184478.69706298, -992253.91877262, 4694565.83129595) m\n",
      "1983-03-14 07:00:00\n",
      "<SkyCoord (AltAz: obstime=1983-03-14 07:00:00, location=(4184478.69706298, -992253.91877262, 4694565.83129595) m, pressure=0.0 hPa, temperature=0.0 deg_C, relative_humidity=0.0, obswl=1.0 micron): (az, alt, distance) in (deg, deg, AU)\n",
      "    (91.32027853, -2.4895827, 0.99420863)>\n"
     ]
    }
   ],
   "source": [
    "# Define the geographic location (latitude, longitude, and elevation)\n",
    "latitude = 47.70  # \n",
    "longitude = -13.34  # \n",
    "elevation = 100  # Elevation in meters (optional)\n",
    "\n",
    "# Create an EarthLocation object\n",
    "location = EarthLocation(lat=latitude*u.deg, lon=longitude*u.deg, height=elevation*u.m)\n",
    "print(location)\n",
    "\n",
    "#make hourly times from 1963 onwards\n",
    "\n",
    "time = Time(datetime(1983,3,14,7))\n",
    "print(time)\n",
    "\n",
    "#gets the altitude of the Sun at our location\n",
    "sun_altaz = get_sun(time).transform_to(AltAz(obstime=time, location=location))\n",
    "\n",
    "#night is when Sun < 0 altitude?\n",
    "\n",
    "print(sun_altaz)\n",
    "\n",
    "#get all these hours"
   ]
  },
  {
   "cell_type": "code",
   "execution_count": 95,
   "id": "31586e0c-8720-4799-86fc-02f570c497a5",
   "metadata": {
    "tags": []
   },
   "outputs": [
    {
     "name": "stdout",
     "output_type": "stream",
     "text": [
      "-2.4895826955915314\n"
     ]
    }
   ],
   "source": [
    "# Get the altitude and azimuth of the Sun\n",
    "sun_altaz = get_sun(time).transform_to(AltAz(obstime=time, location=location))\n",
    "\n",
    "print(sun_altaz.alt.value)"
   ]
  },
  {
   "cell_type": "code",
   "execution_count": 91,
   "id": "386657fa-88b7-4d73-8903-015da0eb8112",
   "metadata": {},
   "outputs": [],
   "source": [
    "\n",
    "\n",
    "#compare to Dst values\n",
    "\n",
    "#compare to cloud statistics for a given day in Austria (ask meteorologists)\n",
    "\n",
    "\n",
    "#make report, put on social media\n"
   ]
  },
  {
   "cell_type": "code",
   "execution_count": null,
   "id": "deeffeae-1181-4044-a304-77593b2bc510",
   "metadata": {},
   "outputs": [],
   "source": []
  }
 ],
 "metadata": {
  "kernelspec": {
   "display_name": "Python 3 (ipykernel)",
   "language": "python",
   "name": "python3"
  },
  "language_info": {
   "codemirror_mode": {
    "name": "ipython",
    "version": 3
   },
   "file_extension": ".py",
   "mimetype": "text/x-python",
   "name": "python",
   "nbconvert_exporter": "python",
   "pygments_lexer": "ipython3",
   "version": "3.10.0"
  }
 },
 "nbformat": 4,
 "nbformat_minor": 5
}
