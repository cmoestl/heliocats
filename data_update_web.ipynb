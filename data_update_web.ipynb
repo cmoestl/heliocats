{
 "cells": [
  {
   "cell_type": "markdown",
   "id": "2c7a256e-b56d-47ee-bcf5-4348bf3bd624",
   "metadata": {
    "tags": []
   },
   "source": [
    "## data updates for the helioforecast.space website\n",
    "\n",
    "Main author: C. Möstl, Austrian Space Weather Office, GeoSphere Austria\n",
    "\n",
    "https://github.com/cmoestl/heliocats\n",
    "\n",
    "uses environment 'envs/env_helio4.yml'"
   ]
  },
  {
   "cell_type": "code",
   "execution_count": 10,
   "id": "48438d7c-fe62-4cc2-9e7d-385b86ebe18f",
   "metadata": {
    "tags": []
   },
   "outputs": [
    {
     "name": "stderr",
     "output_type": "stream",
     "text": [
      "[NbConvertApp] Converting notebook data_update_web.ipynb to script\n",
      "[NbConvertApp] Writing 19095 bytes to data_update_web.py\n"
     ]
    },
    {
     "data": {
      "text/plain": [
       "0"
      ]
     },
     "execution_count": 10,
     "metadata": {},
     "output_type": "execute_result"
    }
   ],
   "source": [
    "# https://github.com/cmoestl/heliocats  data_update_web.py\n",
    "\n",
    "# for updating data every day on the servers\n",
    "\n",
    "# MIT LICENSE\n",
    "# Copyright 2020-2023, Christian Moestl \n",
    "# Permission is hereby granted, free of charge, to any person obtaining a copy of this \n",
    "# software and associated documentation files (the \"Software\"), to deal in the Software\n",
    "# without restriction, including without limitation the rights to use, copy, modify, \n",
    "# merge, publish, distribute, sublicense, and/or sell copies of the Software, and to \n",
    "# permit persons to whom the Software is furnished to do so, subject to the following \n",
    "# conditions:\n",
    "# The above copyright notice and this permission notice shall be included in all copies \n",
    "# or substantial portions of the Software.\n",
    "# THE SOFTWARE IS PROVIDED \"AS IS\", WITHOUT WARRANTY OF ANY KIND, EXPRESS OR IMPLIED, \n",
    "# INCLUDING BUT NOT LIMITED TO THE WARRANTIES OF MERCHANTABILITY, FITNESS FOR A\n",
    "# PARTICULAR PURPOSE AND NONINFRINGEMENT. IN NO EVENT SHALL THE AUTHORS OR COPYRIGHT \n",
    "# HOLDERS BE LIABLE FOR ANY CLAIM, DAMAGES OR OTHER LIABILITY, WHETHER IN AN ACTION OF \n",
    "# CONTRACT, TORT OR OTHERWISE, ARISING FROM, OUT OF OR IN CONNECTION WITH THE SOFTWARE \n",
    "# OR THE USE OR OTHER DEALINGS IN THE SOFTWARE.\n",
    "\n",
    "import pickle\n",
    "import importlib\n",
    "import matplotlib.pyplot as plt\n",
    "import matplotlib\n",
    "import matplotlib.dates as mdates\n",
    "import sys\n",
    "import numpy as np\n",
    "import datetime\n",
    "import scipy.signal\n",
    "import urllib\n",
    "import json\n",
    "import os   \n",
    "import h5py\n",
    "import pytz\n",
    "\n",
    "#import \n",
    "from heliocats import data as hd\n",
    "importlib.reload(hd) #reload again while debugging\n",
    "\n",
    "from heliocats import plot as hp\n",
    "importlib.reload(hp) #reload again while debugging\n",
    "\n",
    "#for server\n",
    "matplotlib.use('Agg')\n",
    "#for mac\n",
    "#%matplotlib inline\n",
    "\n",
    "#Convert this notebook to a script with:\n",
    "import os\n",
    "os.system('jupyter nbconvert --to script data_update_web.ipynb')   "
   ]
  },
  {
   "cell_type": "markdown",
   "id": "a1c436e0-430d-4398-b43e-f1796b186dfb",
   "metadata": {
    "tags": []
   },
   "source": [
    "### Configure paths\n"
   ]
  },
  {
   "cell_type": "code",
   "execution_count": 2,
   "id": "d84584f3-b9dd-4756-a8fd-b3e4a3c2d3c3",
   "metadata": {
    "tags": []
   },
   "outputs": [
    {
     "name": "stdout",
     "output_type": "stream",
     "text": [
      " \n",
      "------ PATHS \n",
      "/Users/chris/python/data/insitu_python/\n",
      "/Users/chris/python/data/insitu_python/plots/\n",
      "/Users/chris/python/data/insitu_python/plots_positions/\n",
      "/Users/chris/python/ops/data/noaa/\n",
      "/Users/chris/python/data/wind/\n",
      "/Users/chris/python/data/stereoa/\n",
      "/Users/chris/python/data/insitu_python/ML_struct_arrays/\n"
     ]
    }
   ],
   "source": [
    "from config import data_path\n",
    "\n",
    "\n",
    "print(' ')\n",
    "print('------ PATHS ')\n",
    "\n",
    "print(data_path)\n",
    "\n",
    "plot_path=data_path+'plots/'\n",
    "position_path=data_path+'plots_positions/'\n",
    "sun_path=data_path+'plots_sun/'\n",
    "\n",
    "print(plot_path)\n",
    "print(position_path)\n",
    "\n",
    "from config import noaa_path\n",
    "print(noaa_path)\n",
    "\n",
    "from config import wind_path\n",
    "print(wind_path)\n",
    "\n",
    "from config import stereoa_path\n",
    "print(stereoa_path)\n",
    "\n",
    "from config import data_path_ml\n",
    "print(data_path_ml)\n",
    "\n",
    "\n",
    "########### make directories first time\n",
    "if os.path.isdir(plot_path) == False: os.mkdir(plot_path)\n",
    "if os.path.isdir(plot_path+'omni2') == False: os.mkdir(plot_path+'omni2')\n",
    "if os.path.isdir(plot_path+'wind') == False: os.mkdir(plot_path+'wind')\n",
    "if os.path.isdir(plot_path+'stereoa') == False: os.mkdir(plot_path+'stereoa')\n",
    "if os.path.isdir(plot_path+'combined') == False: os.mkdir(plot_path+'combined')\n",
    "\n",
    "\n",
    "if os.path.isdir(position_path) == False: os.mkdir(position_path)\n",
    "if os.path.isdir(sun_path) == False: os.mkdir(sun_path)\n",
    "if os.path.isdir(noaa_path) == False: os.mkdir(noaa_path)\n",
    "if os.path.isdir(data_path_ml) == False: os.mkdir(data_path_ml)"
   ]
  },
  {
   "cell_type": "markdown",
   "id": "59c8b2fa-b024-4b75-ba17-babe579b4e5c",
   "metadata": {
    "tags": []
   },
   "source": [
    "### positions and SDO plot"
   ]
  },
  {
   "cell_type": "code",
   "execution_count": 3,
   "id": "3bdbc09f-b8e2-4c63-b52e-1d9615558f4a",
   "metadata": {
    "tags": []
   },
   "outputs": [
    {
     "name": "stdout",
     "output_type": "stream",
     "text": [
      " \n",
      "------ POSITIONS \n",
      "saved as  /Users/chris/python/data/insitu_python/plots_positions/positions_2023_Jul_11.png\n",
      "saved as  /Users/chris/python/data/insitu_python/plots_positions/positions_now.png\n",
      " \n",
      "------ SDO realtime images \n",
      "saved  /Users/chris/python/data/insitu_python/plots_sun/latest_1024_0193.jpg\n",
      "saved  /Users/chris/python/data/insitu_python/plots_sun/latest_1024_HMIB.jpg\n"
     ]
    }
   ],
   "source": [
    "print(' ')\n",
    "print('------ POSITIONS ')\n",
    "\n",
    "# spacecraft positions image\n",
    "hp.plot_positions(datetime.datetime.utcnow(),position_path, 'HEEQ',now=True)\n",
    "\n",
    "print(' ')\n",
    "print('------ SDO realtime images ')\n",
    "\n",
    "\n",
    "# get current SDO images \n",
    "hd.get_sdo_realtime_image(sun_path)"
   ]
  },
  {
   "cell_type": "markdown",
   "id": "e3edf6e6-9769-44b8-8cc5-a9523986e120",
   "metadata": {
    "tags": []
   },
   "source": [
    "### OMNI2 data\n"
   ]
  },
  {
   "cell_type": "code",
   "execution_count": 4,
   "id": "5b2e0a7d-fa8e-4ae8-961b-0cf660f75571",
   "metadata": {
    "tags": []
   },
   "outputs": [
    {
     "name": "stdout",
     "output_type": "stream",
     "text": [
      " \n",
      "------ OMNI2 \n",
      "OMNI data NOT downloaded, turn on switch\n",
      "saved as  /Users/chris/python/data/insitu_python/plots/omni2/OMNI2_2022_Jul_11_2023_Jul_11.png\n",
      "saved as  /Users/chris/python/data/insitu_python/plots/omni2/OMNI2_2022_Jul_11_2023_Jul_11.pdf\n",
      "saved as  /Users/chris/python/data/insitu_python/plots/omni2/OMNI2_now.png\n",
      "saved as  /Users/chris/python/data/insitu_python/plots/omni2/OMNI2_now.pdf\n"
     ]
    }
   ],
   "source": [
    "print(' ')\n",
    "print('------ OMNI2 ')\n",
    "\n",
    "get_omni=1\n",
    "\n",
    "\n",
    "# OMNI2\n",
    "fileomni=\"omni_1963_now.p\"\n",
    "#this function downloads and saves the the omni2 data\n",
    "if get_omni: \n",
    "    hd.save_omni_data(data_path,fileomni)\n",
    "else:\n",
    "    print('OMNI data NOT downloaded, turn on switch')\n",
    "[o,ho]=pickle.load(open(data_path+fileomni, \"rb\" ) )  \n",
    "\n",
    "start=datetime.datetime.utcnow() - datetime.timedelta(days=365)\n",
    "end=datetime.datetime.utcnow() \n",
    "hp.plot_insitu_update(o, start, end,'OMNI2',plot_path+'omni2/',now=True)"
   ]
  },
  {
   "cell_type": "markdown",
   "id": "452335fb-20d5-4bb2-8c93-09493e9534bd",
   "metadata": {
    "tags": []
   },
   "source": [
    "### NOAA real time solar wind and Dst"
   ]
  },
  {
   "cell_type": "code",
   "execution_count": 5,
   "id": "1552ccd1-efb0-4bab-b6d3-fab665eef9f5",
   "metadata": {
    "tags": []
   },
   "outputs": [
    {
     "name": "stdout",
     "output_type": "stream",
     "text": [
      " \n",
      "------ NOAA real time solar wind data \n",
      "NOAA data NOT downloaded, turn on switch\n"
     ]
    }
   ],
   "source": [
    "print(' ')\n",
    "print('------ NOAA real time solar wind data ')\n",
    "\n",
    "get_noaa=1\n",
    "\n",
    "if get_noaa > 0:\n",
    "    print('download NOAA real time solar wind plasma and mag and dst')\n",
    "    datestr=str(datetime.datetime.utcnow().strftime(\"%Y-%m-%dT%Hh\"))\n",
    "    print(datestr+' UTC')\n",
    "\n",
    "    plasma='http://services.swpc.noaa.gov/products/solar-wind/plasma-7-day.json'\n",
    "    mag='http://services.swpc.noaa.gov/products/solar-wind/mag-7-day.json'\n",
    "    dst='https://services.swpc.noaa.gov/products/kyoto-dst.json'\n",
    "\n",
    "    try: \n",
    "        urllib.request.urlretrieve(plasma, noaa_path+'plasma/plasma-7-day_'+datestr+'.json')\n",
    "        print(noaa_path+'plasma/plasma-7-day_'+datestr+'.json')\n",
    "    except urllib.error.URLError as e:\n",
    "        print(' ', plasma,' ',e.reason)\n",
    "\n",
    "    try: \n",
    "        urllib.request.urlretrieve(mag, noaa_path+'mag/mag-7-day_'+datestr+'.json')\n",
    "        print(noaa_path+'mag/mag-7-day_'+datestr+'.json')\n",
    "    except urllib.error.URLError as e:\n",
    "        print(' ', mag,' ',e.reason)\n",
    "        \n",
    "\n",
    "    try: \n",
    "        urllib.request.urlretrieve(dst, noaa_path+'dst/dst-7-day_'+datestr+'.json')\n",
    "        print(noaa_path+'dst/dst-7-day_'+datestr+'.json')\n",
    "    except urllib.error.URLError as e:\n",
    "        print(' ', mag,' ',e.reason)\n",
    " \n",
    "    print('NOAA download complete')\n",
    "\n",
    "else:\n",
    "    print('NOAA data NOT downloaded, turn on switch')  \n",
    "\n",
    "######## TO DO SAVE NOAA DATA AS PICKLE\n",
    "#save_noaa=0\n",
    "#filenoaa='noaa_rtsw_jan_2023_now.p'\n",
    "#if save_noaa > 0: hd.save_noaa_rtsw_data(data_path,noaa_path,filenoaa)\n",
    "#[noaa,hnoaa]=pickle.load(open(data_path+filenoaa, \"rb\" ) ) \n",
    "\n",
    "\n",
    "    "
   ]
  },
  {
   "cell_type": "markdown",
   "id": "42837b19-6785-4657-9474-faad29859951",
   "metadata": {
    "tags": []
   },
   "source": [
    "### Wind data"
   ]
  },
  {
   "cell_type": "code",
   "execution_count": 8,
   "id": "232f6d5f-f8ed-4476-9950-0b0903466da9",
   "metadata": {
    "tags": []
   },
   "outputs": [
    {
     "name": "stdout",
     "output_type": "stream",
     "text": [
      " \n",
      "------ download Wind data \n",
      "Wind data NOT downloaded, turn on switch\n"
     ]
    }
   ],
   "source": [
    "\n",
    "print(' ')\n",
    "print('------ download Wind data ')\n",
    "\n",
    "get_wind=1\n",
    "\n",
    "\n",
    "#download data for current year only    \n",
    "if get_wind > 0:\n",
    "    hd.wind_download_ascii(start_year=datetime.datetime.utcnow().year, wind_path=wind_path) \n",
    "else:\n",
    "    print('Wind data NOT downloaded, turn on switch')  \n",
    "\n",
    "    \n",
    "    \n",
    "    \n",
    "#filewin=\"wind_2018_now_heeq.p\" \n",
    "#start=datetime.datetime(2022, 12, 1)\n",
    "#start=datetime.datetime(2022, 12, 1)\n",
    "#end=datetime.datetime.utcnow()\n",
    "\n",
    "#hd.save_wind_data_ascii(data_path,filewin,start,end,coord='HEEQ')\n",
    "#[win,winh]=pickle.load(open(data_path+filewin, \"rb\"))\n",
    "#start=win.time[-1]-datetime.timedelta(days=365)\n",
    "#end=datetime.datetime.utcnow()         \n",
    "#hp.plot_insitu_update(win, start, end,'Wind',plot_path+'wind/',now=True)\n",
    "\n"
   ]
  },
  {
   "cell_type": "markdown",
   "id": "621fc7c3-027b-47df-b3ea-fd23c8df1f76",
   "metadata": {},
   "source": [
    "### STEREO-A beacon data"
   ]
  },
  {
   "cell_type": "code",
   "execution_count": 9,
   "id": "971f0af3-f5bd-4f2f-a2a6-30acc93001cd",
   "metadata": {
    "tags": []
   },
   "outputs": [
    {
     "name": "stdout",
     "output_type": "stream",
     "text": [
      " \n",
      "------ download STEREO-A beacon data \n",
      "download STEREO-A beacon data to  /Users/chris/python/data/stereoa/\n",
      "for years ['2023']\n",
      "STA_LB_IMPACT_20230701_V02.cdf\n",
      "STA_LB_IMPACT_20230702_V02.cdf\n",
      "STA_LB_IMPACT_20230703_V02.cdf\n",
      "STA_LB_IMPACT_20230704_V02.cdf\n",
      "STA_LB_IMPACT_20230705_V02.cdf\n"
     ]
    },
    {
     "ename": "KeyboardInterrupt",
     "evalue": "",
     "output_type": "error",
     "traceback": [
      "\u001b[0;31m---------------------------------------------------------------------------\u001b[0m",
      "\u001b[0;31mKeyboardInterrupt\u001b[0m                         Traceback (most recent call last)",
      "Cell \u001b[0;32mIn[9], line 14\u001b[0m\n\u001b[1;32m      5\u001b[0m \u001b[38;5;66;03m#filewin=\"wind_2018_now_heeq.p\" \u001b[39;00m\n\u001b[1;32m      6\u001b[0m \u001b[38;5;66;03m#start=datetime.datetime(2022, 12, 1)\u001b[39;00m\n\u001b[1;32m      7\u001b[0m \u001b[38;5;66;03m#start=datetime.datetime(2022, 12, 1)\u001b[39;00m\n\u001b[0;32m   (...)\u001b[0m\n\u001b[1;32m     11\u001b[0m \n\u001b[1;32m     12\u001b[0m \u001b[38;5;66;03m#download data starting from current month (takes long otherwise with cdf files)\u001b[39;00m\n\u001b[1;32m     13\u001b[0m \u001b[38;5;28;01mif\u001b[39;00m get_stereoa \u001b[38;5;241m>\u001b[39m \u001b[38;5;241m0\u001b[39m:\n\u001b[0;32m---> 14\u001b[0m     \u001b[43mhd\u001b[49m\u001b[38;5;241;43m.\u001b[39;49m\u001b[43mstereoa_download_beacon\u001b[49m\u001b[43m(\u001b[49m\u001b[43mstart_year\u001b[49m\u001b[38;5;241;43m=\u001b[39;49m\u001b[43mdatetime\u001b[49m\u001b[38;5;241;43m.\u001b[39;49m\u001b[43mdatetime\u001b[49m\u001b[38;5;241;43m.\u001b[39;49m\u001b[43mutcnow\u001b[49m\u001b[43m(\u001b[49m\u001b[43m)\u001b[49m\u001b[38;5;241;43m.\u001b[39;49m\u001b[43myear\u001b[49m\u001b[43m,\u001b[49m\u001b[43mstart_month\u001b[49m\u001b[38;5;241;43m=\u001b[39;49m\u001b[43mdatetime\u001b[49m\u001b[38;5;241;43m.\u001b[39;49m\u001b[43mdatetime\u001b[49m\u001b[38;5;241;43m.\u001b[39;49m\u001b[43mutcnow\u001b[49m\u001b[43m(\u001b[49m\u001b[43m)\u001b[49m\u001b[38;5;241;43m.\u001b[39;49m\u001b[43mmonth\u001b[49m\u001b[43m,\u001b[49m\u001b[43mstereoa_path\u001b[49m\u001b[38;5;241;43m=\u001b[39;49m\u001b[43mstereoa_path\u001b[49m\u001b[43m)\u001b[49m\n",
      "File \u001b[0;32m~/python/heliocats/heliocats/data.py:181\u001b[0m, in \u001b[0;36mstereoa_download_beacon\u001b[0;34m(start_year, start_month, stereoa_path)\u001b[0m\n\u001b[1;32m    177\u001b[0m          \u001b[38;5;28mprint\u001b[39m(\u001b[38;5;124m'\u001b[39m\u001b[38;5;124m \u001b[39m\u001b[38;5;124m'\u001b[39m, impact_url,\u001b[38;5;124m'\u001b[39m\u001b[38;5;124m \u001b[39m\u001b[38;5;124m'\u001b[39m,e\u001b[38;5;241m.\u001b[39mreason)\n\u001b[1;32m    180\u001b[0m filesta\u001b[38;5;241m=\u001b[39m\u001b[38;5;124m'\u001b[39m\u001b[38;5;124mSTA_LB_PLASTIC_\u001b[39m\u001b[38;5;124m'\u001b[39m\u001b[38;5;241m+\u001b[39myearstr\u001b[38;5;241m+\u001b[39mmonthstr\u001b[38;5;241m+\u001b[39mdaystr\u001b[38;5;241m+\u001b[39m\u001b[38;5;124m'\u001b[39m\u001b[38;5;124m_V14.cdf\u001b[39m\u001b[38;5;124m'\u001b[39m    \n\u001b[0;32m--> 181\u001b[0m \u001b[38;5;28;01mtry\u001b[39;00m: \u001b[43murllib\u001b[49m\u001b[38;5;241;43m.\u001b[39;49m\u001b[43mrequest\u001b[49m\u001b[38;5;241;43m.\u001b[39;49m\u001b[43murlretrieve\u001b[49m\u001b[43m(\u001b[49m\u001b[43mplastic_url\u001b[49m\u001b[38;5;241;43m+\u001b[39;49m\u001b[43myearstr\u001b[49m\u001b[38;5;241;43m+\u001b[39;49m\u001b[38;5;124;43m'\u001b[39;49m\u001b[38;5;124;43m/\u001b[39;49m\u001b[38;5;124;43m'\u001b[39;49m\u001b[38;5;241;43m+\u001b[39;49m\u001b[43mmonthstr\u001b[49m\u001b[38;5;241;43m+\u001b[39;49m\u001b[38;5;124;43m'\u001b[39;49m\u001b[38;5;124;43m/\u001b[39;49m\u001b[38;5;124;43m'\u001b[39;49m\u001b[38;5;241;43m+\u001b[39;49m\u001b[43mfilesta\u001b[49m\u001b[43m,\u001b[49m\u001b[43m \u001b[49m\u001b[43mstereoa_path\u001b[49m\u001b[38;5;241;43m+\u001b[39;49m\u001b[38;5;124;43m'\u001b[39;49m\u001b[38;5;124;43mbeacon/plastic/\u001b[39;49m\u001b[38;5;124;43m'\u001b[39;49m\u001b[38;5;241;43m+\u001b[39;49m\u001b[43mfilesta\u001b[49m\u001b[43m)\u001b[49m\n\u001b[1;32m    182\u001b[0m \u001b[38;5;28;01mexcept\u001b[39;00m urllib\u001b[38;5;241m.\u001b[39merror\u001b[38;5;241m.\u001b[39mURLError \u001b[38;5;28;01mas\u001b[39;00m e:\n\u001b[1;32m    183\u001b[0m            \u001b[38;5;28mprint\u001b[39m(\u001b[38;5;124m'\u001b[39m\u001b[38;5;124m \u001b[39m\u001b[38;5;124m'\u001b[39m, plastic_url,\u001b[38;5;124m'\u001b[39m\u001b[38;5;124m \u001b[39m\u001b[38;5;124m'\u001b[39m,e\u001b[38;5;241m.\u001b[39mreason)\n",
      "File \u001b[0;32m~/python/miniconda3/envs/helio4/lib/python3.10/urllib/request.py:270\u001b[0m, in \u001b[0;36murlretrieve\u001b[0;34m(url, filename, reporthook, data)\u001b[0m\n\u001b[1;32m    267\u001b[0m     reporthook(blocknum, bs, size)\n\u001b[1;32m    269\u001b[0m \u001b[38;5;28;01mwhile\u001b[39;00m \u001b[38;5;28;01mTrue\u001b[39;00m:\n\u001b[0;32m--> 270\u001b[0m     block \u001b[38;5;241m=\u001b[39m \u001b[43mfp\u001b[49m\u001b[38;5;241;43m.\u001b[39;49m\u001b[43mread\u001b[49m\u001b[43m(\u001b[49m\u001b[43mbs\u001b[49m\u001b[43m)\u001b[49m\n\u001b[1;32m    271\u001b[0m     \u001b[38;5;28;01mif\u001b[39;00m \u001b[38;5;129;01mnot\u001b[39;00m block:\n\u001b[1;32m    272\u001b[0m         \u001b[38;5;28;01mbreak\u001b[39;00m\n",
      "File \u001b[0;32m~/python/miniconda3/envs/helio4/lib/python3.10/http/client.py:464\u001b[0m, in \u001b[0;36mHTTPResponse.read\u001b[0;34m(self, amt)\u001b[0m\n\u001b[1;32m    461\u001b[0m \u001b[38;5;28;01mif\u001b[39;00m \u001b[38;5;28mself\u001b[39m\u001b[38;5;241m.\u001b[39mlength \u001b[38;5;129;01mis\u001b[39;00m \u001b[38;5;129;01mnot\u001b[39;00m \u001b[38;5;28;01mNone\u001b[39;00m \u001b[38;5;129;01mand\u001b[39;00m amt \u001b[38;5;241m>\u001b[39m \u001b[38;5;28mself\u001b[39m\u001b[38;5;241m.\u001b[39mlength:\n\u001b[1;32m    462\u001b[0m     \u001b[38;5;66;03m# clip the read to the \"end of response\"\u001b[39;00m\n\u001b[1;32m    463\u001b[0m     amt \u001b[38;5;241m=\u001b[39m \u001b[38;5;28mself\u001b[39m\u001b[38;5;241m.\u001b[39mlength\n\u001b[0;32m--> 464\u001b[0m s \u001b[38;5;241m=\u001b[39m \u001b[38;5;28;43mself\u001b[39;49m\u001b[38;5;241;43m.\u001b[39;49m\u001b[43mfp\u001b[49m\u001b[38;5;241;43m.\u001b[39;49m\u001b[43mread\u001b[49m\u001b[43m(\u001b[49m\u001b[43mamt\u001b[49m\u001b[43m)\u001b[49m\n\u001b[1;32m    465\u001b[0m \u001b[38;5;28;01mif\u001b[39;00m \u001b[38;5;129;01mnot\u001b[39;00m s \u001b[38;5;129;01mand\u001b[39;00m amt:\n\u001b[1;32m    466\u001b[0m     \u001b[38;5;66;03m# Ideally, we would raise IncompleteRead if the content-length\u001b[39;00m\n\u001b[1;32m    467\u001b[0m     \u001b[38;5;66;03m# wasn't satisfied, but it might break compatibility.\u001b[39;00m\n\u001b[1;32m    468\u001b[0m     \u001b[38;5;28mself\u001b[39m\u001b[38;5;241m.\u001b[39m_close_conn()\n",
      "File \u001b[0;32m~/python/miniconda3/envs/helio4/lib/python3.10/socket.py:705\u001b[0m, in \u001b[0;36mSocketIO.readinto\u001b[0;34m(self, b)\u001b[0m\n\u001b[1;32m    703\u001b[0m \u001b[38;5;28;01mwhile\u001b[39;00m \u001b[38;5;28;01mTrue\u001b[39;00m:\n\u001b[1;32m    704\u001b[0m     \u001b[38;5;28;01mtry\u001b[39;00m:\n\u001b[0;32m--> 705\u001b[0m         \u001b[38;5;28;01mreturn\u001b[39;00m \u001b[38;5;28;43mself\u001b[39;49m\u001b[38;5;241;43m.\u001b[39;49m\u001b[43m_sock\u001b[49m\u001b[38;5;241;43m.\u001b[39;49m\u001b[43mrecv_into\u001b[49m\u001b[43m(\u001b[49m\u001b[43mb\u001b[49m\u001b[43m)\u001b[49m\n\u001b[1;32m    706\u001b[0m     \u001b[38;5;28;01mexcept\u001b[39;00m timeout:\n\u001b[1;32m    707\u001b[0m         \u001b[38;5;28mself\u001b[39m\u001b[38;5;241m.\u001b[39m_timeout_occurred \u001b[38;5;241m=\u001b[39m \u001b[38;5;28;01mTrue\u001b[39;00m\n",
      "File \u001b[0;32m~/python/miniconda3/envs/helio4/lib/python3.10/ssl.py:1273\u001b[0m, in \u001b[0;36mSSLSocket.recv_into\u001b[0;34m(self, buffer, nbytes, flags)\u001b[0m\n\u001b[1;32m   1269\u001b[0m     \u001b[38;5;28;01mif\u001b[39;00m flags \u001b[38;5;241m!=\u001b[39m \u001b[38;5;241m0\u001b[39m:\n\u001b[1;32m   1270\u001b[0m         \u001b[38;5;28;01mraise\u001b[39;00m \u001b[38;5;167;01mValueError\u001b[39;00m(\n\u001b[1;32m   1271\u001b[0m           \u001b[38;5;124m\"\u001b[39m\u001b[38;5;124mnon-zero flags not allowed in calls to recv_into() on \u001b[39m\u001b[38;5;132;01m%s\u001b[39;00m\u001b[38;5;124m\"\u001b[39m \u001b[38;5;241m%\u001b[39m\n\u001b[1;32m   1272\u001b[0m           \u001b[38;5;28mself\u001b[39m\u001b[38;5;241m.\u001b[39m\u001b[38;5;18m__class__\u001b[39m)\n\u001b[0;32m-> 1273\u001b[0m     \u001b[38;5;28;01mreturn\u001b[39;00m \u001b[38;5;28;43mself\u001b[39;49m\u001b[38;5;241;43m.\u001b[39;49m\u001b[43mread\u001b[49m\u001b[43m(\u001b[49m\u001b[43mnbytes\u001b[49m\u001b[43m,\u001b[49m\u001b[43m \u001b[49m\u001b[43mbuffer\u001b[49m\u001b[43m)\u001b[49m\n\u001b[1;32m   1274\u001b[0m \u001b[38;5;28;01melse\u001b[39;00m:\n\u001b[1;32m   1275\u001b[0m     \u001b[38;5;28;01mreturn\u001b[39;00m \u001b[38;5;28msuper\u001b[39m()\u001b[38;5;241m.\u001b[39mrecv_into(buffer, nbytes, flags)\n",
      "File \u001b[0;32m~/python/miniconda3/envs/helio4/lib/python3.10/ssl.py:1129\u001b[0m, in \u001b[0;36mSSLSocket.read\u001b[0;34m(self, len, buffer)\u001b[0m\n\u001b[1;32m   1127\u001b[0m \u001b[38;5;28;01mtry\u001b[39;00m:\n\u001b[1;32m   1128\u001b[0m     \u001b[38;5;28;01mif\u001b[39;00m buffer \u001b[38;5;129;01mis\u001b[39;00m \u001b[38;5;129;01mnot\u001b[39;00m \u001b[38;5;28;01mNone\u001b[39;00m:\n\u001b[0;32m-> 1129\u001b[0m         \u001b[38;5;28;01mreturn\u001b[39;00m \u001b[38;5;28;43mself\u001b[39;49m\u001b[38;5;241;43m.\u001b[39;49m\u001b[43m_sslobj\u001b[49m\u001b[38;5;241;43m.\u001b[39;49m\u001b[43mread\u001b[49m\u001b[43m(\u001b[49m\u001b[38;5;28;43mlen\u001b[39;49m\u001b[43m,\u001b[49m\u001b[43m \u001b[49m\u001b[43mbuffer\u001b[49m\u001b[43m)\u001b[49m\n\u001b[1;32m   1130\u001b[0m     \u001b[38;5;28;01melse\u001b[39;00m:\n\u001b[1;32m   1131\u001b[0m         \u001b[38;5;28;01mreturn\u001b[39;00m \u001b[38;5;28mself\u001b[39m\u001b[38;5;241m.\u001b[39m_sslobj\u001b[38;5;241m.\u001b[39mread(\u001b[38;5;28mlen\u001b[39m)\n",
      "\u001b[0;31mKeyboardInterrupt\u001b[0m: "
     ]
    }
   ],
   "source": [
    "print(' ')\n",
    "print('------ download STEREO-A beacon data ')\n",
    "get_stereoa=1\n",
    "\n",
    "#filewin=\"wind_2018_now_heeq.p\" \n",
    "#start=datetime.datetime(2022, 12, 1)\n",
    "#start=datetime.datetime(2022, 12, 1)\n",
    "#end=datetime.datetime.utcnow()\n",
    "\n",
    "           \n",
    "\n",
    "#download data starting from current month (takes long otherwise with cdf files)\n",
    "if get_stereoa > 0:\n",
    "    hd.stereoa_download_beacon(start_year=datetime.datetime.utcnow().year,start_month=datetime.datetime.utcnow().month,stereoa_path=stereoa_path)   "
   ]
  },
  {
   "cell_type": "code",
   "execution_count": null,
   "id": "f959ee0e-a683-4fc8-b111-082e308e2e46",
   "metadata": {},
   "outputs": [],
   "source": []
  },
  {
   "cell_type": "code",
   "execution_count": null,
   "id": "77fa00ca-3901-4362-8735-bfc28f6ed572",
   "metadata": {},
   "outputs": [],
   "source": [
    "sys.exit()"
   ]
  },
  {
   "cell_type": "code",
   "execution_count": null,
   "id": "cd08b1c9-8a7c-4b97-bbcc-d32fd851ccf9",
   "metadata": {},
   "outputs": [],
   "source": []
  },
  {
   "cell_type": "markdown",
   "id": "e45cccdc-2f60-446d-a7cb-552708cc04b6",
   "metadata": {},
   "source": [
    "### STEREO-A science data"
   ]
  },
  {
   "cell_type": "code",
   "execution_count": 11,
   "id": "9138d0f0-c6dc-405e-9f5a-183c3aeb4d53",
   "metadata": {
    "tags": []
   },
   "outputs": [],
   "source": [
    "print(' ')\n",
    "print('------ download STEREO-A science data ')\n",
    "get_stereoa_sci=1\n",
    "\n",
    "\n",
    "if get_stereoa_sci >0: hd.download_stereoa_science_merged()"
   ]
  },
  {
   "cell_type": "code",
   "execution_count": null,
   "id": "c17f0222-1db3-4d6b-830e-16cdb902e646",
   "metadata": {},
   "outputs": [],
   "source": []
  },
  {
   "cell_type": "code",
   "execution_count": 58,
   "id": "a005c06a-16fb-47af-9e86-792d108c8c41",
   "metadata": {
    "tags": []
   },
   "outputs": [],
   "source": [
    "\n",
    "sys.exit()"
   ]
  },
  {
   "cell_type": "code",
   "execution_count": null,
   "id": "c2509098-3948-4a9d-bb5b-b87137dff745",
   "metadata": {
    "tags": []
   },
   "outputs": [],
   "source": [
    "\n",
    "\n",
    "\n",
    "\n",
    "#on linux\n",
    "#print('download new Wind data files without overwriting existing files')\n",
    "\n",
    "#on mac for testing\n",
    "#wind_data_path='/Users/chris/python/data/wind/wind_mfi_k0'\n",
    "#os.system('curl -nc --directory-prefix='+wind_data_path+' \"ftps://spdf.gsfc.nasa.gov/pub/data/wind/mfi/mfi_k0/2020/*.cdf\"')\n",
    "\n",
    "\n",
    "\n",
    "#wind_data_path='/perm/aswo/data/wind/wind_mfi_k0'\n",
    "#print(wind_data_path)\n",
    "#os.system('wget -nc --directory-prefix='+wind_data_path+' \"ftps://spdf.gsfc.nasa.gov/pub/data/wind/mfi/mfi_k0/2020/*.cdf\"')\n",
    "#wind_data_path='/nas/helio/data/heliosat/data/wind_swe_h1'\n",
    "#os.system('wget -nc --directory-prefix='+wind_data_path+' \"ftps://spdf.gsfc.nasa.gov/pub/data/wind/swe/swe_h1/2020/*.cdf\"')\n",
    "\n",
    "filewin=\"wind_2018_now_gse.p\" \n",
    "start=datetime.datetime(2018, 1, 1)\n",
    "end=datetime.datetime.utcnow()\n",
    "if get_new_data: hd.save_wind_data(data_path,filewin,start,end,heeq=False)\n",
    "[win,hwin]=pickle.load(open(data_path+filewin, \"rb\" ) )  \n",
    "\n",
    "filewin=\"wind_2018_now_heeq.p\" \n",
    "start=datetime.datetime(2018, 1, 1)\n",
    "end=datetime.datetime.utcnow()\n",
    "if get_new_data: hd.save_wind_data(data_path,filewin,start,end,heeq=True)\n",
    "\n",
    "start=win.time[-1]-datetime.timedelta(days=100)\n",
    "end=datetime.datetime.utcnow()         \n",
    "hp.plot_insitu_update(win, start, end,'Wind',plot_path,now=True)"
   ]
  },
  {
   "cell_type": "code",
   "execution_count": null,
   "id": "5f7b3a63-8aa2-4e11-b318-d1a3091e55ed",
   "metadata": {},
   "outputs": [],
   "source": []
  },
  {
   "cell_type": "code",
   "execution_count": null,
   "id": "9c0de6be-8fe7-4f52-a76e-bba83434934b",
   "metadata": {},
   "outputs": [],
   "source": []
  },
  {
   "cell_type": "code",
   "execution_count": null,
   "id": "eddd61ea-9e71-4560-a777-b643c29b21dd",
   "metadata": {},
   "outputs": [],
   "source": []
  },
  {
   "cell_type": "code",
   "execution_count": null,
   "id": "b82ddce1-5aaf-4c5d-8c4a-32b0cf94d1e3",
   "metadata": {},
   "outputs": [],
   "source": [
    "sys.exit()"
   ]
  },
  {
   "cell_type": "code",
   "execution_count": null,
   "id": "63fb4b85-db93-4c23-b44c-8f152ffbd31f",
   "metadata": {},
   "outputs": [],
   "source": [
    "\n",
    "\n",
    "############### write header file for daily updates\n",
    "text = open('/nas/helio/data/insitu_python/data_update_headers.txt', 'w')\n",
    "text.write('Contains headers for the data files which are updated in real time.'+'\\n \\n')\n",
    "text.write('File creation date:  '+datetime.datetime.utcnow().strftime(\"%Y-%b-%d %H:%M\") +' \\n \\n')\n",
    "\n",
    "\n",
    "text.write('NOAA real time solar wind: '+filenoaa+'\\n \\n'+ hnoaa+' \\n \\n')\n",
    "text.write('load with: >> [noaa,hnoaa]=pickle.load(open(\"'+data_path+filenoaa+'\", \"rb\"))') \n",
    "text.write(' \\n \\n \\n \\n')\n",
    "\n",
    "text.write('STEREO-A beacon: '+filesta_sceq+'\\n \\n'+ hsta+' \\n \\n')\n",
    "text.write('load with: >> [sta,hsta]=pickle.load(open(\"'+data_path+filesta+'\", \"rb\"))') \n",
    "text.write(' \\n \\n \\n \\n')\n",
    "\n",
    "text.write('Wind: '+filewin+'\\n \\n'+ hwin+' \\n \\n')\n",
    "text.write('load with: >> [win,hwin]=pickle.load(open(\"'+data_path+filewin+'\", \"rb\" ))') \n",
    "text.write(' \\n \\n \\n \\n')\n",
    "\n",
    "\n",
    "text.write('OMNI2: '+fileomni+'\\n \\n'+ ho+' \\n \\n')\n",
    "text.write('load with: >> [o,ho]=pickle.load(open(\"'+data_path+fileomni+'\", \"rb\" ))') \n",
    "text.write(' \\n \\n \\n \\n')\n",
    "\n",
    "text.close()"
   ]
  },
  {
   "cell_type": "code",
   "execution_count": 4,
   "id": "fb6a5be2-0747-4e3b-b2fe-ebabf15f696c",
   "metadata": {
    "tags": []
   },
   "outputs": [],
   "source": [
    "#for easier debugging - do not download and process data but do everything else\n",
    "#get_new_data=True\n",
    "\n",
    "\n",
    "#~/miniconda/envs/helio/bin/python /home/cmoestl/pycode/heliocats/sc_positions_insitu_orbit1.py\n",
    "#~/miniconda/envs/helio/bin/python /home/cmoestl/pycode/heliocats/sc_positions_insitu_orbit2.py\n",
    "\n",
    "\n",
    "################################# PSP data update\n",
    "\n",
    "################################## USE THIS ################################\n",
    "# old\n",
    "# load PSP data from server on linux command line onto leo server\n",
    "# go to heliosat directory /nas/helio/data/heliosat/data/psp_fields_l2\n",
    "# wget -nc \"ftps://spdf.gsfc.nasa.gov/pub/data/psp/fields/l2/mag_rtn_1min/2019/*.cdf\"\n",
    "# wget -nc \"ftps://spdf.gsfc.nasa.gov/pub/data/psp/fields/l2/mag_rtn_1min/2020/*.cdf\"\n",
    "#  /nas/helio/data/heliosat/data/psp_spc_l3\n",
    "# wget -nc \"ftps://spdf.gsfc.nasa.gov/pub/data/psp/sweap/spc/l3/l3i/2019/*.cdf\"\n",
    "# wget -nc \"ftps://spdf.gsfc.nasa.gov/pub/data/psp/sweap/spc/l3/l3i/2020/*.cdf\"\n",
    "#new\n",
    "#use beginning of icmecat.ipynb\n",
    "############################################################################\n",
    "\n",
    "# print('load PSP data') #from heliosat, converted to SCEQ similar to STEREO-A/B\n",
    "#set time there\n",
    "#change date in hd.save_psp_data\n",
    "#filepsp='psp_2018_2020_nov_rtn.p'\n",
    "#hd.save_psp_data(data_path,filepsp, sceq=False)   \n",
    "\n",
    "#filepsp='psp_2018_2020_sceq.p'\n",
    "#hd.save_psp_data(data_path,filepsp, sceq=True)   \n",
    "\n",
    "\n",
    "\n",
    "############################################ STEREO - A science data update"
   ]
  },
  {
   "cell_type": "markdown",
   "id": "4fe45c29-0f60-4144-a443-fa549c37cdb8",
   "metadata": {},
   "source": [
    "\n",
    "\n",
    "-----------------------------\n",
    "data files:\n",
    "\n",
    "sftp.put(path+'Wind_now.png')  # upload file to public/ on remote\n",
    "sftp.put(path+'STEREO-A_beacon_14_days_now.png')\n",
    "sftp.put(path+'OMNI2_now.png')\n",
    "\n",
    "\n",
    "sftp.put(path+'NOAA_RTSW_PREDSTORM_55days_now.png')\n",
    "sftp.put(path+'NOAA_RTSW_PREDSTORM_14days_now.png')\n",
    "sftp.put(path+'NOAA_RTSW_PREDSTORM_3days_now.png')\n",
    "sftp.put(path+'OMNI2_and_NOAA_RTSW_now.png')\n",
    "\n",
    "\n",
    "----------------------------"
   ]
  },
  {
   "cell_type": "code",
   "execution_count": null,
   "id": "666c3bc7-5364-47aa-bd47-5b55db8c3d60",
   "metadata": {},
   "outputs": [],
   "source": []
  },
  {
   "cell_type": "code",
   "execution_count": null,
   "id": "41d5e526-13f3-4dc2-a0dd-de96e4d8b1f6",
   "metadata": {},
   "outputs": [],
   "source": []
  },
  {
   "cell_type": "code",
   "execution_count": null,
   "id": "e522a175-5e02-4ec7-82c1-f91707ce900f",
   "metadata": {},
   "outputs": [],
   "source": [
    "################## NOAA real time\n",
    "################ load jsons\n",
    "\n",
    "print('download NOAA real time solar wind plasma and mag')\n",
    "datestr=str(datetime.datetime.utcnow().strftime(\"%Y_%b_%d_%H_%M\"))\n",
    "print(datestr+' UTC')\n",
    "\n",
    "plasma='http://services.swpc.noaa.gov/products/solar-wind/plasma-7-day.json'\n",
    "mag='http://services.swpc.noaa.gov/products/solar-wind/mag-7-day.json'\n",
    "\n",
    "try: urllib.request.urlretrieve(plasma, noaa_path+'plasma-7-day_'+datestr+'.json')\n",
    "except urllib.error.URLError as e:\n",
    "  print(' ', plasma,' ',e.reason)\n",
    "\n",
    "try: urllib.request.urlretrieve(mag, noaa_path+'mag-7-day_'+datestr+'.json')\n",
    "except urllib.error.URLError as e:\n",
    "  print(' ', mag,' ',e.reason)\n",
    "  \n",
    "print()\n",
    "\n",
    "\n",
    "# my version:\n",
    "#filenoaa='noaa_rtsw_jan_2020_now.p'\n",
    "#if get_new_data: hd.save_noaa_rtsw_data(data_path,noaa_path,filenoaa)\n",
    "#[noaa,hnoaa]=pickle.load(open(data_path+filenoaa, \"rb\" ) ) \n",
    "\n",
    "#################### with Rachel Bailey's data from predstorm\n",
    "noaapath='/nas/helio/realcode/real/predstorm/data/rtsw_min_last100days.h5'\n",
    "filenoaa='noaa_rtsw_last100days_now.p'\n",
    "if get_new_data: hd.save_noaa_rtsw_data_predstorm(data_path,noaapath,filenoaa)        \n",
    "[noaa,hnoaa]=pickle.load(open(data_path+filenoaa, \"rb\" ) ) \n",
    "    \n",
    "              \n",
    "############### make 3 plots\n",
    "\n",
    "#for ICMEs\n",
    "start=noaa.time[-1]-datetime.timedelta(days=3)\n",
    "end=datetime.datetime.utcnow() #noaa.time[-1]     \n",
    "hp.plot_insitu_update(noaa, start, end,'NOAA_RTSW_PREDSTORM_3days',plot_path,now=True)\n",
    "\n",
    "start=noaa.time[-1]-datetime.timedelta(days=14)\n",
    "end=datetime.datetime.utcnow() #noaa.time[-1]     \n",
    "hp.plot_insitu_update(noaa, start, end,'NOAA_RTSW_PREDSTORM_14days',plot_path,now=True)\n",
    "\n",
    "start=noaa.time[-1]-datetime.timedelta(days=55)\n",
    "end=datetime.datetime.utcnow() #noaa.time[-1]     \n",
    "hp.plot_insitu_update(noaa, start, end,'NOAA_RTSW_PREDSTORM_55days',plot_path,now=True)\n",
    "\n",
    "print()\n",
    "\n",
    "#make quick new plot for ICMEs\n",
    "# hd.save_noaa_rtsw_data(data_path,noaa_path,filenoaa)\n",
    "# start=noaa.time[-1]-datetime.timedelta(days=3)\n",
    "# end=datetime.datetime.utcnow() #noaa.time[-1]     \n",
    "# hp.plot_insitu(noaa, start, end,'NOAA_RTSW','/home/cmoestl/pycode/heliocats')\n",
    "\n",
    "\n",
    "\n",
    "\n",
    "\n",
    "####################################### OMNI2\n",
    "fileomni=\"omni_1963_now.p\"\n",
    "if get_new_data: hd.save_omni_data(data_path,fileomni)\n",
    "[o,ho]=pickle.load(open(data_path+fileomni, \"rb\" ) )  \n",
    "\n",
    "start=datetime.datetime.utcnow() - datetime.timedelta(days=365)\n",
    "end=datetime.datetime.utcnow() \n",
    "hp.plot_insitu_update(o, start, end,'OMNI2',plot_path,now=True)\n",
    "\n",
    "\n",
    "########################## add NOAA RTSW to OMNI data and make combined plot\n",
    "\n",
    "#get index of last OMNI data\n",
    "last_omni_index=np.where(np.isfinite(o.bt) == True)[0][-1]\n",
    "#get time for this index\n",
    "last_omni_time=o.time[last_omni_index]\n",
    "#add utc timezone awareness\n",
    "last_omni_time_utc=last_omni_time.astimezone(tz=datetime.timezone.utc)\n",
    "#get index where omni ends in noaa data\n",
    "noaa_omni_end=np.where(noaa.time>last_omni_time_utc)[0][0]\n",
    "\n",
    "\n",
    "#length of NOAA data\n",
    "size_noaa=np.size(noaa)-noaa_omni_end\n",
    "\n",
    "combi_omni_noaa=np.zeros(last_omni_index+size_noaa,dtype=[('time',object),('bx', float),('by', float),\\\n",
    "                ('bz', float),('bt', float),('vt', float),('np', float),('tp', float),\\\n",
    "                ('x', float),('y', float),('z', float),\\\n",
    "                ('r', float),('lat', float),('lon', float)])   \n",
    "\n",
    "#convert to recarray\n",
    "combi_omni_noaa = combi_omni_noaa.view(np.recarray)  \n",
    "#stack omni and noaa data\n",
    "combi_omni_noaa.time=np.hstack((o.time[0:last_omni_index],noaa.time[noaa_omni_end-1:-1]))\n",
    "combi_omni_noaa.bx=np.hstack((o.bx[0:last_omni_index],noaa.bx[noaa_omni_end-1:-1]))\n",
    "combi_omni_noaa.by=np.hstack((o.by[0:last_omni_index],noaa.by[noaa_omni_end-1:-1]))\n",
    "combi_omni_noaa.bz=np.hstack((o.bz[0:last_omni_index],noaa.bz[noaa_omni_end-1:-1]))\n",
    "combi_omni_noaa.bt=np.hstack((o.bt[0:last_omni_index],noaa.bt[noaa_omni_end-1:-1]))\n",
    "combi_omni_noaa.vt=np.hstack((o.vt[0:last_omni_index],noaa.vt[noaa_omni_end-1:-1]))\n",
    "combi_omni_noaa.np=np.hstack((o.np[0:last_omni_index],noaa.np[noaa_omni_end-1:-1]))\n",
    "combi_omni_noaa.tp=np.hstack((o.tp[0:last_omni_index],noaa.tp[noaa_omni_end-1:-1]))\n",
    "\n",
    "print('Merging NOAA OMNI done')\n",
    "\n",
    "start=datetime.datetime.utcnow() -datetime.timedelta(days=365)\n",
    "end=datetime.datetime.utcnow() \n",
    "hp.plot_insitu_update(combi_omni_noaa, start, end,'OMNI2_and_NOAA_RTSW',plot_path,now=True)\n",
    "\n",
    "\n",
    "\n",
    "\n",
    "#for making quick plots\n",
    "# plot_path='/home/cmoestl/pycode/heliocats/'\n",
    "# fileomni=\"omni_1963_now.p\"\n",
    "# [o,ho]=pickle.load(open(data_path+fileomni, \"rb\" ) )  \n",
    "# start=datetime.datetime.utcnow() -datetime.timedelta(days=365)\n",
    "# end=datetime.datetime.utcnow() \n",
    "# hp.plot_insitu_update(o, start, end,'OMNI2',plot_path,now=True)\n",
    "\n",
    "\n",
    "\n",
    "\n",
    "\n",
    "################################### STEREO-A\n",
    "\n",
    "from heliocats import plot as hp\n",
    "importlib.reload(hp) #reload again while debugging\n",
    "\n",
    "\n",
    "\n",
    "#start=datetime.datetime(2020, 8, 1)\n",
    "#end=datetime.datetime.utcnow()\n",
    "#filesta_sceq=\"stereoa_2020_august_now_sceq_beacon.p\" \n",
    "#filesta_rtn=\"stereoa_2020_august_now_rtn_beacon.p\" \n",
    "\n",
    "#if get_new_data: \n",
    "#    hd.save_stereoa_beacon_data(data_path,filesta_sceq,start,end,sceq=True)\n",
    "#    hd.save_stereoa_beacon_data(data_path,filesta_rtn,start,end,sceq=False)\n",
    "\n",
    "\n",
    "start=datetime.datetime(2020, 1, 1)\n",
    "end=datetime.datetime.utcnow()\n",
    "filesta_sceq=\"stereoa_2020_now_sceq_beacon.p\" \n",
    "filesta_rtn=\"stereoa_2020_now_rtn_beacon.p\" \n",
    "\n",
    "if get_new_data: \n",
    "    hd.save_stereoa_beacon_data(data_path,filesta_sceq,start,end,sceq=True)\n",
    "    hd.save_stereoa_beacon_data(data_path,filesta_rtn,start,end,sceq=False)\n",
    "\n",
    "[sta,hsta]=pickle.load(open(data_path+filesta_rtn, \"rb\" ) ) \n",
    "\n",
    "start=sta.time[-1]-datetime.timedelta(days=14)\n",
    "end=datetime.datetime.utcnow()     \n",
    "hp.plot_insitu_update_stereoa_beacon(sta, start, end,'STEREO-A_beacon_14_days',plot_path,now=True)\n",
    "\n",
    "\n",
    "\n",
    "\n",
    "####################################### Wind\n",
    "\n",
    "print('download Wind 2020 files without overwriting existing files into ',data_path)\n",
    "wind_data_path='/nas/helio/data/heliosat/data/wind_mfi_k0'\n",
    "os.system('wget -nc --directory-prefix='+wind_data_path+' \"ftps://spdf.gsfc.nasa.gov/pub/data/wind/mfi/mfi_k0/2020/*.cdf\"')\n",
    "wind_data_path='/nas/helio/data/heliosat/data/wind_swe_h1'\n",
    "os.system('wget -nc --directory-prefix='+wind_data_path+' \"ftps://spdf.gsfc.nasa.gov/pub/data/wind/swe/swe_h1/2020/*.cdf\"')\n",
    "\n",
    "\n",
    "filewin=\"wind_2018_now_gse.p\" \n",
    "start=datetime.datetime(2018, 1, 1)\n",
    "end=datetime.datetime.utcnow()\n",
    "if get_new_data: hd.save_wind_data(data_path,filewin,start,end,heeq=False)\n",
    "[win,hwin]=pickle.load(open(data_path+filewin, \"rb\" ) )  \n",
    "\n",
    "filewin=\"wind_2018_now_heeq.p\" \n",
    "start=datetime.datetime(2018, 1, 1)\n",
    "end=datetime.datetime.utcnow()\n",
    "if get_new_data: hd.save_wind_data(data_path,filewin,start,end,heeq=True)\n",
    "\n",
    "start=win.time[-1]-datetime.timedelta(days=100)\n",
    "end=datetime.datetime.utcnow()         \n",
    "hp.plot_insitu_update(win, start, end,'Wind',plot_path,now=True)\n",
    "\n",
    "\n",
    "\n",
    "############### write header file for daily updates\n",
    "text = open('/nas/helio/data/insitu_python/data_update_headers.txt', 'w')\n",
    "text.write('Contains headers for the data files which are updated in real time.'+'\\n \\n')\n",
    "text.write('File creation date:  '+datetime.datetime.utcnow().strftime(\"%Y-%b-%d %H:%M\") +' \\n \\n')\n",
    "\n",
    "\n",
    "text.write('NOAA real time solar wind: '+filenoaa+'\\n \\n'+ hnoaa+' \\n \\n')\n",
    "text.write('load with: >> [noaa,hnoaa]=pickle.load(open(\"'+data_path+filenoaa+'\", \"rb\"))') \n",
    "text.write(' \\n \\n \\n \\n')\n",
    "\n",
    "text.write('STEREO-A beacon: '+filesta_sceq+'\\n \\n'+ hsta+' \\n \\n')\n",
    "text.write('load with: >> [sta,hsta]=pickle.load(open(\"'+data_path+filesta+'\", \"rb\"))') \n",
    "text.write(' \\n \\n \\n \\n')\n",
    "\n",
    "text.write('Wind: '+filewin+'\\n \\n'+ hwin+' \\n \\n')\n",
    "text.write('load with: >> [win,hwin]=pickle.load(open(\"'+data_path+filewin+'\", \"rb\" ))') \n",
    "text.write(' \\n \\n \\n \\n')\n",
    "\n",
    "\n",
    "text.write('OMNI2: '+fileomni+'\\n \\n'+ ho+' \\n \\n')\n",
    "text.write('load with: >> [o,ho]=pickle.load(open(\"'+data_path+fileomni+'\", \"rb\" ))') \n",
    "text.write(' \\n \\n \\n \\n')\n",
    "\n",
    "text.close()"
   ]
  }
 ],
 "metadata": {
  "kernelspec": {
   "display_name": "Python 3 (ipykernel)",
   "language": "python",
   "name": "python3"
  },
  "language_info": {
   "codemirror_mode": {
    "name": "ipython",
    "version": 3
   },
   "file_extension": ".py",
   "mimetype": "text/x-python",
   "name": "python",
   "nbconvert_exporter": "python",
   "pygments_lexer": "ipython3",
   "version": "3.10.0"
  }
 },
 "nbformat": 4,
 "nbformat_minor": 5
}
