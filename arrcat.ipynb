{
 "cells": [
  {
   "cell_type": "markdown",
   "metadata": {},
   "source": [
    "## arrcat\n",
    "\n",
    "makes the HELCATS HI ARRIVAL catalog\n",
    "\n",
    "Authors: C. Möstl, IWF Graz, Austria, D. Barnes, J. A. Davies, R. A. Harrison, RAL Space, UK.\n",
    "twitter @chrisoutofspace, part of https://github.com/cmoestl/heliocats\n",
    "\n",
    "current version ARRCAT 2.0, released 2020 May 13, updated 2022 February 3\n",
    "\n",
    "Install a specific conda environment to run this code, see readme at https://github.com/cmoestl/heliocats\n",
    "\n",
    "Convert this notebook to a script with \"jupyter nbconvert --to script arrcat.ipynb\", automatically done in first cell\n",
    "\n",
    "https://figshare.com/articles/dataset/Arrival_catalog_of_coronal_mass_ejections_observed_with_STEREO_Heliospheric_Imagers_HELCATS_ARRCAT_2_0_/12271292\n"
   ]
  },
  {
   "cell_type": "code",
   "execution_count": 1,
   "metadata": {},
   "outputs": [],
   "source": [
    "last_update='2021-February-3'"
   ]
  },
  {
   "cell_type": "code",
   "execution_count": 2,
   "metadata": {},
   "outputs": [
    {
     "data": {
      "text/plain": [
       "0"
      ]
     },
     "execution_count": 2,
     "metadata": {},
     "output_type": "execute_result"
    }
   ],
   "source": [
    "import numpy as np\n",
    "import scipy.io\n",
    "import matplotlib\n",
    "import matplotlib.pyplot as plt\n",
    "import matplotlib.dates as mdates\n",
    "from matplotlib.dates import  DateFormatter\n",
    "from datetime import timedelta\n",
    "import seaborn as sns\n",
    "import datetime\n",
    "import astropy\n",
    "import astropy.constants as const\n",
    "from sunpy.time import parse_time\n",
    "import time\n",
    "import pickle\n",
    "import sys\n",
    "import os\n",
    "import urllib\n",
    "import json\n",
    "import importlib\n",
    "import pandas as pd\n",
    "import copy\n",
    "import openpyxl\n",
    "import h5py\n",
    "import heliopy\n",
    "\n",
    "from heliocats import plot as hp\n",
    "importlib.reload(hp) #reload again while debugging\n",
    "\n",
    "from heliocats import data as hd\n",
    "importlib.reload(hd) #reload again while debugging\n",
    "\n",
    "from heliocats import cats as hc\n",
    "importlib.reload(hc) #reload again while debugging\n",
    "\n",
    "from heliocats import stats as hs\n",
    "importlib.reload(hs) #reload again while debugging\n",
    "\n",
    "#where the in situ data files are located is read \n",
    "#from config.py \n",
    "import config\n",
    "importlib.reload(config)\n",
    "from config import data_path\n",
    "from config import data_path_ML\n",
    "\n",
    "########### make directories first time if not there\n",
    "\n",
    "resdir='results'\n",
    "if os.path.isdir(resdir) == False: os.mkdir(resdir)\n",
    "\n",
    "datadir='data'\n",
    "if os.path.isdir(datadir) == False: os.mkdir(datadir)\n",
    "\n",
    "catdir='arrcat'\n",
    "if os.path.isdir(catdir) == False: os.mkdir(catdir)\n",
    "\n",
    "icplotsdir='arrcat/plots_arrcat/' \n",
    "if os.path.isdir(icplotsdir) == False: os.mkdir(icplotsdir) \n",
    "\n",
    "#Convert this notebook to a script with jupyter nbconvert --to script icmecat.ipynb\n",
    "os.system('jupyter nbconvert --to script arrcat.ipynb')    "
   ]
  },
  {
   "cell_type": "markdown",
   "metadata": {},
   "source": [
    "## 1 Make HI SSEF30 arrival catalog ARRCAT"
   ]
  },
  {
   "cell_type": "code",
   "execution_count": 3,
   "metadata": {},
   "outputs": [
    {
     "name": "stdout",
     "output_type": "stream",
     "text": [
      "SSEF30 events:  25\n",
      "PSP  SSEF30 arrival catalog finished.\n",
      "\n",
      "SSEF30 events:  15\n",
      "Solo  SSEF30 arrival catalog finished.\n",
      "\n",
      "SSEF30 events:  33\n",
      "Bepi  SSEF30 arrival catalog finished.\n",
      "\n",
      "Downloading https://sohowww.nascom.nasa.gov/solarsoft/stereo/gen/data/spice/epm/ahead/ahead_2021_316_02.epm.bsp\n"
     ]
    },
    {
     "name": "stderr",
     "output_type": "stream",
     "text": [
      "100.0% 1089536 / 1088512\n"
     ]
    },
    {
     "name": "stdout",
     "output_type": "stream",
     "text": [
      "Downloading https://sohowww.nascom.nasa.gov/solarsoft/stereo/gen/data/spice/epm/ahead/ahead_2021_316_03.epm.bsp\n"
     ]
    },
    {
     "name": "stderr",
     "output_type": "stream",
     "text": [
      "100.0% 1089536 / 1088512\n"
     ]
    },
    {
     "name": "stdout",
     "output_type": "stream",
     "text": [
      "Downloading https://sohowww.nascom.nasa.gov/solarsoft/stereo/gen/data/spice/epm/ahead/ahead_2021_316_04.epm.bsp\n"
     ]
    },
    {
     "name": "stderr",
     "output_type": "stream",
     "text": [
      "100.0% 1089536 / 1088512\n"
     ]
    },
    {
     "name": "stdout",
     "output_type": "stream",
     "text": [
      "Downloading https://sohowww.nascom.nasa.gov/solarsoft/stereo/gen/data/spice/epm/ahead/ahead_2021_316_05.epm.bsp\n"
     ]
    },
    {
     "name": "stderr",
     "output_type": "stream",
     "text": [
      "100.0% 1089536 / 1088512\n"
     ]
    },
    {
     "name": "stdout",
     "output_type": "stream",
     "text": [
      "Downloading https://sohowww.nascom.nasa.gov/solarsoft/stereo/gen/data/spice/epm/ahead/ahead_2021_316_06.epm.bsp\n"
     ]
    },
    {
     "name": "stderr",
     "output_type": "stream",
     "text": [
      "100.0% 1089536 / 1088512\n"
     ]
    },
    {
     "name": "stdout",
     "output_type": "stream",
     "text": [
      "Downloading https://sohowww.nascom.nasa.gov/solarsoft/stereo/gen/data/spice/epm/ahead/ahead_2021_316_07.epm.bsp\n"
     ]
    },
    {
     "name": "stderr",
     "output_type": "stream",
     "text": [
      "100.0% 1089536 / 1088512\n"
     ]
    },
    {
     "name": "stdout",
     "output_type": "stream",
     "text": [
      "Downloading https://sohowww.nascom.nasa.gov/solarsoft/stereo/gen/data/spice/epm/ahead/ahead_2021_316_08.epm.bsp\n"
     ]
    },
    {
     "name": "stderr",
     "output_type": "stream",
     "text": [
      "100.0% 1089536 / 1088512\n"
     ]
    },
    {
     "name": "stdout",
     "output_type": "stream",
     "text": [
      "Downloading https://sohowww.nascom.nasa.gov/solarsoft/stereo/gen/data/spice/epm/ahead/ahead_2021_316_09.epm.bsp\n"
     ]
    },
    {
     "name": "stderr",
     "output_type": "stream",
     "text": [
      "100.0% 1089536 / 1088512\n"
     ]
    },
    {
     "name": "stdout",
     "output_type": "stream",
     "text": [
      "Downloading https://sohowww.nascom.nasa.gov/solarsoft/stereo/gen/data/spice/epm/ahead/ahead_2021_316_10.epm.bsp\n"
     ]
    },
    {
     "name": "stderr",
     "output_type": "stream",
     "text": [
      "100.0% 1089536 / 1088512\n"
     ]
    },
    {
     "name": "stdout",
     "output_type": "stream",
     "text": [
      "Downloading https://sohowww.nascom.nasa.gov/solarsoft/stereo/gen/data/spice/epm/ahead/ahead_2021_316_11.epm.bsp\n"
     ]
    },
    {
     "name": "stderr",
     "output_type": "stream",
     "text": [
      "100.0% 1089536 / 1088512\n"
     ]
    },
    {
     "name": "stdout",
     "output_type": "stream",
     "text": [
      "Downloading https://sohowww.nascom.nasa.gov/solarsoft/stereo/gen/data/spice/epm/ahead/ahead_2021_316_12.epm.bsp\n"
     ]
    },
    {
     "name": "stderr",
     "output_type": "stream",
     "text": [
      "100.0% 1089536 / 1088512\n"
     ]
    },
    {
     "name": "stdout",
     "output_type": "stream",
     "text": [
      "Downloading https://sohowww.nascom.nasa.gov/solarsoft/stereo/gen/data/spice/epm/ahead/ahead_2021_316_13.epm.bsp\n"
     ]
    },
    {
     "name": "stderr",
     "output_type": "stream",
     "text": [
      "100.0% 1089536 / 1088512\n"
     ]
    },
    {
     "name": "stdout",
     "output_type": "stream",
     "text": [
      "Downloading https://sohowww.nascom.nasa.gov/solarsoft/stereo/gen/data/spice/epm/ahead/ahead_2021_316_14.epm.bsp\n"
     ]
    },
    {
     "name": "stderr",
     "output_type": "stream",
     "text": [
      "100.0% 1089536 / 1088512\n"
     ]
    },
    {
     "name": "stdout",
     "output_type": "stream",
     "text": [
      "Downloading https://sohowww.nascom.nasa.gov/solarsoft/stereo/gen/data/spice/epm/ahead/ahead_2021_316_15.epm.bsp\n"
     ]
    },
    {
     "name": "stderr",
     "output_type": "stream",
     "text": [
      "100.0% 1089536 / 1088512\n"
     ]
    },
    {
     "name": "stdout",
     "output_type": "stream",
     "text": [
      "Downloading https://sohowww.nascom.nasa.gov/solarsoft/stereo/gen/data/spice/epm/ahead/ahead_2021_316_16.epm.bsp\n"
     ]
    },
    {
     "name": "stderr",
     "output_type": "stream",
     "text": [
      "100.0% 1089536 / 1088512\n"
     ]
    },
    {
     "name": "stdout",
     "output_type": "stream",
     "text": [
      "Downloading https://sohowww.nascom.nasa.gov/solarsoft/stereo/gen/data/spice/epm/ahead/ahead_2021_316_17.epm.bsp\n"
     ]
    },
    {
     "name": "stderr",
     "output_type": "stream",
     "text": [
      "100.0% 1089536 / 1088512\n"
     ]
    },
    {
     "name": "stdout",
     "output_type": "stream",
     "text": [
      "Downloading https://sohowww.nascom.nasa.gov/solarsoft/stereo/gen/data/spice/epm/ahead/ahead_2021_316_18.epm.bsp\n"
     ]
    },
    {
     "name": "stderr",
     "output_type": "stream",
     "text": [
      "100.0% 1089536 / 1088512\n"
     ]
    },
    {
     "name": "stdout",
     "output_type": "stream",
     "text": [
      "Downloading https://sohowww.nascom.nasa.gov/solarsoft/stereo/gen/data/spice/epm/ahead/ahead_2021_316_19.epm.bsp\n"
     ]
    },
    {
     "name": "stderr",
     "output_type": "stream",
     "text": [
      "100.0% 1089536 / 1088512\n"
     ]
    },
    {
     "name": "stdout",
     "output_type": "stream",
     "text": [
      "Downloading https://sohowww.nascom.nasa.gov/solarsoft/stereo/gen/data/spice/epm/ahead/ahead_2021_316_20.epm.bsp\n"
     ]
    },
    {
     "name": "stderr",
     "output_type": "stream",
     "text": [
      "100.0% 1089536 / 1088512\n"
     ]
    },
    {
     "name": "stdout",
     "output_type": "stream",
     "text": [
      "Downloading https://sohowww.nascom.nasa.gov/solarsoft/stereo/gen/data/spice/epm/ahead/ahead_2021_316_21.epm.bsp\n"
     ]
    },
    {
     "name": "stderr",
     "output_type": "stream",
     "text": [
      "100.0% 1089536 / 1088512\n"
     ]
    },
    {
     "name": "stdout",
     "output_type": "stream",
     "text": [
      "Downloading https://sohowww.nascom.nasa.gov/solarsoft/stereo/gen/data/spice/epm/ahead/ahead_2021_316_22.epm.bsp\n"
     ]
    },
    {
     "name": "stderr",
     "output_type": "stream",
     "text": [
      "100.0% 1089536 / 1088512\n"
     ]
    },
    {
     "name": "stdout",
     "output_type": "stream",
     "text": [
      "Downloading https://sohowww.nascom.nasa.gov/solarsoft/stereo/gen/data/spice/epm/ahead/ahead_2021_316_23.epm.bsp\n"
     ]
    },
    {
     "name": "stderr",
     "output_type": "stream",
     "text": [
      "100.0% 1089536 / 1088512\n"
     ]
    },
    {
     "name": "stdout",
     "output_type": "stream",
     "text": [
      "Downloading https://sohowww.nascom.nasa.gov/solarsoft/stereo/gen/data/spice/epm/ahead/ahead_2021_316_24.epm.bsp\n"
     ]
    },
    {
     "name": "stderr",
     "output_type": "stream",
     "text": [
      "100.0% 1089536 / 1088512\n"
     ]
    },
    {
     "name": "stdout",
     "output_type": "stream",
     "text": [
      "Downloading https://sohowww.nascom.nasa.gov/solarsoft/stereo/gen/data/spice/epm/ahead/ahead_2021_316_25.epm.bsp\n"
     ]
    },
    {
     "name": "stderr",
     "output_type": "stream",
     "text": [
      "100.0% 1089536 / 1088512\n"
     ]
    },
    {
     "name": "stdout",
     "output_type": "stream",
     "text": [
      "Downloading https://sohowww.nascom.nasa.gov/solarsoft/stereo/gen/data/spice/epm/ahead/ahead_2021_327_02.epm.bsp\n"
     ]
    },
    {
     "name": "stderr",
     "output_type": "stream",
     "text": [
      "100.0% 983040 / 975872\n"
     ]
    },
    {
     "name": "stdout",
     "output_type": "stream",
     "text": [
      "Downloading https://sohowww.nascom.nasa.gov/solarsoft/stereo/gen/data/spice/epm/ahead/ahead_2021_327_03.epm.bsp\n"
     ]
    },
    {
     "name": "stderr",
     "output_type": "stream",
     "text": [
      "100.0% 983040 / 975872\n"
     ]
    },
    {
     "name": "stdout",
     "output_type": "stream",
     "text": [
      "Downloading https://sohowww.nascom.nasa.gov/solarsoft/stereo/gen/data/spice/epm/ahead/ahead_2021_327_04.epm.bsp\n"
     ]
    },
    {
     "name": "stderr",
     "output_type": "stream",
     "text": [
      "100.0% 983040 / 975872\n"
     ]
    },
    {
     "name": "stdout",
     "output_type": "stream",
     "text": [
      "Downloading https://sohowww.nascom.nasa.gov/solarsoft/stereo/gen/data/spice/epm/ahead/ahead_2021_327_05.epm.bsp\n"
     ]
    },
    {
     "name": "stderr",
     "output_type": "stream",
     "text": [
      "100.0% 983040 / 975872\n"
     ]
    },
    {
     "name": "stdout",
     "output_type": "stream",
     "text": [
      "Downloading https://sohowww.nascom.nasa.gov/solarsoft/stereo/gen/data/spice/epm/ahead/ahead_2021_327_06.epm.bsp\n"
     ]
    },
    {
     "name": "stderr",
     "output_type": "stream",
     "text": [
      "100.0% 983040 / 975872\n"
     ]
    },
    {
     "name": "stdout",
     "output_type": "stream",
     "text": [
      "Downloading https://sohowww.nascom.nasa.gov/solarsoft/stereo/gen/data/spice/epm/ahead/ahead_2021_327_07.epm.bsp\n"
     ]
    },
    {
     "name": "stderr",
     "output_type": "stream",
     "text": [
      "100.0% 983040 / 975872\n"
     ]
    },
    {
     "name": "stdout",
     "output_type": "stream",
     "text": [
      "Downloading https://sohowww.nascom.nasa.gov/solarsoft/stereo/gen/data/spice/epm/ahead/ahead_2021_327_08.epm.bsp\n"
     ]
    },
    {
     "name": "stderr",
     "output_type": "stream",
     "text": [
      "100.0% 983040 / 975872\n"
     ]
    },
    {
     "name": "stdout",
     "output_type": "stream",
     "text": [
      "Downloading https://sohowww.nascom.nasa.gov/solarsoft/stereo/gen/data/spice/epm/ahead/ahead_2021_327_09.epm.bsp\n"
     ]
    },
    {
     "name": "stderr",
     "output_type": "stream",
     "text": [
      "100.0% 983040 / 975872\n"
     ]
    },
    {
     "name": "stdout",
     "output_type": "stream",
     "text": [
      "Downloading https://sohowww.nascom.nasa.gov/solarsoft/stereo/gen/data/spice/epm/ahead/ahead_2021_327_10.epm.bsp\n"
     ]
    },
    {
     "name": "stderr",
     "output_type": "stream",
     "text": [
      "100.0% 983040 / 975872\n"
     ]
    },
    {
     "name": "stdout",
     "output_type": "stream",
     "text": [
      "Downloading https://sohowww.nascom.nasa.gov/solarsoft/stereo/gen/data/spice/epm/ahead/ahead_2021_327_11.epm.bsp\n"
     ]
    },
    {
     "name": "stderr",
     "output_type": "stream",
     "text": [
      "100.0% 983040 / 975872\n"
     ]
    },
    {
     "name": "stdout",
     "output_type": "stream",
     "text": [
      "Downloading https://sohowww.nascom.nasa.gov/solarsoft/stereo/gen/data/spice/epm/ahead/ahead_2021_327_12.epm.bsp\n"
     ]
    },
    {
     "name": "stderr",
     "output_type": "stream",
     "text": [
      "100.0% 983040 / 975872\n"
     ]
    },
    {
     "name": "stdout",
     "output_type": "stream",
     "text": [
      "Downloading https://sohowww.nascom.nasa.gov/solarsoft/stereo/gen/data/spice/epm/ahead/ahead_2021_327_13.epm.bsp\n"
     ]
    },
    {
     "name": "stderr",
     "output_type": "stream",
     "text": [
      "100.0% 983040 / 975872\n"
     ]
    },
    {
     "name": "stdout",
     "output_type": "stream",
     "text": [
      "Downloading https://sohowww.nascom.nasa.gov/solarsoft/stereo/gen/data/spice/epm/ahead/ahead_2021_327_14.epm.bsp\n"
     ]
    },
    {
     "name": "stderr",
     "output_type": "stream",
     "text": [
      "100.0% 983040 / 975872\n"
     ]
    },
    {
     "name": "stdout",
     "output_type": "stream",
     "text": [
      "Downloading https://sohowww.nascom.nasa.gov/solarsoft/stereo/gen/data/spice/epm/ahead/ahead_2021_327_15.epm.bsp\n"
     ]
    },
    {
     "name": "stderr",
     "output_type": "stream",
     "text": [
      "100.0% 983040 / 975872\n"
     ]
    },
    {
     "name": "stdout",
     "output_type": "stream",
     "text": [
      "Downloading https://sohowww.nascom.nasa.gov/solarsoft/stereo/gen/data/spice/epm/ahead/ahead_2021_327_16.epm.bsp\n"
     ]
    },
    {
     "name": "stderr",
     "output_type": "stream",
     "text": [
      "100.0% 983040 / 975872\n"
     ]
    },
    {
     "name": "stdout",
     "output_type": "stream",
     "text": [
      "Downloading https://sohowww.nascom.nasa.gov/solarsoft/stereo/gen/data/spice/epm/ahead/ahead_2021_327_17.epm.bsp\n"
     ]
    },
    {
     "name": "stderr",
     "output_type": "stream",
     "text": [
      "100.0% 983040 / 975872\n"
     ]
    },
    {
     "name": "stdout",
     "output_type": "stream",
     "text": [
      "Downloading https://sohowww.nascom.nasa.gov/solarsoft/stereo/gen/data/spice/epm/ahead/ahead_2021_327_18.epm.bsp\n"
     ]
    },
    {
     "name": "stderr",
     "output_type": "stream",
     "text": [
      "100.0% 983040 / 975872\n"
     ]
    },
    {
     "name": "stdout",
     "output_type": "stream",
     "text": [
      "Downloading https://sohowww.nascom.nasa.gov/solarsoft/stereo/gen/data/spice/epm/ahead/ahead_2021_327_19.epm.bsp\n"
     ]
    },
    {
     "name": "stderr",
     "output_type": "stream",
     "text": [
      "100.0% 983040 / 975872\n"
     ]
    },
    {
     "name": "stdout",
     "output_type": "stream",
     "text": [
      "Downloading https://sohowww.nascom.nasa.gov/solarsoft/stereo/gen/data/spice/epm/ahead/ahead_2021_327_20.epm.bsp\n"
     ]
    },
    {
     "name": "stderr",
     "output_type": "stream",
     "text": [
      "100.0% 983040 / 975872\n"
     ]
    },
    {
     "name": "stdout",
     "output_type": "stream",
     "text": [
      "Downloading https://sohowww.nascom.nasa.gov/solarsoft/stereo/gen/data/spice/epm/ahead/ahead_2021_327_21.epm.bsp\n"
     ]
    },
    {
     "name": "stderr",
     "output_type": "stream",
     "text": [
      "100.0% 983040 / 975872\n"
     ]
    },
    {
     "name": "stdout",
     "output_type": "stream",
     "text": [
      "Downloading https://sohowww.nascom.nasa.gov/solarsoft/stereo/gen/data/spice/epm/ahead/ahead_2021_327_22.epm.bsp\n"
     ]
    },
    {
     "name": "stderr",
     "output_type": "stream",
     "text": [
      "100.0% 983040 / 975872\n"
     ]
    },
    {
     "name": "stdout",
     "output_type": "stream",
     "text": [
      "Downloading https://sohowww.nascom.nasa.gov/solarsoft/stereo/gen/data/spice/epm/ahead/ahead_2021_327_23.epm.bsp\n"
     ]
    },
    {
     "name": "stderr",
     "output_type": "stream",
     "text": [
      "100.0% 983040 / 975872\n"
     ]
    },
    {
     "name": "stdout",
     "output_type": "stream",
     "text": [
      "Downloading https://sohowww.nascom.nasa.gov/solarsoft/stereo/gen/data/spice/epm/ahead/ahead_2021_327_24.epm.bsp\n"
     ]
    },
    {
     "name": "stderr",
     "output_type": "stream",
     "text": [
      "100.0% 983040 / 975872\n"
     ]
    },
    {
     "name": "stdout",
     "output_type": "stream",
     "text": [
      "Downloading https://sohowww.nascom.nasa.gov/solarsoft/stereo/gen/data/spice/epm/ahead/ahead_2021_327_25.epm.bsp\n"
     ]
    },
    {
     "name": "stderr",
     "output_type": "stream",
     "text": [
      "100.0% 983040 / 975872\n"
     ]
    },
    {
     "name": "stdout",
     "output_type": "stream",
     "text": [
      "Downloading https://sohowww.nascom.nasa.gov/solarsoft/stereo/gen/data/spice/epm/ahead/ahead_2021_327_26.epm.bsp\n"
     ]
    },
    {
     "name": "stderr",
     "output_type": "stream",
     "text": [
      "100.0% 983040 / 975872\n"
     ]
    },
    {
     "name": "stdout",
     "output_type": "stream",
     "text": [
      "Downloading https://sohowww.nascom.nasa.gov/solarsoft/stereo/gen/data/spice/epm/ahead/ahead_2021_327_27.epm.bsp\n"
     ]
    },
    {
     "name": "stderr",
     "output_type": "stream",
     "text": [
      "100.0% 983040 / 975872\n"
     ]
    },
    {
     "name": "stdout",
     "output_type": "stream",
     "text": [
      "Downloading https://sohowww.nascom.nasa.gov/solarsoft/stereo/gen/data/spice/epm/ahead/ahead_2021_327_28.epm.bsp\n"
     ]
    },
    {
     "name": "stderr",
     "output_type": "stream",
     "text": [
      "100.0% 983040 / 975872\n"
     ]
    },
    {
     "name": "stdout",
     "output_type": "stream",
     "text": [
      "Downloading https://sohowww.nascom.nasa.gov/solarsoft/stereo/gen/data/spice/epm/ahead/ahead_2021_327_29.epm.bsp\n"
     ]
    },
    {
     "name": "stderr",
     "output_type": "stream",
     "text": [
      "100.0% 983040 / 975872\n"
     ]
    },
    {
     "name": "stdout",
     "output_type": "stream",
     "text": [
      "Downloading https://sohowww.nascom.nasa.gov/solarsoft/stereo/gen/data/spice/epm/ahead/ahead_2021_327_30.epm.bsp\n"
     ]
    },
    {
     "name": "stderr",
     "output_type": "stream",
     "text": [
      "100.0% 983040 / 975872\n"
     ]
    },
    {
     "name": "stdout",
     "output_type": "stream",
     "text": [
      "Downloading https://sohowww.nascom.nasa.gov/solarsoft/stereo/gen/data/spice/epm/ahead/ahead_2021_327_31.epm.bsp\n"
     ]
    },
    {
     "name": "stderr",
     "output_type": "stream",
     "text": [
      "100.0% 983040 / 975872\n"
     ]
    },
    {
     "name": "stdout",
     "output_type": "stream",
     "text": [
      "Downloading https://sohowww.nascom.nasa.gov/solarsoft/stereo/gen/data/spice/epm/ahead/ahead_2021_327_32.epm.bsp\n"
     ]
    },
    {
     "name": "stderr",
     "output_type": "stream",
     "text": [
      "100.0% 983040 / 975872\n"
     ]
    },
    {
     "name": "stdout",
     "output_type": "stream",
     "text": [
      "Downloading https://sohowww.nascom.nasa.gov/solarsoft/stereo/gen/data/spice/epm/ahead/ahead_2021_327_33.epm.bsp\n"
     ]
    },
    {
     "name": "stderr",
     "output_type": "stream",
     "text": [
      "100.0% 983040 / 975872\n"
     ]
    },
    {
     "name": "stdout",
     "output_type": "stream",
     "text": [
      "Downloading https://sohowww.nascom.nasa.gov/solarsoft/stereo/gen/data/spice/epm/ahead/ahead_2021_327_34.epm.bsp\n"
     ]
    },
    {
     "name": "stderr",
     "output_type": "stream",
     "text": [
      "100.0% 983040 / 975872\n"
     ]
    },
    {
     "name": "stdout",
     "output_type": "stream",
     "text": [
      "Downloading https://sohowww.nascom.nasa.gov/solarsoft/stereo/gen/data/spice/epm/ahead/ahead_2021_327_35.epm.bsp\n"
     ]
    },
    {
     "name": "stderr",
     "output_type": "stream",
     "text": [
      "100.0% 983040 / 975872\n"
     ]
    },
    {
     "name": "stdout",
     "output_type": "stream",
     "text": [
      "Downloading https://sohowww.nascom.nasa.gov/solarsoft/stereo/gen/data/spice/epm/ahead/ahead_2021_327_36.epm.bsp\n"
     ]
    },
    {
     "name": "stderr",
     "output_type": "stream",
     "text": [
      "100.0% 983040 / 975872\n"
     ]
    },
    {
     "name": "stdout",
     "output_type": "stream",
     "text": [
      "Downloading https://sohowww.nascom.nasa.gov/solarsoft/stereo/gen/data/spice/epm/ahead/ahead_2021_327_37.epm.bsp\n"
     ]
    },
    {
     "name": "stderr",
     "output_type": "stream",
     "text": [
      "100.0% 983040 / 975872\n"
     ]
    },
    {
     "name": "stdout",
     "output_type": "stream",
     "text": [
      "Downloading https://sohowww.nascom.nasa.gov/solarsoft/stereo/gen/data/spice/epm/ahead/ahead_2021_327_38.epm.bsp\n"
     ]
    },
    {
     "name": "stderr",
     "output_type": "stream",
     "text": [
      "100.0% 983040 / 975872\n"
     ]
    },
    {
     "name": "stdout",
     "output_type": "stream",
     "text": [
      "Downloading https://sohowww.nascom.nasa.gov/solarsoft/stereo/gen/data/spice/epm/ahead/ahead_2021_327_39.epm.bsp\n"
     ]
    },
    {
     "name": "stderr",
     "output_type": "stream",
     "text": [
      "100.0% 983040 / 975872\n"
     ]
    },
    {
     "name": "stdout",
     "output_type": "stream",
     "text": [
      "Downloading https://sohowww.nascom.nasa.gov/solarsoft/stereo/gen/data/spice/epm/ahead/ahead_2021_327_40.epm.bsp\n"
     ]
    },
    {
     "name": "stderr",
     "output_type": "stream",
     "text": [
      "100.0% 983040 / 975872\n"
     ]
    },
    {
     "name": "stdout",
     "output_type": "stream",
     "text": [
      "Downloading https://sohowww.nascom.nasa.gov/solarsoft/stereo/gen/data/spice/epm/ahead/ahead_2021_327_41.epm.bsp\n"
     ]
    },
    {
     "name": "stderr",
     "output_type": "stream",
     "text": [
      "100.0% 983040 / 975872\n"
     ]
    },
    {
     "name": "stdout",
     "output_type": "stream",
     "text": [
      "Downloading https://sohowww.nascom.nasa.gov/solarsoft/stereo/gen/data/spice/epm/ahead/ahead_2021_327_42.epm.bsp\n"
     ]
    },
    {
     "name": "stderr",
     "output_type": "stream",
     "text": [
      "100.0% 983040 / 975872\n"
     ]
    },
    {
     "name": "stdout",
     "output_type": "stream",
     "text": [
      "Downloading https://sohowww.nascom.nasa.gov/solarsoft/stereo/gen/data/spice/epm/ahead/ahead_2021_327_43.epm.bsp\n"
     ]
    },
    {
     "name": "stderr",
     "output_type": "stream",
     "text": [
      "100.0% 983040 / 975872\n"
     ]
    },
    {
     "name": "stdout",
     "output_type": "stream",
     "text": [
      "Downloading https://sohowww.nascom.nasa.gov/solarsoft/stereo/gen/data/spice/epm/ahead/ahead_2021_327_44.epm.bsp\n"
     ]
    },
    {
     "name": "stderr",
     "output_type": "stream",
     "text": [
      "100.0% 983040 / 975872\n"
     ]
    },
    {
     "name": "stdout",
     "output_type": "stream",
     "text": [
      "Downloading https://sohowww.nascom.nasa.gov/solarsoft/stereo/gen/data/spice/epm/ahead/ahead_2021_327_45.epm.bsp\n"
     ]
    },
    {
     "name": "stderr",
     "output_type": "stream",
     "text": [
      "100.0% 983040 / 975872\n"
     ]
    },
    {
     "name": "stdout",
     "output_type": "stream",
     "text": [
      "Downloading https://sohowww.nascom.nasa.gov/solarsoft/stereo/gen/data/spice/epm/ahead/ahead_2021_327_46.epm.bsp\n"
     ]
    },
    {
     "name": "stderr",
     "output_type": "stream",
     "text": [
      "100.0% 983040 / 975872\n"
     ]
    },
    {
     "name": "stdout",
     "output_type": "stream",
     "text": [
      "Downloading https://sohowww.nascom.nasa.gov/solarsoft/stereo/gen/data/spice/epm/ahead/ahead_2021_327_47.epm.bsp\n"
     ]
    },
    {
     "name": "stderr",
     "output_type": "stream",
     "text": [
      "100.0% 983040 / 975872\n"
     ]
    },
    {
     "name": "stdout",
     "output_type": "stream",
     "text": [
      "Downloading https://sohowww.nascom.nasa.gov/solarsoft/stereo/gen/data/spice/epm/ahead/ahead_2021_327_48.epm.bsp\n"
     ]
    },
    {
     "name": "stderr",
     "output_type": "stream",
     "text": [
      "100.0% 983040 / 975872\n"
     ]
    },
    {
     "name": "stdout",
     "output_type": "stream",
     "text": [
      "Downloading https://sohowww.nascom.nasa.gov/solarsoft/stereo/gen/data/spice/epm/ahead/ahead_2021_327_49.epm.bsp\n"
     ]
    },
    {
     "name": "stderr",
     "output_type": "stream",
     "text": [
      "100.0% 983040 / 975872\n"
     ]
    },
    {
     "name": "stdout",
     "output_type": "stream",
     "text": [
      "Downloading https://sohowww.nascom.nasa.gov/solarsoft/stereo/gen/data/spice/epm/ahead/ahead_2021_327_50.epm.bsp\n"
     ]
    },
    {
     "name": "stderr",
     "output_type": "stream",
     "text": [
      "100.0% 983040 / 975872\n"
     ]
    },
    {
     "name": "stdout",
     "output_type": "stream",
     "text": [
      "Downloading https://sohowww.nascom.nasa.gov/solarsoft/stereo/gen/data/spice/epm/ahead/ahead_2021_327_51.epm.bsp\n"
     ]
    },
    {
     "name": "stderr",
     "output_type": "stream",
     "text": [
      "100.0% 983040 / 975872\n"
     ]
    },
    {
     "name": "stdout",
     "output_type": "stream",
     "text": [
      "Downloading https://sohowww.nascom.nasa.gov/solarsoft/stereo/gen/data/spice/epm/ahead/ahead_2021_327_52.epm.bsp\n"
     ]
    },
    {
     "name": "stderr",
     "output_type": "stream",
     "text": [
      "100.0% 983040 / 975872\n"
     ]
    },
    {
     "name": "stdout",
     "output_type": "stream",
     "text": [
      "Downloading https://sohowww.nascom.nasa.gov/solarsoft/stereo/gen/data/spice/epm/ahead/ahead_2021_327_53.epm.bsp\n"
     ]
    },
    {
     "name": "stderr",
     "output_type": "stream",
     "text": [
      "100.0% 983040 / 975872\n"
     ]
    },
    {
     "name": "stdout",
     "output_type": "stream",
     "text": [
      "Downloading https://sohowww.nascom.nasa.gov/solarsoft/stereo/gen/data/spice/epm/ahead/ahead_2021_327_54.epm.bsp\n"
     ]
    },
    {
     "name": "stderr",
     "output_type": "stream",
     "text": [
      "100.0% 983040 / 975872\n"
     ]
    },
    {
     "name": "stdout",
     "output_type": "stream",
     "text": [
      "Downloading https://sohowww.nascom.nasa.gov/solarsoft/stereo/gen/data/spice/epm/ahead/ahead_2021_343_01.epm.bsp\n"
     ]
    },
    {
     "name": "stderr",
     "output_type": "stream",
     "text": [
      "100.0% 1089536 / 1088512\n"
     ]
    },
    {
     "name": "stdout",
     "output_type": "stream",
     "text": [
      "Downloading https://sohowww.nascom.nasa.gov/solarsoft/stereo/gen/data/spice/epm/ahead/ahead_2021_343_02.epm.bsp\n"
     ]
    },
    {
     "name": "stderr",
     "output_type": "stream",
     "text": [
      "100.0% 1089536 / 1088512\n"
     ]
    },
    {
     "name": "stdout",
     "output_type": "stream",
     "text": [
      "Downloading https://sohowww.nascom.nasa.gov/solarsoft/stereo/gen/data/spice/epm/ahead/ahead_2021_343_03.epm.bsp\n"
     ]
    },
    {
     "name": "stderr",
     "output_type": "stream",
     "text": [
      "100.0% 1089536 / 1088512\n"
     ]
    },
    {
     "name": "stdout",
     "output_type": "stream",
     "text": [
      "Downloading https://sohowww.nascom.nasa.gov/solarsoft/stereo/gen/data/spice/epm/ahead/ahead_2021_343_04.epm.bsp\n"
     ]
    },
    {
     "name": "stderr",
     "output_type": "stream",
     "text": [
      "100.0% 1089536 / 1088512\n"
     ]
    },
    {
     "name": "stdout",
     "output_type": "stream",
     "text": [
      "Downloading https://sohowww.nascom.nasa.gov/solarsoft/stereo/gen/data/spice/epm/ahead/ahead_2021_343_05.epm.bsp\n"
     ]
    },
    {
     "name": "stderr",
     "output_type": "stream",
     "text": [
      "100.0% 1089536 / 1088512\n"
     ]
    },
    {
     "name": "stdout",
     "output_type": "stream",
     "text": [
      "Downloading https://sohowww.nascom.nasa.gov/solarsoft/stereo/gen/data/spice/epm/ahead/ahead_2021_343_06.epm.bsp\n"
     ]
    },
    {
     "name": "stderr",
     "output_type": "stream",
     "text": [
      "100.0% 1089536 / 1088512\n"
     ]
    },
    {
     "name": "stdout",
     "output_type": "stream",
     "text": [
      "Downloading https://sohowww.nascom.nasa.gov/solarsoft/stereo/gen/data/spice/epm/ahead/ahead_2021_343_07.epm.bsp\n"
     ]
    },
    {
     "name": "stderr",
     "output_type": "stream",
     "text": [
      "100.0% 1089536 / 1088512\n"
     ]
    },
    {
     "name": "stdout",
     "output_type": "stream",
     "text": [
      "Downloading https://sohowww.nascom.nasa.gov/solarsoft/stereo/gen/data/spice/epm/ahead/ahead_2021_343_08.epm.bsp\n"
     ]
    },
    {
     "name": "stderr",
     "output_type": "stream",
     "text": [
      "100.0% 1089536 / 1088512\n"
     ]
    },
    {
     "name": "stdout",
     "output_type": "stream",
     "text": [
      "Downloading https://sohowww.nascom.nasa.gov/solarsoft/stereo/gen/data/spice/epm/ahead/ahead_2021_343_09.epm.bsp\n"
     ]
    },
    {
     "name": "stderr",
     "output_type": "stream",
     "text": [
      "100.0% 1089536 / 1088512\n"
     ]
    },
    {
     "name": "stdout",
     "output_type": "stream",
     "text": [
      "Downloading https://sohowww.nascom.nasa.gov/solarsoft/stereo/gen/data/spice/epm/ahead/ahead_2021_343_10.epm.bsp\n"
     ]
    },
    {
     "name": "stderr",
     "output_type": "stream",
     "text": [
      "100.0% 1089536 / 1088512\n"
     ]
    },
    {
     "name": "stdout",
     "output_type": "stream",
     "text": [
      "Downloading https://sohowww.nascom.nasa.gov/solarsoft/stereo/gen/data/spice/epm/ahead/ahead_2021_343_11.epm.bsp\n"
     ]
    },
    {
     "name": "stderr",
     "output_type": "stream",
     "text": [
      "100.0% 1089536 / 1088512\n"
     ]
    },
    {
     "name": "stdout",
     "output_type": "stream",
     "text": [
      "Downloading https://sohowww.nascom.nasa.gov/solarsoft/stereo/gen/data/spice/epm/ahead/ahead_2021_343_12.epm.bsp\n"
     ]
    },
    {
     "name": "stderr",
     "output_type": "stream",
     "text": [
      "100.0% 1089536 / 1088512\n"
     ]
    },
    {
     "name": "stdout",
     "output_type": "stream",
     "text": [
      "Downloading https://sohowww.nascom.nasa.gov/solarsoft/stereo/gen/data/spice/epm/ahead/ahead_2021_343_13.epm.bsp\n"
     ]
    },
    {
     "name": "stderr",
     "output_type": "stream",
     "text": [
      "100.0% 1089536 / 1088512\n"
     ]
    },
    {
     "name": "stdout",
     "output_type": "stream",
     "text": [
      "Downloading https://sohowww.nascom.nasa.gov/solarsoft/stereo/gen/data/spice/epm/ahead/ahead_2021_343_14.epm.bsp\n"
     ]
    },
    {
     "name": "stderr",
     "output_type": "stream",
     "text": [
      "100.0% 1089536 / 1088512\n"
     ]
    },
    {
     "name": "stdout",
     "output_type": "stream",
     "text": [
      "Downloading https://sohowww.nascom.nasa.gov/solarsoft/stereo/gen/data/spice/epm/ahead/ahead_2021_343_15.epm.bsp\n"
     ]
    },
    {
     "name": "stderr",
     "output_type": "stream",
     "text": [
      "100.0% 1089536 / 1088512\n"
     ]
    },
    {
     "name": "stdout",
     "output_type": "stream",
     "text": [
      "Downloading https://sohowww.nascom.nasa.gov/solarsoft/stereo/gen/data/spice/epm/ahead/ahead_2021_343_16.epm.bsp\n"
     ]
    },
    {
     "name": "stderr",
     "output_type": "stream",
     "text": [
      "100.0% 1089536 / 1088512\n"
     ]
    },
    {
     "name": "stdout",
     "output_type": "stream",
     "text": [
      "Downloading https://sohowww.nascom.nasa.gov/solarsoft/stereo/gen/data/spice/epm/ahead/ahead_2021_343_17.epm.bsp\n"
     ]
    },
    {
     "name": "stderr",
     "output_type": "stream",
     "text": [
      "100.0% 1089536 / 1088512\n"
     ]
    },
    {
     "name": "stdout",
     "output_type": "stream",
     "text": [
      "Downloading https://sohowww.nascom.nasa.gov/solarsoft/stereo/gen/data/spice/epm/ahead/ahead_2021_343_18.epm.bsp\n"
     ]
    },
    {
     "name": "stderr",
     "output_type": "stream",
     "text": [
      "100.0% 1089536 / 1088512\n"
     ]
    },
    {
     "name": "stdout",
     "output_type": "stream",
     "text": [
      "Downloading https://sohowww.nascom.nasa.gov/solarsoft/stereo/gen/data/spice/epm/ahead/ahead_2021_343_19.epm.bsp\n"
     ]
    },
    {
     "name": "stderr",
     "output_type": "stream",
     "text": [
      "100.0% 1089536 / 1088512\n"
     ]
    },
    {
     "name": "stdout",
     "output_type": "stream",
     "text": [
      "Downloading https://sohowww.nascom.nasa.gov/solarsoft/stereo/gen/data/spice/epm/ahead/ahead_2021_343_20.epm.bsp\n"
     ]
    },
    {
     "name": "stderr",
     "output_type": "stream",
     "text": [
      "100.0% 1089536 / 1088512\n"
     ]
    },
    {
     "name": "stdout",
     "output_type": "stream",
     "text": [
      "Downloading https://sohowww.nascom.nasa.gov/solarsoft/stereo/gen/data/spice/epm/ahead/ahead_2021_343_21.epm.bsp\n"
     ]
    },
    {
     "name": "stderr",
     "output_type": "stream",
     "text": [
      "100.0% 1089536 / 1088512\n"
     ]
    },
    {
     "name": "stdout",
     "output_type": "stream",
     "text": [
      "Downloading https://sohowww.nascom.nasa.gov/solarsoft/stereo/gen/data/spice/epm/ahead/ahead_2021_343_22.epm.bsp\n"
     ]
    },
    {
     "name": "stderr",
     "output_type": "stream",
     "text": [
      "100.0% 1089536 / 1088512\n"
     ]
    },
    {
     "name": "stdout",
     "output_type": "stream",
     "text": [
      "Downloading https://sohowww.nascom.nasa.gov/solarsoft/stereo/gen/data/spice/epm/ahead/ahead_2021_343_23.epm.bsp\n"
     ]
    },
    {
     "name": "stderr",
     "output_type": "stream",
     "text": [
      "100.0% 1089536 / 1088512\n"
     ]
    },
    {
     "name": "stdout",
     "output_type": "stream",
     "text": [
      "Downloading https://sohowww.nascom.nasa.gov/solarsoft/stereo/gen/data/spice/epm/ahead/ahead_2021_343_24.epm.bsp\n"
     ]
    },
    {
     "name": "stderr",
     "output_type": "stream",
     "text": [
      "100.0% 1089536 / 1088512\n"
     ]
    },
    {
     "name": "stdout",
     "output_type": "stream",
     "text": [
      "Downloading https://sohowww.nascom.nasa.gov/solarsoft/stereo/gen/data/spice/epm/ahead/ahead_2021_343_25.epm.bsp\n"
     ]
    },
    {
     "name": "stderr",
     "output_type": "stream",
     "text": [
      "100.0% 1089536 / 1088512\n"
     ]
    },
    {
     "name": "stdout",
     "output_type": "stream",
     "text": [
      "Downloading https://sohowww.nascom.nasa.gov/solarsoft/stereo/gen/data/spice/epm/ahead/ahead_2021_343_26.epm.bsp\n"
     ]
    },
    {
     "name": "stderr",
     "output_type": "stream",
     "text": [
      "100.0% 1089536 / 1088512\n"
     ]
    },
    {
     "name": "stdout",
     "output_type": "stream",
     "text": [
      "Downloading https://sohowww.nascom.nasa.gov/solarsoft/stereo/gen/data/spice/epm/ahead/ahead_2021_343_27.epm.bsp\n"
     ]
    },
    {
     "name": "stderr",
     "output_type": "stream",
     "text": [
      "100.0% 1089536 / 1088512\n"
     ]
    },
    {
     "name": "stdout",
     "output_type": "stream",
     "text": [
      "Downloading https://sohowww.nascom.nasa.gov/solarsoft/stereo/gen/data/spice/epm/ahead/ahead_2021_343_28.epm.bsp\n"
     ]
    },
    {
     "name": "stderr",
     "output_type": "stream",
     "text": [
      "100.0% 1089536 / 1088512\n"
     ]
    },
    {
     "name": "stdout",
     "output_type": "stream",
     "text": [
      "Downloading https://sohowww.nascom.nasa.gov/solarsoft/stereo/gen/data/spice/epm/ahead/ahead_2021_343_29.epm.bsp\n"
     ]
    },
    {
     "name": "stderr",
     "output_type": "stream",
     "text": [
      "100.0% 1089536 / 1088512\n"
     ]
    },
    {
     "name": "stdout",
     "output_type": "stream",
     "text": [
      "Downloading https://sohowww.nascom.nasa.gov/solarsoft/stereo/gen/data/spice/epm/ahead/ahead_2021_343_30.epm.bsp\n"
     ]
    },
    {
     "name": "stderr",
     "output_type": "stream",
     "text": [
      "100.0% 1089536 / 1088512\n"
     ]
    },
    {
     "name": "stdout",
     "output_type": "stream",
     "text": [
      "Downloading https://sohowww.nascom.nasa.gov/solarsoft/stereo/gen/data/spice/epm/ahead/ahead_2021_343_31.epm.bsp\n"
     ]
    },
    {
     "name": "stderr",
     "output_type": "stream",
     "text": [
      "100.0% 1089536 / 1088512\n"
     ]
    },
    {
     "name": "stdout",
     "output_type": "stream",
     "text": [
      "Downloading https://sohowww.nascom.nasa.gov/solarsoft/stereo/gen/data/spice/epm/ahead/ahead_2021_343_32.epm.bsp\n"
     ]
    },
    {
     "name": "stderr",
     "output_type": "stream",
     "text": [
      "100.0% 1089536 / 1088512\n"
     ]
    },
    {
     "name": "stdout",
     "output_type": "stream",
     "text": [
      "Downloading https://sohowww.nascom.nasa.gov/solarsoft/stereo/gen/data/spice/epm/ahead/ahead_2021_343_33.epm.bsp\n"
     ]
    },
    {
     "name": "stderr",
     "output_type": "stream",
     "text": [
      "100.0% 1089536 / 1088512\n"
     ]
    },
    {
     "name": "stdout",
     "output_type": "stream",
     "text": [
      "Downloading https://sohowww.nascom.nasa.gov/solarsoft/stereo/gen/data/spice/epm/ahead/ahead_2021_343_34.epm.bsp\n"
     ]
    },
    {
     "name": "stderr",
     "output_type": "stream",
     "text": [
      "100.0% 1089536 / 1088512\n"
     ]
    },
    {
     "name": "stdout",
     "output_type": "stream",
     "text": [
      "Downloading https://sohowww.nascom.nasa.gov/solarsoft/stereo/gen/data/spice/epm/ahead/ahead_2021_343_35.epm.bsp\n"
     ]
    },
    {
     "name": "stderr",
     "output_type": "stream",
     "text": [
      "100.0% 1089536 / 1088512\n"
     ]
    },
    {
     "name": "stdout",
     "output_type": "stream",
     "text": [
      "Downloading https://sohowww.nascom.nasa.gov/solarsoft/stereo/gen/data/spice/epm/ahead/ahead_2021_343_36.epm.bsp\n"
     ]
    },
    {
     "name": "stderr",
     "output_type": "stream",
     "text": [
      "100.0% 1089536 / 1088512\n"
     ]
    },
    {
     "name": "stdout",
     "output_type": "stream",
     "text": [
      "Downloading https://sohowww.nascom.nasa.gov/solarsoft/stereo/gen/data/spice/epm/ahead/ahead_2021_343_37.epm.bsp\n"
     ]
    },
    {
     "name": "stderr",
     "output_type": "stream",
     "text": [
      "100.0% 1089536 / 1088512\n"
     ]
    },
    {
     "name": "stdout",
     "output_type": "stream",
     "text": [
      "Downloading https://sohowww.nascom.nasa.gov/solarsoft/stereo/gen/data/spice/epm/ahead/ahead_2021_343_38.epm.bsp\n"
     ]
    },
    {
     "name": "stderr",
     "output_type": "stream",
     "text": [
      "100.0% 1089536 / 1088512\n"
     ]
    },
    {
     "name": "stdout",
     "output_type": "stream",
     "text": [
      "Downloading https://sohowww.nascom.nasa.gov/solarsoft/stereo/gen/data/spice/epm/ahead/ahead_2021_343_39.epm.bsp\n"
     ]
    },
    {
     "name": "stderr",
     "output_type": "stream",
     "text": [
      "100.0% 1089536 / 1088512\n"
     ]
    },
    {
     "name": "stdout",
     "output_type": "stream",
     "text": [
      "Downloading https://sohowww.nascom.nasa.gov/solarsoft/stereo/gen/data/spice/epm/ahead/ahead_2021_343_40.epm.bsp\n"
     ]
    },
    {
     "name": "stderr",
     "output_type": "stream",
     "text": [
      "100.0% 1089536 / 1088512\n"
     ]
    },
    {
     "name": "stdout",
     "output_type": "stream",
     "text": [
      "Downloading https://sohowww.nascom.nasa.gov/solarsoft/stereo/gen/data/spice/epm/ahead/ahead_2021_343_41.epm.bsp\n"
     ]
    },
    {
     "name": "stderr",
     "output_type": "stream",
     "text": [
      "100.0% 1089536 / 1088512\n"
     ]
    },
    {
     "name": "stdout",
     "output_type": "stream",
     "text": [
      "Downloading https://sohowww.nascom.nasa.gov/solarsoft/stereo/gen/data/spice/epm/ahead/ahead_2021_343_42.epm.bsp\n"
     ]
    },
    {
     "name": "stderr",
     "output_type": "stream",
     "text": [
      "100.0% 1089536 / 1088512\n"
     ]
    },
    {
     "name": "stdout",
     "output_type": "stream",
     "text": [
      "Downloading https://sohowww.nascom.nasa.gov/solarsoft/stereo/gen/data/spice/epm/ahead/ahead_2021_343_43.epm.bsp\n"
     ]
    },
    {
     "name": "stderr",
     "output_type": "stream",
     "text": [
      "100.0% 1089536 / 1088512\n"
     ]
    },
    {
     "name": "stdout",
     "output_type": "stream",
     "text": [
      "Downloading https://sohowww.nascom.nasa.gov/solarsoft/stereo/gen/data/spice/epm/ahead/ahead_2021_343_44.epm.bsp\n"
     ]
    },
    {
     "name": "stderr",
     "output_type": "stream",
     "text": [
      "100.0% 1089536 / 1088512\n"
     ]
    },
    {
     "name": "stdout",
     "output_type": "stream",
     "text": [
      "Downloading https://sohowww.nascom.nasa.gov/solarsoft/stereo/gen/data/spice/epm/ahead/ahead_2021_343_45.epm.bsp\n"
     ]
    },
    {
     "name": "stderr",
     "output_type": "stream",
     "text": [
      "100.0% 1089536 / 1088512\n"
     ]
    },
    {
     "name": "stdout",
     "output_type": "stream",
     "text": [
      "Downloading https://sohowww.nascom.nasa.gov/solarsoft/stereo/gen/data/spice/epm/ahead/ahead_2021_343_46.epm.bsp\n"
     ]
    },
    {
     "name": "stderr",
     "output_type": "stream",
     "text": [
      "100.0% 1089536 / 1088512\n"
     ]
    },
    {
     "name": "stdout",
     "output_type": "stream",
     "text": [
      "Downloading https://sohowww.nascom.nasa.gov/solarsoft/stereo/gen/data/spice/epm/ahead/ahead_2021_343_47.epm.bsp\n"
     ]
    },
    {
     "name": "stderr",
     "output_type": "stream",
     "text": [
      "100.0% 1089536 / 1088512\n"
     ]
    },
    {
     "name": "stdout",
     "output_type": "stream",
     "text": [
      "Downloading https://sohowww.nascom.nasa.gov/solarsoft/stereo/gen/data/spice/epm/ahead/ahead_2021_343_48.epm.bsp\n"
     ]
    },
    {
     "name": "stderr",
     "output_type": "stream",
     "text": [
      "100.0% 1089536 / 1088512\n"
     ]
    },
    {
     "name": "stdout",
     "output_type": "stream",
     "text": [
      "Downloading https://sohowww.nascom.nasa.gov/solarsoft/stereo/gen/data/spice/epm/ahead/ahead_2021_343_49.epm.bsp\n"
     ]
    },
    {
     "name": "stderr",
     "output_type": "stream",
     "text": [
      "100.0% 1089536 / 1088512\n"
     ]
    },
    {
     "name": "stdout",
     "output_type": "stream",
     "text": [
      "Downloading https://sohowww.nascom.nasa.gov/solarsoft/stereo/gen/data/spice/epm/ahead/ahead_2021_343_50.epm.bsp\n"
     ]
    },
    {
     "name": "stderr",
     "output_type": "stream",
     "text": [
      "100.0% 1089536 / 1088512\n"
     ]
    },
    {
     "name": "stdout",
     "output_type": "stream",
     "text": [
      "Downloading https://sohowww.nascom.nasa.gov/solarsoft/stereo/gen/data/spice/epm/ahead/ahead_2021_343_51.epm.bsp\n"
     ]
    },
    {
     "name": "stderr",
     "output_type": "stream",
     "text": [
      "100.0% 1089536 / 1088512\n"
     ]
    },
    {
     "name": "stdout",
     "output_type": "stream",
     "text": [
      "Downloading https://sohowww.nascom.nasa.gov/solarsoft/stereo/gen/data/spice/epm/ahead/ahead_2021_343_52.epm.bsp\n"
     ]
    },
    {
     "name": "stderr",
     "output_type": "stream",
     "text": [
      "100.0% 1089536 / 1088512\n"
     ]
    },
    {
     "name": "stdout",
     "output_type": "stream",
     "text": [
      "Downloading https://sohowww.nascom.nasa.gov/solarsoft/stereo/gen/data/spice/epm/ahead/ahead_2021_343_53.epm.bsp\n"
     ]
    },
    {
     "name": "stderr",
     "output_type": "stream",
     "text": [
      "100.0% 1089536 / 1088512\n"
     ]
    },
    {
     "name": "stdout",
     "output_type": "stream",
     "text": [
      "Downloading https://sohowww.nascom.nasa.gov/solarsoft/stereo/gen/data/spice/epm/ahead/ahead_2021_343_54.epm.bsp\n"
     ]
    },
    {
     "name": "stderr",
     "output_type": "stream",
     "text": [
      "100.0% 1089536 / 1088512\n"
     ]
    },
    {
     "name": "stdout",
     "output_type": "stream",
     "text": [
      "Downloading https://sohowww.nascom.nasa.gov/solarsoft/stereo/gen/data/spice/epm/ahead/ahead_2021_343_55.epm.bsp\n"
     ]
    },
    {
     "name": "stderr",
     "output_type": "stream",
     "text": [
      "100.0% 1089536 / 1088512\n"
     ]
    },
    {
     "name": "stdout",
     "output_type": "stream",
     "text": [
      "Downloading https://sohowww.nascom.nasa.gov/solarsoft/stereo/gen/data/spice/epm/ahead/ahead_2021_343_56.epm.bsp\n"
     ]
    },
    {
     "name": "stderr",
     "output_type": "stream",
     "text": [
      "100.0% 1089536 / 1088512\n"
     ]
    },
    {
     "name": "stdout",
     "output_type": "stream",
     "text": [
      "Downloading https://sohowww.nascom.nasa.gov/solarsoft/stereo/gen/data/spice/epm/ahead/ahead_2021_343_57.epm.bsp\n"
     ]
    },
    {
     "name": "stderr",
     "output_type": "stream",
     "text": [
      "100.0% 1089536 / 1088512\n"
     ]
    },
    {
     "name": "stdout",
     "output_type": "stream",
     "text": [
      "Downloading https://sohowww.nascom.nasa.gov/solarsoft/stereo/gen/data/spice/epm/ahead/ahead_2021_343_58.epm.bsp\n"
     ]
    },
    {
     "name": "stderr",
     "output_type": "stream",
     "text": [
      "100.0% 1089536 / 1088512\n"
     ]
    },
    {
     "name": "stdout",
     "output_type": "stream",
     "text": [
      "Downloading https://sohowww.nascom.nasa.gov/solarsoft/stereo/gen/data/spice/epm/ahead/ahead_2021_343_59.epm.bsp\n"
     ]
    },
    {
     "name": "stderr",
     "output_type": "stream",
     "text": [
      "100.0% 1089536 / 1088512\n"
     ]
    },
    {
     "name": "stdout",
     "output_type": "stream",
     "text": [
      "Downloading https://sohowww.nascom.nasa.gov/solarsoft/stereo/gen/data/spice/epm/ahead/ahead_2021_343_60.epm.bsp\n"
     ]
    },
    {
     "name": "stderr",
     "output_type": "stream",
     "text": [
      "100.0% 1089536 / 1088512\n"
     ]
    },
    {
     "name": "stdout",
     "output_type": "stream",
     "text": [
      "Downloading https://sohowww.nascom.nasa.gov/solarsoft/stereo/gen/data/spice/epm/ahead/ahead_2021_343_61.epm.bsp\n"
     ]
    },
    {
     "name": "stderr",
     "output_type": "stream",
     "text": [
      "100.0% 1089536 / 1088512\n"
     ]
    },
    {
     "name": "stdout",
     "output_type": "stream",
     "text": [
      "Downloading https://sohowww.nascom.nasa.gov/solarsoft/stereo/gen/data/spice/epm/ahead/ahead_2021_343_62.epm.bsp\n"
     ]
    },
    {
     "name": "stderr",
     "output_type": "stream",
     "text": [
      "100.0% 1089536 / 1088512\n"
     ]
    },
    {
     "name": "stdout",
     "output_type": "stream",
     "text": [
      "Downloading https://sohowww.nascom.nasa.gov/solarsoft/stereo/gen/data/spice/epm/ahead/ahead_2021_343_63.epm.bsp\n"
     ]
    },
    {
     "name": "stderr",
     "output_type": "stream",
     "text": [
      "100.0% 1089536 / 1088512\n"
     ]
    },
    {
     "name": "stdout",
     "output_type": "stream",
     "text": [
      "Downloading https://sohowww.nascom.nasa.gov/solarsoft/stereo/gen/data/spice/epm/ahead/ahead_2021_343_64.epm.bsp\n"
     ]
    },
    {
     "name": "stderr",
     "output_type": "stream",
     "text": [
      "100.0% 1089536 / 1088512\n"
     ]
    },
    {
     "name": "stdout",
     "output_type": "stream",
     "text": [
      "Downloading https://sohowww.nascom.nasa.gov/solarsoft/stereo/gen/data/spice/epm/ahead/ahead_2021_343_65.epm.bsp\n"
     ]
    },
    {
     "name": "stderr",
     "output_type": "stream",
     "text": [
      "100.0% 1089536 / 1088512\n"
     ]
    },
    {
     "name": "stdout",
     "output_type": "stream",
     "text": [
      "Downloading https://sohowww.nascom.nasa.gov/solarsoft/stereo/gen/data/spice/epm/ahead/ahead_2021_343_66.epm.bsp\n"
     ]
    },
    {
     "name": "stderr",
     "output_type": "stream",
     "text": [
      "100.0% 1089536 / 1088512\n"
     ]
    },
    {
     "name": "stdout",
     "output_type": "stream",
     "text": [
      "Downloading https://sohowww.nascom.nasa.gov/solarsoft/stereo/gen/data/spice/epm/ahead/ahead_2021_343_67.epm.bsp\n"
     ]
    },
    {
     "name": "stderr",
     "output_type": "stream",
     "text": [
      "100.0% 1089536 / 1088512\n"
     ]
    },
    {
     "name": "stdout",
     "output_type": "stream",
     "text": [
      "Downloading https://sohowww.nascom.nasa.gov/solarsoft/stereo/gen/data/spice/epm/ahead/ahead_2021_343_68.epm.bsp\n"
     ]
    },
    {
     "name": "stderr",
     "output_type": "stream",
     "text": [
      "100.0% 1089536 / 1088512\n"
     ]
    },
    {
     "name": "stdout",
     "output_type": "stream",
     "text": [
      "Downloading https://sohowww.nascom.nasa.gov/solarsoft/stereo/gen/data/spice/epm/ahead/ahead_2021_343_69.epm.bsp\n"
     ]
    },
    {
     "name": "stderr",
     "output_type": "stream",
     "text": [
      "100.0% 1089536 / 1088512\n"
     ]
    },
    {
     "name": "stdout",
     "output_type": "stream",
     "text": [
      "Downloading https://sohowww.nascom.nasa.gov/solarsoft/stereo/gen/data/spice/epm/ahead/ahead_2021_343_70.epm.bsp\n"
     ]
    },
    {
     "name": "stderr",
     "output_type": "stream",
     "text": [
      "100.0% 1089536 / 1088512\n"
     ]
    },
    {
     "name": "stdout",
     "output_type": "stream",
     "text": [
      "Downloading https://sohowww.nascom.nasa.gov/solarsoft/stereo/gen/data/spice/epm/ahead/ahead_2021_343_71.epm.bsp\n"
     ]
    },
    {
     "name": "stderr",
     "output_type": "stream",
     "text": [
      "100.0% 1089536 / 1088512\n"
     ]
    },
    {
     "name": "stdout",
     "output_type": "stream",
     "text": [
      "Downloading https://sohowww.nascom.nasa.gov/solarsoft/stereo/gen/data/spice/epm/ahead/ahead_2021_357_01.epm.bsp\n"
     ]
    },
    {
     "name": "stderr",
     "output_type": "stream",
     "text": [
      "100.0% 1089536 / 1088512\n"
     ]
    },
    {
     "name": "stdout",
     "output_type": "stream",
     "text": [
      "Downloading https://sohowww.nascom.nasa.gov/solarsoft/stereo/gen/data/spice/epm/ahead/ahead_2021_357_02.epm.bsp\n"
     ]
    },
    {
     "name": "stderr",
     "output_type": "stream",
     "text": [
      "100.0% 1089536 / 1088512\n"
     ]
    },
    {
     "name": "stdout",
     "output_type": "stream",
     "text": [
      "Downloading https://sohowww.nascom.nasa.gov/solarsoft/stereo/gen/data/spice/epm/ahead/ahead_2021_357_03.epm.bsp\n"
     ]
    },
    {
     "name": "stderr",
     "output_type": "stream",
     "text": [
      "100.0% 1089536 / 1088512\n"
     ]
    },
    {
     "name": "stdout",
     "output_type": "stream",
     "text": [
      "Downloading https://sohowww.nascom.nasa.gov/solarsoft/stereo/gen/data/spice/epm/ahead/ahead_2021_357_04.epm.bsp\n"
     ]
    },
    {
     "name": "stderr",
     "output_type": "stream",
     "text": [
      "100.0% 1089536 / 1088512\n"
     ]
    },
    {
     "name": "stdout",
     "output_type": "stream",
     "text": [
      "Downloading https://sohowww.nascom.nasa.gov/solarsoft/stereo/gen/data/spice/epm/ahead/ahead_2021_357_05.epm.bsp\n"
     ]
    },
    {
     "name": "stderr",
     "output_type": "stream",
     "text": [
      "100.0% 1089536 / 1088512\n"
     ]
    },
    {
     "name": "stdout",
     "output_type": "stream",
     "text": [
      "Downloading https://sohowww.nascom.nasa.gov/solarsoft/stereo/gen/data/spice/epm/ahead/ahead_2021_357_06.epm.bsp\n"
     ]
    },
    {
     "name": "stderr",
     "output_type": "stream",
     "text": [
      "100.0% 1089536 / 1088512\n"
     ]
    },
    {
     "name": "stdout",
     "output_type": "stream",
     "text": [
      "Downloading https://sohowww.nascom.nasa.gov/solarsoft/stereo/gen/data/spice/epm/ahead/ahead_2021_357_07.epm.bsp\n"
     ]
    },
    {
     "name": "stderr",
     "output_type": "stream",
     "text": [
      "100.0% 1089536 / 1088512\n"
     ]
    },
    {
     "name": "stdout",
     "output_type": "stream",
     "text": [
      "Downloading https://sohowww.nascom.nasa.gov/solarsoft/stereo/gen/data/spice/epm/ahead/ahead_2021_357_08.epm.bsp\n"
     ]
    },
    {
     "name": "stderr",
     "output_type": "stream",
     "text": [
      "100.0% 1089536 / 1088512\n"
     ]
    },
    {
     "name": "stdout",
     "output_type": "stream",
     "text": [
      "Downloading https://sohowww.nascom.nasa.gov/solarsoft/stereo/gen/data/spice/epm/ahead/ahead_2021_357_09.epm.bsp\n"
     ]
    },
    {
     "name": "stderr",
     "output_type": "stream",
     "text": [
      "100.0% 1089536 / 1088512\n"
     ]
    },
    {
     "name": "stdout",
     "output_type": "stream",
     "text": [
      "Downloading https://sohowww.nascom.nasa.gov/solarsoft/stereo/gen/data/spice/epm/ahead/ahead_2021_357_10.epm.bsp\n"
     ]
    },
    {
     "name": "stderr",
     "output_type": "stream",
     "text": [
      "100.0% 1089536 / 1088512\n"
     ]
    },
    {
     "name": "stdout",
     "output_type": "stream",
     "text": [
      "Downloading https://sohowww.nascom.nasa.gov/solarsoft/stereo/gen/data/spice/epm/ahead/ahead_2021_357_11.epm.bsp\n"
     ]
    },
    {
     "name": "stderr",
     "output_type": "stream",
     "text": [
      "100.0% 1089536 / 1088512\n"
     ]
    },
    {
     "name": "stdout",
     "output_type": "stream",
     "text": [
      "Downloading https://sohowww.nascom.nasa.gov/solarsoft/stereo/gen/data/spice/epm/ahead/ahead_2021_357_12.epm.bsp\n"
     ]
    },
    {
     "name": "stderr",
     "output_type": "stream",
     "text": [
      "100.0% 1089536 / 1088512\n"
     ]
    },
    {
     "name": "stdout",
     "output_type": "stream",
     "text": [
      "Downloading https://sohowww.nascom.nasa.gov/solarsoft/stereo/gen/data/spice/epm/ahead/ahead_2021_357_13.epm.bsp\n"
     ]
    },
    {
     "name": "stderr",
     "output_type": "stream",
     "text": [
      "100.0% 1089536 / 1088512\n"
     ]
    },
    {
     "name": "stdout",
     "output_type": "stream",
     "text": [
      "Downloading https://sohowww.nascom.nasa.gov/solarsoft/stereo/gen/data/spice/epm/ahead/ahead_2021_357_14.epm.bsp\n"
     ]
    },
    {
     "name": "stderr",
     "output_type": "stream",
     "text": [
      "100.0% 1089536 / 1088512\n"
     ]
    },
    {
     "name": "stdout",
     "output_type": "stream",
     "text": [
      "Downloading https://sohowww.nascom.nasa.gov/solarsoft/stereo/gen/data/spice/epm/ahead/ahead_2021_357_15.epm.bsp\n"
     ]
    },
    {
     "name": "stderr",
     "output_type": "stream",
     "text": [
      "100.0% 1089536 / 1088512\n"
     ]
    },
    {
     "name": "stdout",
     "output_type": "stream",
     "text": [
      "Downloading https://sohowww.nascom.nasa.gov/solarsoft/stereo/gen/data/spice/epm/ahead/ahead_2021_357_16.epm.bsp\n"
     ]
    },
    {
     "name": "stderr",
     "output_type": "stream",
     "text": [
      "100.0% 1089536 / 1088512\n"
     ]
    },
    {
     "name": "stdout",
     "output_type": "stream",
     "text": [
      "Downloading https://sohowww.nascom.nasa.gov/solarsoft/stereo/gen/data/spice/epm/ahead/ahead_2021_357_17.epm.bsp\n"
     ]
    },
    {
     "name": "stderr",
     "output_type": "stream",
     "text": [
      "100.0% 1089536 / 1088512\n"
     ]
    },
    {
     "name": "stdout",
     "output_type": "stream",
     "text": [
      "Downloading https://sohowww.nascom.nasa.gov/solarsoft/stereo/gen/data/spice/epm/ahead/ahead_2021_357_18.epm.bsp\n"
     ]
    },
    {
     "name": "stderr",
     "output_type": "stream",
     "text": [
      "100.0% 1089536 / 1088512\n"
     ]
    },
    {
     "name": "stdout",
     "output_type": "stream",
     "text": [
      "Downloading https://sohowww.nascom.nasa.gov/solarsoft/stereo/gen/data/spice/epm/ahead/ahead_2021_357_19.epm.bsp\n"
     ]
    },
    {
     "name": "stderr",
     "output_type": "stream",
     "text": [
      "100.0% 1089536 / 1088512\n"
     ]
    },
    {
     "name": "stdout",
     "output_type": "stream",
     "text": [
      "Downloading https://sohowww.nascom.nasa.gov/solarsoft/stereo/gen/data/spice/epm/ahead/ahead_2021_357_20.epm.bsp\n"
     ]
    },
    {
     "name": "stderr",
     "output_type": "stream",
     "text": [
      "100.0% 1089536 / 1088512\n"
     ]
    },
    {
     "name": "stdout",
     "output_type": "stream",
     "text": [
      "Downloading https://sohowww.nascom.nasa.gov/solarsoft/stereo/gen/data/spice/epm/ahead/ahead_2021_357_21.epm.bsp\n"
     ]
    },
    {
     "name": "stderr",
     "output_type": "stream",
     "text": [
      "100.0% 1089536 / 1088512\n"
     ]
    },
    {
     "name": "stdout",
     "output_type": "stream",
     "text": [
      "Downloading https://sohowww.nascom.nasa.gov/solarsoft/stereo/gen/data/spice/epm/ahead/ahead_2021_357_22.epm.bsp\n"
     ]
    },
    {
     "name": "stderr",
     "output_type": "stream",
     "text": [
      "100.0% 1089536 / 1088512\n"
     ]
    },
    {
     "name": "stdout",
     "output_type": "stream",
     "text": [
      "Downloading https://sohowww.nascom.nasa.gov/solarsoft/stereo/gen/data/spice/epm/ahead/ahead_2021_357_23.epm.bsp\n"
     ]
    },
    {
     "name": "stderr",
     "output_type": "stream",
     "text": [
      "100.0% 1089536 / 1088512\n"
     ]
    },
    {
     "name": "stdout",
     "output_type": "stream",
     "text": [
      "Downloading https://sohowww.nascom.nasa.gov/solarsoft/stereo/gen/data/spice/epm/ahead/ahead_2021_357_24.epm.bsp\n"
     ]
    },
    {
     "name": "stderr",
     "output_type": "stream",
     "text": [
      "100.0% 1089536 / 1088512\n"
     ]
    },
    {
     "name": "stdout",
     "output_type": "stream",
     "text": [
      "Downloading https://sohowww.nascom.nasa.gov/solarsoft/stereo/gen/data/spice/epm/ahead/ahead_2021_357_25.epm.bsp\n"
     ]
    },
    {
     "name": "stderr",
     "output_type": "stream",
     "text": [
      "100.0% 1089536 / 1088512\n"
     ]
    },
    {
     "name": "stdout",
     "output_type": "stream",
     "text": [
      "Downloading https://sohowww.nascom.nasa.gov/solarsoft/stereo/gen/data/spice/epm/ahead/ahead_2021_357_26.epm.bsp\n"
     ]
    },
    {
     "name": "stderr",
     "output_type": "stream",
     "text": [
      "100.0% 1089536 / 1088512\n"
     ]
    },
    {
     "name": "stdout",
     "output_type": "stream",
     "text": [
      "Downloading https://sohowww.nascom.nasa.gov/solarsoft/stereo/gen/data/spice/epm/ahead/ahead_2021_357_27.epm.bsp\n"
     ]
    },
    {
     "name": "stderr",
     "output_type": "stream",
     "text": [
      "100.0% 1089536 / 1088512\n"
     ]
    },
    {
     "name": "stdout",
     "output_type": "stream",
     "text": [
      "Downloading https://sohowww.nascom.nasa.gov/solarsoft/stereo/gen/data/spice/epm/ahead/ahead_2021_357_28.epm.bsp\n"
     ]
    },
    {
     "name": "stderr",
     "output_type": "stream",
     "text": [
      "100.0% 1089536 / 1088512\n"
     ]
    },
    {
     "name": "stdout",
     "output_type": "stream",
     "text": [
      "Downloading https://sohowww.nascom.nasa.gov/solarsoft/stereo/gen/data/spice/epm/ahead/ahead_2021_357_29.epm.bsp\n"
     ]
    },
    {
     "name": "stderr",
     "output_type": "stream",
     "text": [
      "100.0% 1089536 / 1088512\n"
     ]
    },
    {
     "name": "stdout",
     "output_type": "stream",
     "text": [
      "Downloading https://sohowww.nascom.nasa.gov/solarsoft/stereo/gen/data/spice/epm/ahead/ahead_2021_357_30.epm.bsp\n"
     ]
    },
    {
     "name": "stderr",
     "output_type": "stream",
     "text": [
      "100.0% 1089536 / 1088512\n"
     ]
    },
    {
     "name": "stdout",
     "output_type": "stream",
     "text": [
      "Downloading https://sohowww.nascom.nasa.gov/solarsoft/stereo/gen/data/spice/epm/ahead/ahead_2021_357_31.epm.bsp\n"
     ]
    },
    {
     "name": "stderr",
     "output_type": "stream",
     "text": [
      "100.0% 1089536 / 1088512\n"
     ]
    },
    {
     "name": "stdout",
     "output_type": "stream",
     "text": [
      "Downloading https://sohowww.nascom.nasa.gov/solarsoft/stereo/gen/data/spice/epm/ahead/ahead_2021_357_32.epm.bsp\n"
     ]
    },
    {
     "name": "stderr",
     "output_type": "stream",
     "text": [
      "100.0% 1089536 / 1088512\n"
     ]
    },
    {
     "name": "stdout",
     "output_type": "stream",
     "text": [
      "Downloading https://sohowww.nascom.nasa.gov/solarsoft/stereo/gen/data/spice/epm/ahead/ahead_2021_357_33.epm.bsp\n"
     ]
    },
    {
     "name": "stderr",
     "output_type": "stream",
     "text": [
      "100.0% 1089536 / 1088512\n"
     ]
    },
    {
     "name": "stdout",
     "output_type": "stream",
     "text": [
      "Downloading https://sohowww.nascom.nasa.gov/solarsoft/stereo/gen/data/spice/epm/ahead/ahead_2021_357_34.epm.bsp\n"
     ]
    },
    {
     "name": "stderr",
     "output_type": "stream",
     "text": [
      "100.0% 1089536 / 1088512\n"
     ]
    },
    {
     "name": "stdout",
     "output_type": "stream",
     "text": [
      "Downloading https://sohowww.nascom.nasa.gov/solarsoft/stereo/gen/data/spice/epm/ahead/ahead_2021_357_35.epm.bsp\n"
     ]
    },
    {
     "name": "stderr",
     "output_type": "stream",
     "text": [
      "100.0% 1089536 / 1088512\n"
     ]
    },
    {
     "name": "stdout",
     "output_type": "stream",
     "text": [
      "Downloading https://sohowww.nascom.nasa.gov/solarsoft/stereo/gen/data/spice/epm/ahead/ahead_2021_357_36.epm.bsp\n"
     ]
    },
    {
     "name": "stderr",
     "output_type": "stream",
     "text": [
      "100.0% 1089536 / 1088512\n"
     ]
    },
    {
     "name": "stdout",
     "output_type": "stream",
     "text": [
      "Downloading https://sohowww.nascom.nasa.gov/solarsoft/stereo/gen/data/spice/epm/ahead/ahead_2021_357_37.epm.bsp\n"
     ]
    },
    {
     "name": "stderr",
     "output_type": "stream",
     "text": [
      "100.0% 1089536 / 1088512\n"
     ]
    },
    {
     "name": "stdout",
     "output_type": "stream",
     "text": [
      "Downloading https://sohowww.nascom.nasa.gov/solarsoft/stereo/gen/data/spice/epm/ahead/ahead_2021_357_38.epm.bsp\n"
     ]
    },
    {
     "name": "stderr",
     "output_type": "stream",
     "text": [
      "100.0% 1089536 / 1088512\n"
     ]
    },
    {
     "name": "stdout",
     "output_type": "stream",
     "text": [
      "Downloading https://sohowww.nascom.nasa.gov/solarsoft/stereo/gen/data/spice/epm/ahead/ahead_2021_357_39.epm.bsp\n"
     ]
    },
    {
     "name": "stderr",
     "output_type": "stream",
     "text": [
      "100.0% 1089536 / 1088512\n"
     ]
    },
    {
     "name": "stdout",
     "output_type": "stream",
     "text": [
      "Downloading https://sohowww.nascom.nasa.gov/solarsoft/stereo/gen/data/spice/epm/ahead/ahead_2021_357_40.epm.bsp\n"
     ]
    },
    {
     "name": "stderr",
     "output_type": "stream",
     "text": [
      "100.0% 1089536 / 1088512\n"
     ]
    },
    {
     "name": "stdout",
     "output_type": "stream",
     "text": [
      "Downloading https://sohowww.nascom.nasa.gov/solarsoft/stereo/gen/data/spice/epm/ahead/ahead_2021_357_41.epm.bsp\n"
     ]
    },
    {
     "name": "stderr",
     "output_type": "stream",
     "text": [
      "100.0% 1089536 / 1088512\n"
     ]
    },
    {
     "name": "stdout",
     "output_type": "stream",
     "text": [
      "Downloading https://sohowww.nascom.nasa.gov/solarsoft/stereo/gen/data/spice/epm/ahead/ahead_2021_357_42.epm.bsp\n"
     ]
    },
    {
     "name": "stderr",
     "output_type": "stream",
     "text": [
      "100.0% 1089536 / 1088512\n"
     ]
    },
    {
     "name": "stdout",
     "output_type": "stream",
     "text": [
      "Downloading https://sohowww.nascom.nasa.gov/solarsoft/stereo/gen/data/spice/epm/ahead/ahead_2021_357_43.epm.bsp\n"
     ]
    },
    {
     "name": "stderr",
     "output_type": "stream",
     "text": [
      "100.0% 1089536 / 1088512\n"
     ]
    },
    {
     "name": "stdout",
     "output_type": "stream",
     "text": [
      "Downloading https://sohowww.nascom.nasa.gov/solarsoft/stereo/gen/data/spice/epm/ahead/ahead_2021_357_44.epm.bsp\n"
     ]
    },
    {
     "name": "stderr",
     "output_type": "stream",
     "text": [
      "100.0% 1089536 / 1088512\n"
     ]
    },
    {
     "name": "stdout",
     "output_type": "stream",
     "text": [
      "Downloading https://sohowww.nascom.nasa.gov/solarsoft/stereo/gen/data/spice/epm/ahead/ahead_2021_357_45.epm.bsp\n"
     ]
    },
    {
     "name": "stderr",
     "output_type": "stream",
     "text": [
      "100.0% 1089536 / 1088512\n"
     ]
    },
    {
     "name": "stdout",
     "output_type": "stream",
     "text": [
      "Downloading https://sohowww.nascom.nasa.gov/solarsoft/stereo/gen/data/spice/epm/ahead/ahead_2022_004_01.epm.bsp\n"
     ]
    },
    {
     "name": "stderr",
     "output_type": "stream",
     "text": [
      "100.0% 983040 / 975872\n"
     ]
    },
    {
     "name": "stdout",
     "output_type": "stream",
     "text": [
      "Downloading https://sohowww.nascom.nasa.gov/solarsoft/stereo/gen/data/spice/epm/ahead/ahead_2022_004_02.epm.bsp\n"
     ]
    },
    {
     "name": "stderr",
     "output_type": "stream",
     "text": [
      "100.0% 983040 / 975872\n"
     ]
    },
    {
     "name": "stdout",
     "output_type": "stream",
     "text": [
      "Downloading https://sohowww.nascom.nasa.gov/solarsoft/stereo/gen/data/spice/epm/ahead/ahead_2022_004_03.epm.bsp\n"
     ]
    },
    {
     "name": "stderr",
     "output_type": "stream",
     "text": [
      "100.0% 983040 / 975872\n"
     ]
    },
    {
     "name": "stdout",
     "output_type": "stream",
     "text": [
      "Downloading https://sohowww.nascom.nasa.gov/solarsoft/stereo/gen/data/spice/epm/ahead/ahead_2022_004_04.epm.bsp\n"
     ]
    },
    {
     "name": "stderr",
     "output_type": "stream",
     "text": [
      "100.0% 983040 / 975872\n"
     ]
    },
    {
     "name": "stdout",
     "output_type": "stream",
     "text": [
      "Downloading https://sohowww.nascom.nasa.gov/solarsoft/stereo/gen/data/spice/epm/ahead/ahead_2022_004_05.epm.bsp\n"
     ]
    },
    {
     "name": "stderr",
     "output_type": "stream",
     "text": [
      "100.0% 983040 / 975872\n"
     ]
    },
    {
     "name": "stdout",
     "output_type": "stream",
     "text": [
      "Downloading https://sohowww.nascom.nasa.gov/solarsoft/stereo/gen/data/spice/epm/ahead/ahead_2022_004_06.epm.bsp\n"
     ]
    },
    {
     "name": "stderr",
     "output_type": "stream",
     "text": [
      "100.0% 983040 / 975872\n"
     ]
    },
    {
     "name": "stdout",
     "output_type": "stream",
     "text": [
      "Downloading https://sohowww.nascom.nasa.gov/solarsoft/stereo/gen/data/spice/epm/ahead/ahead_2022_004_07.epm.bsp\n"
     ]
    },
    {
     "name": "stderr",
     "output_type": "stream",
     "text": [
      "100.0% 983040 / 975872\n"
     ]
    },
    {
     "name": "stdout",
     "output_type": "stream",
     "text": [
      "Downloading https://sohowww.nascom.nasa.gov/solarsoft/stereo/gen/data/spice/epm/ahead/ahead_2022_004_08.epm.bsp\n"
     ]
    },
    {
     "name": "stderr",
     "output_type": "stream",
     "text": [
      "100.0% 983040 / 975872\n"
     ]
    },
    {
     "name": "stdout",
     "output_type": "stream",
     "text": [
      "Downloading https://sohowww.nascom.nasa.gov/solarsoft/stereo/gen/data/spice/epm/ahead/ahead_2022_004_09.epm.bsp\n"
     ]
    },
    {
     "name": "stderr",
     "output_type": "stream",
     "text": [
      "100.0% 983040 / 975872\n"
     ]
    },
    {
     "name": "stdout",
     "output_type": "stream",
     "text": [
      "Downloading https://sohowww.nascom.nasa.gov/solarsoft/stereo/gen/data/spice/epm/ahead/ahead_2022_004_10.epm.bsp\n"
     ]
    },
    {
     "name": "stderr",
     "output_type": "stream",
     "text": [
      "100.0% 983040 / 975872\n"
     ]
    },
    {
     "name": "stdout",
     "output_type": "stream",
     "text": [
      "Downloading https://sohowww.nascom.nasa.gov/solarsoft/stereo/gen/data/spice/epm/ahead/ahead_2022_004_11.epm.bsp\n"
     ]
    },
    {
     "name": "stderr",
     "output_type": "stream",
     "text": [
      "100.0% 983040 / 975872\n"
     ]
    },
    {
     "name": "stdout",
     "output_type": "stream",
     "text": [
      "Downloading https://sohowww.nascom.nasa.gov/solarsoft/stereo/gen/data/spice/epm/ahead/ahead_2022_004_12.epm.bsp\n"
     ]
    },
    {
     "name": "stderr",
     "output_type": "stream",
     "text": [
      "100.0% 983040 / 975872\n"
     ]
    },
    {
     "name": "stdout",
     "output_type": "stream",
     "text": [
      "Downloading https://sohowww.nascom.nasa.gov/solarsoft/stereo/gen/data/spice/epm/ahead/ahead_2022_004_13.epm.bsp\n"
     ]
    },
    {
     "name": "stderr",
     "output_type": "stream",
     "text": [
      "100.0% 983040 / 975872\n"
     ]
    },
    {
     "name": "stdout",
     "output_type": "stream",
     "text": [
      "Downloading https://sohowww.nascom.nasa.gov/solarsoft/stereo/gen/data/spice/epm/ahead/ahead_2022_004_14.epm.bsp\n"
     ]
    },
    {
     "name": "stderr",
     "output_type": "stream",
     "text": [
      "100.0% 983040 / 975872\n"
     ]
    },
    {
     "name": "stdout",
     "output_type": "stream",
     "text": [
      "Downloading https://sohowww.nascom.nasa.gov/solarsoft/stereo/gen/data/spice/epm/ahead/ahead_2022_004_15.epm.bsp\n"
     ]
    },
    {
     "name": "stderr",
     "output_type": "stream",
     "text": [
      "100.0% 983040 / 975872\n"
     ]
    },
    {
     "name": "stdout",
     "output_type": "stream",
     "text": [
      "Downloading https://sohowww.nascom.nasa.gov/solarsoft/stereo/gen/data/spice/epm/ahead/ahead_2022_004_16.epm.bsp\n"
     ]
    },
    {
     "name": "stderr",
     "output_type": "stream",
     "text": [
      "100.0% 983040 / 975872\n"
     ]
    },
    {
     "name": "stdout",
     "output_type": "stream",
     "text": [
      "Downloading https://sohowww.nascom.nasa.gov/solarsoft/stereo/gen/data/spice/epm/ahead/ahead_2022_020_01.epm.bsp\n"
     ]
    },
    {
     "name": "stderr",
     "output_type": "stream",
     "text": [
      "100.0% 1089536 / 1088512\n"
     ]
    },
    {
     "name": "stdout",
     "output_type": "stream",
     "text": [
      "Downloading https://sohowww.nascom.nasa.gov/solarsoft/stereo/gen/data/spice/depm/ahead/ahead_2021_316_02.depm.bsp\n"
     ]
    },
    {
     "name": "stderr",
     "output_type": "stream",
     "text": [
      "100.0% 3719168 / 3714048\n"
     ]
    },
    {
     "name": "stdout",
     "output_type": "stream",
     "text": [
      "Downloading https://sohowww.nascom.nasa.gov/solarsoft/stereo/gen/data/spice/depm/ahead/ahead_2021_316_03.depm.bsp\n"
     ]
    },
    {
     "name": "stderr",
     "output_type": "stream",
     "text": [
      "100.0% 3719168 / 3714048\n"
     ]
    },
    {
     "name": "stdout",
     "output_type": "stream",
     "text": [
      "Downloading https://sohowww.nascom.nasa.gov/solarsoft/stereo/gen/data/spice/depm/ahead/ahead_2021_316_04.depm.bsp\n"
     ]
    },
    {
     "name": "stderr",
     "output_type": "stream",
     "text": [
      "100.0% 3719168 / 3714048\n"
     ]
    },
    {
     "name": "stdout",
     "output_type": "stream",
     "text": [
      "Downloading https://sohowww.nascom.nasa.gov/solarsoft/stereo/gen/data/spice/depm/ahead/ahead_2021_316_05.depm.bsp\n"
     ]
    },
    {
     "name": "stderr",
     "output_type": "stream",
     "text": [
      "100.0% 3719168 / 3714048\n"
     ]
    },
    {
     "name": "stdout",
     "output_type": "stream",
     "text": [
      "Downloading https://sohowww.nascom.nasa.gov/solarsoft/stereo/gen/data/spice/depm/ahead/ahead_2021_316_06.depm.bsp\n"
     ]
    },
    {
     "name": "stderr",
     "output_type": "stream",
     "text": [
      "100.0% 3719168 / 3714048\n"
     ]
    },
    {
     "name": "stdout",
     "output_type": "stream",
     "text": [
      "Downloading https://sohowww.nascom.nasa.gov/solarsoft/stereo/gen/data/spice/depm/ahead/ahead_2021_316_07.depm.bsp\n"
     ]
    },
    {
     "name": "stderr",
     "output_type": "stream",
     "text": [
      "100.0% 3719168 / 3714048\n"
     ]
    },
    {
     "name": "stdout",
     "output_type": "stream",
     "text": [
      "Downloading https://sohowww.nascom.nasa.gov/solarsoft/stereo/gen/data/spice/depm/ahead/ahead_2021_316_08.depm.bsp\n"
     ]
    },
    {
     "name": "stderr",
     "output_type": "stream",
     "text": [
      "100.0% 3719168 / 3714048\n"
     ]
    },
    {
     "name": "stdout",
     "output_type": "stream",
     "text": [
      "Downloading https://sohowww.nascom.nasa.gov/solarsoft/stereo/gen/data/spice/depm/ahead/ahead_2021_316_09.depm.bsp\n"
     ]
    },
    {
     "name": "stderr",
     "output_type": "stream",
     "text": [
      "100.0% 3719168 / 3714048\n"
     ]
    },
    {
     "name": "stdout",
     "output_type": "stream",
     "text": [
      "Downloading https://sohowww.nascom.nasa.gov/solarsoft/stereo/gen/data/spice/depm/ahead/ahead_2021_316_10.depm.bsp\n"
     ]
    },
    {
     "name": "stderr",
     "output_type": "stream",
     "text": [
      "100.0% 3719168 / 3714048\n"
     ]
    },
    {
     "name": "stdout",
     "output_type": "stream",
     "text": [
      "Downloading https://sohowww.nascom.nasa.gov/solarsoft/stereo/gen/data/spice/depm/ahead/ahead_2021_316_11.depm.bsp\n"
     ]
    },
    {
     "name": "stderr",
     "output_type": "stream",
     "text": [
      "100.0% 3719168 / 3714048\n"
     ]
    },
    {
     "name": "stdout",
     "output_type": "stream",
     "text": [
      "Downloading https://sohowww.nascom.nasa.gov/solarsoft/stereo/gen/data/spice/depm/ahead/ahead_2021_316_12.depm.bsp\n"
     ]
    },
    {
     "name": "stderr",
     "output_type": "stream",
     "text": [
      "100.0% 3719168 / 3714048\n"
     ]
    },
    {
     "name": "stdout",
     "output_type": "stream",
     "text": [
      "Downloading https://sohowww.nascom.nasa.gov/solarsoft/stereo/gen/data/spice/depm/ahead/ahead_2021_316_13.depm.bsp\n"
     ]
    },
    {
     "name": "stderr",
     "output_type": "stream",
     "text": [
      "100.0% 3719168 / 3714048\n"
     ]
    },
    {
     "name": "stdout",
     "output_type": "stream",
     "text": [
      "Downloading https://sohowww.nascom.nasa.gov/solarsoft/stereo/gen/data/spice/depm/ahead/ahead_2021_316_14.depm.bsp\n"
     ]
    },
    {
     "name": "stderr",
     "output_type": "stream",
     "text": [
      "100.0% 3719168 / 3714048\n"
     ]
    },
    {
     "name": "stdout",
     "output_type": "stream",
     "text": [
      "Downloading https://sohowww.nascom.nasa.gov/solarsoft/stereo/gen/data/spice/depm/ahead/ahead_2021_316_15.depm.bsp\n"
     ]
    },
    {
     "name": "stderr",
     "output_type": "stream",
     "text": [
      "100.0% 3719168 / 3714048\n"
     ]
    },
    {
     "name": "stdout",
     "output_type": "stream",
     "text": [
      "Downloading https://sohowww.nascom.nasa.gov/solarsoft/stereo/gen/data/spice/depm/ahead/ahead_2021_316_16.depm.bsp\n"
     ]
    },
    {
     "name": "stderr",
     "output_type": "stream",
     "text": [
      "100.0% 3719168 / 3714048\n"
     ]
    },
    {
     "name": "stdout",
     "output_type": "stream",
     "text": [
      "Downloading https://sohowww.nascom.nasa.gov/solarsoft/stereo/gen/data/spice/depm/ahead/ahead_2021_316_17.depm.bsp\n"
     ]
    },
    {
     "name": "stderr",
     "output_type": "stream",
     "text": [
      "100.0% 3719168 / 3714048\n"
     ]
    },
    {
     "name": "stdout",
     "output_type": "stream",
     "text": [
      "Downloading https://sohowww.nascom.nasa.gov/solarsoft/stereo/gen/data/spice/depm/ahead/ahead_2021_316_18.depm.bsp\n"
     ]
    },
    {
     "name": "stderr",
     "output_type": "stream",
     "text": [
      "100.0% 3719168 / 3714048\n"
     ]
    },
    {
     "name": "stdout",
     "output_type": "stream",
     "text": [
      "Downloading https://sohowww.nascom.nasa.gov/solarsoft/stereo/gen/data/spice/depm/ahead/ahead_2021_316_19.depm.bsp\n"
     ]
    },
    {
     "name": "stderr",
     "output_type": "stream",
     "text": [
      "100.0% 3719168 / 3714048\n"
     ]
    },
    {
     "name": "stdout",
     "output_type": "stream",
     "text": [
      "Downloading https://sohowww.nascom.nasa.gov/solarsoft/stereo/gen/data/spice/depm/ahead/ahead_2021_316_20.depm.bsp\n"
     ]
    },
    {
     "name": "stderr",
     "output_type": "stream",
     "text": [
      "100.0% 3719168 / 3714048\n"
     ]
    },
    {
     "name": "stdout",
     "output_type": "stream",
     "text": [
      "Downloading https://sohowww.nascom.nasa.gov/solarsoft/stereo/gen/data/spice/depm/ahead/ahead_2021_316_21.depm.bsp\n"
     ]
    },
    {
     "name": "stderr",
     "output_type": "stream",
     "text": [
      "100.0% 3719168 / 3714048\n"
     ]
    },
    {
     "name": "stdout",
     "output_type": "stream",
     "text": [
      "Downloading https://sohowww.nascom.nasa.gov/solarsoft/stereo/gen/data/spice/depm/ahead/ahead_2021_316_22.depm.bsp\n"
     ]
    },
    {
     "name": "stderr",
     "output_type": "stream",
     "text": [
      "100.0% 3719168 / 3714048\n"
     ]
    },
    {
     "name": "stdout",
     "output_type": "stream",
     "text": [
      "Downloading https://sohowww.nascom.nasa.gov/solarsoft/stereo/gen/data/spice/depm/ahead/ahead_2021_316_23.depm.bsp\n"
     ]
    },
    {
     "name": "stderr",
     "output_type": "stream",
     "text": [
      "100.0% 3719168 / 3714048\n"
     ]
    },
    {
     "name": "stdout",
     "output_type": "stream",
     "text": [
      "Downloading https://sohowww.nascom.nasa.gov/solarsoft/stereo/gen/data/spice/depm/ahead/ahead_2021_316_24.depm.bsp\n"
     ]
    },
    {
     "name": "stderr",
     "output_type": "stream",
     "text": [
      "100.0% 3719168 / 3714048\n"
     ]
    },
    {
     "name": "stdout",
     "output_type": "stream",
     "text": [
      "Downloading https://sohowww.nascom.nasa.gov/solarsoft/stereo/gen/data/spice/depm/ahead/ahead_2021_316_25.depm.bsp\n"
     ]
    },
    {
     "name": "stderr",
     "output_type": "stream",
     "text": [
      "100.0% 3719168 / 3714048\n"
     ]
    },
    {
     "name": "stdout",
     "output_type": "stream",
     "text": [
      "Downloading https://sohowww.nascom.nasa.gov/solarsoft/stereo/gen/data/spice/depm/ahead/ahead_2021_327_02.depm.bsp\n"
     ]
    },
    {
     "name": "stderr",
     "output_type": "stream",
     "text": [
      "100.0% 3809280 / 3802112\n"
     ]
    },
    {
     "name": "stdout",
     "output_type": "stream",
     "text": [
      "Downloading https://sohowww.nascom.nasa.gov/solarsoft/stereo/gen/data/spice/depm/ahead/ahead_2021_327_03.depm.bsp\n"
     ]
    },
    {
     "name": "stderr",
     "output_type": "stream",
     "text": [
      "100.0% 3809280 / 3802112\n"
     ]
    },
    {
     "name": "stdout",
     "output_type": "stream",
     "text": [
      "Downloading https://sohowww.nascom.nasa.gov/solarsoft/stereo/gen/data/spice/depm/ahead/ahead_2021_327_04.depm.bsp\n"
     ]
    },
    {
     "name": "stderr",
     "output_type": "stream",
     "text": [
      "100.0% 3809280 / 3802112\n"
     ]
    },
    {
     "name": "stdout",
     "output_type": "stream",
     "text": [
      "Downloading https://sohowww.nascom.nasa.gov/solarsoft/stereo/gen/data/spice/depm/ahead/ahead_2021_327_05.depm.bsp\n"
     ]
    },
    {
     "name": "stderr",
     "output_type": "stream",
     "text": [
      "100.0% 3809280 / 3802112\n"
     ]
    },
    {
     "name": "stdout",
     "output_type": "stream",
     "text": [
      "Downloading https://sohowww.nascom.nasa.gov/solarsoft/stereo/gen/data/spice/depm/ahead/ahead_2021_327_06.depm.bsp\n"
     ]
    },
    {
     "name": "stderr",
     "output_type": "stream",
     "text": [
      "100.0% 3809280 / 3802112\n"
     ]
    },
    {
     "name": "stdout",
     "output_type": "stream",
     "text": [
      "Downloading https://sohowww.nascom.nasa.gov/solarsoft/stereo/gen/data/spice/depm/ahead/ahead_2021_327_07.depm.bsp\n"
     ]
    },
    {
     "name": "stderr",
     "output_type": "stream",
     "text": [
      "100.0% 3809280 / 3802112\n"
     ]
    },
    {
     "name": "stdout",
     "output_type": "stream",
     "text": [
      "Downloading https://sohowww.nascom.nasa.gov/solarsoft/stereo/gen/data/spice/depm/ahead/ahead_2021_327_08.depm.bsp\n"
     ]
    },
    {
     "name": "stderr",
     "output_type": "stream",
     "text": [
      "100.0% 3809280 / 3802112\n"
     ]
    },
    {
     "name": "stdout",
     "output_type": "stream",
     "text": [
      "Downloading https://sohowww.nascom.nasa.gov/solarsoft/stereo/gen/data/spice/depm/ahead/ahead_2021_327_09.depm.bsp\n"
     ]
    },
    {
     "name": "stderr",
     "output_type": "stream",
     "text": [
      "100.0% 3809280 / 3802112\n"
     ]
    },
    {
     "name": "stdout",
     "output_type": "stream",
     "text": [
      "Downloading https://sohowww.nascom.nasa.gov/solarsoft/stereo/gen/data/spice/depm/ahead/ahead_2021_327_10.depm.bsp\n"
     ]
    },
    {
     "name": "stderr",
     "output_type": "stream",
     "text": [
      "100.0% 3809280 / 3802112\n"
     ]
    },
    {
     "name": "stdout",
     "output_type": "stream",
     "text": [
      "Downloading https://sohowww.nascom.nasa.gov/solarsoft/stereo/gen/data/spice/depm/ahead/ahead_2021_327_11.depm.bsp\n"
     ]
    },
    {
     "name": "stderr",
     "output_type": "stream",
     "text": [
      "100.0% 3809280 / 3802112\n"
     ]
    },
    {
     "name": "stdout",
     "output_type": "stream",
     "text": [
      "Downloading https://sohowww.nascom.nasa.gov/solarsoft/stereo/gen/data/spice/depm/ahead/ahead_2021_327_12.depm.bsp\n"
     ]
    },
    {
     "name": "stderr",
     "output_type": "stream",
     "text": [
      "100.0% 3809280 / 3802112\n"
     ]
    },
    {
     "name": "stdout",
     "output_type": "stream",
     "text": [
      "Downloading https://sohowww.nascom.nasa.gov/solarsoft/stereo/gen/data/spice/depm/ahead/ahead_2021_327_13.depm.bsp\n"
     ]
    },
    {
     "name": "stderr",
     "output_type": "stream",
     "text": [
      "100.0% 3809280 / 3802112\n"
     ]
    },
    {
     "name": "stdout",
     "output_type": "stream",
     "text": [
      "Downloading https://sohowww.nascom.nasa.gov/solarsoft/stereo/gen/data/spice/depm/ahead/ahead_2021_327_14.depm.bsp\n"
     ]
    },
    {
     "name": "stderr",
     "output_type": "stream",
     "text": [
      "100.0% 3809280 / 3802112\n"
     ]
    },
    {
     "name": "stdout",
     "output_type": "stream",
     "text": [
      "Downloading https://sohowww.nascom.nasa.gov/solarsoft/stereo/gen/data/spice/depm/ahead/ahead_2021_327_15.depm.bsp\n"
     ]
    },
    {
     "name": "stderr",
     "output_type": "stream",
     "text": [
      "100.0% 3809280 / 3802112\n"
     ]
    },
    {
     "name": "stdout",
     "output_type": "stream",
     "text": [
      "Downloading https://sohowww.nascom.nasa.gov/solarsoft/stereo/gen/data/spice/depm/ahead/ahead_2021_327_16.depm.bsp\n"
     ]
    },
    {
     "name": "stderr",
     "output_type": "stream",
     "text": [
      "100.0% 3809280 / 3802112\n"
     ]
    },
    {
     "name": "stdout",
     "output_type": "stream",
     "text": [
      "Downloading https://sohowww.nascom.nasa.gov/solarsoft/stereo/gen/data/spice/depm/ahead/ahead_2021_327_17.depm.bsp\n"
     ]
    },
    {
     "name": "stderr",
     "output_type": "stream",
     "text": [
      "100.0% 3809280 / 3802112\n"
     ]
    },
    {
     "name": "stdout",
     "output_type": "stream",
     "text": [
      "Downloading https://sohowww.nascom.nasa.gov/solarsoft/stereo/gen/data/spice/depm/ahead/ahead_2021_327_18.depm.bsp\n"
     ]
    },
    {
     "name": "stderr",
     "output_type": "stream",
     "text": [
      "100.0% 3809280 / 3802112\n"
     ]
    },
    {
     "name": "stdout",
     "output_type": "stream",
     "text": [
      "Downloading https://sohowww.nascom.nasa.gov/solarsoft/stereo/gen/data/spice/depm/ahead/ahead_2021_327_19.depm.bsp\n"
     ]
    },
    {
     "name": "stderr",
     "output_type": "stream",
     "text": [
      "100.0% 3809280 / 3802112\n"
     ]
    },
    {
     "name": "stdout",
     "output_type": "stream",
     "text": [
      "Downloading https://sohowww.nascom.nasa.gov/solarsoft/stereo/gen/data/spice/depm/ahead/ahead_2021_327_20.depm.bsp\n"
     ]
    },
    {
     "name": "stderr",
     "output_type": "stream",
     "text": [
      "100.0% 3809280 / 3802112\n"
     ]
    },
    {
     "name": "stdout",
     "output_type": "stream",
     "text": [
      "Downloading https://sohowww.nascom.nasa.gov/solarsoft/stereo/gen/data/spice/depm/ahead/ahead_2021_327_21.depm.bsp\n"
     ]
    },
    {
     "name": "stderr",
     "output_type": "stream",
     "text": [
      "100.0% 3809280 / 3802112\n"
     ]
    },
    {
     "name": "stdout",
     "output_type": "stream",
     "text": [
      "Downloading https://sohowww.nascom.nasa.gov/solarsoft/stereo/gen/data/spice/depm/ahead/ahead_2021_327_22.depm.bsp\n"
     ]
    },
    {
     "name": "stderr",
     "output_type": "stream",
     "text": [
      "100.0% 3809280 / 3802112\n"
     ]
    },
    {
     "name": "stdout",
     "output_type": "stream",
     "text": [
      "Downloading https://sohowww.nascom.nasa.gov/solarsoft/stereo/gen/data/spice/depm/ahead/ahead_2021_327_23.depm.bsp\n"
     ]
    },
    {
     "name": "stderr",
     "output_type": "stream",
     "text": [
      "100.0% 3809280 / 3802112\n"
     ]
    },
    {
     "name": "stdout",
     "output_type": "stream",
     "text": [
      "Downloading https://sohowww.nascom.nasa.gov/solarsoft/stereo/gen/data/spice/depm/ahead/ahead_2021_327_24.depm.bsp\n"
     ]
    },
    {
     "name": "stderr",
     "output_type": "stream",
     "text": [
      "100.0% 3809280 / 3802112\n"
     ]
    },
    {
     "name": "stdout",
     "output_type": "stream",
     "text": [
      "Downloading https://sohowww.nascom.nasa.gov/solarsoft/stereo/gen/data/spice/depm/ahead/ahead_2021_327_25.depm.bsp\n"
     ]
    },
    {
     "name": "stderr",
     "output_type": "stream",
     "text": [
      "100.0% 3809280 / 3802112\n"
     ]
    },
    {
     "name": "stdout",
     "output_type": "stream",
     "text": [
      "Downloading https://sohowww.nascom.nasa.gov/solarsoft/stereo/gen/data/spice/depm/ahead/ahead_2021_327_26.depm.bsp\n"
     ]
    },
    {
     "name": "stderr",
     "output_type": "stream",
     "text": [
      "100.0% 3809280 / 3802112\n"
     ]
    },
    {
     "name": "stdout",
     "output_type": "stream",
     "text": [
      "Downloading https://sohowww.nascom.nasa.gov/solarsoft/stereo/gen/data/spice/depm/ahead/ahead_2021_327_27.depm.bsp\n"
     ]
    },
    {
     "name": "stderr",
     "output_type": "stream",
     "text": [
      "100.0% 3809280 / 3802112\n"
     ]
    },
    {
     "name": "stdout",
     "output_type": "stream",
     "text": [
      "Downloading https://sohowww.nascom.nasa.gov/solarsoft/stereo/gen/data/spice/depm/ahead/ahead_2021_327_28.depm.bsp\n"
     ]
    },
    {
     "name": "stderr",
     "output_type": "stream",
     "text": [
      "100.0% 3809280 / 3802112\n"
     ]
    },
    {
     "name": "stdout",
     "output_type": "stream",
     "text": [
      "Downloading https://sohowww.nascom.nasa.gov/solarsoft/stereo/gen/data/spice/depm/ahead/ahead_2021_327_29.depm.bsp\n"
     ]
    },
    {
     "name": "stderr",
     "output_type": "stream",
     "text": [
      "100.0% 3809280 / 3802112\n"
     ]
    },
    {
     "name": "stdout",
     "output_type": "stream",
     "text": [
      "Downloading https://sohowww.nascom.nasa.gov/solarsoft/stereo/gen/data/spice/depm/ahead/ahead_2021_327_30.depm.bsp\n"
     ]
    },
    {
     "name": "stderr",
     "output_type": "stream",
     "text": [
      "100.0% 3809280 / 3802112\n"
     ]
    },
    {
     "name": "stdout",
     "output_type": "stream",
     "text": [
      "Downloading https://sohowww.nascom.nasa.gov/solarsoft/stereo/gen/data/spice/depm/ahead/ahead_2021_327_31.depm.bsp\n"
     ]
    },
    {
     "name": "stderr",
     "output_type": "stream",
     "text": [
      "100.0% 3809280 / 3802112\n"
     ]
    },
    {
     "name": "stdout",
     "output_type": "stream",
     "text": [
      "Downloading https://sohowww.nascom.nasa.gov/solarsoft/stereo/gen/data/spice/depm/ahead/ahead_2021_327_32.depm.bsp\n"
     ]
    },
    {
     "name": "stderr",
     "output_type": "stream",
     "text": [
      "100.0% 3809280 / 3802112\n"
     ]
    },
    {
     "name": "stdout",
     "output_type": "stream",
     "text": [
      "Downloading https://sohowww.nascom.nasa.gov/solarsoft/stereo/gen/data/spice/depm/ahead/ahead_2021_327_33.depm.bsp\n"
     ]
    },
    {
     "name": "stderr",
     "output_type": "stream",
     "text": [
      "100.0% 3809280 / 3802112\n"
     ]
    },
    {
     "name": "stdout",
     "output_type": "stream",
     "text": [
      "Downloading https://sohowww.nascom.nasa.gov/solarsoft/stereo/gen/data/spice/depm/ahead/ahead_2021_327_34.depm.bsp\n"
     ]
    },
    {
     "name": "stderr",
     "output_type": "stream",
     "text": [
      "100.0% 3809280 / 3802112\n"
     ]
    },
    {
     "name": "stdout",
     "output_type": "stream",
     "text": [
      "Downloading https://sohowww.nascom.nasa.gov/solarsoft/stereo/gen/data/spice/depm/ahead/ahead_2021_327_35.depm.bsp\n"
     ]
    },
    {
     "name": "stderr",
     "output_type": "stream",
     "text": [
      "100.0% 3809280 / 3802112\n"
     ]
    },
    {
     "name": "stdout",
     "output_type": "stream",
     "text": [
      "Downloading https://sohowww.nascom.nasa.gov/solarsoft/stereo/gen/data/spice/depm/ahead/ahead_2021_327_36.depm.bsp\n"
     ]
    },
    {
     "name": "stderr",
     "output_type": "stream",
     "text": [
      "100.0% 3809280 / 3802112\n"
     ]
    },
    {
     "name": "stdout",
     "output_type": "stream",
     "text": [
      "Downloading https://sohowww.nascom.nasa.gov/solarsoft/stereo/gen/data/spice/depm/ahead/ahead_2021_327_37.depm.bsp\n"
     ]
    },
    {
     "name": "stderr",
     "output_type": "stream",
     "text": [
      "100.0% 3809280 / 3802112\n"
     ]
    },
    {
     "name": "stdout",
     "output_type": "stream",
     "text": [
      "Downloading https://sohowww.nascom.nasa.gov/solarsoft/stereo/gen/data/spice/depm/ahead/ahead_2021_327_38.depm.bsp\n"
     ]
    },
    {
     "name": "stderr",
     "output_type": "stream",
     "text": [
      "100.0% 3809280 / 3802112\n"
     ]
    },
    {
     "name": "stdout",
     "output_type": "stream",
     "text": [
      "Downloading https://sohowww.nascom.nasa.gov/solarsoft/stereo/gen/data/spice/depm/ahead/ahead_2021_327_39.depm.bsp\n"
     ]
    },
    {
     "name": "stderr",
     "output_type": "stream",
     "text": [
      "100.0% 3809280 / 3802112\n"
     ]
    },
    {
     "name": "stdout",
     "output_type": "stream",
     "text": [
      "Downloading https://sohowww.nascom.nasa.gov/solarsoft/stereo/gen/data/spice/depm/ahead/ahead_2021_327_40.depm.bsp\n"
     ]
    },
    {
     "name": "stderr",
     "output_type": "stream",
     "text": [
      "100.0% 3809280 / 3802112\n"
     ]
    },
    {
     "name": "stdout",
     "output_type": "stream",
     "text": [
      "Downloading https://sohowww.nascom.nasa.gov/solarsoft/stereo/gen/data/spice/depm/ahead/ahead_2021_327_41.depm.bsp\n"
     ]
    },
    {
     "name": "stderr",
     "output_type": "stream",
     "text": [
      "100.0% 3809280 / 3802112\n"
     ]
    },
    {
     "name": "stdout",
     "output_type": "stream",
     "text": [
      "Downloading https://sohowww.nascom.nasa.gov/solarsoft/stereo/gen/data/spice/depm/ahead/ahead_2021_327_42.depm.bsp\n"
     ]
    },
    {
     "name": "stderr",
     "output_type": "stream",
     "text": [
      "100.0% 3809280 / 3802112\n"
     ]
    },
    {
     "name": "stdout",
     "output_type": "stream",
     "text": [
      "Downloading https://sohowww.nascom.nasa.gov/solarsoft/stereo/gen/data/spice/depm/ahead/ahead_2021_327_43.depm.bsp\n"
     ]
    },
    {
     "name": "stderr",
     "output_type": "stream",
     "text": [
      "100.0% 3809280 / 3802112\n"
     ]
    },
    {
     "name": "stdout",
     "output_type": "stream",
     "text": [
      "Downloading https://sohowww.nascom.nasa.gov/solarsoft/stereo/gen/data/spice/depm/ahead/ahead_2021_327_44.depm.bsp\n"
     ]
    },
    {
     "name": "stderr",
     "output_type": "stream",
     "text": [
      "100.0% 3809280 / 3802112\n"
     ]
    },
    {
     "name": "stdout",
     "output_type": "stream",
     "text": [
      "Downloading https://sohowww.nascom.nasa.gov/solarsoft/stereo/gen/data/spice/depm/ahead/ahead_2021_327_45.depm.bsp\n"
     ]
    },
    {
     "name": "stderr",
     "output_type": "stream",
     "text": [
      "100.0% 3809280 / 3802112\n"
     ]
    },
    {
     "name": "stdout",
     "output_type": "stream",
     "text": [
      "Downloading https://sohowww.nascom.nasa.gov/solarsoft/stereo/gen/data/spice/depm/ahead/ahead_2021_327_46.depm.bsp\n"
     ]
    },
    {
     "name": "stderr",
     "output_type": "stream",
     "text": [
      "100.0% 3809280 / 3802112\n"
     ]
    },
    {
     "name": "stdout",
     "output_type": "stream",
     "text": [
      "Downloading https://sohowww.nascom.nasa.gov/solarsoft/stereo/gen/data/spice/depm/ahead/ahead_2021_327_47.depm.bsp\n"
     ]
    },
    {
     "name": "stderr",
     "output_type": "stream",
     "text": [
      "100.0% 3809280 / 3802112\n"
     ]
    },
    {
     "name": "stdout",
     "output_type": "stream",
     "text": [
      "Downloading https://sohowww.nascom.nasa.gov/solarsoft/stereo/gen/data/spice/depm/ahead/ahead_2021_327_48.depm.bsp\n"
     ]
    },
    {
     "name": "stderr",
     "output_type": "stream",
     "text": [
      "100.0% 3809280 / 3802112\n"
     ]
    },
    {
     "name": "stdout",
     "output_type": "stream",
     "text": [
      "Downloading https://sohowww.nascom.nasa.gov/solarsoft/stereo/gen/data/spice/depm/ahead/ahead_2021_327_49.depm.bsp\n"
     ]
    },
    {
     "name": "stderr",
     "output_type": "stream",
     "text": [
      "100.0% 3809280 / 3802112\n"
     ]
    },
    {
     "name": "stdout",
     "output_type": "stream",
     "text": [
      "Downloading https://sohowww.nascom.nasa.gov/solarsoft/stereo/gen/data/spice/depm/ahead/ahead_2021_327_50.depm.bsp\n"
     ]
    },
    {
     "name": "stderr",
     "output_type": "stream",
     "text": [
      "100.0% 3809280 / 3802112\n"
     ]
    },
    {
     "name": "stdout",
     "output_type": "stream",
     "text": [
      "Downloading https://sohowww.nascom.nasa.gov/solarsoft/stereo/gen/data/spice/depm/ahead/ahead_2021_327_51.depm.bsp\n"
     ]
    },
    {
     "name": "stderr",
     "output_type": "stream",
     "text": [
      "100.0% 3809280 / 3802112\n"
     ]
    },
    {
     "name": "stdout",
     "output_type": "stream",
     "text": [
      "Downloading https://sohowww.nascom.nasa.gov/solarsoft/stereo/gen/data/spice/depm/ahead/ahead_2021_327_52.depm.bsp\n"
     ]
    },
    {
     "name": "stderr",
     "output_type": "stream",
     "text": [
      "100.0% 3809280 / 3802112\n"
     ]
    },
    {
     "name": "stdout",
     "output_type": "stream",
     "text": [
      "Downloading https://sohowww.nascom.nasa.gov/solarsoft/stereo/gen/data/spice/depm/ahead/ahead_2021_327_53.depm.bsp\n"
     ]
    },
    {
     "name": "stderr",
     "output_type": "stream",
     "text": [
      "100.0% 3809280 / 3802112\n"
     ]
    },
    {
     "name": "stdout",
     "output_type": "stream",
     "text": [
      "Downloading https://sohowww.nascom.nasa.gov/solarsoft/stereo/gen/data/spice/depm/ahead/ahead_2021_327_54.depm.bsp\n"
     ]
    },
    {
     "name": "stderr",
     "output_type": "stream",
     "text": [
      "100.0% 3809280 / 3802112\n"
     ]
    },
    {
     "name": "stdout",
     "output_type": "stream",
     "text": [
      "Downloading https://sohowww.nascom.nasa.gov/solarsoft/stereo/gen/data/spice/depm/ahead/ahead_2021_357_01.depm.bsp\n"
     ]
    },
    {
     "name": "stderr",
     "output_type": "stream",
     "text": [
      "100.0% 4046848 / 4044800\n"
     ]
    },
    {
     "name": "stdout",
     "output_type": "stream",
     "text": [
      "Downloading https://sohowww.nascom.nasa.gov/solarsoft/stereo/gen/data/spice/depm/ahead/ahead_2021_357_02.depm.bsp\n"
     ]
    },
    {
     "name": "stderr",
     "output_type": "stream",
     "text": [
      "100.0% 4046848 / 4044800\n"
     ]
    },
    {
     "name": "stdout",
     "output_type": "stream",
     "text": [
      "Downloading https://sohowww.nascom.nasa.gov/solarsoft/stereo/gen/data/spice/depm/ahead/ahead_2021_357_03.depm.bsp\n"
     ]
    },
    {
     "name": "stderr",
     "output_type": "stream",
     "text": [
      "100.0% 4046848 / 4044800\n"
     ]
    },
    {
     "name": "stdout",
     "output_type": "stream",
     "text": [
      "Downloading https://sohowww.nascom.nasa.gov/solarsoft/stereo/gen/data/spice/depm/ahead/ahead_2021_357_04.depm.bsp\n"
     ]
    },
    {
     "name": "stderr",
     "output_type": "stream",
     "text": [
      "100.0% 4046848 / 4044800\n"
     ]
    },
    {
     "name": "stdout",
     "output_type": "stream",
     "text": [
      "Downloading https://sohowww.nascom.nasa.gov/solarsoft/stereo/gen/data/spice/depm/ahead/ahead_2021_357_05.depm.bsp\n"
     ]
    },
    {
     "name": "stderr",
     "output_type": "stream",
     "text": [
      "100.0% 4046848 / 4044800\n"
     ]
    },
    {
     "name": "stdout",
     "output_type": "stream",
     "text": [
      "Downloading https://sohowww.nascom.nasa.gov/solarsoft/stereo/gen/data/spice/depm/ahead/ahead_2021_357_06.depm.bsp\n"
     ]
    },
    {
     "name": "stderr",
     "output_type": "stream",
     "text": [
      "100.0% 4046848 / 4044800\n"
     ]
    },
    {
     "name": "stdout",
     "output_type": "stream",
     "text": [
      "Downloading https://sohowww.nascom.nasa.gov/solarsoft/stereo/gen/data/spice/depm/ahead/ahead_2021_357_07.depm.bsp\n"
     ]
    },
    {
     "name": "stderr",
     "output_type": "stream",
     "text": [
      "100.0% 4046848 / 4044800\n"
     ]
    },
    {
     "name": "stdout",
     "output_type": "stream",
     "text": [
      "Downloading https://sohowww.nascom.nasa.gov/solarsoft/stereo/gen/data/spice/depm/ahead/ahead_2021_357_08.depm.bsp\n"
     ]
    },
    {
     "name": "stderr",
     "output_type": "stream",
     "text": [
      "100.0% 4046848 / 4044800\n"
     ]
    },
    {
     "name": "stdout",
     "output_type": "stream",
     "text": [
      "Downloading https://sohowww.nascom.nasa.gov/solarsoft/stereo/gen/data/spice/depm/ahead/ahead_2021_357_09.depm.bsp\n"
     ]
    },
    {
     "name": "stderr",
     "output_type": "stream",
     "text": [
      "100.0% 4046848 / 4044800\n"
     ]
    },
    {
     "name": "stdout",
     "output_type": "stream",
     "text": [
      "Downloading https://sohowww.nascom.nasa.gov/solarsoft/stereo/gen/data/spice/depm/ahead/ahead_2021_357_10.depm.bsp\n"
     ]
    },
    {
     "name": "stderr",
     "output_type": "stream",
     "text": [
      "100.0% 4046848 / 4044800\n"
     ]
    },
    {
     "name": "stdout",
     "output_type": "stream",
     "text": [
      "Downloading https://sohowww.nascom.nasa.gov/solarsoft/stereo/gen/data/spice/depm/ahead/ahead_2021_357_11.depm.bsp\n"
     ]
    },
    {
     "name": "stderr",
     "output_type": "stream",
     "text": [
      "100.0% 4046848 / 4044800\n"
     ]
    },
    {
     "name": "stdout",
     "output_type": "stream",
     "text": [
      "Downloading https://sohowww.nascom.nasa.gov/solarsoft/stereo/gen/data/spice/depm/ahead/ahead_2021_357_12.depm.bsp\n"
     ]
    },
    {
     "name": "stderr",
     "output_type": "stream",
     "text": [
      "100.0% 4046848 / 4044800\n"
     ]
    },
    {
     "name": "stdout",
     "output_type": "stream",
     "text": [
      "Downloading https://sohowww.nascom.nasa.gov/solarsoft/stereo/gen/data/spice/depm/ahead/ahead_2021_357_13.depm.bsp\n"
     ]
    },
    {
     "name": "stderr",
     "output_type": "stream",
     "text": [
      "100.0% 4046848 / 4044800\n"
     ]
    },
    {
     "name": "stdout",
     "output_type": "stream",
     "text": [
      "Downloading https://sohowww.nascom.nasa.gov/solarsoft/stereo/gen/data/spice/depm/ahead/ahead_2021_357_14.depm.bsp\n"
     ]
    },
    {
     "name": "stderr",
     "output_type": "stream",
     "text": [
      "100.0% 4046848 / 4044800\n"
     ]
    },
    {
     "name": "stdout",
     "output_type": "stream",
     "text": [
      "Downloading https://sohowww.nascom.nasa.gov/solarsoft/stereo/gen/data/spice/depm/ahead/ahead_2021_357_15.depm.bsp\n"
     ]
    },
    {
     "name": "stderr",
     "output_type": "stream",
     "text": [
      "100.0% 4046848 / 4044800\n"
     ]
    },
    {
     "name": "stdout",
     "output_type": "stream",
     "text": [
      "Downloading https://sohowww.nascom.nasa.gov/solarsoft/stereo/gen/data/spice/depm/ahead/ahead_2021_357_16.depm.bsp\n"
     ]
    },
    {
     "name": "stderr",
     "output_type": "stream",
     "text": [
      "100.0% 4046848 / 4044800\n"
     ]
    },
    {
     "name": "stdout",
     "output_type": "stream",
     "text": [
      "Downloading https://sohowww.nascom.nasa.gov/solarsoft/stereo/gen/data/spice/depm/ahead/ahead_2021_357_17.depm.bsp\n"
     ]
    },
    {
     "name": "stderr",
     "output_type": "stream",
     "text": [
      "100.0% 4046848 / 4044800\n"
     ]
    },
    {
     "name": "stdout",
     "output_type": "stream",
     "text": [
      "Downloading https://sohowww.nascom.nasa.gov/solarsoft/stereo/gen/data/spice/depm/ahead/ahead_2021_357_18.depm.bsp\n"
     ]
    },
    {
     "name": "stderr",
     "output_type": "stream",
     "text": [
      "100.0% 4046848 / 4044800\n"
     ]
    },
    {
     "name": "stdout",
     "output_type": "stream",
     "text": [
      "Downloading https://sohowww.nascom.nasa.gov/solarsoft/stereo/gen/data/spice/depm/ahead/ahead_2021_357_19.depm.bsp\n"
     ]
    },
    {
     "name": "stderr",
     "output_type": "stream",
     "text": [
      "100.0% 4046848 / 4044800\n"
     ]
    },
    {
     "name": "stdout",
     "output_type": "stream",
     "text": [
      "Downloading https://sohowww.nascom.nasa.gov/solarsoft/stereo/gen/data/spice/depm/ahead/ahead_2021_357_20.depm.bsp\n"
     ]
    },
    {
     "name": "stderr",
     "output_type": "stream",
     "text": [
      "100.0% 4046848 / 4044800\n"
     ]
    },
    {
     "name": "stdout",
     "output_type": "stream",
     "text": [
      "Downloading https://sohowww.nascom.nasa.gov/solarsoft/stereo/gen/data/spice/depm/ahead/ahead_2021_357_21.depm.bsp\n"
     ]
    },
    {
     "name": "stderr",
     "output_type": "stream",
     "text": [
      "100.0% 4046848 / 4044800\n"
     ]
    },
    {
     "name": "stdout",
     "output_type": "stream",
     "text": [
      "Downloading https://sohowww.nascom.nasa.gov/solarsoft/stereo/gen/data/spice/depm/ahead/ahead_2021_357_22.depm.bsp\n"
     ]
    },
    {
     "name": "stderr",
     "output_type": "stream",
     "text": [
      "100.0% 4046848 / 4044800\n"
     ]
    },
    {
     "name": "stdout",
     "output_type": "stream",
     "text": [
      "Downloading https://sohowww.nascom.nasa.gov/solarsoft/stereo/gen/data/spice/depm/ahead/ahead_2021_357_23.depm.bsp\n"
     ]
    },
    {
     "name": "stderr",
     "output_type": "stream",
     "text": [
      "100.0% 4046848 / 4044800\n"
     ]
    },
    {
     "name": "stdout",
     "output_type": "stream",
     "text": [
      "Downloading https://sohowww.nascom.nasa.gov/solarsoft/stereo/gen/data/spice/depm/ahead/ahead_2021_357_24.depm.bsp\n"
     ]
    },
    {
     "name": "stderr",
     "output_type": "stream",
     "text": [
      "100.0% 4046848 / 4044800\n"
     ]
    },
    {
     "name": "stdout",
     "output_type": "stream",
     "text": [
      "Downloading https://sohowww.nascom.nasa.gov/solarsoft/stereo/gen/data/spice/depm/ahead/ahead_2021_357_25.depm.bsp\n"
     ]
    },
    {
     "name": "stderr",
     "output_type": "stream",
     "text": [
      "100.0% 4046848 / 4044800\n"
     ]
    },
    {
     "name": "stdout",
     "output_type": "stream",
     "text": [
      "Downloading https://sohowww.nascom.nasa.gov/solarsoft/stereo/gen/data/spice/depm/ahead/ahead_2021_357_26.depm.bsp\n"
     ]
    },
    {
     "name": "stderr",
     "output_type": "stream",
     "text": [
      "100.0% 4046848 / 4044800\n"
     ]
    },
    {
     "name": "stdout",
     "output_type": "stream",
     "text": [
      "Downloading https://sohowww.nascom.nasa.gov/solarsoft/stereo/gen/data/spice/depm/ahead/ahead_2021_357_27.depm.bsp\n"
     ]
    },
    {
     "name": "stderr",
     "output_type": "stream",
     "text": [
      "100.0% 4046848 / 4044800\n"
     ]
    },
    {
     "name": "stdout",
     "output_type": "stream",
     "text": [
      "Downloading https://sohowww.nascom.nasa.gov/solarsoft/stereo/gen/data/spice/depm/ahead/ahead_2021_357_28.depm.bsp\n"
     ]
    },
    {
     "name": "stderr",
     "output_type": "stream",
     "text": [
      "100.0% 4046848 / 4044800\n"
     ]
    },
    {
     "name": "stdout",
     "output_type": "stream",
     "text": [
      "Downloading https://sohowww.nascom.nasa.gov/solarsoft/stereo/gen/data/spice/depm/ahead/ahead_2021_357_29.depm.bsp\n"
     ]
    },
    {
     "name": "stderr",
     "output_type": "stream",
     "text": [
      "100.0% 4046848 / 4044800\n"
     ]
    },
    {
     "name": "stdout",
     "output_type": "stream",
     "text": [
      "Downloading https://sohowww.nascom.nasa.gov/solarsoft/stereo/gen/data/spice/depm/ahead/ahead_2021_357_30.depm.bsp\n"
     ]
    },
    {
     "name": "stderr",
     "output_type": "stream",
     "text": [
      "100.0% 4046848 / 4044800\n"
     ]
    },
    {
     "name": "stdout",
     "output_type": "stream",
     "text": [
      "Downloading https://sohowww.nascom.nasa.gov/solarsoft/stereo/gen/data/spice/depm/ahead/ahead_2021_357_31.depm.bsp\n"
     ]
    },
    {
     "name": "stderr",
     "output_type": "stream",
     "text": [
      "100.0% 4046848 / 4044800\n"
     ]
    },
    {
     "name": "stdout",
     "output_type": "stream",
     "text": [
      "Downloading https://sohowww.nascom.nasa.gov/solarsoft/stereo/gen/data/spice/depm/ahead/ahead_2021_357_32.depm.bsp\n"
     ]
    },
    {
     "name": "stderr",
     "output_type": "stream",
     "text": [
      "100.0% 4046848 / 4044800\n"
     ]
    },
    {
     "name": "stdout",
     "output_type": "stream",
     "text": [
      "Downloading https://sohowww.nascom.nasa.gov/solarsoft/stereo/gen/data/spice/depm/ahead/ahead_2021_357_33.depm.bsp\n"
     ]
    },
    {
     "name": "stderr",
     "output_type": "stream",
     "text": [
      "100.0% 4046848 / 4044800\n"
     ]
    },
    {
     "name": "stdout",
     "output_type": "stream",
     "text": [
      "Downloading https://sohowww.nascom.nasa.gov/solarsoft/stereo/gen/data/spice/depm/ahead/ahead_2021_357_34.depm.bsp\n"
     ]
    },
    {
     "name": "stderr",
     "output_type": "stream",
     "text": [
      "100.0% 4046848 / 4044800\n"
     ]
    },
    {
     "name": "stdout",
     "output_type": "stream",
     "text": [
      "Downloading https://sohowww.nascom.nasa.gov/solarsoft/stereo/gen/data/spice/depm/ahead/ahead_2021_357_35.depm.bsp\n"
     ]
    },
    {
     "name": "stderr",
     "output_type": "stream",
     "text": [
      "100.0% 4046848 / 4044800\n"
     ]
    },
    {
     "name": "stdout",
     "output_type": "stream",
     "text": [
      "Downloading https://sohowww.nascom.nasa.gov/solarsoft/stereo/gen/data/spice/depm/ahead/ahead_2021_357_36.depm.bsp\n"
     ]
    },
    {
     "name": "stderr",
     "output_type": "stream",
     "text": [
      "100.0% 4046848 / 4044800\n"
     ]
    },
    {
     "name": "stdout",
     "output_type": "stream",
     "text": [
      "Downloading https://sohowww.nascom.nasa.gov/solarsoft/stereo/gen/data/spice/depm/ahead/ahead_2021_357_37.depm.bsp\n"
     ]
    },
    {
     "name": "stderr",
     "output_type": "stream",
     "text": [
      "100.0% 4046848 / 4044800\n"
     ]
    },
    {
     "name": "stdout",
     "output_type": "stream",
     "text": [
      "Downloading https://sohowww.nascom.nasa.gov/solarsoft/stereo/gen/data/spice/depm/ahead/ahead_2021_357_38.depm.bsp\n"
     ]
    },
    {
     "name": "stderr",
     "output_type": "stream",
     "text": [
      "100.0% 4046848 / 4044800\n"
     ]
    },
    {
     "name": "stdout",
     "output_type": "stream",
     "text": [
      "Downloading https://sohowww.nascom.nasa.gov/solarsoft/stereo/gen/data/spice/depm/ahead/ahead_2021_357_39.depm.bsp\n"
     ]
    },
    {
     "name": "stderr",
     "output_type": "stream",
     "text": [
      "100.0% 4046848 / 4044800\n"
     ]
    },
    {
     "name": "stdout",
     "output_type": "stream",
     "text": [
      "Downloading https://sohowww.nascom.nasa.gov/solarsoft/stereo/gen/data/spice/depm/ahead/ahead_2021_357_40.depm.bsp\n"
     ]
    },
    {
     "name": "stderr",
     "output_type": "stream",
     "text": [
      "100.0% 4046848 / 4044800\n"
     ]
    },
    {
     "name": "stdout",
     "output_type": "stream",
     "text": [
      "Downloading https://sohowww.nascom.nasa.gov/solarsoft/stereo/gen/data/spice/depm/ahead/ahead_2021_357_41.depm.bsp\n"
     ]
    },
    {
     "name": "stderr",
     "output_type": "stream",
     "text": [
      "100.0% 4046848 / 4044800\n"
     ]
    },
    {
     "name": "stdout",
     "output_type": "stream",
     "text": [
      "Downloading https://sohowww.nascom.nasa.gov/solarsoft/stereo/gen/data/spice/depm/ahead/ahead_2021_357_42.depm.bsp\n"
     ]
    },
    {
     "name": "stderr",
     "output_type": "stream",
     "text": [
      "100.0% 4046848 / 4044800\n"
     ]
    },
    {
     "name": "stdout",
     "output_type": "stream",
     "text": [
      "Downloading https://sohowww.nascom.nasa.gov/solarsoft/stereo/gen/data/spice/depm/ahead/ahead_2021_357_43.depm.bsp\n"
     ]
    },
    {
     "name": "stderr",
     "output_type": "stream",
     "text": [
      "100.0% 4046848 / 4044800\n"
     ]
    },
    {
     "name": "stdout",
     "output_type": "stream",
     "text": [
      "Downloading https://sohowww.nascom.nasa.gov/solarsoft/stereo/gen/data/spice/depm/ahead/ahead_2021_357_44.depm.bsp\n"
     ]
    },
    {
     "name": "stderr",
     "output_type": "stream",
     "text": [
      "100.0% 4046848 / 4044800\n"
     ]
    },
    {
     "name": "stdout",
     "output_type": "stream",
     "text": [
      "Downloading https://sohowww.nascom.nasa.gov/solarsoft/stereo/gen/data/spice/depm/ahead/ahead_2021_357_45.depm.bsp\n"
     ]
    },
    {
     "name": "stderr",
     "output_type": "stream",
     "text": [
      "100.0% 4046848 / 4044800\n"
     ]
    },
    {
     "name": "stdout",
     "output_type": "stream",
     "text": [
      "Downloading https://sohowww.nascom.nasa.gov/solarsoft/stereo/gen/data/spice/depm/ahead/ahead_2022_004_01.depm.bsp\n"
     ]
    },
    {
     "name": "stderr",
     "output_type": "stream",
     "text": [
      "100.0% 4145152 / 4143104\n"
     ]
    },
    {
     "name": "stdout",
     "output_type": "stream",
     "text": [
      "Downloading https://sohowww.nascom.nasa.gov/solarsoft/stereo/gen/data/spice/depm/ahead/ahead_2022_004_02.depm.bsp\n"
     ]
    },
    {
     "name": "stderr",
     "output_type": "stream",
     "text": [
      "100.0% 4145152 / 4143104\n"
     ]
    },
    {
     "name": "stdout",
     "output_type": "stream",
     "text": [
      "Downloading https://sohowww.nascom.nasa.gov/solarsoft/stereo/gen/data/spice/depm/ahead/ahead_2022_004_03.depm.bsp\n"
     ]
    },
    {
     "name": "stderr",
     "output_type": "stream",
     "text": [
      "100.0% 4145152 / 4143104\n"
     ]
    },
    {
     "name": "stdout",
     "output_type": "stream",
     "text": [
      "Downloading https://sohowww.nascom.nasa.gov/solarsoft/stereo/gen/data/spice/depm/ahead/ahead_2022_004_04.depm.bsp\n"
     ]
    },
    {
     "name": "stderr",
     "output_type": "stream",
     "text": [
      "100.0% 4145152 / 4143104\n"
     ]
    },
    {
     "name": "stdout",
     "output_type": "stream",
     "text": [
      "Downloading https://sohowww.nascom.nasa.gov/solarsoft/stereo/gen/data/spice/depm/ahead/ahead_2022_004_05.depm.bsp\n"
     ]
    },
    {
     "name": "stderr",
     "output_type": "stream",
     "text": [
      "100.0% 4145152 / 4143104\n"
     ]
    },
    {
     "name": "stdout",
     "output_type": "stream",
     "text": [
      "Downloading https://sohowww.nascom.nasa.gov/solarsoft/stereo/gen/data/spice/depm/ahead/ahead_2022_004_06.depm.bsp\n"
     ]
    },
    {
     "name": "stderr",
     "output_type": "stream",
     "text": [
      "100.0% 4145152 / 4143104\n"
     ]
    },
    {
     "name": "stdout",
     "output_type": "stream",
     "text": [
      "Downloading https://sohowww.nascom.nasa.gov/solarsoft/stereo/gen/data/spice/depm/ahead/ahead_2022_004_07.depm.bsp\n"
     ]
    },
    {
     "name": "stderr",
     "output_type": "stream",
     "text": [
      "100.0% 4145152 / 4143104\n"
     ]
    },
    {
     "name": "stdout",
     "output_type": "stream",
     "text": [
      "Downloading https://sohowww.nascom.nasa.gov/solarsoft/stereo/gen/data/spice/depm/ahead/ahead_2022_004_08.depm.bsp\n"
     ]
    },
    {
     "name": "stderr",
     "output_type": "stream",
     "text": [
      "100.0% 4145152 / 4143104\n"
     ]
    },
    {
     "name": "stdout",
     "output_type": "stream",
     "text": [
      "Downloading https://sohowww.nascom.nasa.gov/solarsoft/stereo/gen/data/spice/depm/ahead/ahead_2022_004_09.depm.bsp\n"
     ]
    },
    {
     "name": "stderr",
     "output_type": "stream",
     "text": [
      "100.0% 4145152 / 4143104\n"
     ]
    },
    {
     "name": "stdout",
     "output_type": "stream",
     "text": [
      "Downloading https://sohowww.nascom.nasa.gov/solarsoft/stereo/gen/data/spice/depm/ahead/ahead_2022_004_10.depm.bsp\n"
     ]
    },
    {
     "name": "stderr",
     "output_type": "stream",
     "text": [
      "100.0% 4145152 / 4143104\n"
     ]
    },
    {
     "name": "stdout",
     "output_type": "stream",
     "text": [
      "Downloading https://sohowww.nascom.nasa.gov/solarsoft/stereo/gen/data/spice/depm/ahead/ahead_2022_004_11.depm.bsp\n"
     ]
    },
    {
     "name": "stderr",
     "output_type": "stream",
     "text": [
      "100.0% 4145152 / 4143104\n"
     ]
    },
    {
     "name": "stdout",
     "output_type": "stream",
     "text": [
      "Downloading https://sohowww.nascom.nasa.gov/solarsoft/stereo/gen/data/spice/depm/ahead/ahead_2022_004_12.depm.bsp\n"
     ]
    },
    {
     "name": "stderr",
     "output_type": "stream",
     "text": [
      "100.0% 4145152 / 4143104\n"
     ]
    },
    {
     "name": "stdout",
     "output_type": "stream",
     "text": [
      "Downloading https://sohowww.nascom.nasa.gov/solarsoft/stereo/gen/data/spice/depm/ahead/ahead_2022_004_13.depm.bsp\n"
     ]
    },
    {
     "name": "stderr",
     "output_type": "stream",
     "text": [
      "100.0% 4145152 / 4143104\n"
     ]
    },
    {
     "name": "stdout",
     "output_type": "stream",
     "text": [
      "Downloading https://sohowww.nascom.nasa.gov/solarsoft/stereo/gen/data/spice/depm/ahead/ahead_2022_004_14.depm.bsp\n"
     ]
    },
    {
     "name": "stderr",
     "output_type": "stream",
     "text": [
      "100.0% 4145152 / 4143104\n"
     ]
    },
    {
     "name": "stdout",
     "output_type": "stream",
     "text": [
      "Downloading https://sohowww.nascom.nasa.gov/solarsoft/stereo/gen/data/spice/depm/ahead/ahead_2022_004_15.depm.bsp\n"
     ]
    },
    {
     "name": "stderr",
     "output_type": "stream",
     "text": [
      "100.0% 4145152 / 4143104\n"
     ]
    },
    {
     "name": "stdout",
     "output_type": "stream",
     "text": [
      "Downloading https://sohowww.nascom.nasa.gov/solarsoft/stereo/gen/data/spice/depm/ahead/ahead_2022_004_16.depm.bsp\n"
     ]
    },
    {
     "name": "stderr",
     "output_type": "stream",
     "text": [
      "100.0% 4145152 / 4143104\n"
     ]
    },
    {
     "name": "stdout",
     "output_type": "stream",
     "text": [
      "Downloading https://sohowww.nascom.nasa.gov/solarsoft/stereo/gen/data/spice/depm/ahead/ahead_2022_020_01.depm.bsp\n"
     ]
    },
    {
     "name": "stderr",
     "output_type": "stream",
     "text": [
      "100.0% 4276224 / 4271104\n"
     ]
    },
    {
     "name": "stdout",
     "output_type": "stream",
     "text": [
      "SSEF30 events:  170\n",
      "STA  SSEF30 arrival catalog finished.\n",
      "\n",
      "SSEF30 events:  139\n",
      "STB  SSEF30 arrival catalog finished.\n",
      "\n",
      "SSEF30 events:  589\n",
      "Earth  SSEF30 arrival catalog finished.\n",
      "\n",
      "SSEF30 events:  22\n",
      "Ulysses  SSEF30 arrival catalog finished.\n",
      "\n",
      "SSEF30 events:  224\n",
      "Mercury  SSEF30 arrival catalog finished.\n",
      "\n",
      "SSEF30 events:  259\n",
      "Venus  SSEF30 arrival catalog finished.\n",
      "\n",
      "SSEF30 events:  247\n",
      "Mars  SSEF30 arrival catalog finished.\n",
      "\n"
     ]
    },
    {
     "data": {
      "text/html": [
       "<div>\n",
       "<style scoped>\n",
       "    .dataframe tbody tr th:only-of-type {\n",
       "        vertical-align: middle;\n",
       "    }\n",
       "\n",
       "    .dataframe tbody tr th {\n",
       "        vertical-align: top;\n",
       "    }\n",
       "\n",
       "    .dataframe thead th {\n",
       "        text-align: right;\n",
       "    }\n",
       "</style>\n",
       "<table border=\"1\" class=\"dataframe\">\n",
       "  <thead>\n",
       "    <tr style=\"text-align: right;\">\n",
       "      <th></th>\n",
       "      <th>id</th>\n",
       "      <th>sc</th>\n",
       "      <th>target_name</th>\n",
       "      <th>sse_launch_time</th>\n",
       "      <th>target_arrival_time</th>\n",
       "      <th>target_arrival_time_err</th>\n",
       "      <th>target_distance</th>\n",
       "      <th>target_heeq_lon</th>\n",
       "      <th>target_heeq_lat</th>\n",
       "      <th>target_delta</th>\n",
       "      <th>sse_heeq_lon</th>\n",
       "      <th>sse_heeq_lat</th>\n",
       "      <th>sse_speed</th>\n",
       "      <th>sse_speed_err</th>\n",
       "      <th>target_speed</th>\n",
       "      <th>target_speed_err</th>\n",
       "      <th>pa_fit</th>\n",
       "      <th>pa_n</th>\n",
       "      <th>pa_s</th>\n",
       "      <th>pa_center</th>\n",
       "    </tr>\n",
       "  </thead>\n",
       "  <tbody>\n",
       "    <tr>\n",
       "      <th>0</th>\n",
       "      <td>HCME_A__20211226_01</td>\n",
       "      <td>A</td>\n",
       "      <td>Earth_L1</td>\n",
       "      <td>2021-12-26 04:10</td>\n",
       "      <td>2022-01-03 14:54</td>\n",
       "      <td>4.0</td>\n",
       "      <td>0.973</td>\n",
       "      <td>-0.00</td>\n",
       "      <td>-3.30</td>\n",
       "      <td>-25.0</td>\n",
       "      <td>25</td>\n",
       "      <td>-7</td>\n",
       "      <td>255</td>\n",
       "      <td>5</td>\n",
       "      <td>199</td>\n",
       "      <td>4</td>\n",
       "      <td>260</td>\n",
       "      <td>240</td>\n",
       "      <td>275</td>\n",
       "      <td>257.5</td>\n",
       "    </tr>\n",
       "    <tr>\n",
       "      <th>1</th>\n",
       "      <td>HCME_A__20211220_01</td>\n",
       "      <td>A</td>\n",
       "      <td>Earth_L1</td>\n",
       "      <td>2021-12-20 08:02</td>\n",
       "      <td>2021-12-24 12:55</td>\n",
       "      <td>1.9</td>\n",
       "      <td>0.974</td>\n",
       "      <td>0.00</td>\n",
       "      <td>-2.10</td>\n",
       "      <td>23.0</td>\n",
       "      <td>-23</td>\n",
       "      <td>-7</td>\n",
       "      <td>488</td>\n",
       "      <td>9</td>\n",
       "      <td>401</td>\n",
       "      <td>7</td>\n",
       "      <td>230</td>\n",
       "      <td>195</td>\n",
       "      <td>270</td>\n",
       "      <td>232.5</td>\n",
       "    </tr>\n",
       "    <tr>\n",
       "      <th>2</th>\n",
       "      <td>HCME_A__20211220_01</td>\n",
       "      <td>A</td>\n",
       "      <td>SolarOrbiter</td>\n",
       "      <td>2021-12-20 08:02</td>\n",
       "      <td>2021-12-24 03:32</td>\n",
       "      <td>1.7</td>\n",
       "      <td>1.012</td>\n",
       "      <td>-9.33</td>\n",
       "      <td>0.08</td>\n",
       "      <td>13.7</td>\n",
       "      <td>-23</td>\n",
       "      <td>-7</td>\n",
       "      <td>488</td>\n",
       "      <td>9</td>\n",
       "      <td>459</td>\n",
       "      <td>8</td>\n",
       "      <td>230</td>\n",
       "      <td>195</td>\n",
       "      <td>270</td>\n",
       "      <td>232.5</td>\n",
       "    </tr>\n",
       "    <tr>\n",
       "      <th>3</th>\n",
       "      <td>HCME_A__20211220_01</td>\n",
       "      <td>A</td>\n",
       "      <td>STEREO-A</td>\n",
       "      <td>2021-12-20 08:02</td>\n",
       "      <td>2021-12-23 22:02</td>\n",
       "      <td>1.6</td>\n",
       "      <td>0.964</td>\n",
       "      <td>-35.16</td>\n",
       "      <td>2.33</td>\n",
       "      <td>-12.2</td>\n",
       "      <td>-23</td>\n",
       "      <td>-7</td>\n",
       "      <td>488</td>\n",
       "      <td>9</td>\n",
       "      <td>466</td>\n",
       "      <td>9</td>\n",
       "      <td>230</td>\n",
       "      <td>195</td>\n",
       "      <td>270</td>\n",
       "      <td>232.5</td>\n",
       "    </tr>\n",
       "    <tr>\n",
       "      <th>4</th>\n",
       "      <td>HCME_A__20211220_01</td>\n",
       "      <td>A</td>\n",
       "      <td>Venus</td>\n",
       "      <td>2021-12-20 08:02</td>\n",
       "      <td>2021-12-23 00:44</td>\n",
       "      <td>1.2</td>\n",
       "      <td>0.720</td>\n",
       "      <td>-10.06</td>\n",
       "      <td>-0.40</td>\n",
       "      <td>12.9</td>\n",
       "      <td>-23</td>\n",
       "      <td>-7</td>\n",
       "      <td>488</td>\n",
       "      <td>9</td>\n",
       "      <td>463</td>\n",
       "      <td>9</td>\n",
       "      <td>230</td>\n",
       "      <td>195</td>\n",
       "      <td>270</td>\n",
       "      <td>232.5</td>\n",
       "    </tr>\n",
       "    <tr>\n",
       "      <th>...</th>\n",
       "      <td>...</td>\n",
       "      <td>...</td>\n",
       "      <td>...</td>\n",
       "      <td>...</td>\n",
       "      <td>...</td>\n",
       "      <td>...</td>\n",
       "      <td>...</td>\n",
       "      <td>...</td>\n",
       "      <td>...</td>\n",
       "      <td>...</td>\n",
       "      <td>...</td>\n",
       "      <td>...</td>\n",
       "      <td>...</td>\n",
       "      <td>...</td>\n",
       "      <td>...</td>\n",
       "      <td>...</td>\n",
       "      <td>...</td>\n",
       "      <td>...</td>\n",
       "      <td>...</td>\n",
       "      <td>...</td>\n",
       "    </tr>\n",
       "    <tr>\n",
       "      <th>1718</th>\n",
       "      <td>HCME_A__20070518_01</td>\n",
       "      <td>A</td>\n",
       "      <td>Venus</td>\n",
       "      <td>2007-05-17 20:34</td>\n",
       "      <td>2007-05-20 09:17</td>\n",
       "      <td>0.3</td>\n",
       "      <td>0.720</td>\n",
       "      <td>-57.25</td>\n",
       "      <td>-3.69</td>\n",
       "      <td>20.7</td>\n",
       "      <td>-78</td>\n",
       "      <td>-20</td>\n",
       "      <td>574</td>\n",
       "      <td>3</td>\n",
       "      <td>493</td>\n",
       "      <td>3</td>\n",
       "      <td>110</td>\n",
       "      <td>95</td>\n",
       "      <td>115</td>\n",
       "      <td>105.0</td>\n",
       "    </tr>\n",
       "    <tr>\n",
       "      <th>1719</th>\n",
       "      <td>HCME_A__20070518_01</td>\n",
       "      <td>A</td>\n",
       "      <td>Mercury</td>\n",
       "      <td>2007-05-17 20:34</td>\n",
       "      <td>2007-05-19 01:13</td>\n",
       "      <td>0.1</td>\n",
       "      <td>0.337</td>\n",
       "      <td>-99.24</td>\n",
       "      <td>0.56</td>\n",
       "      <td>-21.2</td>\n",
       "      <td>-78</td>\n",
       "      <td>-20</td>\n",
       "      <td>574</td>\n",
       "      <td>3</td>\n",
       "      <td>489</td>\n",
       "      <td>3</td>\n",
       "      <td>110</td>\n",
       "      <td>95</td>\n",
       "      <td>115</td>\n",
       "      <td>105.0</td>\n",
       "    </tr>\n",
       "    <tr>\n",
       "      <th>1720</th>\n",
       "      <td>HCME_A__20070516_01</td>\n",
       "      <td>A</td>\n",
       "      <td>Venus</td>\n",
       "      <td>2007-05-15 16:24</td>\n",
       "      <td>2007-05-18 23:10</td>\n",
       "      <td>0.2</td>\n",
       "      <td>0.720</td>\n",
       "      <td>-58.20</td>\n",
       "      <td>-3.74</td>\n",
       "      <td>-5.2</td>\n",
       "      <td>-53</td>\n",
       "      <td>16</td>\n",
       "      <td>383</td>\n",
       "      <td>1</td>\n",
       "      <td>380</td>\n",
       "      <td>1</td>\n",
       "      <td>70</td>\n",
       "      <td>30</td>\n",
       "      <td>120</td>\n",
       "      <td>75.0</td>\n",
       "    </tr>\n",
       "    <tr>\n",
       "      <th>1721</th>\n",
       "      <td>HCME_A__20070509_01</td>\n",
       "      <td>A</td>\n",
       "      <td>Mercury</td>\n",
       "      <td>2007-05-09 06:13</td>\n",
       "      <td>2007-05-10 07:53</td>\n",
       "      <td>2.8</td>\n",
       "      <td>0.308</td>\n",
       "      <td>-142.21</td>\n",
       "      <td>2.96</td>\n",
       "      <td>-0.2</td>\n",
       "      <td>-142</td>\n",
       "      <td>2</td>\n",
       "      <td>499</td>\n",
       "      <td>54</td>\n",
       "      <td>499</td>\n",
       "      <td>54</td>\n",
       "      <td>90</td>\n",
       "      <td>50</td>\n",
       "      <td>125</td>\n",
       "      <td>87.5</td>\n",
       "    </tr>\n",
       "    <tr>\n",
       "      <th>1722</th>\n",
       "      <td>HCME_A__20070419_01</td>\n",
       "      <td>A</td>\n",
       "      <td>Venus</td>\n",
       "      <td>2007-04-19 06:50</td>\n",
       "      <td>2007-04-22 23:34</td>\n",
       "      <td>0.5</td>\n",
       "      <td>0.718</td>\n",
       "      <td>-75.33</td>\n",
       "      <td>-3.42</td>\n",
       "      <td>-20.3</td>\n",
       "      <td>-55</td>\n",
       "      <td>-15</td>\n",
       "      <td>389</td>\n",
       "      <td>2</td>\n",
       "      <td>336</td>\n",
       "      <td>2</td>\n",
       "      <td>105</td>\n",
       "      <td>40</td>\n",
       "      <td>140</td>\n",
       "      <td>90.0</td>\n",
       "    </tr>\n",
       "  </tbody>\n",
       "</table>\n",
       "<p>1723 rows × 20 columns</p>\n",
       "</div>"
      ],
      "text/plain": [
       "                       id sc   target_name   sse_launch_time  \\\n",
       "0     HCME_A__20211226_01  A      Earth_L1  2021-12-26 04:10   \n",
       "1     HCME_A__20211220_01  A      Earth_L1  2021-12-20 08:02   \n",
       "2     HCME_A__20211220_01  A  SolarOrbiter  2021-12-20 08:02   \n",
       "3     HCME_A__20211220_01  A      STEREO-A  2021-12-20 08:02   \n",
       "4     HCME_A__20211220_01  A         Venus  2021-12-20 08:02   \n",
       "...                   ... ..           ...               ...   \n",
       "1718  HCME_A__20070518_01  A         Venus  2007-05-17 20:34   \n",
       "1719  HCME_A__20070518_01  A       Mercury  2007-05-17 20:34   \n",
       "1720  HCME_A__20070516_01  A         Venus  2007-05-15 16:24   \n",
       "1721  HCME_A__20070509_01  A       Mercury  2007-05-09 06:13   \n",
       "1722  HCME_A__20070419_01  A         Venus  2007-04-19 06:50   \n",
       "\n",
       "     target_arrival_time  target_arrival_time_err  target_distance  \\\n",
       "0       2022-01-03 14:54                      4.0            0.973   \n",
       "1       2021-12-24 12:55                      1.9            0.974   \n",
       "2       2021-12-24 03:32                      1.7            1.012   \n",
       "3       2021-12-23 22:02                      1.6            0.964   \n",
       "4       2021-12-23 00:44                      1.2            0.720   \n",
       "...                  ...                      ...              ...   \n",
       "1718    2007-05-20 09:17                      0.3            0.720   \n",
       "1719    2007-05-19 01:13                      0.1            0.337   \n",
       "1720    2007-05-18 23:10                      0.2            0.720   \n",
       "1721    2007-05-10 07:53                      2.8            0.308   \n",
       "1722    2007-04-22 23:34                      0.5            0.718   \n",
       "\n",
       "      target_heeq_lon  target_heeq_lat  target_delta sse_heeq_lon  \\\n",
       "0               -0.00            -3.30         -25.0           25   \n",
       "1                0.00            -2.10          23.0          -23   \n",
       "2               -9.33             0.08          13.7          -23   \n",
       "3              -35.16             2.33         -12.2          -23   \n",
       "4              -10.06            -0.40          12.9          -23   \n",
       "...               ...              ...           ...          ...   \n",
       "1718           -57.25            -3.69          20.7          -78   \n",
       "1719           -99.24             0.56         -21.2          -78   \n",
       "1720           -58.20            -3.74          -5.2          -53   \n",
       "1721          -142.21             2.96          -0.2         -142   \n",
       "1722           -75.33            -3.42         -20.3          -55   \n",
       "\n",
       "     sse_heeq_lat sse_speed sse_speed_err target_speed target_speed_err  \\\n",
       "0              -7       255             5          199                4   \n",
       "1              -7       488             9          401                7   \n",
       "2              -7       488             9          459                8   \n",
       "3              -7       488             9          466                9   \n",
       "4              -7       488             9          463                9   \n",
       "...           ...       ...           ...          ...              ...   \n",
       "1718          -20       574             3          493                3   \n",
       "1719          -20       574             3          489                3   \n",
       "1720           16       383             1          380                1   \n",
       "1721            2       499            54          499               54   \n",
       "1722          -15       389             2          336                2   \n",
       "\n",
       "     pa_fit pa_n pa_s  pa_center  \n",
       "0       260  240  275      257.5  \n",
       "1       230  195  270      232.5  \n",
       "2       230  195  270      232.5  \n",
       "3       230  195  270      232.5  \n",
       "4       230  195  270      232.5  \n",
       "...     ...  ...  ...        ...  \n",
       "1718    110   95  115      105.0  \n",
       "1719    110   95  115      105.0  \n",
       "1720     70   30  120       75.0  \n",
       "1721     90   50  125       87.5  \n",
       "1722    105   40  140       90.0  \n",
       "\n",
       "[1723 rows x 20 columns]"
      ]
     },
     "execution_count": 3,
     "metadata": {},
     "output_type": "execute_result"
    }
   ],
   "source": [
    "from heliocats import cats as hc\n",
    "importlib.reload(hc) #reload again while debugging \n",
    "\n",
    "#https://www.helcats-fp7.eu/\n",
    "#LOAD HELCATS HIGeoCAT\n",
    "url_higeocat='https://www.helcats-fp7.eu/catalogues/data/HCME_WP3_V06.vot'\n",
    "\n",
    "try: urllib.request.urlretrieve(url_higeocat,'data/HCME_WP3_V06.vot')\n",
    "except urllib.error.URLError as e:\n",
    "    print('higeocat not loaded')\n",
    "\n",
    "higeocat=hc.load_higeocat_vot('data/HCME_WP3_V06.vot')\n",
    "higeocat_time=parse_time(higeocat['Date']).datetime    \n",
    "higeocat_t0=parse_time(higeocat['SSE Launch']).datetime   #backprojected launch time\n",
    "\n",
    "#define empty pandas dataframe for arrival catalog with column names\n",
    "\n",
    "column_list=['id', 'sc','target_name','sse_launch_time','target_arrival_time','target_arrival_time_err',\\\n",
    "                                 'target_distance','target_heeq_lon','target_heeq_lat',\\\n",
    "                                 'target_delta','sse_heeq_lon','sse_heeq_lat',\\\n",
    "                                 'sse_speed','sse_speed_err','target_speed','target_speed_err',\\\n",
    "                                 'pa_fit','pa_n','pa_s','pa_center']\n",
    "             \n",
    "#pandas dataframe for current version with iteration in calculating arrival time\n",
    "ac = pd.DataFrame([], columns = column_list)\n",
    "\n",
    "#pandas dataframe for old method of arrival time prediction without iteration\n",
    "ac_old = pd.DataFrame([], columns = column_list)\n",
    "\n",
    "#Make arrival catalog from HIGEOCAT for each spacecraft\n",
    "\n",
    "[ac,ac_old]=hc.make_arrival_catalog_insitu_ssef30(higeocat, ac, ac_old, 'PSP',column_list)\n",
    "[ac,ac_old]=hc.make_arrival_catalog_insitu_ssef30(higeocat, ac, ac_old, 'Solo',column_list)\n",
    "[ac,ac_old]=hc.make_arrival_catalog_insitu_ssef30(higeocat, ac, ac_old, 'Bepi',column_list)\n",
    "   \n",
    "[ac,ac_old]=hc.make_arrival_catalog_insitu_ssef30(higeocat, ac, ac_old, 'STA',column_list)\n",
    "[ac,ac_old]=hc.make_arrival_catalog_insitu_ssef30(higeocat, ac, ac_old, 'STB',column_list)\n",
    "[ac,ac_old]=hc.make_arrival_catalog_insitu_ssef30(higeocat, ac, ac_old, 'Earth',column_list)\n",
    "\n",
    "[ac,ac_old]=hc.make_arrival_catalog_insitu_ssef30(higeocat, ac, ac_old, 'Ulysses',column_list)\n",
    "[ac,ac_old]=hc.make_arrival_catalog_insitu_ssef30(higeocat, ac, ac_old, 'Mercury',column_list)\n",
    "[ac,ac_old]=hc.make_arrival_catalog_insitu_ssef30(higeocat, ac, ac_old, 'Venus',column_list)\n",
    "[ac,ac_old]=hc.make_arrival_catalog_insitu_ssef30(higeocat, ac, ac_old, 'Mars',column_list)\n",
    "\n",
    "\n",
    "\n",
    "ac = ac.sort_values(by='target_arrival_time',ascending=False)\n",
    "ac = ac.reset_index(drop=True)\n",
    "\n",
    "ac_old = ac_old.sort_values(by='target_arrival_time',ascending=False)\n",
    "ac_old = ac_old.reset_index(drop=True)\n",
    "\n",
    "\n",
    "\n",
    "\n",
    "ac"
   ]
  },
  {
   "cell_type": "markdown",
   "metadata": {},
   "source": [
    "## 2 save ARRCAT\n"
   ]
  },
  {
   "cell_type": "markdown",
   "metadata": {},
   "source": [
    "#### save header"
   ]
  },
  {
   "cell_type": "code",
   "execution_count": 4,
   "metadata": {},
   "outputs": [
    {
     "name": "stdout",
     "output_type": "stream",
     "text": [
      "ARRIVAL CATALOGUE 2.0 \n",
      "\n",
      "In this ARRival CATalog (ARRCAT), the arrivals of solar coronal mass ejections that were \n",
      "tracked in the STEREO heliospheric imagers in the HELCATS project are calculated.\n",
      "ARRCAT lists modeled arrivals of CMEs at various spacecraft and planets, \n",
      "based on the HIGeoCAT catalog of CMEs established at RAL Space, UK (D. Barnes, J. A. Davies, R. A. Harrison). \n",
      "\n",
      "This is version 2.0, released 2020-May-13, updated 2021-February-3. https://doi.org/10.6084/m9.figshare.12271292\n",
      "\n",
      "It is based on this HIGeoCAT version: https://www.helcats-fp7.eu/catalogues/data/HCME_WP3_V06.vot using the SSEF30 model.\n",
      "\n",
      "The catalog is available as python pandas dataframe (pickle), \n",
      "python numpy arrays (pickle, as recarray and structured array), \n",
      "npy (numpy, no pickle), json, csv, xlsx, txt, hdf5, html at \n",
      "https://helioforecast.space/arrcat and https://www.helcats-fp7.eu\n",
      "\n",
      "Number of events in ARRCAT: 1723\n",
      "Targets: Earth_L1, STEREO-A, STEREO-B, Solar Orbiter, Parker Solar Probe (PSP), Bepi Colombo, Ulysses, Venus, Mercury, Mars.\n",
      "\n",
      "Authors: Christian Moestl, D. Barnes, R. A. Harrison, J. A. Davies, Andreas J. Weiss, David Stansby;\n",
      "Space Research Institute (IWF), Austrian Academy of Sciences, Graz, Austria; RAL Space, UK; Mullard Space Science Laboratory, UK.\n",
      "\n",
      "Rules: If results are produced with this catalog for peer-reviewed scientific publications,\n",
      "please contact christian.moestl@oeaw.ac.at for co-authorships.\n",
      "\n",
      "Parameters \n",
      "\n",
      "    0: id: From HIGeoCAT, the unique identifier for the observed CME.\n",
      "    1: sc: From HIGeoCAT, the HI observing STEREO spacecraft, (A=Ahead or B=Behind)\n",
      "    2: target_name: Name of in situ target.\n",
      "    3: sse_launch_time: From HIGeoCAT, launch time of the CME at Sun center, unit: UTC.\n",
      "    4: target_arrival_time: CME arrival time at target location calculated with the SSEF30 model, corrected for SSE shape (Moestl and Davies, 2013). unit: UTC.\n",
      "    5: target_arrival_time_err: Error of CME arrival time at target location from SSEF30 model, solely based on error in parameter sse_speed_err. unit: hours.\n",
      "    6: target_distance: Target distance from Sun, at model CME arrival time. unit: AU.\n",
      "    7: target_heeq_lon: Target longitude in HEEQ, at model CME arrival time. unit: degree.\n",
      "    8: target_heeq_lat: Target latitude in HEEQ, at model CME arrival time. unit: degree.\n",
      "    9: target_delta: Difference in HEEQ longitude between central CME direction and target location at model CME arrival time, \n",
      "       positive values: spacecraft is west of CME apex. unit: degree.\n",
      "    10: sse_heeq_lon: From HIGeoCAT, the HEEQ longitude of the CME apex propagation direction, unit: degree.\n",
      "    11: sse_heeq_lat: From HIGeoCAT, the HEEQ latitude of the CME apex propagation direction, unit: degree.\n",
      "    12: sse_speed: From HIGeoCAT, speed of the CME apex, unit: km/s.\n",
      "    13: sse_speed_err: From HIGeoCAT, error in the speed of the CME apex, unit: km/s.\n",
      "    14: target_speed: CME arrival speed at target location, corrected for SSE shape (Moestl and Davies, 2013). unit: km/s.\n",
      "    15: target_speed_err: Error in CME arrival speed at target location, corrected for SSE shape (Moestl and Davies, 2013). unit: km/s.\n",
      "    16: pa_fit: From HIGeoCAT, PA along which time-elongation profile is extracted, unit: degree.\n",
      "    17: pa_n: From HIGeoCAT, northern position angle of CME, unit: degree.\n",
      "    18: pa_s: From HIGeoCAT, southernmost position angle of CME, unit: degree.\n",
      "    19: pa_center: average of pa_n and pa_s, unit: degree.\n",
      "\n",
      "Comments\n",
      "\n",
      "    - We have modified the calculation of CME arrival time here by a new iterative method compared to Moestl et al. (2014, 2017). \n",
      "      In the first iteration, the sse_launch_time is used to calculate the target HEEQ position. \n",
      "      In subsequent three iterations, we use the arrival time from the previous iteration (instead of sse_launch time) \n",
      "      to calculate the target HEEQ position. \n",
      "      In this way we avoid an error of a few degrees in the arrival target location (see also Moestl et al. 2017). \n",
      "    - The analytical formulas for calculating the speeds and arrival times of the CMEs modeled with SSEF30, \n",
      "      corrected for the SSEF30 circular shape, can be found in Moestl & Davies (2013). \n",
      "\n",
      "\n",
      "References \n",
      "\n",
      "Moestl & Davies (2013) https://doi.org/10.1007/s11207-012-9978-8 arxiv: https://arxiv.org/abs/1202.1299\n",
      "Moestl et al. (2014)   https://doi.org/10.1088/0004-637X/787/2/119 (open access) \n",
      "Moestl et al. (2017)   https://doi.org/10.1002/2017SW001614 (open access)\n",
      "\n",
      "\n",
      "header saved as arrcat/HELCATS_ARRCAT_v20_header.txt\n",
      "\n",
      "header converted to HTML\n",
      "\n",
      "\n",
      "-----------------------\n",
      "ARRCAT sorted by time gives:\n"
     ]
    },
    {
     "data": {
      "text/plain": [
       "array(['2007-04-22 23:34', '2007-05-10 07:53', '2007-05-18 23:10', ...,\n",
       "       '2021-12-24 03:32', '2021-12-24 12:55', '2022-01-03 14:54'],\n",
       "      dtype=object)"
      ]
     },
     "execution_count": 4,
     "metadata": {},
     "output_type": "execute_result"
    }
   ],
   "source": [
    "#save header and parameters as text file and prepare for html website\n",
    "header='ARRIVAL CATALOGUE 2.0 \\n\\n\\\n",
    "In this ARRival CATalog (ARRCAT), the arrivals of solar coronal mass ejections that were \\n\\\n",
    "tracked in the STEREO heliospheric imagers in the HELCATS project are calculated.\\n\\\n",
    "ARRCAT lists modeled arrivals of CMEs at various spacecraft and planets, \\n\\\n",
    "based on the HIGeoCAT catalog of CMEs established at RAL Space, UK (D. Barnes, J. A. Davies, R. A. Harrison). \\n\\n\\\n",
    "This is version 2.0, released 2020-May-13, updated '+last_update+'. https://doi.org/10.6084/m9.figshare.12271292\\n\\n\\\n",
    "It is based on this HIGeoCAT version: '+url_higeocat+' using the SSEF30 model.\\n\\n\\\n",
    "The catalog is available as python pandas dataframe (pickle), \\n\\\n",
    "python numpy arrays (pickle, as recarray and structured array), \\n\\\n",
    "npy (numpy, no pickle), json, csv, xlsx, txt, hdf5, html at \\n\\\n",
    "https://helioforecast.space/arrcat and https://www.helcats-fp7.eu\\n\\n\\\n",
    "Number of events in ARRCAT: '+str(len(ac))+'\\n\\\n",
    "Targets: Earth_L1, STEREO-A, STEREO-B, Solar Orbiter, Parker Solar Probe (PSP), Bepi Colombo, Ulysses, Venus, Mercury, Mars.\\n\\n\\\n",
    "Authors: Christian Moestl, D. Barnes, R. A. Harrison, J. A. Davies, Andreas J. Weiss, David Stansby;\\n\\\n",
    "Space Research Institute (IWF), Austrian Academy of Sciences, Graz, Austria; RAL Space, UK; Mullard Space Science Laboratory, UK.\\n\\n\\\n",
    "Rules: If results are produced with this catalog for peer-reviewed scientific publications,\\n\\\n",
    "please contact christian.moestl@oeaw.ac.at for co-authorships.\\n\\n\\\n",
    "Parameters \\n\\n\\\n",
    "    0: id: From HIGeoCAT, the unique identifier for the observed CME.\\n\\\n",
    "    1: sc: From HIGeoCAT, the HI observing STEREO spacecraft, (A=Ahead or B=Behind)\\n\\\n",
    "    2: target_name: Name of in situ target.\\n\\\n",
    "    3: sse_launch_time: From HIGeoCAT, launch time of the CME at Sun center, unit: UTC.\\n\\\n",
    "    4: target_arrival_time: CME arrival time at target location calculated with the SSEF30 model, corrected for SSE shape (Moestl and Davies, 2013). unit: UTC.\\n\\\n",
    "    5: target_arrival_time_err: Error of CME arrival time at target location from SSEF30 model, solely based on error in parameter sse_speed_err. unit: hours.\\n\\\n",
    "    6: target_distance: Target distance from Sun, at model CME arrival time. unit: AU.\\n\\\n",
    "    7: target_heeq_lon: Target longitude in HEEQ, at model CME arrival time. unit: degree.\\n\\\n",
    "    8: target_heeq_lat: Target latitude in HEEQ, at model CME arrival time. unit: degree.\\n\\\n",
    "    9: target_delta: Difference in HEEQ longitude between central CME direction and target location at model CME arrival time, \\n\\\n",
    "       positive values: spacecraft is west of CME apex. unit: degree.\\n\\\n",
    "    10: sse_heeq_lon: From HIGeoCAT, the HEEQ longitude of the CME apex propagation direction, unit: degree.\\n\\\n",
    "    11: sse_heeq_lat: From HIGeoCAT, the HEEQ latitude of the CME apex propagation direction, unit: degree.\\n\\\n",
    "    12: sse_speed: From HIGeoCAT, speed of the CME apex, unit: km/s.\\n\\\n",
    "    13: sse_speed_err: From HIGeoCAT, error in the speed of the CME apex, unit: km/s.\\n\\\n",
    "    14: target_speed: CME arrival speed at target location, corrected for SSE shape (Moestl and Davies, 2013). unit: km/s.\\n\\\n",
    "    15: target_speed_err: Error in CME arrival speed at target location, corrected for SSE shape (Moestl and Davies, 2013). unit: km/s.\\n\\\n",
    "    16: pa_fit: From HIGeoCAT, PA along which time-elongation profile is extracted, unit: degree.\\n\\\n",
    "    17: pa_n: From HIGeoCAT, northern position angle of CME, unit: degree.\\n\\\n",
    "    18: pa_s: From HIGeoCAT, southernmost position angle of CME, unit: degree.\\n\\\n",
    "    19: pa_center: average of pa_n and pa_s, unit: degree.\\n\\n\\\n",
    "Comments\\n\\n\\\n",
    "    - We have modified the calculation of CME arrival time here by a new iterative method compared to Moestl et al. (2014, 2017). \\n\\\n",
    "      In the first iteration, the sse_launch_time is used to calculate the target HEEQ position. \\n\\\n",
    "      In subsequent three iterations, we use the arrival time from the previous iteration (instead of sse_launch time) \\n\\\n",
    "      to calculate the target HEEQ position. \\n\\\n",
    "      In this way we avoid an error of a few degrees in the arrival target location (see also Moestl et al. 2017). \\n\\\n",
    "    - The analytical formulas for calculating the speeds and arrival times of the CMEs modeled with SSEF30, \\n\\\n",
    "      corrected for the SSEF30 circular shape, can be found in Moestl & Davies (2013). \\n\\n\\n\\\n",
    "References \\n\\n\\\n",
    "Moestl & Davies (2013) https://doi.org/10.1007/s11207-012-9978-8 arxiv: https://arxiv.org/abs/1202.1299\\n\\\n",
    "Moestl et al. (2014)   https://doi.org/10.1088/0004-637X/787/2/119 (open access) \\n\\\n",
    "Moestl et al. (2017)   https://doi.org/10.1002/2017SW001614 (open access)\\n'\n",
    "\n",
    "print(header)\n",
    "\n",
    "#make header file\n",
    "file='arrcat/HELCATS_ARRCAT_v20_header.txt'\n",
    "with open(file, \"w\") as text_file:\n",
    "    text_file.write(header)\n",
    "print()    \n",
    "print('header saved as '+file)\n",
    "print()    \n",
    "\n",
    "#Convert to html regarding line breaks, paragraph beginning and spaces\n",
    "header_spaces=header.replace(\" \", \"&nbsp;\")\n",
    "header_html= \"<p>\" +header_spaces.replace('\\n', '<br>')+ \"</p>\" \n",
    "print('header converted to HTML')\n",
    "print()    \n",
    "print()    \n",
    "\n",
    "print('-----------------------')\n",
    "print('ARRCAT sorted by time gives:')\n",
    "np.sort(ac.target_arrival_time)"
   ]
  },
  {
   "cell_type": "markdown",
   "metadata": {},
   "source": [
    "#### save into different formats"
   ]
  },
  {
   "cell_type": "code",
   "execution_count": 5,
   "metadata": {},
   "outputs": [
    {
     "name": "stdout",
     "output_type": "stream",
     "text": [
      "ARRCAT saved as arrcat/HELCATS_ARRCAT_v20_pandas.p\n",
      "ARRCAT saved as arrcat/HELCATS_ARRCAT_v20_numpy.p\n",
      "ARRCAT saved as arrcat/HELCATS_ARRCAT_v20.xlsx\n",
      "ARRCAT saved as arrcat/HELCATS_ARRCAT_v20.json\n",
      "ARRCAT saved as arrcat/HELCATS_ARRCAT_v20.csv\n",
      "ARRCAT saved as arrcat/HELCATS_ARRCAT_v20.txt\n",
      "ARRCAT saved as arrcat/HELCATS_ARRCAT_v10_old.xlsx\n",
      "ARRCAT saved as arrcat/HELCATS_ARRCAT_v20.h5\n",
      "ARRCAT saved as arrcat/HELCATS_ARRCAT_v20_numpy.npy\n",
      "ARRCAT saved as arrcat/HELCATS_ARRCAT_v20_iso.json\n",
      "ARRCAT saved as arrcat/HELCATS_ARRCAT_v20_simple.html\n",
      "ARRCAT saved as arrcat/HELCATS_ARRCAT_v20.html\n"
     ]
    }
   ],
   "source": [
    "########## python formats\n",
    "\n",
    "# save ARRCAT as pandas dataframe with times as datetime objects as pickle\n",
    "file='arrcat/HELCATS_ARRCAT_v20_pandas.p'\n",
    "pickle.dump([ac,header], open(file, 'wb'))\n",
    "print('ARRCAT saved as '+file)\n",
    "\n",
    "# save ARRCAT as numpy array with times as matplotlib datetime as pickle\n",
    "ac_num=copy.deepcopy(ac) \n",
    "ac_num.sse_launch_time=parse_time(ac_num.sse_launch_time).plot_date\n",
    "ac_num.target_arrival_time=parse_time(ac_num.target_arrival_time).plot_date\n",
    "#convert to recarray\n",
    "ac_num_rec=ac_num.to_records()\n",
    "#create structured array \n",
    "dtype1=[('index','i8'),('id', '<U30'),('sc', '<U20'),('target_name', '<U20')] +[(i, '<f8') for i in ac.keys()[3:len(ac.keys())]]\n",
    "ac_num_struct=np.array(ac_num_rec,dtype=dtype1)\n",
    "\n",
    "file='arrcat/HELCATS_ARRCAT_v20_numpy.p'\n",
    "pickle.dump([ac_num,ac_num_struct,header], open(file, 'wb'))\n",
    "print('ARRCAT saved as '+file)\n",
    "\n",
    "\n",
    "\n",
    "\n",
    "################ save to different formats\n",
    "\n",
    "#copy pandas dataframe first to change time format consistent with HELCATS\n",
    "ac_copy=copy.deepcopy(ac)  \n",
    "#change time format and add Z\n",
    "ac_copy.sse_launch_time=parse_time(ac.sse_launch_time).isot\n",
    "ac_copy.target_arrival_time=parse_time(ac.target_arrival_time).isot\n",
    "\n",
    "for i in np.arange(len(ac)):\n",
    "\n",
    "    dum=ac_copy.sse_launch_time[i] \n",
    "    ac_copy.at[i,'sse_launch_time']=dum[0:16]+'Z'\n",
    "     \n",
    "    dum=ac_copy.target_arrival_time[i] \n",
    "    ac_copy.at[i,'target_arrival_time']=dum[0:16]+'Z'\n",
    "\n",
    "\n",
    "#save as Excel\n",
    "file='arrcat/HELCATS_ARRCAT_v20.xlsx'\n",
    "ac_copy.to_excel(file,sheet_name='ARRCATv2.0')\n",
    "print('ARRCAT saved as '+file)\n",
    "\n",
    "#save as json\n",
    "file='arrcat/HELCATS_ARRCAT_v20.json'\n",
    "ac_copy.to_json(file)\n",
    "print('ARRCAT saved as '+file)\n",
    "\n",
    "#save as csv\n",
    "file='arrcat/HELCATS_ARRCAT_v20.csv'\n",
    "ac_copy.to_csv(file)\n",
    "print('ARRCAT saved as '+file)\n",
    "\n",
    "#save as txt\n",
    "file='arrcat/HELCATS_ARRCAT_v20.txt'\n",
    "np.savetxt(file, ac_copy.values.astype(str), fmt='%s' )\n",
    "print('ARRCAT saved as '+file)\n",
    "\n",
    "\n",
    "\n",
    "#**************************########### save old version for comparison\n",
    "\n",
    "#copy pandas dataframe first to change time format consistent with HELCATS\n",
    "ac_copy_old=copy.deepcopy(ac_old)  \n",
    "#change time format and add Z\n",
    "ac_copy_old.sse_launch_time=parse_time(ac_old.sse_launch_time).isot\n",
    "ac_copy_old.target_arrival_time=parse_time(ac_old.target_arrival_time).isot\n",
    "\n",
    "for i in np.arange(len(ac_old)):\n",
    "\n",
    "    dum=ac_copy_old.sse_launch_time[i] \n",
    "    ac_copy_old.at[i,'sse_launch_time']=dum[0:16]+'Z'\n",
    "     \n",
    "    dum=ac_copy_old.target_arrival_time[i] \n",
    "    ac_copy_old.at[i,'target_arrival_time']=dum[0:16]+'Z'\n",
    "\n",
    "\n",
    "#save as Excel\n",
    "file='arrcat/HELCATS_ARRCAT_v10_old.xlsx'\n",
    "ac_old.to_excel(file,sheet_name='ARRCATv2.0')\n",
    "print('ARRCAT saved as '+file)\n",
    "\n",
    "\n",
    "\n",
    "\n",
    "\n",
    "#########################\n",
    "\n",
    "#########save into hdf5 format , use S for strings http://docs.h5py.org/en/stable/strings.html#what-about-numpy-s-u-type\n",
    "dtype2=[('index','i8'),('id', 'S30'),('sc', 'S20'),('target_name', 'S20')] +[(i, '<f8') for i in ac.keys()[3:len(ac.keys())]]\n",
    "ach5=np.array(ac_num_rec,dtype=dtype2)\n",
    "file='arrcat/HELCATS_ARRCAT_v20.h5'\n",
    "f=h5py.File(file,mode='w')\n",
    "f[\"arrcat\"]= ach5\n",
    "\n",
    "#add attributes\n",
    "#************************\n",
    "#***********************\n",
    "\n",
    "print('ARRCAT saved as '+file)\n",
    "f.close()\n",
    "\n",
    "#reading h5py files http://docs.h5py.org/en/latest/quick.html\n",
    "#fr = h5py.File('icmecat/HELCATS_ICMECAT_v20.h5', 'r')\n",
    "#list(fr.keys())\n",
    "#ich5=fr['icmecat']\n",
    "#ich5['mo_bstd']\n",
    "#ich5.dtype\n",
    "#fr.close()\n",
    "##################\n",
    "\n",
    "\n",
    "#save as .npy without pickle\n",
    "file='arrcat/HELCATS_ARRCAT_v20_numpy.npy'\n",
    "np.save(file,ach5, allow_pickle=False)\n",
    "print('ARRCAT saved as '+file)\n",
    "\n",
    "#for loading do:\n",
    "#icnpy=np.load(file)\n",
    "#decode strings:\n",
    "#icnpy['icmecat_id'][0].decode()\n",
    "\n",
    "\n",
    "\n",
    "############ other formats\n",
    "\n",
    "#copy pandas dataframe first to change time format \n",
    "ac_copy2=copy.deepcopy(ac)  \n",
    "ac_copy2.sse_launch_time=parse_time(ac.sse_launch_time).iso\n",
    "ac_copy2.target_arrival_time=parse_time(ac.target_arrival_time).iso\n",
    "\n",
    "#change time format\n",
    "for i in np.arange(len(ac)):\n",
    "\n",
    "    dum=ac_copy2.sse_launch_time[i] \n",
    "    ac_copy2.at[i,'sse_launch_time']=dum[0:16]\n",
    "     \n",
    "    dum=ac_copy2.target_arrival_time[i] \n",
    "    ac_copy2.at[i,'target_arrival_time']=dum[0:16]\n",
    "\n",
    "\n",
    "#save as json for webpage with different time format\n",
    "file='arrcat/HELCATS_ARRCAT_v20_iso.json'\n",
    "ac_copy2.to_json(file)\n",
    "print('ARRCAT saved as '+file)\n",
    "\n",
    "#save as html no header\n",
    "file='arrcat/HELCATS_ARRCAT_v20_simple.html'\n",
    "ac_copy.to_html(file)\n",
    "print('ARRCAT saved as '+file)\n",
    "\n",
    "############ save as html file with header\n",
    "#save as html\n",
    "file='arrcat/HELCATS_ARRCAT_v20.html'\n",
    "#ic.to_html(file,justify='center')\n",
    "\n",
    "#ichtml='{% extends \"_base.html\" %} \\n \\n {% block content %} \\n \\n \\n '\n",
    "achtml = header_html\n",
    "achtml += ac_copy.to_html()\n",
    "#ichtml +='\\n \\n {% endblock %}'\n",
    "\n",
    "\n",
    "with open(file,'w') as f:\n",
    "    f.write(achtml)\n",
    "    f.close()\n",
    "    \n",
    "print('ARRCAT saved as '+file)    "
   ]
  },
  {
   "cell_type": "markdown",
   "metadata": {},
   "source": [
    "## 3 load ARRCAT examples"
   ]
  },
  {
   "cell_type": "code",
   "execution_count": 6,
   "metadata": {},
   "outputs": [
    {
     "data": {
      "text/plain": [
       "array([738150.17361111, 738144.33472222, 738144.33472222, ...,\n",
       "       732811.68333333, 732805.25902778, 732785.28472222])"
      ]
     },
     "execution_count": 6,
     "metadata": {},
     "output_type": "execute_result"
    }
   ],
   "source": [
    "#load arrcat as pandas dataframe\n",
    "file='arrcat/HELCATS_ARRCAT_v20_pandas.p'\n",
    "[ac_pandas,h]=pickle.load( open(file, 'rb'))   \n",
    "\n",
    "#load arrcat as numpy array\n",
    "file='arrcat/HELCATS_ARRCAT_v20_numpy.p'\n",
    "[ac_rec,ac_struct,h]=pickle.load( open(file, 'rb'))   \n",
    "\n",
    "\n",
    "#load arrcat from hdf5\n",
    "file5='arrcat/HELCATS_ARRCAT_v20.h5'\n",
    "f = h5py.File(file5, 'r')\n",
    "list(f.keys())\n",
    "ac5 = f['arrcat']\n",
    "ac5['sse_launch_time']"
   ]
  },
  {
   "cell_type": "code",
   "execution_count": 7,
   "metadata": {},
   "outputs": [
    {
     "data": {
      "text/plain": [
       "Index(['id', 'sc', 'target_name', 'sse_launch_time', 'target_arrival_time',\n",
       "       'target_arrival_time_err', 'target_distance', 'target_heeq_lon',\n",
       "       'target_heeq_lat', 'target_delta', 'sse_heeq_lon', 'sse_heeq_lat',\n",
       "       'sse_speed', 'sse_speed_err', 'target_speed', 'target_speed_err',\n",
       "       'pa_fit', 'pa_n', 'pa_s', 'pa_center'],\n",
       "      dtype='object')"
      ]
     },
     "execution_count": 7,
     "metadata": {},
     "output_type": "execute_result"
    }
   ],
   "source": [
    "ac_pandas\n",
    "ac_pandas.keys()"
   ]
  },
  {
   "cell_type": "code",
   "execution_count": 8,
   "metadata": {},
   "outputs": [
    {
     "data": {
      "text/html": [
       "<div>\n",
       "<style scoped>\n",
       "    .dataframe tbody tr th:only-of-type {\n",
       "        vertical-align: middle;\n",
       "    }\n",
       "\n",
       "    .dataframe tbody tr th {\n",
       "        vertical-align: top;\n",
       "    }\n",
       "\n",
       "    .dataframe thead th {\n",
       "        text-align: right;\n",
       "    }\n",
       "</style>\n",
       "<table border=\"1\" class=\"dataframe\">\n",
       "  <thead>\n",
       "    <tr style=\"text-align: right;\">\n",
       "      <th></th>\n",
       "      <th>id</th>\n",
       "      <th>sc</th>\n",
       "      <th>target_name</th>\n",
       "      <th>sse_launch_time</th>\n",
       "      <th>target_arrival_time</th>\n",
       "      <th>target_arrival_time_err</th>\n",
       "      <th>target_distance</th>\n",
       "      <th>target_heeq_lon</th>\n",
       "      <th>target_heeq_lat</th>\n",
       "      <th>target_delta</th>\n",
       "      <th>sse_heeq_lon</th>\n",
       "      <th>sse_heeq_lat</th>\n",
       "      <th>sse_speed</th>\n",
       "      <th>sse_speed_err</th>\n",
       "      <th>target_speed</th>\n",
       "      <th>target_speed_err</th>\n",
       "      <th>pa_fit</th>\n",
       "      <th>pa_n</th>\n",
       "      <th>pa_s</th>\n",
       "      <th>pa_center</th>\n",
       "    </tr>\n",
       "  </thead>\n",
       "  <tbody>\n",
       "    <tr>\n",
       "      <th>0</th>\n",
       "      <td>HCME_A__20211226_01</td>\n",
       "      <td>A</td>\n",
       "      <td>Earth_L1</td>\n",
       "      <td>2021-12-26 04:10</td>\n",
       "      <td>2022-01-03 14:54</td>\n",
       "      <td>4.0</td>\n",
       "      <td>0.973</td>\n",
       "      <td>-0.00</td>\n",
       "      <td>-3.30</td>\n",
       "      <td>-25.0</td>\n",
       "      <td>25</td>\n",
       "      <td>-7</td>\n",
       "      <td>255</td>\n",
       "      <td>5</td>\n",
       "      <td>199</td>\n",
       "      <td>4</td>\n",
       "      <td>260</td>\n",
       "      <td>240</td>\n",
       "      <td>275</td>\n",
       "      <td>257.5</td>\n",
       "    </tr>\n",
       "    <tr>\n",
       "      <th>1</th>\n",
       "      <td>HCME_A__20211220_01</td>\n",
       "      <td>A</td>\n",
       "      <td>Earth_L1</td>\n",
       "      <td>2021-12-20 08:02</td>\n",
       "      <td>2021-12-24 12:55</td>\n",
       "      <td>1.9</td>\n",
       "      <td>0.974</td>\n",
       "      <td>0.00</td>\n",
       "      <td>-2.10</td>\n",
       "      <td>23.0</td>\n",
       "      <td>-23</td>\n",
       "      <td>-7</td>\n",
       "      <td>488</td>\n",
       "      <td>9</td>\n",
       "      <td>401</td>\n",
       "      <td>7</td>\n",
       "      <td>230</td>\n",
       "      <td>195</td>\n",
       "      <td>270</td>\n",
       "      <td>232.5</td>\n",
       "    </tr>\n",
       "    <tr>\n",
       "      <th>2</th>\n",
       "      <td>HCME_A__20211220_01</td>\n",
       "      <td>A</td>\n",
       "      <td>SolarOrbiter</td>\n",
       "      <td>2021-12-20 08:02</td>\n",
       "      <td>2021-12-24 03:32</td>\n",
       "      <td>1.7</td>\n",
       "      <td>1.012</td>\n",
       "      <td>-9.33</td>\n",
       "      <td>0.08</td>\n",
       "      <td>13.7</td>\n",
       "      <td>-23</td>\n",
       "      <td>-7</td>\n",
       "      <td>488</td>\n",
       "      <td>9</td>\n",
       "      <td>459</td>\n",
       "      <td>8</td>\n",
       "      <td>230</td>\n",
       "      <td>195</td>\n",
       "      <td>270</td>\n",
       "      <td>232.5</td>\n",
       "    </tr>\n",
       "    <tr>\n",
       "      <th>3</th>\n",
       "      <td>HCME_A__20211220_01</td>\n",
       "      <td>A</td>\n",
       "      <td>STEREO-A</td>\n",
       "      <td>2021-12-20 08:02</td>\n",
       "      <td>2021-12-23 22:02</td>\n",
       "      <td>1.6</td>\n",
       "      <td>0.964</td>\n",
       "      <td>-35.16</td>\n",
       "      <td>2.33</td>\n",
       "      <td>-12.2</td>\n",
       "      <td>-23</td>\n",
       "      <td>-7</td>\n",
       "      <td>488</td>\n",
       "      <td>9</td>\n",
       "      <td>466</td>\n",
       "      <td>9</td>\n",
       "      <td>230</td>\n",
       "      <td>195</td>\n",
       "      <td>270</td>\n",
       "      <td>232.5</td>\n",
       "    </tr>\n",
       "    <tr>\n",
       "      <th>4</th>\n",
       "      <td>HCME_A__20211220_01</td>\n",
       "      <td>A</td>\n",
       "      <td>Venus</td>\n",
       "      <td>2021-12-20 08:02</td>\n",
       "      <td>2021-12-23 00:44</td>\n",
       "      <td>1.2</td>\n",
       "      <td>0.720</td>\n",
       "      <td>-10.06</td>\n",
       "      <td>-0.40</td>\n",
       "      <td>12.9</td>\n",
       "      <td>-23</td>\n",
       "      <td>-7</td>\n",
       "      <td>488</td>\n",
       "      <td>9</td>\n",
       "      <td>463</td>\n",
       "      <td>9</td>\n",
       "      <td>230</td>\n",
       "      <td>195</td>\n",
       "      <td>270</td>\n",
       "      <td>232.5</td>\n",
       "    </tr>\n",
       "    <tr>\n",
       "      <th>...</th>\n",
       "      <td>...</td>\n",
       "      <td>...</td>\n",
       "      <td>...</td>\n",
       "      <td>...</td>\n",
       "      <td>...</td>\n",
       "      <td>...</td>\n",
       "      <td>...</td>\n",
       "      <td>...</td>\n",
       "      <td>...</td>\n",
       "      <td>...</td>\n",
       "      <td>...</td>\n",
       "      <td>...</td>\n",
       "      <td>...</td>\n",
       "      <td>...</td>\n",
       "      <td>...</td>\n",
       "      <td>...</td>\n",
       "      <td>...</td>\n",
       "      <td>...</td>\n",
       "      <td>...</td>\n",
       "      <td>...</td>\n",
       "    </tr>\n",
       "    <tr>\n",
       "      <th>1718</th>\n",
       "      <td>HCME_A__20070518_01</td>\n",
       "      <td>A</td>\n",
       "      <td>Venus</td>\n",
       "      <td>2007-05-17 20:34</td>\n",
       "      <td>2007-05-20 09:17</td>\n",
       "      <td>0.3</td>\n",
       "      <td>0.720</td>\n",
       "      <td>-57.25</td>\n",
       "      <td>-3.69</td>\n",
       "      <td>20.7</td>\n",
       "      <td>-78</td>\n",
       "      <td>-20</td>\n",
       "      <td>574</td>\n",
       "      <td>3</td>\n",
       "      <td>493</td>\n",
       "      <td>3</td>\n",
       "      <td>110</td>\n",
       "      <td>95</td>\n",
       "      <td>115</td>\n",
       "      <td>105.0</td>\n",
       "    </tr>\n",
       "    <tr>\n",
       "      <th>1719</th>\n",
       "      <td>HCME_A__20070518_01</td>\n",
       "      <td>A</td>\n",
       "      <td>Mercury</td>\n",
       "      <td>2007-05-17 20:34</td>\n",
       "      <td>2007-05-19 01:13</td>\n",
       "      <td>0.1</td>\n",
       "      <td>0.337</td>\n",
       "      <td>-99.24</td>\n",
       "      <td>0.56</td>\n",
       "      <td>-21.2</td>\n",
       "      <td>-78</td>\n",
       "      <td>-20</td>\n",
       "      <td>574</td>\n",
       "      <td>3</td>\n",
       "      <td>489</td>\n",
       "      <td>3</td>\n",
       "      <td>110</td>\n",
       "      <td>95</td>\n",
       "      <td>115</td>\n",
       "      <td>105.0</td>\n",
       "    </tr>\n",
       "    <tr>\n",
       "      <th>1720</th>\n",
       "      <td>HCME_A__20070516_01</td>\n",
       "      <td>A</td>\n",
       "      <td>Venus</td>\n",
       "      <td>2007-05-15 16:24</td>\n",
       "      <td>2007-05-18 23:10</td>\n",
       "      <td>0.2</td>\n",
       "      <td>0.720</td>\n",
       "      <td>-58.20</td>\n",
       "      <td>-3.74</td>\n",
       "      <td>-5.2</td>\n",
       "      <td>-53</td>\n",
       "      <td>16</td>\n",
       "      <td>383</td>\n",
       "      <td>1</td>\n",
       "      <td>380</td>\n",
       "      <td>1</td>\n",
       "      <td>70</td>\n",
       "      <td>30</td>\n",
       "      <td>120</td>\n",
       "      <td>75.0</td>\n",
       "    </tr>\n",
       "    <tr>\n",
       "      <th>1721</th>\n",
       "      <td>HCME_A__20070509_01</td>\n",
       "      <td>A</td>\n",
       "      <td>Mercury</td>\n",
       "      <td>2007-05-09 06:13</td>\n",
       "      <td>2007-05-10 07:53</td>\n",
       "      <td>2.8</td>\n",
       "      <td>0.308</td>\n",
       "      <td>-142.21</td>\n",
       "      <td>2.96</td>\n",
       "      <td>-0.2</td>\n",
       "      <td>-142</td>\n",
       "      <td>2</td>\n",
       "      <td>499</td>\n",
       "      <td>54</td>\n",
       "      <td>499</td>\n",
       "      <td>54</td>\n",
       "      <td>90</td>\n",
       "      <td>50</td>\n",
       "      <td>125</td>\n",
       "      <td>87.5</td>\n",
       "    </tr>\n",
       "    <tr>\n",
       "      <th>1722</th>\n",
       "      <td>HCME_A__20070419_01</td>\n",
       "      <td>A</td>\n",
       "      <td>Venus</td>\n",
       "      <td>2007-04-19 06:50</td>\n",
       "      <td>2007-04-22 23:34</td>\n",
       "      <td>0.5</td>\n",
       "      <td>0.718</td>\n",
       "      <td>-75.33</td>\n",
       "      <td>-3.42</td>\n",
       "      <td>-20.3</td>\n",
       "      <td>-55</td>\n",
       "      <td>-15</td>\n",
       "      <td>389</td>\n",
       "      <td>2</td>\n",
       "      <td>336</td>\n",
       "      <td>2</td>\n",
       "      <td>105</td>\n",
       "      <td>40</td>\n",
       "      <td>140</td>\n",
       "      <td>90.0</td>\n",
       "    </tr>\n",
       "  </tbody>\n",
       "</table>\n",
       "<p>1723 rows × 20 columns</p>\n",
       "</div>"
      ],
      "text/plain": [
       "                       id sc   target_name   sse_launch_time  \\\n",
       "0     HCME_A__20211226_01  A      Earth_L1  2021-12-26 04:10   \n",
       "1     HCME_A__20211220_01  A      Earth_L1  2021-12-20 08:02   \n",
       "2     HCME_A__20211220_01  A  SolarOrbiter  2021-12-20 08:02   \n",
       "3     HCME_A__20211220_01  A      STEREO-A  2021-12-20 08:02   \n",
       "4     HCME_A__20211220_01  A         Venus  2021-12-20 08:02   \n",
       "...                   ... ..           ...               ...   \n",
       "1718  HCME_A__20070518_01  A         Venus  2007-05-17 20:34   \n",
       "1719  HCME_A__20070518_01  A       Mercury  2007-05-17 20:34   \n",
       "1720  HCME_A__20070516_01  A         Venus  2007-05-15 16:24   \n",
       "1721  HCME_A__20070509_01  A       Mercury  2007-05-09 06:13   \n",
       "1722  HCME_A__20070419_01  A         Venus  2007-04-19 06:50   \n",
       "\n",
       "     target_arrival_time  target_arrival_time_err  target_distance  \\\n",
       "0       2022-01-03 14:54                      4.0            0.973   \n",
       "1       2021-12-24 12:55                      1.9            0.974   \n",
       "2       2021-12-24 03:32                      1.7            1.012   \n",
       "3       2021-12-23 22:02                      1.6            0.964   \n",
       "4       2021-12-23 00:44                      1.2            0.720   \n",
       "...                  ...                      ...              ...   \n",
       "1718    2007-05-20 09:17                      0.3            0.720   \n",
       "1719    2007-05-19 01:13                      0.1            0.337   \n",
       "1720    2007-05-18 23:10                      0.2            0.720   \n",
       "1721    2007-05-10 07:53                      2.8            0.308   \n",
       "1722    2007-04-22 23:34                      0.5            0.718   \n",
       "\n",
       "      target_heeq_lon  target_heeq_lat  target_delta sse_heeq_lon  \\\n",
       "0               -0.00            -3.30         -25.0           25   \n",
       "1                0.00            -2.10          23.0          -23   \n",
       "2               -9.33             0.08          13.7          -23   \n",
       "3              -35.16             2.33         -12.2          -23   \n",
       "4              -10.06            -0.40          12.9          -23   \n",
       "...               ...              ...           ...          ...   \n",
       "1718           -57.25            -3.69          20.7          -78   \n",
       "1719           -99.24             0.56         -21.2          -78   \n",
       "1720           -58.20            -3.74          -5.2          -53   \n",
       "1721          -142.21             2.96          -0.2         -142   \n",
       "1722           -75.33            -3.42         -20.3          -55   \n",
       "\n",
       "     sse_heeq_lat sse_speed sse_speed_err target_speed target_speed_err  \\\n",
       "0              -7       255             5          199                4   \n",
       "1              -7       488             9          401                7   \n",
       "2              -7       488             9          459                8   \n",
       "3              -7       488             9          466                9   \n",
       "4              -7       488             9          463                9   \n",
       "...           ...       ...           ...          ...              ...   \n",
       "1718          -20       574             3          493                3   \n",
       "1719          -20       574             3          489                3   \n",
       "1720           16       383             1          380                1   \n",
       "1721            2       499            54          499               54   \n",
       "1722          -15       389             2          336                2   \n",
       "\n",
       "     pa_fit pa_n pa_s  pa_center  \n",
       "0       260  240  275      257.5  \n",
       "1       230  195  270      232.5  \n",
       "2       230  195  270      232.5  \n",
       "3       230  195  270      232.5  \n",
       "4       230  195  270      232.5  \n",
       "...     ...  ...  ...        ...  \n",
       "1718    110   95  115      105.0  \n",
       "1719    110   95  115      105.0  \n",
       "1720     70   30  120       75.0  \n",
       "1721     90   50  125       87.5  \n",
       "1722    105   40  140       90.0  \n",
       "\n",
       "[1723 rows x 20 columns]"
      ]
     },
     "execution_count": 8,
     "metadata": {},
     "output_type": "execute_result"
    }
   ],
   "source": [
    "ac"
   ]
  },
  {
   "cell_type": "code",
   "execution_count": 9,
   "metadata": {},
   "outputs": [
    {
     "data": {
      "text/plain": [
       "'Earth_L1'"
      ]
     },
     "execution_count": 9,
     "metadata": {},
     "output_type": "execute_result"
    }
   ],
   "source": [
    "ac_rec.id\n",
    "ac_rec.target_name[5]"
   ]
  },
  {
   "cell_type": "code",
   "execution_count": 10,
   "metadata": {},
   "outputs": [
    {
     "data": {
      "text/plain": [
       "array([(   0, 'HCME_A__20211226_01', 'A', 'Earth_L1', 738150.17361111, 738158.62083333, 4. , 0.973,   -0.  , -3.3 , -25. ,   25.,  -7., 255.,  5., 199.,  4., 260., 240., 275., 257.5),\n",
       "       (   1, 'HCME_A__20211220_01', 'A', 'Earth_L1', 738144.33472222, 738148.53819444, 1.9, 0.974,    0.  , -2.1 ,  23. ,  -23.,  -7., 488.,  9., 401.,  7., 230., 195., 270., 232.5),\n",
       "       (   2, 'HCME_A__20211220_01', 'A', 'SolarOrbiter', 738144.33472222, 738148.14722222, 1.7, 1.012,   -9.33,  0.08,  13.7,  -23.,  -7., 488.,  9., 459.,  8., 230., 195., 270., 232.5),\n",
       "       ...,\n",
       "       (1720, 'HCME_A__20070516_01', 'A', 'Venus', 732811.68333333, 732814.96527778, 0.2, 0.72 ,  -58.2 , -3.74,  -5.2,  -53.,  16., 383.,  1., 380.,  1.,  70.,  30., 120.,  75. ),\n",
       "       (1721, 'HCME_A__20070509_01', 'A', 'Mercury', 732805.25902778, 732806.32847222, 2.8, 0.308, -142.21,  2.96,  -0.2, -142.,   2., 499., 54., 499., 54.,  90.,  50., 125.,  87.5),\n",
       "       (1722, 'HCME_A__20070419_01', 'A', 'Venus', 732785.28472222, 732788.98194444, 0.5, 0.718,  -75.33, -3.42, -20.3,  -55., -15., 389.,  2., 336.,  2., 105.,  40., 140.,  90. )],\n",
       "      dtype=[('index', '<i8'), ('id', '<U30'), ('sc', '<U20'), ('target_name', '<U20'), ('sse_launch_time', '<f8'), ('target_arrival_time', '<f8'), ('target_arrival_time_err', '<f8'), ('target_distance', '<f8'), ('target_heeq_lon', '<f8'), ('target_heeq_lat', '<f8'), ('target_delta', '<f8'), ('sse_heeq_lon', '<f8'), ('sse_heeq_lat', '<f8'), ('sse_speed', '<f8'), ('sse_speed_err', '<f8'), ('target_speed', '<f8'), ('target_speed_err', '<f8'), ('pa_fit', '<f8'), ('pa_n', '<f8'), ('pa_s', '<f8'), ('pa_center', '<f8')])"
      ]
     },
     "execution_count": 10,
     "metadata": {},
     "output_type": "execute_result"
    }
   ],
   "source": [
    "ac_struct"
   ]
  },
  {
   "cell_type": "code",
   "execution_count": 11,
   "metadata": {},
   "outputs": [
    {
     "name": "stdout",
     "output_type": "stream",
     "text": [
      "[-1.66666657e-02 -3.33333313e-02 -1.51666667e+00 -3.33333341e-02\n",
      "  8.16666668e-01 -5.33000000e+01 -2.33183333e+02 -7.15000000e+00\n",
      " -1.21666667e+00 -3.44833333e+01 -1.07800000e+02 -6.66666655e-02\n",
      " -2.46000000e+01 -2.66666668e-01 -3.63683333e+02 -1.33583333e+02\n",
      " -1.50333333e+01 -2.13833333e+01 -1.87666667e+01 -2.08666667e+01\n",
      " -1.20666667e+01 -5.30000000e+00 -2.52666667e+01 -2.32166667e+01\n",
      " -2.15500000e+01 -4.62666667e+01 -4.21666667e+01 -1.32166667e+02\n",
      " -2.13400000e+02 -1.00483333e+02 -3.01500000e+01 -3.50666667e+01\n",
      " -1.22033333e+02 -1.90966667e+02 -1.74300000e+02 -2.06250000e+02\n",
      " -1.41200000e+02 -1.10483333e+02 -1.11183333e+02 -1.15166667e+02\n",
      " -3.95450000e+02 -6.32500000e+02 -6.67600000e+02 -6.25966667e+02\n",
      " -3.46666667e+02 -9.79333333e+01 -1.20516667e+02 -1.31150000e+02\n",
      " -1.54400000e+02 -2.60266667e+02 -2.34600000e+02 -2.22183333e+02\n",
      " -1.99766667e+02 -5.35000000e+02 -6.71150000e+02 -8.15633333e+02\n",
      " -8.11600000e+02 -4.54566667e+02 -3.31100000e+02 -2.27866667e+02\n",
      " -2.41133333e+02 -1.54116667e+02 -1.29333333e+02 -1.31600000e+02\n",
      " -1.12483333e+02 -2.81450000e+02 -2.88483333e+02 -3.28983333e+02\n",
      " -4.38983333e+02 -2.86316667e+02 -3.81616667e+02 -2.98833333e+02\n",
      " -1.93933333e+02 -1.78583333e+02 -1.02000000e+02 -3.28033333e+02\n",
      " -3.66050000e+02 -3.35533333e+02 -3.59233333e+02 -2.77416667e+02\n",
      " -2.42133333e+02 -3.29933333e+02 -2.96150000e+02 -1.65450000e+02\n",
      " -3.59216667e+02 -2.98650000e+02 -2.79316667e+02 -3.98550000e+02\n",
      " -1.88750000e+02 -1.63516667e+02 -1.70716667e+02 -3.67583333e+02\n",
      " -4.84716667e+02 -4.80866667e+02 -6.99833333e+02 -7.34166667e+02\n",
      " -7.80183333e+02 -6.95550000e+02 -7.73600000e+02 -5.78283333e+02]\n"
     ]
    }
   ],
   "source": [
    "ac_struct['id']\n",
    "ac_struct['id'][100]\n",
    "\n",
    "#comparison old and new method for arrival time prediction\n",
    "deltata=(parse_time(ac.target_arrival_time[0:100]).plot_date-parse_time(ac_old.target_arrival_time).plot_date[0:100])*24\n",
    "print(deltata)"
   ]
  },
  {
   "cell_type": "markdown",
   "metadata": {},
   "source": [
    "### plot directions and targets"
   ]
  },
  {
   "cell_type": "code",
   "execution_count": 12,
   "metadata": {},
   "outputs": [
    {
     "name": "stdout",
     "output_type": "stream",
     "text": [
      "saved as  arrcat/plots_arrcat/arrcat_targets.png\n"
     ]
    },
    {
     "data": {
      "image/png": "[encoded data removed]",
      "text/plain": [
       "<Figure size 1800x1000 with 2 Axes>"
      ]
     },
     "metadata": {},
     "output_type": "display_data"
    }
   ],
   "source": [
    "\n",
    "plt.rcParams[\"figure.figsize\"] = (19,11)\n",
    "\n",
    "sns.set_context('talk')\n",
    "sns.set_style('darkgrid')\n",
    "\n",
    "\n",
    "\n",
    "fig=plt.figure(1, figsize=(18,10), dpi=100) \n",
    "ax = plt.subplot(121,projection='polar') \n",
    "\n",
    "plt.title('ARRCAT CME arrivals at targets [HEEQ longitude]')\n",
    "\n",
    "#get indices for each target\n",
    "merci=np.where(ac.target_name=='Mercury')[0]\n",
    "venusi=np.where(ac.target_name=='Venus')[0]\n",
    "earthi=np.where(ac.target_name=='Earth_L1')[0]\n",
    "marsi=np.where(ac.target_name=='Mars')[0]\n",
    "\n",
    "stai=np.where(ac.target_name=='STEREO-A')[0]\n",
    "stbi=np.where(ac.target_name=='STEREO-B')[0]\n",
    "pspi=np.where(ac.target_name=='PSP')[0]\n",
    "soloi=np.where(ac.target_name=='SolarOrbiter')[0]\n",
    "bepii=np.where(ac.target_name=='BepiColombo')[0]\n",
    "ulyi=np.where(ac.target_name=='Ulysses')[0]\n",
    "\n",
    "#markersize\n",
    "ms=15\n",
    "#alpha\n",
    "al=0.6\n",
    "\n",
    "ax.scatter(np.radians(ac.target_heeq_lon[merci]),ac.target_distance[merci],s=ms,c='dimgrey', alpha=al)\n",
    "ax.scatter(np.radians(ac.target_heeq_lon[venusi]),ac.target_distance[venusi],s=ms,c='orange', alpha=al)\n",
    "ax.scatter(np.radians(ac.target_heeq_lon[earthi]),ac.target_distance[earthi],s=ms,c='mediumseagreen', alpha=al)\n",
    "ax.scatter(np.radians(ac.target_heeq_lon[marsi]),ac.target_distance[marsi],s=ms,c='orangered', alpha=al)\n",
    "\n",
    "ax.scatter(np.radians(ac.target_heeq_lon[stai]),ac.target_distance[stai],s=ms,c='red', alpha=al)\n",
    "ax.scatter(np.radians(ac.target_heeq_lon[stbi]),ac.target_distance[stbi],s=ms,c='blue', alpha=al)\n",
    "\n",
    "ax.scatter(np.radians(ac.target_heeq_lon[pspi]),ac.target_distance[pspi],s=ms,c='black', alpha=al)\n",
    "ax.scatter(np.radians(ac.target_heeq_lon[soloi]),ac.target_distance[soloi],s=ms,c='green', alpha=al)\n",
    "ax.scatter(np.radians(ac.target_heeq_lon[bepii]),ac.target_distance[bepii],s=ms,c='violet', alpha=al)\n",
    "ax.scatter(np.radians(ac.target_heeq_lon[ulyi]),ac.target_distance[ulyi],s=ms,c='brown', alpha=al)\n",
    "\n",
    "plt.ylim([0,np.max(ac.target_distance)+0.03])\n",
    "\n",
    "\n",
    "\n",
    "ax = plt.subplot(122,projection='polar')\n",
    "plt.title('HIGeoCAT SSE speed')\n",
    "hiai=np.where(ac.sc=='A')[0]\n",
    "hibi=np.where(ac.sc=='B')[0]\n",
    "\n",
    "ax.scatter(np.radians(ac.sse_heeq_lon[hiai].astype(float)),ac.sse_speed[hiai],s=ms,c='red', alpha=al)\n",
    "ax.scatter(np.radians(ac.sse_heeq_lon[hibi].astype(float)),ac.sse_speed[hibi],s=ms,c='blue', alpha=al)\n",
    "\n",
    "plt.ylim([0,2000])\n",
    "\n",
    "plt.tight_layout()\n",
    "\n",
    "plotfile='arrcat/plots_arrcat/arrcat_targets.png'\n",
    "plt.savefig(plotfile,dpi=100)\n",
    "print('saved as ',plotfile)"
   ]
  },
  {
   "cell_type": "markdown",
   "metadata": {},
   "source": [
    "### plot error distributions"
   ]
  },
  {
   "cell_type": "code",
   "execution_count": 13,
   "metadata": {},
   "outputs": [
    {
     "name": "stderr",
     "output_type": "stream",
     "text": [
      "/home/cmoestl/miniconda/envs/helio/lib/python3.7/site-packages/seaborn/distributions.py:2551: FutureWarning: `distplot` is a deprecated function and will be removed in a future version. Please adapt your code to use either `displot` (a figure-level function with similar flexibility) or `histplot` (an axes-level function for histograms).\n",
      "  warnings.warn(msg, FutureWarning)\n",
      "/home/cmoestl/miniconda/envs/helio/lib/python3.7/site-packages/seaborn/distributions.py:2055: FutureWarning: The `axis` variable is no longer used and will be removed. Instead, assign variables directly to `x` or `y`.\n",
      "  warnings.warn(msg, FutureWarning)\n",
      "/home/cmoestl/miniconda/envs/helio/lib/python3.7/site-packages/seaborn/distributions.py:2551: FutureWarning: `distplot` is a deprecated function and will be removed in a future version. Please adapt your code to use either `displot` (a figure-level function with similar flexibility) or `histplot` (an axes-level function for histograms).\n",
      "  warnings.warn(msg, FutureWarning)\n"
     ]
    },
    {
     "name": "stdout",
     "output_type": "stream",
     "text": [
      "mean sse_speed error 42 +/- 83  km/s\n"
     ]
    },
    {
     "name": "stderr",
     "output_type": "stream",
     "text": [
      "/home/cmoestl/miniconda/envs/helio/lib/python3.7/site-packages/seaborn/distributions.py:2055: FutureWarning: The `axis` variable is no longer used and will be removed. Instead, assign variables directly to `x` or `y`.\n",
      "  warnings.warn(msg, FutureWarning)\n"
     ]
    },
    {
     "name": "stdout",
     "output_type": "stream",
     "text": [
      "mean target arrival time error from sse_speed error 6 +/- 33 hours\n",
      "saved as  arrcat/plots_arrcat/arrcat_errors_dist.png\n"
     ]
    },
    {
     "data": {
      "image/png": "[encoded data removed]",
      "text/plain": [
       "<Figure size 1800x800 with 2 Axes>"
      ]
     },
     "metadata": {},
     "output_type": "display_data"
    }
   ],
   "source": [
    "fig=plt.figure(2, figsize=(18,8), dpi=100)\n",
    "\n",
    "ax = plt.subplot(121) \n",
    "sns.distplot(ac.sse_speed_err,bins=200,kde=False,rug=True)\n",
    "plt.xlim(0,200)\n",
    "plt.ylabel('events')\n",
    "plt.xlabel('sse_speed_err [km/s]')\n",
    "plt.title('HIGeoCAT SSE speed error distribution')\n",
    "print('mean sse_speed error',np.mean(ac.sse_speed_err).astype(int),'+/-',np.std(ac.sse_speed_err).astype(int),' km/s' )\n",
    "\n",
    "ax2 = plt.subplot(122) \n",
    "sns.distplot(ac.target_arrival_time_err,bins=800,kde=False,rug=True)\n",
    "plt.xlim(0,70)\n",
    "plt.title('ARRCAT target arrival time error distribution')\n",
    "plt.ylabel('events')\n",
    "plt.xlabel('target_arrival_time_err [hours]')\n",
    "print('mean target arrival time error from sse_speed error',np.mean(ac.target_arrival_time_err).astype(int),'+/-',np.std(ac.target_arrival_time_err).astype(int),'hours' )\n",
    "\n",
    "plt.tight_layout()\n",
    "\n",
    "plotfile='arrcat/plots_arrcat/arrcat_errors_dist.png'\n",
    "plt.savefig(plotfile,dpi=100)\n",
    "print('saved as ',plotfile)"
   ]
  },
  {
   "cell_type": "markdown",
   "metadata": {},
   "source": [
    "## HIGeoCAT CME rates plot\n",
    "\n",
    "\n",
    "\n",
    "\n"
   ]
  },
  {
   "cell_type": "code",
   "execution_count": 14,
   "metadata": {},
   "outputs": [
    {
     "data": {
      "text/plain": [
       "\"\\n(histmerc1, bin_edgesmerc) = np.histogram(parse_time(ac.sse_launch_time[merci]).jd, yearly_bin_edges)\\n(histvenus1, bin_edgesvenus) = np.histogram(parse_time(ac.sse_launch_time[venusi]).jd, yearly_bin_edges)\\n(histearth1, bin_edgesearth) = np.histogram(parse_time(ac.sse_launch_time[earthi]).jd, yearly_bin_edges)\\n(histmars1, bin_edgesmars) = np.histogram(parse_time(ac.sse_launch_time[marsi]).jd, yearly_bin_edges)\\n(histstb1, bin_edgesstb) = np.histogram(parse_time(ac.sse_launch_time[stbi]).jd, yearly_bin_edges)\\n(histsta1, bin_edgessta) = np.histogram(parse_time(ac.sse_launch_time[stai]).jd, yearly_bin_edges)\\n(histpsp1, bin_edgespsp) = np.histogram(parse_time(ac.sse_launch_time[pspi]).jd, yearly_bin_edges)\\n(histbepi1, bin_edgesbepi) = np.histogram(parse_time(ac.sse_launch_time[bepi]).jd, yearly_bin_edges)\\n(histsolo1, bin_edgessolo) = np.histogram(parse_time(ac.sse_launch_time[soloi]).jd, yearly_bin_edges)\\n\\n\\n# these are for arrcat\\nhiai=np.where(ac.sc=='A')[0]\\nhibi=np.where(ac.sc=='B')[0]\\n\\n\\n(hist_hia, binedges) = np.histogram(parse_time(ac.sse_launch_time[hiai]).plot_date, yearly_bin_edges)\\n(hist_hib, binedges) = np.histogram(parse_time(ac.sse_launch_time[hibi]).plot_date, yearly_bin_edges)\\n\\n\\n\""
      ]
     },
     "execution_count": 14,
     "metadata": {},
     "output_type": "execute_result"
    }
   ],
   "source": [
    "'''\n",
    "(histmerc1, bin_edgesmerc) = np.histogram(parse_time(ac.sse_launch_time[merci]).jd, yearly_bin_edges)\n",
    "(histvenus1, bin_edgesvenus) = np.histogram(parse_time(ac.sse_launch_time[venusi]).jd, yearly_bin_edges)\n",
    "(histearth1, bin_edgesearth) = np.histogram(parse_time(ac.sse_launch_time[earthi]).jd, yearly_bin_edges)\n",
    "(histmars1, bin_edgesmars) = np.histogram(parse_time(ac.sse_launch_time[marsi]).jd, yearly_bin_edges)\n",
    "(histstb1, bin_edgesstb) = np.histogram(parse_time(ac.sse_launch_time[stbi]).jd, yearly_bin_edges)\n",
    "(histsta1, bin_edgessta) = np.histogram(parse_time(ac.sse_launch_time[stai]).jd, yearly_bin_edges)\n",
    "(histpsp1, bin_edgespsp) = np.histogram(parse_time(ac.sse_launch_time[pspi]).jd, yearly_bin_edges)\n",
    "(histbepi1, bin_edgesbepi) = np.histogram(parse_time(ac.sse_launch_time[bepi]).jd, yearly_bin_edges)\n",
    "(histsolo1, bin_edgessolo) = np.histogram(parse_time(ac.sse_launch_time[soloi]).jd, yearly_bin_edges)\n",
    "\n",
    "\n",
    "# these are for arrcat\n",
    "hiai=np.where(ac.sc=='A')[0]\n",
    "hibi=np.where(ac.sc=='B')[0]\n",
    "\n",
    "\n",
    "(hist_hia, binedges) = np.histogram(parse_time(ac.sse_launch_time[hiai]).plot_date, yearly_bin_edges)\n",
    "(hist_hib, binedges) = np.histogram(parse_time(ac.sse_launch_time[hibi]).plot_date, yearly_bin_edges)\n",
    "\n",
    "\n",
    "'''\n",
    "\n",
    "\n"
   ]
  },
  {
   "cell_type": "code",
   "execution_count": 15,
   "metadata": {},
   "outputs": [
    {
     "name": "stdout",
     "output_type": "stream",
     "text": [
      "saved as  arrcat/plots_arrcat/higeocat_rate.png\n"
     ]
    },
    {
     "data": {
      "image/png": "[encoded data removed]",
      "text/plain": [
       "<Figure size 1120x640 with 1 Axes>"
      ]
     },
     "metadata": {},
     "output_type": "display_data"
    }
   ],
   "source": [
    "last_year=2022\n",
    "#define dates of January 1 from 2007 to 2020\n",
    "years_jan_1_str=[str(i)+'-01-01' for i in np.arange(2007,last_year+1) ] \n",
    "yearly_bin_edges=parse_time(years_jan_1_str).plot_date\n",
    "\n",
    "#\n",
    "hiai=np.where(higeocat['SC']==b'A')[0]\n",
    "hibi=np.where(higeocat['SC']==b'B')[0]\n",
    "\n",
    "\n",
    "hia_t0=higeocat['SSE Launch'][hiai]\n",
    "\n",
    "hib_t0=higeocat['SSE Launch'][hibi]\n",
    "\n",
    "\n",
    "(hist_hia, binedges) = np.histogram(parse_time(hia_t0).plot_date, yearly_bin_edges)\n",
    "(hist_hib, binedges) = np.histogram(parse_time(hib_t0).plot_date, yearly_bin_edges)\n",
    "\n",
    "#convert back to datetime and make shape consistent\n",
    "binedges1=binedges[:-1]+mdates.date2num(np.datetime64('0000-12-31'))\n",
    "\n",
    "#change matplotlib time before plotting\n",
    "yearly_bin_edges2=yearly_bin_edges + mdates.date2num(np.datetime64('0000-12-31'))\n",
    "\n",
    "\n",
    "#---------------------------------------------------------------\n",
    "sns.set_context(\"talk\")     \n",
    "#sns.set_style('darkgrid')\n",
    "#sns.set_style('whitegrid',{'grid.linestyle': '--'})\n",
    "\n",
    "sns.set_style(\"ticks\",{'grid.linestyle': '--'})\n",
    "fsize=15\n",
    "\n",
    "fig=plt.figure(1,figsize=(14,8),dpi=80)\n",
    "\n",
    "\n",
    "\n",
    "ax1 = plt.subplot(111) \n",
    "ax1.set_title('Yearly CME rate observed by the STEREO heliospheric imagers',fontsize=15)\n",
    "\n",
    "ax1.xaxis_date()\n",
    "myformat = mdates.DateFormatter('%Y')\n",
    "ax1.xaxis.set_major_formatter(myformat)\n",
    "\n",
    "binweite=365/3\n",
    "alp=1.0\n",
    "ax1.bar(binedges1+binweite,hist_hia, width=binweite,color='tomato', alpha=alp,label='HI on STEREO-A')\n",
    "ax1.bar(binedges1+binweite*2,hist_hib, width=binweite,color='mediumslateblue', alpha=alp,label='HI on STEREO-B')\n",
    "\n",
    "ax1.set_xlim(yearly_bin_edges2[0],yearly_bin_edges2[-1])\n",
    "ax1.legend(loc=2,fontsize=14)\n",
    "ax1.grid(alpha=0.5)\n",
    "ax1.set_xticks(yearly_bin_edges2) \n",
    "ax1.set_ylabel('CMEs observed per year')\n",
    "\n",
    "ax1.text(yearly_bin_edges2[11],165,'last update: '+last_update,fontsize=15,zorder=2,horizontalalignment='center')\n",
    "\n",
    "\n",
    "plotfile='arrcat/plots_arrcat/higeocat_rate.png'\n",
    "plt.savefig(plotfile,dpi=100)\n",
    "print('saved as ',plotfile)\n"
   ]
  },
  {
   "cell_type": "code",
   "execution_count": null,
   "metadata": {},
   "outputs": [],
   "source": []
  },
  {
   "cell_type": "code",
   "execution_count": null,
   "metadata": {},
   "outputs": [],
   "source": []
  }
 ],
 "metadata": {
  "kernelspec": {
   "display_name": "Python 3",
   "language": "python",
   "name": "python3"
  },
  "language_info": {
   "codemirror_mode": {
    "name": "ipython",
    "version": 3
   },
   "file_extension": ".py",
   "mimetype": "text/x-python",
   "name": "python",
   "nbconvert_exporter": "python",
   "pygments_lexer": "ipython3",
   "version": "3.7.6"
  }
 },
 "nbformat": 4,
 "nbformat_minor": 4
}
