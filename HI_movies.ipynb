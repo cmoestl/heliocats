{
 "cells": [
  {
   "cell_type": "markdown",
   "metadata": {},
   "source": [
    "## make long HI and LASCO movies"
   ]
  },
  {
   "cell_type": "code",
   "execution_count": 4,
   "metadata": {},
   "outputs": [],
   "source": [
    "from matplotlib import cm\n",
    "import sys\n",
    "import os\n",
    "import matplotlib\n",
    "import matplotlib.pyplot as plt\n",
    "import matplotlib.dates as mdates\n",
    "import numpy as np\n",
    "import sunpy.time\n",
    "import time\n",
    "import pickle\n",
    "import seaborn as sns\n",
    "import math\n",
    "import urllib"
   ]
  },
  {
   "cell_type": "markdown",
   "metadata": {},
   "source": [
    "## HIA"
   ]
  },
  {
   "cell_type": "code",
   "execution_count": 24,
   "metadata": {},
   "outputs": [
    {
     "name": "stdout",
     "output_type": "stream",
     "text": [
      "https://www.ukssdc.ac.uk/solar/stereo/movies/MOVIES/2018/01_January/201801_hi1a_1_25_m5_stardiff.mpg\n",
      "https://www.ukssdc.ac.uk/solar/stereo/movies/MOVIES/2018/02_February/201802_hi1a_1_25_m5_stardiff.mpg\n",
      "https://www.ukssdc.ac.uk/solar/stereo/movies/MOVIES/2018/03_March/201803_hi1a_1_25_m5_stardiff.mpg\n",
      "https://www.ukssdc.ac.uk/solar/stereo/movies/MOVIES/2018/04_April/201804_hi1a_1_25_m5_stardiff.mpg\n",
      "https://www.ukssdc.ac.uk/solar/stereo/movies/MOVIES/2018/05_May/201805_hi1a_1_25_m5_stardiff.mpg\n",
      "https://www.ukssdc.ac.uk/solar/stereo/movies/MOVIES/2018/06_June/201806_hi1a_1_25_m5_stardiff.mpg\n",
      "https://www.ukssdc.ac.uk/solar/stereo/movies/MOVIES/2018/07_July/201807_hi1a_1_25_m5_stardiff.mpg\n",
      "https://www.ukssdc.ac.uk/solar/stereo/movies/MOVIES/2018/08_August/201808_hi1a_1_25_m5_stardiff.mpg\n",
      "https://www.ukssdc.ac.uk/solar/stereo/movies/MOVIES/2018/09_September/201809_hi1a_1_25_m5_stardiff.mpg\n",
      "https://www.ukssdc.ac.uk/solar/stereo/movies/MOVIES/2018/10_October/201810_hi1a_1_25_m5_stardiff.mpg\n",
      "https://www.ukssdc.ac.uk/solar/stereo/movies/MOVIES/2018/11_November/201811_hi1a_1_25_m5_stardiff.mpg\n",
      "https://www.ukssdc.ac.uk/solar/stereo/movies/MOVIES/2018/12_December/201812_hi1a_1_25_m5_stardiff.mpg\n",
      "https://www.ukssdc.ac.uk/solar/stereo/movies/MOVIES/2019/01_January/201901_hi1a_1_25_m5_stardiff.mpg\n",
      "https://www.ukssdc.ac.uk/solar/stereo/movies/MOVIES/2019/02_February/201902_hi1a_1_25_m5_stardiff.mpg\n",
      "https://www.ukssdc.ac.uk/solar/stereo/movies/MOVIES/2019/03_March/201903_hi1a_1_25_m5_stardiff.mpg\n",
      "https://www.ukssdc.ac.uk/solar/stereo/movies/MOVIES/2019/04_April/201904_hi1a_1_25_m5_stardiff.mpg\n",
      "https://www.ukssdc.ac.uk/solar/stereo/movies/MOVIES/2019/05_May/201905_hi1a_1_25_m5_stardiff.mpg\n",
      "https://www.ukssdc.ac.uk/solar/stereo/movies/MOVIES/2019/06_June/201906_hi1a_1_25_m5_stardiff.mpg\n",
      "https://www.ukssdc.ac.uk/solar/stereo/movies/MOVIES/2019/07_July/201907_hi1a_1_25_m5_stardiff.mpg\n",
      "https://www.ukssdc.ac.uk/solar/stereo/movies/MOVIES/2019/08_August/201908_hi1a_1_25_m5_stardiff.mpg\n",
      "https://www.ukssdc.ac.uk/solar/stereo/movies/MOVIES/2019/09_September/201909_hi1a_1_25_m5_stardiff.mpg\n",
      "https://www.ukssdc.ac.uk/solar/stereo/movies/MOVIES/2019/10_October/201910_hi1a_1_25_m5_stardiff.mpg\n",
      "https://www.ukssdc.ac.uk/solar/stereo/movies/MOVIES/2019/11_November/201911_hi1a_1_25_m5_stardiff.mpg\n",
      "https://www.ukssdc.ac.uk/solar/stereo/movies/MOVIES/2019/12_December/201912_hi1a_1_25_m5_stardiff.mpg\n",
      "https://www.ukssdc.ac.uk/solar/stereo/movies/MOVIES/2020/01_January/202001_hi1a_1_25_m5_stardiff.mpg\n",
      "https://www.ukssdc.ac.uk/solar/stereo/movies/MOVIES/2020/02_February/202002_hi1a_1_25_m5_stardiff.mpg\n",
      "https://www.ukssdc.ac.uk/solar/stereo/movies/MOVIES/2020/03_March/202003_hi1a_1_25_m5_stardiff.mpg\n",
      "https://www.ukssdc.ac.uk/solar/stereo/movies/MOVIES/2020/04_April/202004_hi1a_1_25_m5_stardiff.mpg\n",
      "https://www.ukssdc.ac.uk/solar/stereo/movies/MOVIES/2020/05_May/202005_hi1a_1_25_m5_stardiff.mpg\n",
      "https://www.ukssdc.ac.uk/solar/stereo/movies/MOVIES/2020/06_June/202006_hi1a_1_25_m5_stardiff.mpg\n",
      "https://www.ukssdc.ac.uk/solar/stereo/movies/MOVIES/2020/07_July/202007_hi1a_1_25_m5_stardiff.mpg\n",
      "https://www.ukssdc.ac.uk/solar/stereo/movies/MOVIES/2020/08_August/202008_hi1a_1_25_m5_stardiff.mpg\n",
      "https://www.ukssdc.ac.uk/solar/stereo/movies/MOVIES/2020/09_September/202009_hi1a_1_25_m5_stardiff.mpg\n",
      "https://www.ukssdc.ac.uk/solar/stereo/movies/MOVIES/2020/10_October/202010_hi1a_1_25_m5_stardiff.mpg\n",
      "https://www.ukssdc.ac.uk/solar/stereo/movies/MOVIES/2020/11_November/202011_hi1a_1_25_m5_stardiff.mpg\n",
      "https://www.ukssdc.ac.uk/solar/stereo/movies/MOVIES/2020/12_December/202012_hi1a_1_25_m5_stardiff.mpg\n",
      "https://www.ukssdc.ac.uk/solar/stereo/movies/MOVIES/2021/01_January/202101_hi1a_1_25_m5_stardiff.mpg\n",
      "https://www.ukssdc.ac.uk/solar/stereo/movies/MOVIES/2021/02_February/202102_hi1a_1_25_m5_stardiff.mpg\n",
      "https://www.ukssdc.ac.uk/solar/stereo/movies/MOVIES/2021/03_March/202103_hi1a_1_25_m5_stardiff.mpg\n",
      "https://www.ukssdc.ac.uk/solar/stereo/movies/MOVIES/2021/04_April/202104_hi1a_1_25_m5_stardiff.mpg\n",
      "https://www.ukssdc.ac.uk/solar/stereo/movies/MOVIES/2021/05_May/202105_hi1a_1_25_m5_stardiff.mpg\n",
      "https://www.ukssdc.ac.uk/solar/stereo/movies/MOVIES/2021/06_June/202106_hi1a_1_25_m5_stardiff.mpg\n",
      "https://www.ukssdc.ac.uk/solar/stereo/movies/MOVIES/2021/07_July/202107_hi1a_1_25_m5_stardiff.mpg\n",
      "https://www.ukssdc.ac.uk/solar/stereo/movies/MOVIES/2021/08_August/202108_hi1a_1_25_m5_stardiff.mpg\n",
      "https://www.ukssdc.ac.uk/solar/stereo/movies/MOVIES/2021/09_September/202109_hi1a_1_25_m5_stardiff.mpg\n",
      "https://www.ukssdc.ac.uk/solar/stereo/movies/MOVIES/2021/10_October/202110_hi1a_1_25_m5_stardiff.mpg\n",
      "https://www.ukssdc.ac.uk/solar/stereo/movies/MOVIES/2021/11_November/202111_hi1a_1_25_m5_stardiff.mpg\n",
      "https://www.ukssdc.ac.uk/solar/stereo/movies/MOVIES/2021/12_December/202112_hi1a_1_25_m5_stardiff.mpg\n",
      "['file 201801_hi1a_1_25_m5_stardiff.mp4', 'file 201802_hi1a_1_25_m5_stardiff.mp4', 'file 201803_hi1a_1_25_m5_stardiff.mp4', 'file 201804_hi1a_1_25_m5_stardiff.mp4', 'file 201805_hi1a_1_25_m5_stardiff.mp4', 'file 201806_hi1a_1_25_m5_stardiff.mp4', 'file 201807_hi1a_1_25_m5_stardiff.mp4', 'file 201808_hi1a_1_25_m5_stardiff.mp4', 'file 201809_hi1a_1_25_m5_stardiff.mp4', 'file 201810_hi1a_1_25_m5_stardiff.mp4', 'file 201811_hi1a_1_25_m5_stardiff.mp4', 'file 201812_hi1a_1_25_m5_stardiff.mp4', 'file 201901_hi1a_1_25_m5_stardiff.mp4', 'file 201902_hi1a_1_25_m5_stardiff.mp4', 'file 201903_hi1a_1_25_m5_stardiff.mp4', 'file 201904_hi1a_1_25_m5_stardiff.mp4', 'file 201905_hi1a_1_25_m5_stardiff.mp4', 'file 201906_hi1a_1_25_m5_stardiff.mp4', 'file 201907_hi1a_1_25_m5_stardiff.mp4', 'file 201908_hi1a_1_25_m5_stardiff.mp4', 'file 201909_hi1a_1_25_m5_stardiff.mp4', 'file 201910_hi1a_1_25_m5_stardiff.mp4', 'file 201911_hi1a_1_25_m5_stardiff.mp4', 'file 201912_hi1a_1_25_m5_stardiff.mp4', 'file 202001_hi1a_1_25_m5_stardiff.mp4', 'file 202002_hi1a_1_25_m5_stardiff.mp4', 'file 202003_hi1a_1_25_m5_stardiff.mp4', 'file 202004_hi1a_1_25_m5_stardiff.mp4', 'file 202005_hi1a_1_25_m5_stardiff.mp4', 'file 202006_hi1a_1_25_m5_stardiff.mp4', 'file 202007_hi1a_1_25_m5_stardiff.mp4', 'file 202008_hi1a_1_25_m5_stardiff.mp4', 'file 202009_hi1a_1_25_m5_stardiff.mp4', 'file 202010_hi1a_1_25_m5_stardiff.mp4', 'file 202011_hi1a_1_25_m5_stardiff.mp4', 'file 202012_hi1a_1_25_m5_stardiff.mp4', 'file 202101_hi1a_1_25_m5_stardiff.mp4', 'file 202102_hi1a_1_25_m5_stardiff.mp4', 'file 202103_hi1a_1_25_m5_stardiff.mp4', 'file 202104_hi1a_1_25_m5_stardiff.mp4', 'file 202105_hi1a_1_25_m5_stardiff.mp4', 'file 202106_hi1a_1_25_m5_stardiff.mp4', 'file 202107_hi1a_1_25_m5_stardiff.mp4', 'file 202108_hi1a_1_25_m5_stardiff.mp4', 'file 202109_hi1a_1_25_m5_stardiff.mp4', 'file 202110_hi1a_1_25_m5_stardiff.mp4', 'file 202111_hi1a_1_25_m5_stardiff.mp4', 'file 202112_hi1a_1_25_m5_stardiff.mp4']\n"
     ]
    }
   ],
   "source": [
    "#download all files\n",
    "\n",
    "names=['January', 'February', 'March', 'April', 'May','June','July','August','September','October','November','December']\n",
    "\n",
    "filenames=[]\n",
    "\n",
    "for q in np.arange(2018,2022):\n",
    "\n",
    " year = str(q)\n",
    "\n",
    " for i in np.arange(1,13):\n",
    "    month = '%02i' % i\n",
    "    \n",
    "    url='https://www.ukssdc.ac.uk/solar/stereo/movies/MOVIES/'+year+'/'+month+'_'+names[i-1]+'/'+year+month+'_hi1a_1_25_m5_stardiff.mpg'\n",
    "    print(url)\n",
    "    savefilename='data/HIA_RAL/'+year+month+'_hi1a_1_25_m5_stardiff.mpg'\n",
    "    savefilename4=year+month+'_hi1a_1_25_m5_stardiff.mp4'\n",
    "    #urllib.request.urlretrieve(url, savefilename)\n",
    "    #write save file name to file_list.txt later\n",
    "    filenames.append('file '+savefilename4)\n",
    "    \n",
    "    \n",
    "print(filenames)   \n",
    "with open('data/HIA_RAL/file_list.txt', 'w') as f:\n",
    "    for item in filenames:\n",
    "        f.write(\"%s\\n\" % item)"
   ]
  },
  {
   "cell_type": "code",
   "execution_count": 6,
   "metadata": {},
   "outputs": [
    {
     "name": "stdout",
     "output_type": "stream",
     "text": [
      "201801\n",
      "201802\n",
      "201803\n",
      "201804\n",
      "201805\n",
      "201806\n",
      "201807\n",
      "201808\n",
      "201809\n",
      "201810\n",
      "201811\n",
      "201812\n",
      "201901\n",
      "201902\n",
      "201903\n",
      "201904\n",
      "201905\n",
      "201906\n",
      "201907\n",
      "201908\n",
      "201909\n",
      "201910\n",
      "201911\n",
      "201912\n",
      "202001\n",
      "202002\n",
      "202003\n",
      "202004\n",
      "202005\n",
      "202006\n",
      "202007\n",
      "202008\n",
      "202009\n",
      "202010\n",
      "202011\n",
      "202012\n",
      "202101\n",
      "202102\n",
      "202103\n",
      "202104\n",
      "202105\n",
      "202106\n",
      "202107\n",
      "202108\n",
      "202109\n",
      "202110\n",
      "202111\n",
      "202112\n"
     ]
    }
   ],
   "source": [
    "### convert all files to mp4\n",
    "\n",
    "for q in np.arange(2018,2022):\n",
    "\n",
    "    year = str(q)\n",
    "\n",
    "    for i in np.arange(1,13):\n",
    "\n",
    "        month = '%02i' % i\n",
    "        print(year+month)\n",
    "        os.system('ffmpeg -i data/HIA_RAL/'+year+month+'_hi1a_1_25_m5_stardiff.mpg data/HIA_RAL/'+year+month+'_hi1a_1_25_m5_stardiff.mp4 -y')\n",
    "\n",
    "      \n"
   ]
  },
  {
   "cell_type": "markdown",
   "metadata": {},
   "source": [
    "## stitch all together"
   ]
  },
  {
   "cell_type": "code",
   "execution_count": 25,
   "metadata": {},
   "outputs": [
    {
     "data": {
      "text/plain": [
       "0"
      ]
     },
     "execution_count": 25,
     "metadata": {},
     "output_type": "execute_result"
    }
   ],
   "source": [
    "#ou should be able to use the concat protocol method to combine the files:\n",
    "\n",
    "\n",
    "#https://trac.ffmpeg.org/wiki/Concatenate\n",
    "#ffmpeg -i \"concat:input1.mp4|input2.mp4|input3.mp4\" -c copy output.mp4\n",
    "\n",
    "#ffmpeg -i \"concat:201801_hi1a_1_25_m5_stardiff.mp4|201802_hi1a_1_25_m5_stardiff.mp4\" -c copy output.mp4\n",
    "#201801_hi1a_1_25_m5_stardiff.mp4\n",
    "#201802_hi1a_1_25_m5_stardiff.mp4\n",
    "\n",
    "\n",
    "#os.system('ffmpeg -i \"concat:data/HIA_RAL/201801_hi1a_1_25_m5_stardiff.mp4|data/HIA_RAL/201802_hi1a_1_25_m5_stardiff.mp4|data/HIA_RAL/201803_hi1a_1_25_m5_stardiff.mp4\" -c copy HIA_2018.mp4 -y')\n",
    "#os.system('ffmpeg -i \"concat:data/HIA_RAL/201801_hi1a_1_25_m5_stardiff.mp4|data/HIA_RAL/201802_hi1a_1_25_m5_stardiff.mp4|data/HIA_RAL/201803_hi1a_1_25_m5_stardiff.mp4\" -c copy HIA_2018.mp4 -y')\n",
    "\n",
    "os.system('ffmpeg -f concat -safe 0 -i data/HIA_RAL/file_list.txt -c copy HIA_2018_2021.mp4 -y')"
   ]
  },
  {
   "cell_type": "code",
   "execution_count": null,
   "metadata": {},
   "outputs": [],
   "source": []
  },
  {
   "cell_type": "markdown",
   "metadata": {},
   "source": [
    "## LASCO"
   ]
  },
  {
   "cell_type": "code",
   "execution_count": 27,
   "metadata": {},
   "outputs": [],
   "source": [
    "#https://lasco-www.nrl.navy.mil/daily_mpg/2018_01/180110_c2.mpg\n",
    "#https://lasco-www.nrl.navy.mil/daily_mpg/2018_01/180107_c3.mpg"
   ]
  },
  {
   "cell_type": "code",
   "execution_count": null,
   "metadata": {},
   "outputs": [],
   "source": []
  }
 ],
 "metadata": {
  "kernelspec": {
   "display_name": "Python 3",
   "language": "python",
   "name": "python3"
  },
  "language_info": {
   "codemirror_mode": {
    "name": "ipython",
    "version": 3
   },
   "file_extension": ".py",
   "mimetype": "text/x-python",
   "name": "python",
   "nbconvert_exporter": "python",
   "pygments_lexer": "ipython3",
   "version": "3.7.6"
  }
 },
 "nbformat": 4,
 "nbformat_minor": 4
}
