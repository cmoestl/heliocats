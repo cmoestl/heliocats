{
 "cells": [
  {
   "cell_type": "markdown",
   "id": "b5f18158-1cd4-45b2-92f8-30385fc0f06e",
   "metadata": {},
   "source": [
    "## Geomagnetic storm magnitude in a historic context"
   ]
  },
  {
   "cell_type": "code",
   "execution_count": 1,
   "id": "3df66ee9-08bc-4b70-b055-7b07c80ddbc5",
   "metadata": {},
   "outputs": [
    {
     "name": "stderr",
     "output_type": "stream",
     "text": [
      "/Users/chris/python/miniconda3/envs/helio4/lib/python3.10/site-packages/tqdm/auto.py:21: TqdmWarning:\n",
      "\n",
      "IProgress not found. Please update jupyter and ipywidgets. See https://ipywidgets.readthedocs.io/en/stable/user_install.html\n",
      "\n"
     ]
    },
    {
     "name": "stdout",
     "output_type": "stream",
     "text": [
      "system is mac\n",
      "/Users/chris/python/data/insitu_python/\n"
     ]
    },
    {
     "name": "stderr",
     "output_type": "stream",
     "text": [
      "[NbConvertApp] Converting notebook geomagnetic_storms.ipynb to script\n",
      "[NbConvertApp] Writing 5188 bytes to geomagnetic_storms.py\n"
     ]
    },
    {
     "data": {
      "text/plain": [
       "0"
      ]
     },
     "execution_count": 1,
     "metadata": {},
     "output_type": "execute_result"
    }
   ],
   "source": [
    "import pickle\n",
    "import matplotlib\n",
    "import matplotlib.pyplot as plt\n",
    "import matplotlib.dates as mdates\n",
    "import numpy as np\n",
    "import datetime\n",
    "from datetime import timedelta\n",
    "import seaborn as sns\n",
    "import urllib\n",
    "import pandas as pd\n",
    "import os\n",
    "import sys\n",
    "import importlib\n",
    "\n",
    "\n",
    "import plotly.graph_objects as go\n",
    "import numpy as np\n",
    "from plotly.offline import iplot, init_notebook_mode\n",
    "\n",
    "\n",
    "#import \n",
    "from heliocats import data as hd\n",
    "importlib.reload(hd) #reload again while debugging\n",
    "\n",
    "from heliocats import plot as hp\n",
    "importlib.reload(hp) #reload again while debugging\n",
    "\n",
    "\n",
    "outputdir='results/icme_rate/'\n",
    "\n",
    "##### check for system type\n",
    "#server\n",
    "if sys.platform == 'linux': \n",
    "    print('system is linux')\n",
    "    from config_server import data_path\n",
    "    matplotlib.use('Agg') \n",
    "   \n",
    "        \n",
    "#mac\n",
    "if sys.platform =='darwin':  \n",
    "    print('system is mac')\n",
    "    from config_local import data_path    \n",
    "    matplotlib.use('Agg') \n",
    "    #%matplotlib inline     \n",
    "\n",
    "print(data_path)\n",
    "\n",
    "\n",
    "os.system('jupyter nbconvert --to script geomagnetic_storms.ipynb')    \n",
    "\n",
    "\n"
   ]
  },
  {
   "cell_type": "markdown",
   "id": "ca1d76e6-a7c0-49bd-9e48-21159e508472",
   "metadata": {},
   "source": [
    "### get Dst data"
   ]
  },
  {
   "cell_type": "code",
   "execution_count": 2,
   "id": "7e3d372a-abd4-4263-9255-63741c0d0bf7",
   "metadata": {},
   "outputs": [
    {
     "name": "stdout",
     "output_type": "stream",
     "text": [
      "saved as  results/icme_rate/OMNI2_2021_Sep_06_2023_Sep_06.png\n",
      "saved as  results/icme_rate/OMNI2_2021_Sep_06_2023_Sep_06.pdf\n",
      "saved as  results/icme_rate/OMNI2_now.png\n",
      "saved as  results/icme_rate/OMNI2_now.pdf\n"
     ]
    }
   ],
   "source": [
    "##get omni dst data\n",
    "get_new_data=0\n",
    "\n",
    "fileomni=\"omni_1963_now.p\"\n",
    "if get_new_data: hd.save_omni_data(data_path,fileomni)\n",
    "[o,ho]=pickle.load(open(data_path+fileomni, \"rb\" ) )  \n",
    "\n",
    "start=datetime.datetime.utcnow() - datetime.timedelta(days=2*365)\n",
    "end=datetime.datetime.utcnow() \n",
    "hp.plot_insitu_update(o, start, end,'OMNI2',outputdir,now=True)\n",
    "\n",
    "\n",
    "\n",
    "#get current dst\n",
    "filenoaa='noaa_dst_last_300files_now.p'\n",
    "n=pickle.load(open(data_path+filenoaa, \"rb\" ) )  "
   ]
  },
  {
   "cell_type": "markdown",
   "id": "79c10055-2a37-4cc4-a344-4158c2cc254c",
   "metadata": {},
   "source": [
    "### plot Dst"
   ]
  },
  {
   "cell_type": "code",
   "execution_count": 12,
   "id": "8610ae1b-1e39-4e15-9dd7-8cd5f1a056eb",
   "metadata": {},
   "outputs": [
    {
     "name": "stdout",
     "output_type": "stream",
     "text": [
      "77.0 -422.0\n"
     ]
    }
   ],
   "source": [
    "years=np.arange(1995,2040) \n",
    "yearly_start_times=[datetime.datetime(year,1,1) for year in years]\n",
    "\n",
    "sns.set_context('talk')\n",
    "sns.set_style('darkgrid')\n",
    "fig, ax1=plt.subplots(1,figsize=(13,7),dpi=100)\n",
    "\n",
    "ax1.plot(o.time,o.dst,color='k',linewidth=0.3,alpha=0.7)\n",
    "ax1.plot(n.time,n.dst,color='b',linewidth=0.3,alpha=0.7)\n",
    "\n",
    "#ax1.plot(o.time,np.zeros(np.size(o.time))-187, 'g')\n",
    "#stack both OMNI and NOAA Dst and determine min max for last 25 years\n",
    "plotmin=np.nanmin(np.hstack([o.dst,n.dst])[-365*24*25:-1] )\n",
    "plotmax=np.nanmax(np.hstack([o.dst,n.dst])[-365*24*25:-1] )\n",
    "print(plotmax, plotmin)\n",
    "ax1.set_ylim(plotmin-50,plotmax+20)\n",
    "\n",
    "ax1.set_xlim(start,end)\n",
    "\n",
    "plt.ylabel('Dst [nT]')\n",
    "\n",
    "ax1.xaxis_date()\n",
    "myformat = mdates.DateFormatter('%Y')\n",
    "ax1.xaxis.set_major_formatter(myformat)\n",
    "plt.xticks(yearly_start_times, fontsize=14,rotation=45) \n",
    "\n",
    "ax1.set_xlim(datetime.datetime(1996,1,1),datetime.datetime(2024,1,1))\n",
    "\n",
    "#ax1.set_xlim(datetime.datetime(2023,1,1),datetime.datetime(2024,1,1))\n",
    "\n",
    "#plt.title('Geomagnetische Stürme 2015-2023')\n",
    "plt.title('Geomagnetic storms in solar cycles 23 / 24 / 25',fontsize=18)\n",
    "\n",
    "fsize=12\n",
    "plt.figtext(0.09,0.01,'Austrian Space Weather Office   GeoSphere Austria', color='black', ha='left',fontsize=fsize-4, style='italic')\n",
    "plt.figtext(0.98,0.01,'helioforecast.space', color='black', ha='right',fontsize=fsize-4, style='italic')\n",
    "\n",
    "plt.tight_layout()\n",
    "\n",
    "plt.savefig(outputdir+'geomagnetic_storm_all.png',dpi=100)\n",
    "\n"
   ]
  },
  {
   "cell_type": "code",
   "execution_count": 14,
   "id": "e171520f-a3b2-442b-9f2e-397075b6b7be",
   "metadata": {},
   "outputs": [],
   "source": [
    "\n",
    "\n",
    "years=np.arange(1995,2040) \n",
    "months=np.arange(1,13)\n",
    "monthly_start_times=[datetime.datetime(year,month,1) for year in years for month in months]\n",
    "\n",
    "\n",
    "sns.set_context('talk')\n",
    "sns.set_style('darkgrid')\n",
    "fig, ax1=plt.subplots(1,figsize=(13,7),dpi=100)\n",
    "\n",
    "\n",
    "ax1.plot(o.time,o.dst,color='k',linewidth=0.7,alpha=0.8)\n",
    "ax1.plot(n.time,n.dst,color='b',linewidth=0.7,alpha=0.8)\n",
    "\n",
    "#ax1.plot(o.time,np.zeros(np.size(o.time))-187, 'g')\n",
    "\n",
    "\n",
    "#stack both OMNI and NOAA Dst and determine min max for last year\n",
    "plotmin=np.nanmin(np.hstack([o.dst,n.dst])[-365*24:-1])\n",
    "plotmax=np.nanmax(np.hstack([o.dst,n.dst])[-365*24:-1])\n",
    "print(plotmax, plotmin)\n",
    "\n",
    "ax1.set_xlim(start,end)\n",
    "ax1.set_ylim(plotmin-50,plotmax+20)\n",
    "plt.ylabel('Dst [nT]')\n",
    "\n",
    "ax1.xaxis_date()\n",
    "myformat = mdates.DateFormatter('%Y %B')\n",
    "ax1.xaxis.set_major_formatter(myformat)\n",
    "plt.xticks(monthly_start_times, fontsize=14,rotation=30) \n",
    "\n",
    "\n",
    "ax1.set_xlim(datetime.datetime.utcnow()-datetime.timedelta(days=365),datetime.datetime.utcnow()+datetime.timedelta(days=10))\n",
    "\n",
    "#ax1.set_xlim(datetime.datetime(2023,1,1),datetime.datetime(2024,1,1))\n",
    "\n",
    "#plt.title('Geomagnetische Stürme 2015-2023')\n",
    "plt.title('Latest geomagnetic storms',fontsize=15)\n",
    "\n",
    "fsize=12\n",
    "plt.figtext(0.09,0.01,'Austrian Space Weather Office   GeoSphere Austria', color='black', ha='left',fontsize=fsize-4, style='italic')\n",
    "plt.figtext(0.98,0.01,'helioforecast.space', color='black', ha='right',fontsize=fsize-4, style='italic')\n",
    "\n",
    "plt.tight_layout()\n",
    "\n",
    "plt.savefig(outputdir+'geomagnetic_storm_latest.png',dpi=100)\n",
    "\n",
    "\n",
    "##histogram"
   ]
  },
  {
   "cell_type": "markdown",
   "id": "0218df07-9fb6-411e-9c6e-02398adb1a12",
   "metadata": {},
   "source": [
    "#### looking into the data"
   ]
  },
  {
   "cell_type": "code",
   "execution_count": 5,
   "id": "622b6f39-234d-4363-a7cd-6e6f1b441a30",
   "metadata": {},
   "outputs": [],
   "source": [
    "#https://plotly.com/python/\n",
    "\n",
    "\n",
    "data_lookup=0\n",
    "\n",
    "\n",
    "if data_lookup > 0:\n",
    "\n",
    "    #init_notebook_mode(connected = True)\n",
    "    init_notebook_mode(connected = False)\n",
    "\n",
    "    fig=plt.figure(figsize=(8,10), dpi=150)\n",
    "    x = np.arange(10)\n",
    "    fig = go.Figure(data=go.Scatter(x=o.time, y=o.dst))\n",
    "    fig.write_html(f'geomagnetic_storms.html')\n",
    "    fig.show()"
   ]
  },
  {
   "cell_type": "code",
   "execution_count": 6,
   "id": "a75239b5-ca57-4e78-a37e-0856f4055345",
   "metadata": {},
   "outputs": [],
   "source": [
    "if data_lookup > 0:\n",
    "    \n",
    "    fig=plt.figure(figsize=(8,10), dpi=150)\n",
    "    x = np.arange(10)\n",
    "    fig = go.Figure(data=go.Scatter(x=n.time, y=n.dst))\n",
    "    fig.write_html(f'geomagnetic_storms.html')\n",
    "    fig.show()\n"
   ]
  },
  {
   "cell_type": "code",
   "execution_count": null,
   "id": "c827cac9-3a66-445b-b923-8e95a36d8c1d",
   "metadata": {},
   "outputs": [],
   "source": []
  },
  {
   "cell_type": "code",
   "execution_count": null,
   "id": "090928d5-de96-4450-9066-88e72b8a5a8c",
   "metadata": {},
   "outputs": [],
   "source": []
  },
  {
   "cell_type": "code",
   "execution_count": null,
   "id": "aaa94626-f763-4f57-b7f4-11ae36cf6bc6",
   "metadata": {},
   "outputs": [],
   "source": []
  }
 ],
 "metadata": {
  "kernelspec": {
   "display_name": "Python 3 (ipykernel)",
   "language": "python",
   "name": "python3"
  },
  "language_info": {
   "codemirror_mode": {
    "name": "ipython",
    "version": 3
   },
   "file_extension": ".py",
   "mimetype": "text/x-python",
   "name": "python",
   "nbconvert_exporter": "python",
   "pygments_lexer": "ipython3",
   "version": "3.10.0"
  }
 },
 "nbformat": 4,
 "nbformat_minor": 5
}
