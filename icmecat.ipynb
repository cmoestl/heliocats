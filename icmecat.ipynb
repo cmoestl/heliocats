{
 "cells": [
  {
   "cell_type": "markdown",
   "metadata": {},
   "source": [
    "## icmecat.py\n",
    "\n",
    "makes the ICMECATv2.0\n",
    "\n",
    "Author: C. Moestl, IWF Graz, Austria\n",
    "twitter @chrisoutofspace, https://github.com/cmoestl/heliocats\n",
    "last update March 2020\n",
    "\n",
    "python > 3.7, install a conda environment to run this code, see \n",
    "current status:\n",
    "work in progress\n",
    "\n",
    "to do:\n",
    "- despike sta stb wind all, new B and V for STA, Wind and PSP converted to SCEQ components, plasma correct for new PSP, wind, sta ...\n",
    "\n",
    "to convert to .py\n",
    "\n",
    "    jupyter nbconvert --to script plot_cases.ipynb"
   ]
  },
  {
   "cell_type": "markdown",
   "metadata": {
    "jupyter": {
     "source_hidden": true
    }
   },
   "source": [
    "MIT LICENSE\n",
    "Copyright 2020, Christian Moestl \n",
    "Permission is hereby granted, free of charge, to any person obtaining a copy of this \n",
    "software and associated documentation files (the \"Software\"), to deal in the Software\n",
    "without restriction, including without limitation the rights to use, copy, modify, \n",
    "merge, publish, distribute, sublicense, and/or sell copies of the Software, and to \n",
    "permit persons to whom the Software is furnished to do so, subject to the following \n",
    "conditions:\n",
    "The above copyright notice and this permission notice shall be included in all copies \n",
    "or substantial portions of the Software.\n",
    "THE SOFTWARE IS PROVIDED \"AS IS\", WITHOUT WARRANTY OF ANY KIND, EXPRESS OR IMPLIED, \n",
    "INCLUDING BUT NOT LIMITED TO THE WARRANTIES OF MERCHANTABILITY, FITNESS FOR A\n",
    "PARTICULAR PURPOSE AND NONINFRINGEMENT. IN NO EVENT SHALL THE AUTHORS OR COPYRIGHT \n",
    "HOLDERS BE LIABLE FOR ANY CLAIM, DAMAGES OR OTHER LIABILITY, WHETHER IN AN ACTION OF \n",
    "CONTRACT, TORT OR OTHERWISE, ARISING FROM, OUT OF OR IN CONNECTION WITH THE SOFTWARE \n",
    "OR THE USE OR OTHER DEALINGS IN THE SOFTWARE.\n",
    "'''"
   ]
  },
  {
   "cell_type": "code",
   "execution_count": 4,
   "metadata": {
    "jupyter": {
     "source_hidden": true
    }
   },
   "outputs": [],
   "source": [
    "import numpy as np\n",
    "import scipy.io\n",
    "import matplotlib\n",
    "import matplotlib.pyplot as plt\n",
    "import matplotlib.dates as mdates\n",
    "from matplotlib.dates import  DateFormatter\n",
    "import seaborn as sns\n",
    "import datetime\n",
    "import astropy.constants as const\n",
    "from sunpy.time import parse_time\n",
    "import time\n",
    "import pickle\n",
    "import sys\n",
    "import os\n",
    "import urllib\n",
    "import json\n",
    "import importlib\n",
    "import pandas as pd\n",
    "import copy\n",
    "import openpyxl\n",
    "\n",
    "\n",
    "from heliocats import plot as hp\n",
    "importlib.reload(hp) #reload again while debugging\n",
    "\n",
    "from heliocats import data as hd\n",
    "importlib.reload(hd) #reload again while debugging\n",
    "\n",
    "from heliocats import cats as hc\n",
    "importlib.reload(hc) #reload again while debugging\n",
    "\n",
    "#where the 6 in situ data files are located is read from input.py\n",
    "#as data_path=....\n",
    "from input import *\n",
    "\n",
    "\n",
    "########### make directories first time if not there\n",
    "\n",
    "resdir='results'\n",
    "if os.path.isdir(resdir) == False: os.mkdir(resdir)\n",
    "\n",
    "datadir='data'\n",
    "if os.path.isdir(datadir) == False: os.mkdir(datadir)\n",
    "\n",
    "indexdir='data/indices_icmecat' \n",
    "if os.path.isdir(indexdir) == False: os.mkdir(indexdir) \n",
    "\n",
    "\n",
    "catdir='icmecat'\n",
    "if os.path.isdir(catdir) == False: os.mkdir(catdir)\n",
    "\n",
    "icplotsdir='results/plots_icmecat/' \n",
    "if os.path.isdir(icplotsdir) == False: os.mkdir(icplotsdir) "
   ]
  },
  {
   "cell_type": "markdown",
   "metadata": {},
   "source": [
    "### (1) load new data with HelioSat and heliocats.data"
   ]
  },
  {
   "cell_type": "code",
   "execution_count": 10,
   "metadata": {
    "jupyter": {
     "source_hidden": true
    }
   },
   "outputs": [
    {
     "name": "stdout",
     "output_type": "stream",
     "text": [
      "load new Wind, STEREO-A, MAVEN, Parker Solar Probe data\n",
      "load all helcats DATACAT from single file:  /nas/helio/data/insitu_python/helcats_all_data_removed.p\n",
      "Use vex,win,sta,stb,mes,uly to access data and position, hvex,hwin, hmes, hsta, hstb, huly for headers.\n"
     ]
    }
   ],
   "source": [
    "   \n",
    "load_data=1\n",
    "\n",
    "if load_data > 0:\n",
    "\n",
    "    print('load new Wind, STEREO-A, MAVEN, Parker Solar Probe data')\n",
    "\n",
    "    # MAVEN\n",
    "    #filemav='maven_2014_2018.p'\n",
    "    #[mav,hmav]=pickle.load(open(filemav, 'rb' ) )\n",
    "\n",
    "    #filemav='maven_2014_2018_removed.p'\n",
    "    #[mav,hmav]=pickle.load(open(filemav, 'rb' ) )\n",
    "    \n",
    "    filemav='maven_2014_2018_removed_smoothed.p'\n",
    "    [mav,hmav]=pickle.load(open(data_path+filemav, 'rb' ) )\n",
    "\n",
    "    # Wind\n",
    "    filewin=\"wind_2018_2019.p\" \n",
    "    #for updating data\n",
    "    #start=datetime.datetime(2018, 1, 1)\n",
    "    #end=datetime.datetime.utcnow()\n",
    "    #hd.save_wind_data(data_path,filewin,start,end)\n",
    "    [win2,hwin2]=pickle.load(open(data_path+filewin, \"rb\" ) )  \n",
    "\n",
    "    # STEREO-A    \n",
    "    filesta2='sta_2018_2019_beacon.p'\n",
    "    #start=datetime.datetime(2018, 1, 1)\n",
    "    #end=datetime.datetime(2019, 12, 31)\n",
    "    #hd.save_stereoa_beacon_data(data_path,filesta,start,end)\n",
    "   \n",
    "    [sta2,hsta2]=pickle.load(open(data_path+filesta2, \"rb\" ) )  \n",
    "\n",
    "    # Parker Solar Probe\n",
    "    filepsp='psp_2018_2019.p'\n",
    "    [psp,hpsp]=pickle.load(open(data_path+filepsp, \"rb\" ) )  \n",
    "\n",
    "\n",
    "    # ADD BepiColombo  \n",
    "    \n",
    "    \n",
    "    # ADD Solar Orbiter\n",
    "    \n",
    "    \n",
    "    # Ulysses is currently taken from the full \n",
    "    # helcats data below, but a file is available on figshare\n",
    "\n",
    "\n",
    "    # get data file from helcats with headers\n",
    "    [vex,win,mes,sta,stb,uly,hvex,hwin,hmes,hsta,hstb,huly]=hd.load_helcats_datacat(data_path+'helcats_all_data_removed.p') "
   ]
  },
  {
   "cell_type": "markdown",
   "metadata": {},
   "source": [
    "### (2) measure new events "
   ]
  },
  {
   "cell_type": "code",
   "execution_count": 11,
   "metadata": {
    "jupyter": {
     "source_hidden": true
    }
   },
   "outputs": [],
   "source": [
    "#for measuring new events use this function from heliocats.plot\n",
    "#hp.plot_insitu_measure(psp, '2018-Nov-10','2018-Nov-15', 'PSP', 'results/plots_icmecat/')\n",
    "\n",
    "\n",
    "#for plotting single events\n",
    "#hp.plot_insitu(psp, ic.icme,'2018-Nov-15', 'PSP', icplotsdir)"
   ]
  },
  {
   "cell_type": "markdown",
   "metadata": {},
   "source": [
    "### (3) make ICMECAT "
   ]
  },
  {
   "cell_type": "code",
   "execution_count": 12,
   "metadata": {
    "jupyter": {
     "source_hidden": true
    }
   },
   "outputs": [
    {
     "name": "stdout",
     "output_type": "stream",
     "text": [
      "data loaded\n",
      "load HELCATS ICMECAT from file: icmecat/HELCATS_ICMECAT_v20_master.xlsx\n",
      "Get parameters for  Wind\n",
      "Get parameters for  STEREO-A\n",
      "Get parameters for  STEREO-B\n",
      "Get parameters for  VEX\n",
      "Get parameters for  MESSENGER\n",
      "Get parameters for  ULYSSES\n",
      "Get parameters for  MAVEN\n",
      "Get parameters for  PSP\n"
     ]
    },
    {
     "data": {
      "text/plain": [
       "\"\\nmatplotlib.use('Agg')\\nhp.plot_icmecat_events(win,wini,ic,'Wind',icplotsdir)\\nhp.plot_icmecat_events(sta,stai,ic,'STEREO-A',icplotsdir)\\nhp.plot_icmecat_events(stb,stbi,ic,'STEREO-B',icplotsdir)\\nhp.plot_icmecat_events(vex,vexi,ic,'VEX',icplotsdir)\\nhp.plot_icmecat_events(mes,mesi,ic,'MESSENGER',icplotsdir)\\nhp.plot_icmecat_events(uly,ulyi,ic,'ULYSSES',icplotsdir)\\nhp.plot_icmecat_events(mav,mavi,ic,'MAVEN',icplotsdir)\\nhp.plot_icmecat_events(psp,pspi,ic,'PSP',icplotsdir)\\n\""
      ]
     },
     "execution_count": 12,
     "metadata": {},
     "output_type": "execute_result"
    }
   ],
   "source": [
    "print('data loaded')\n",
    "ic=hc.load_helcats_icmecat_master_from_excel('icmecat/HELCATS_ICMECAT_v20_master.xlsx')\n",
    "\n",
    "####### 3a get indices for all spacecraft\n",
    "\n",
    "wini=np.where(ic.sc_insitu == 'Wind')[:][0] \n",
    "stai=np.where(ic.sc_insitu == 'STEREO-A')[:][0]    \n",
    "stbi=np.where(ic.sc_insitu == 'STEREO-B')[:][0]    \n",
    "vexi=np.where(ic.sc_insitu == 'VEX')[:][0]  \n",
    "mesi=np.where(ic.sc_insitu == 'MESSENGER')[:][0]   \n",
    "ulyi=np.where(ic.sc_insitu == 'ULYSSES')[:][0]    \n",
    "mavi=np.where(ic.sc_insitu == 'MAVEN')[:][0]    \n",
    "pspi=np.where(ic.sc_insitu == 'PSP')[:][0]    \n",
    "\n",
    "\n",
    "\n",
    "####### 3b get parameters for all spacecraft one after another\n",
    "\n",
    "ic=hc.get_cat_parameters(win,wini,ic,'Wind')\n",
    "ic=hc.get_cat_parameters(sta,stai,ic,'STEREO-A')\n",
    "ic=hc.get_cat_parameters(stb,stbi,ic,'STEREO-B')\n",
    "ic=hc.get_cat_parameters(vex,vexi,ic,'VEX')\n",
    "ic=hc.get_cat_parameters(mes,mesi,ic,'MESSENGER')\n",
    "ic=hc.get_cat_parameters(uly,ulyi,ic,'ULYSSES')\n",
    "ic=hc.get_cat_parameters(mav,mavi,ic,'MAVEN')\n",
    "ic=hc.get_cat_parameters(psp,pspi,ic,'PSP')\n",
    "\n",
    "\n",
    "####### 3c make all plots if wanted\n",
    "'''\n",
    "matplotlib.use('Agg')\n",
    "hp.plot_icmecat_events(win,wini,ic,'Wind',icplotsdir)\n",
    "hp.plot_icmecat_events(sta,stai,ic,'STEREO-A',icplotsdir)\n",
    "hp.plot_icmecat_events(stb,stbi,ic,'STEREO-B',icplotsdir)\n",
    "hp.plot_icmecat_events(vex,vexi,ic,'VEX',icplotsdir)\n",
    "hp.plot_icmecat_events(mes,mesi,ic,'MESSENGER',icplotsdir)\n",
    "hp.plot_icmecat_events(uly,ulyi,ic,'ULYSSES',icplotsdir)\n",
    "hp.plot_icmecat_events(mav,mavi,ic,'MAVEN',icplotsdir)\n",
    "hp.plot_icmecat_events(psp,pspi,ic,'PSP',icplotsdir)\n",
    "'''"
   ]
  },
  {
   "cell_type": "markdown",
   "metadata": {},
   "source": [
    "### (4) save ICMECAT "
   ]
  },
  {
   "cell_type": "code",
   "execution_count": 17,
   "metadata": {},
   "outputs": [
    {
     "name": "stdout",
     "output_type": "stream",
     "text": [
      "header\n"
     ]
    }
   ],
   "source": [
    "#make header\n",
    "header=hc.make_icmecat_header(ic)\n",
    "file='icmecat/HELCATS_ICMECAT_v20_header.txt'\n",
    "with open(file, \"w\") as text_file:\n",
    "    text_file.write(header)\n",
    "print(header)"
   ]
  },
  {
   "cell_type": "code",
   "execution_count": 15,
   "metadata": {},
   "outputs": [
    {
     "name": "stdout",
     "output_type": "stream",
     "text": [
      "ICMECAT saved as icmecat/HELCATS_ICMECAT_v20.txt\n"
     ]
    }
   ],
   "source": [
    "##### save ICMECAT as pickle with times as datetime objects\n",
    "file='icmecat/HELCATS_ICMECAT_v20.p'\n",
    "pickle.dump(ic, open(file, 'wb'))\n",
    "\n",
    "\n",
    "################ save to different formats\n",
    "\n",
    "#copy pandas dataframe first to change time format\n",
    "\n",
    "ic_copy=copy.deepcopy(ic)  \n",
    "ic_copy.icme_start_time=parse_time(ic.icme_start_time).isot\n",
    "ic_copy.mo_start_time=parse_time(ic.mo_start_time).isot\n",
    "ic_copy.mo_end_time=parse_time(ic.mo_end_time).isot\n",
    "\n",
    "#change time format\n",
    "for i in np.arange(len(ic)):\n",
    "\n",
    "    dum=ic_copy.icme_start_time[i] \n",
    "    ic_copy.at[i,'icme_start_time']=dum[0:16]\n",
    "     \n",
    "    dum=ic_copy.mo_start_time[i] \n",
    "    ic_copy.at[i,'mo_start_time']=dum[0:16]\n",
    "     \n",
    "    dum=ic_copy.mo_end_time[i] \n",
    "    ic_copy.at[i,'mo_end_time']=dum[0:16]\n",
    "\n",
    "\n",
    "#save as Excel\n",
    "file='icmecat/HELCATS_ICMECAT_v20.xlsx'\n",
    "ic_copy.to_excel(file,sheet_name='ICMECATv2.0')\n",
    "\n",
    "#save as json\n",
    "file='icmecat/HELCATS_ICMECAT_v20.json'\n",
    "ic_copy.to_json(file)\n",
    "\n",
    "#save as csv\n",
    "file='icmecat/HELCATS_ICMECAT_v20.csv'\n",
    "ic_copy.to_csv(file)\n",
    "\n",
    "#save as html\n",
    "file='icmecat/HELCATS_ICMECAT_v20_simple.html'\n",
    "ic_copy.to_html(file)\n",
    "\n",
    "#save as hdf needs pip install tables\n",
    "#file='icmecat/HELCATS_ICMECAT_v20.hdf'\n",
    "#ic.to_hdf(file,key='icmecat')\n",
    "\n",
    "#save as .mat does not work yet\n",
    "#ile='icmecat/HELCATS_ICMECAT_v20.mat'\n",
    "#icdict=ic.to_dict()\n",
    "#scipy.io.savemat(file,ic.values)\n",
    "\n",
    "#save as txt\n",
    "file='icmecat/HELCATS_ICMECAT_v20.txt'\n",
    "np.savetxt(file, ic_copy.values.astype(str), fmt='%s' )\n",
    "\n",
    "print('ICMECAT saved as '+file)\n",
    "\n",
    "ic2=hc.load_icmecat()\n",
    "\n",
    "\n",
    "\n",
    "############ save as html file for helioforecast.space\n",
    "\n",
    "file='icmecat/HELCATS_ICMECAT_v20.p'\n",
    "ic=pickle.load( open(file, 'rb'))\n",
    "\n",
    "#save as html\n",
    "file='icmecat/HELCATS_ICMECAT_v20.html'\n",
    "#ic.to_html(file,justify='center')\n",
    "\n",
    "ichtml='{% extends \"_base.html\" %} \\n \\n {% block content %} \\n \\n \\n <p> ICMECAT version 2.0 </p>'\n",
    "ichtml += ic.to_html()\n",
    "ichtml +='\\n \\n {% endblock %}'\n",
    "\n",
    "'''\n",
    "{% extends \"_base.html\" %}\n",
    "{% block content %}\n",
    "<div class=\"row\">\n",
    "    <div class=\"col-12 col-md-12 col-xl-12\">\n",
    "        <p> </br>\n",
    "        Recent real-time solar and solar wind data from SDO in Earth orbit, \n",
    "        from the DSCOVR or ACE spacecraft at the Sun-Earth L1 point provided by NOAA and from STEREO-A.\n",
    "        Updated twice daily at 05:00 and 17:00 UTC.</br></br>\n",
    "        </p>\n",
    "    </div>\n",
    "</div>\n",
    "'''\n",
    "\n",
    "\n",
    "\n",
    "with open(file,'w') as f:\n",
    "    f.write(ichtml)\n",
    "    f.close()"
   ]
  },
  {
   "cell_type": "code",
   "execution_count": null,
   "metadata": {},
   "outputs": [],
   "source": []
  }
 ],
 "metadata": {
  "kernelspec": {
   "display_name": "Python 3",
   "language": "python",
   "name": "python3"
  },
  "language_info": {
   "codemirror_mode": {
    "name": "ipython",
    "version": 3
   },
   "file_extension": ".py",
   "mimetype": "text/x-python",
   "name": "python",
   "nbconvert_exporter": "python",
   "pygments_lexer": "ipython3",
   "version": "3.7.6"
  }
 },
 "nbformat": 4,
 "nbformat_minor": 4
}
