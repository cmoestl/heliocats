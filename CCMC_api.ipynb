{
 "cells": [
  {
   "cell_type": "markdown",
   "id": "536fee77-0dc5-497e-acb3-ccb14c2f96cb",
   "metadata": {
    "tags": []
   },
   "source": [
    "CCMC scoreboard API"
   ]
  },
  {
   "cell_type": "code",
   "execution_count": 1,
   "id": "f40571ce-4bc6-4ba1-8a85-54ba11dc08b8",
   "metadata": {
    "tags": []
   },
   "outputs": [
    {
     "name": "stdout",
     "output_type": "stream",
     "text": [
      "/Users/chris/python/heliocats\n"
     ]
    },
    {
     "name": "stderr",
     "output_type": "stream",
     "text": [
      "  % Total    % Received % Xferd  Average Speed   Time    Time     Time  Current\n",
      "                                 Dload  Upload   Total   Spent    Left  Speed\n",
      "100 4303k  100 4303k    0     0   756k      0  0:00:05  0:00:05 --:--:-- 1000k\n"
     ]
    },
    {
     "data": {
      "text/plain": [
       "0"
      ]
     },
     "execution_count": 1,
     "metadata": {},
     "output_type": "execute_result"
    }
   ],
   "source": [
    "import json\n",
    "import os\n",
    "import matplotlib.dates as mdates\n",
    "import numpy as np\n",
    "import seaborn as sns\n",
    "\n",
    "from sunpy.time import parse_time\n",
    "\n",
    "os.system('pwd')\n",
    "\n",
    "\n",
    "os.system('curl https://kauai.ccmc.gsfc.nasa.gov/CMEscoreboard/WS/get/predictions > data/ccmc/ATSB.json')"
   ]
  },
  {
   "cell_type": "code",
   "execution_count": 2,
   "id": "1e0cf7fe-79fb-4b4b-a9a3-4fac31d48352",
   "metadata": {
    "tags": []
   },
   "outputs": [],
   "source": [
    "f = open('data/ccmc/ATSB.json')\n",
    "data = json.load(f)\n",
    "\n",
    "#data"
   ]
  },
  {
   "cell_type": "code",
   "execution_count": 3,
   "id": "bd66d7b7-2dfb-4b42-a17d-6781aac1c69b",
   "metadata": {
    "tags": []
   },
   "outputs": [],
   "source": [
    "dt=[]\n",
    "count=[]\n",
    "for entry in data:\n",
    "    count.append(1)\n",
    "    for pred in entry['predictions']:\n",
    "        #print (entry['arrivalTime'], pred['predictedArrivalTime'])\n",
    "        ta=mdates.date2num(parse_time(entry['arrivalTime']).datetime)\n",
    "        tp=mdates.date2num(parse_time(pred['predictedArrivalTime']).datetime)\n",
    "        dt.append(tp-ta)\n",
    "        \n",
    "                "
   ]
  },
  {
   "cell_type": "code",
   "execution_count": 9,
   "id": "6b75d024-4221-4d3a-87cc-3831c8da5972",
   "metadata": {
    "tags": []
   },
   "outputs": [
    {
     "name": "stdout",
     "output_type": "stream",
     "text": [
      "294\n",
      "1958\n",
      "-2.6313500170242934\n",
      "17.140489673059868\n",
      "12.972974123257993\n",
      "-3.0590277777773736\n",
      "3.696527777778101\n",
      "0.0\n",
      "88.71666666667443\n"
     ]
    },
    {
     "data": {
      "image/png": "[encoded data removed]",
      "text/plain": [
       "<Figure size 640x480 with 1 Axes>"
      ]
     },
     "metadata": {},
     "output_type": "display_data"
    }
   ],
   "source": [
    "sns.histplot(dt)\n",
    "\n",
    "print(len(count))\n",
    "print(len(dt))\n",
    "print(np.nanmean(dt)*24)\n",
    "print(np.nanstd(dt)*24)\n",
    "\n",
    "print(np.nanmean(np.abs(dt))*24)\n",
    "\n",
    "print(np.nanmin(dt))\n",
    "print(np.nanmax(dt))\n",
    "\n",
    "print(np.nanmin(np.abs(dt))*24)\n",
    "print(np.nanmax(np.abs(dt))*24)"
   ]
  },
  {
   "cell_type": "code",
   "execution_count": 44,
   "id": "7a738b2d-76d2-455e-95b9-8f9264aaf7a5",
   "metadata": {
    "tags": []
   },
   "outputs": [
    {
     "name": "stdout",
     "output_type": "stream",
     "text": [
      "[0. 0. 1. 1. 2. 2. 3. 3. 4. 4. 4. 5. 5. 5. 6. 6. 6. 7. 8. 8. 8.]\n"
     ]
    }
   ],
   "source": [
    "print(np.sort(np.abs(dt))[0:21]*24*60)"
   ]
  },
  {
   "cell_type": "code",
   "execution_count": 5,
   "id": "95712e16-4423-492a-9b28-e8abaec59380",
   "metadata": {
    "tags": []
   },
   "outputs": [
    {
     "data": {
      "text/plain": [
       "0"
      ]
     },
     "execution_count": 5,
     "metadata": {},
     "output_type": "execute_result"
    },
    {
     "name": "stderr",
     "output_type": "stream",
     "text": [
      "  % Total    % Received % Xferd  Average Speed   Time    Time     Time  Current\n",
      "                                 Dload  Upload   Total   Spent    Left  Speed\n",
      "  0     0    0     0    0     0      0      0 --:--:-- --:--:-- --:--:--     0"
     ]
    },
    {
     "name": "stdout",
     "output_type": "stream",
     "text": [
      "{\n",
      "  \"cmeID\" : \"2024-03-23T01:48:00-CME-001\",\n",
      "  \"observedTime\" : \"2024-03-23T01:48Z\",\n",
      "  \"noArrivalObserved\" : false,\n",
      "  \"arrivalTime\" : \"2024-03-24T14:10Z\",\n",
      "  \"maxKP\" : 8.0,\n",
      "  \"dstMin\" : null,\n",
      "  \"dstMinTime\" : null,\n",
      "  \"cmeNote\" : \"Partial halo to the NW following the front of the earlier 2024-03-23T01:25Z CME, with a faint shock front portion seen to SW in SOHO LASCO C2/C3. There is a data gap in STEREO A COR2 from 2024-03-22T18:23Z to 2024-03-23T03:23Z, after which the end of this event is seen for a few frames before exiting the field of view. A possible source could be the slower developing dimming to the SSW of Active Region 3614 (N25E07) following the deep  northern dimming to the NE of this Active Region. Alternative source could be the concurrent flare from Active Region 3615 (S14E15). Combined arrival of this CME with CME: 2024-03-23T01:25Z was detected at L1 by DSCOVR and ACE at 2024-03-24T14:10Z. The arrival signature is characterized by significant sharp increase in B-total from 6nT to 26nT, eventually reaching 33nT. There is a corresponding jump in solar wind speed from 550 km/s to 851 km/s, with a peak of 880 km/s and an increase in density and temperature seen at ~14:10Z.\",\n",
      "  \"predictions\" : [ {\n",
      "    \"predictedMethodName\" : \"WSA-ENLIL + Cone (NASA M2M)\",\n",
      "    \"submissionTime\" : \"2024-03-23T16:51Z\",\n",
      "    \"predictedArrivalTime\" : \"2024-03-24T17:55Z\",\n",
      "    \"uncertaintyMinusInHrs\" : 7.0,\n",
      "    \"uncertaintyPlusInHrs\" : 7.0,\n",
      "    \"confidenceInPercentage\" : null,\n",
      "    \"predictedMaxKpLowerRange\" : 6.0,\n",
      "    \"predictedMaxKpUpperRange\" : 8.0,\n",
      "    \"predictedDstMin\" : null,\n",
      "    \"predictedDstMinTime\" : null,\n",
      "    \"differenceInHrs\" : \"3.75\",\n",
      "    \"leadTimeInHrs\" : \"21.32\",\n",
      "    \"predictionNote\" : \"2-CME simulation, with CMEs arriving at L1 as a combined front:\\n\\n## Community Coordinated Modeling Center Database Of Notifications, Knowledge, Information ( CCMC DONKI )\\n## Message Type: Space Weather Notification - CMEs (Solar Orbiter, STEREO A, Psyche, Missions Near Earth)\\n##\\n## Message Issue Date: 2024-03-23T16:51:43Z\\n## Message ID: 20240323-AL-012\\n##\\n## Disclaimer: NOAA's Space Weather Prediction Center is the United States Government official source for space weather forecasts. This \\\"Experimental Research Information\\\" consists of preliminary NASA research products and should be interpreted and used accordingly.\\n\\n\\n## Summary:\\n\\nMultiple CMEs have been detected as follows:\\n1: O-type CME detected by STEREO A / SOHO. \\n\\nStart time of the event: 2024-03-23T01:25Z.\\n\\nEstimated speed: ~1613 km/s.\\n\\nEstimated opening half-angle: 41 deg.\\n\\nDirection (lon./lat.): 2/22 in Heliocentric Earth Equatorial coordinates.\\n\\nActivity ID: 2024-03-23T01:25:00-CME-001\\n\\n2: O-type CME detected by STEREO A / SOHO. \\n\\nStart time of the event: 2024-03-23T01:48Z.\\n\\nEstimated speed: ~1572 km/s.\\n\\nEstimated opening half-angle: 45 deg.\\n\\nDirection (lon./lat.): 5/5 in Heliocentric Earth Equatorial coordinates.\\n\\nActivity ID: 2024-03-23T01:48:00-CME-001\\n\\nBased on preliminary analysis by the Moon to Mars Space Weather Analysis Office and heliospheric modeling carried out at NASA Community Coordinated Modeling Center, it is estimated that the CMEs may affect Solar Orbiter, STEREO A, and Psyche (minor impact).  The leading edge of the CMEs will reach Solar Orbiter at 2024-03-23T14:01Z, STEREO A at 2024-03-24T15:36Z, and Psyche at 2024-03-27T22:00Z (plus minus 7 hours). \\n  \\nThe simulation also indicates that the CMEs may impact NASA missions near Earth. Simulations indicate that the leading edge of the CMEs will reach NASA missions near Earth at about 2024-03-24T17:55Z (plus minus 7 hours). The roughly estimated expected range of the maximum Kp index is 6-8 (moderate to severe).\\n   \\n  \\nLinks to the movies of the modeled event (includes CMEs: 2024-03-23T01:25:00-CME-001, 2024-03-23T01:48:00-CME-001):\\n\\nhttp://iswa.gsfc.nasa.gov/downloads/20240323_031900_2.0_anim.tim-den.gif\\nhttp://iswa.gsfc.nasa.gov/downloads/20240323_031900_2.0_anim.tim-vel.gif\\nhttp://iswa.gsfc.nasa.gov/downloads/20240323_031900_2.0_anim.tim-den-Stereo_A.gif\\nhttp://iswa.gsfc.nasa.gov/downloads/20240323_031900_2.0_anim.tim-vel-Stereo_A.gif\\nhttp://iswa.gsfc.nasa.gov/downloads/20240323_031900_2.0_ENLIL_CONE_timeline.gif\\nhttp://iswa.gsfc.nasa.gov/downloads/20240323_031900_2.0_ENLIL_CONE_STA_timeline.gif\\nhttp://iswa.gsfc.nasa.gov/downloads/20240323_031900_2.0_ENLIL_CONE_SolO_timeline.gif\\n\\n\\n## Notes: \\n\\nThese CME events (2024-03-23T01:25:00-CME-001 and 2024-03-23T01:48:00-CME-001) are associated with X1.1 flare with ID 2024-03-23T00:58:00-FLR-001 from Active Region 13614 (N25E07) which peaked at 2024-03-23T01:33Z and simultaneous flare from Active Region 13615 (S14E15) (see notifications 20240323-AL-001 and 20240323-AL-002), as well as with SEP at SOHO with ID 2024-03-23T06:49:00-SEP-001 (see notification 20240323-AL-006), SEP at GOES with ID 2024-03-23T08:15:00-SEP-001 (see notifications 20240323-AL-003, 20240323-AL-005), and SEP at STEREO A with ID 2024-03-23T09:55:00-SEP-001 (see notifications 20240323-AL-004 and 20240323-AL-006).\\n\\nThese CME events are still under analysis and updates will be provided when available.\\n\\n\\nSCORE CME typification system:\\nS-type: CMEs with speeds less than 500 km/s\\nC-type: Common 500-999 km/s\\nO-type: Occasional 1000-1999 km/s\\nR-type: Rare 2000-2999 km/s\\nER-type: Extremely Rare >3000 km/s\\n\\n\\nCommunity Coordinated Modeling Center Database Of Notifications, Knowledge, Information (CCMC DONKI) Disclaimer\\n\\nData and/or information stored within the CCMC DONKI is provided \\\"as is\\\" without any warranty of any kind, either expressed, implied, or statutory, including, but not limited to, any warranty that the data and/or information will conform to specifications, any implied warranties of merchantability, fitness for a particular purpose, or freedom from infringement, any warranty that the information will be error free, or any warranty that documentation, if provided, will conform to the data and/or information. In no event shall the United States Government, or its contractors or subcontractors, be liable for any damages, including, but not limited to, direct, indirect, special or consequential damages, arising out of, resulting from, or in any way connected with this information, whether or not based upon warranty, contract, tort, or otherwise, whether or not injury was sustained by persons or property or otherwise, and whether or not loss was sustained from, or arose out of the results of, or use of, the data and/or information. The United States Government disclaims all warranties and liabilities regarding third party data and/or information, if present in the data and/or information generated and/or compiled by CCMC DONKI, and distributes it \\\"as is\\\".\\n\\nUse of data and/or information stored within the CCMC DONKI does not, in any manner, constitute an endorsement by NASA of any test results, resulting designs, hardware, or other matters. Use of data and/or information stored within the CCMC DONKI does not, in any manner, constitute the grant of a license to RECIPIENT under any NASA copyright, patent, patent application or other intellectual property.\\n\\nThe terms of this disclaimer shall be construed, and the legal relations between the parties hereto shall be determined, in accordance with United States federal law.\\n\\nNOAA's Space Weather Prediction Center is the United States Government official source for space weather forecasts. This \\\"Experimental Research Information\\\" consists of preliminary NASA research products and should be interpreted and used accordingly.\"\n",
      "  }, {\n",
      "    \"predictedMethodName\" : \"ELEvo\",\n",
      "    \"submissionTime\" : \"2024-03-23T17:21Z\",\n",
      "    \"predictedArrivalTime\" : \"2024-03-24T12:30Z\",\n",
      "    \"uncertaintyMinusInHrs\" : 5.58,\n",
      "    \"uncertaintyPlusInHrs\" : 5.58,\n",
      "    \"confidenceInPercentage\" : null,\n",
      "    \"predictedMaxKpLowerRange\" : null,\n",
      "    \"predictedMaxKpUpperRange\" : null,\n",
      "    \"predictedDstMin\" : null,\n",
      "    \"predictedDstMinTime\" : null,\n",
      "    \"differenceInHrs\" : \"-1.67\",\n",
      "    \"leadTimeInHrs\" : \"20.82\",\n",
      "    \"predictionNote\" : \"CME input parameters:\\nApex direction (deg): +5.0\\nInverse ellipse aspect ratio: 0.7\\nAngular half width (in ecliptic, deg): 35\\n\\ninitial CME speed: 1572.0 (+/- 50) km/s\\ninitial height: 21.5 R_sun\\ninitial time: 2024-03-23T03:50Z\\ndrag parameter: 0.1e-7 (+/- 0.025e-7) /km \\nambient solar wind speed: 400 (+/- 50) km/s\\ntime step: 10 min\\nensemble members: 50k\"\n",
      "  }, {\n",
      "    \"predictedMethodName\" : \"CMEFM v.0.1\",\n",
      "    \"submissionTime\" : \"2024-03-23T18:33Z\",\n",
      "    \"predictedArrivalTime\" : \"2024-03-24T16:09Z\",\n",
      "    \"uncertaintyMinusInHrs\" : 2.22,\n",
      "    \"uncertaintyPlusInHrs\" : 1.97,\n",
      "    \"confidenceInPercentage\" : null,\n",
      "    \"predictedMaxKpLowerRange\" : null,\n",
      "    \"predictedMaxKpUpperRange\" : null,\n",
      "    \"predictedDstMin\" : null,\n",
      "    \"predictedDstMinTime\" : null,\n",
      "    \"differenceInHrs\" : \"1.98\",\n",
      "    \"leadTimeInHrs\" : \"19.62\",\n",
      "    \"predictionNote\" : \"Time of Launch: 2024/03/23 01:16Z\\nPlane of Sky 1: 05:00Z; 31.5Rsun; N Direction\\nPlane of Sky 2: 08:20Z; 31.5Rsun; S Direction\\nPOS Difference: 3:20\\nPOS Midpoint: 06:40Z\\nTOL/Midpoint Difference: 5:24\\n\\nNumeric View/Impact Type: 2\\nPOS Difference Resulted Value: ~7.2\\nTravel Time: ~7.2 * 5:24 = 38:53\\n\\nPredicted L1 Arrival: 2024-03-24T16:09Z\\n\\nError Parameters:\\n - POS Difference: 1 Hour\\n - Travel Time: 5%\\n\\nNotes:\\nCoronagraph Imagery Quality: 5/5\\n\\nForecast Creation Time: 2024/03/23 08:59Z\"\n",
      "  }, {\n",
      "    \"predictedMethodName\" : \"WSA-ENLIL + Cone (Met Office)\",\n",
      "    \"submissionTime\" : \"2024-03-23T20:26Z\",\n",
      "    \"predictedArrivalTime\" : \"2024-03-24T23:00Z\",\n",
      "    \"uncertaintyMinusInHrs\" : 7.0,\n",
      "    \"uncertaintyPlusInHrs\" : 7.0,\n",
      "    \"confidenceInPercentage\" : null,\n",
      "    \"predictedMaxKpLowerRange\" : 5.0,\n",
      "    \"predictedMaxKpUpperRange\" : 7.0,\n",
      "    \"predictedDstMin\" : null,\n",
      "    \"predictedDstMinTime\" : null,\n",
      "    \"differenceInHrs\" : \"8.83\",\n",
      "    \"leadTimeInHrs\" : \"17.73\",\n",
      "    \"predictionNote\" : \"Met Office ENLIL settings.\\nENLIL version: 2.7\\nResolution: medium-res (512x60x180) (X1=0.1-1.7/uniform X2=30.-150./uniform X3=0.-360./uniform)\\nAmbient settings: a3b2-sa1\\nWSA version: 4.5\\nGONG: mrzqs\\nNote that this arrival time forecast is based on the simulation but is then adjusted by a human-in-the-loop.\\n\\nPlease specify following CME input parameters.\\nTime at 21.5Rs boundary: \\nRadial velocity (km/s): \\nLongitude (deg): \\nLatitude (deg): \\nHalf-angular width (deg): \\n\\nNotes: \\nSpace weather advisor:\"\n",
      "  }, {\n",
      "    \"predictedMethodName\" : \"EAM (Effective Acceleration Model)\",\n",
      "    \"submissionTime\" : \"2024-03-23T21:28Z\",\n",
      "    \"predictedArrivalTime\" : \"2024-03-24T08:59Z\",\n",
      "    \"uncertaintyMinusInHrs\" : 7.0,\n",
      "    \"uncertaintyPlusInHrs\" : 7.0,\n",
      "    \"confidenceInPercentage\" : null,\n",
      "    \"predictedMaxKpLowerRange\" : null,\n",
      "    \"predictedMaxKpUpperRange\" : null,\n",
      "    \"predictedDstMin\" : null,\n",
      "    \"predictedDstMinTime\" : null,\n",
      "    \"differenceInHrs\" : \"-5.18\",\n",
      "    \"leadTimeInHrs\" : \"16.70\",\n",
      "    \"predictionNote\" : \"**************************************************************************************\\n% Compiled module: EAM\\n**************************************************************************************\\nMost pr. speed = 1572.0 km/sec\\nThe EAM version you are running is: v2\\nu_r =      1655.96\\nAcceleration:      -6.08703\\nDuration in seconds:        112306.91\\nDuration in days:        1.2998485\\n**************************************************************************************\\nAcceleration of the CME:  -6.09 m/s^2\\nVelocity of the CME at 1 AU:  972.3 km/s\\nExpected date and time for the arrival of the CME: 24/03/2024 Time: 08:59 UT\\n**************************************************************************************\"\n",
      "  }, {\n",
      "    \"predictedMethodName\" : \"EAM (Effective Acceleration Model)\",\n",
      "    \"submissionTime\" : \"2024-03-23T21:29Z\",\n",
      "    \"predictedArrivalTime\" : \"2024-03-25T07:41Z\",\n",
      "    \"uncertaintyMinusInHrs\" : 7.0,\n",
      "    \"uncertaintyPlusInHrs\" : 7.0,\n",
      "    \"confidenceInPercentage\" : null,\n",
      "    \"predictedMaxKpLowerRange\" : null,\n",
      "    \"predictedMaxKpUpperRange\" : null,\n",
      "    \"predictedDstMin\" : null,\n",
      "    \"predictedDstMinTime\" : null,\n",
      "    \"differenceInHrs\" : \"17.52\",\n",
      "    \"leadTimeInHrs\" : \"16.68\",\n",
      "    \"predictionNote\" : \"**************************************************************************************\\n% Compiled module: EAM\\n**************************************************************************************\\nMost pr. speed = 1572.0 km/sec\\nThe EAM version you are running is: v3\\nUtilizing the upgraded version EAM_v3 [Paouris et al. 2021 - DOI: 10.1007/s11207-020-01747-4]\\nu_r =      899.196\\nAcceleration:      -1.42674\\nDuration in seconds:        193988.47\\nDuration in days:        2.2452369\\n**************************************************************************************\\nAcceleration of the CME:  -1.43 m/s^2\\nVelocity of the CME at 1 AU:  622.4 km/s\\nExpected date and time for the arrival of the CME: 25/03/2024 Time: 07:41 UT\\n**************************************************************************************\"\n",
      "  }, {\n",
      "    \"predictedMethodName\" : \"SARM\",\n",
      "    \"submissionTime\" : \"2024-03-23T22:02Z\",\n",
      "    \"predictedArrivalTime\" : \"2024-03-24T21:34Z\",\n",
      "    \"uncertaintyMinusInHrs\" : null,\n",
      "    \"uncertaintyPlusInHrs\" : null,\n",
      "    \"confidenceInPercentage\" : null,\n",
      "    \"predictedMaxKpLowerRange\" : 6.0,\n",
      "    \"predictedMaxKpUpperRange\" : 8.0,\n",
      "    \"predictedDstMin\" : null,\n",
      "    \"predictedDstMinTime\" : null,\n",
      "    \"differenceInHrs\" : \"7.40\",\n",
      "    \"leadTimeInHrs\" : \"16.13\",\n",
      "    \"predictionNote\" : \"CME observed at 21.5 Rs: 2024-03-23 03:35\\nâ- Time at C2: 2024-03-23 01:48\\nâ- Radial speed: 1571.0 km/s\\nâ- Half angle: 46 deg\\nâ- Eruption location: S02W09\\nâInferences:\\nââ - No flare association was found\\nâPredictions for Earth:\\nââ - In-situ shock speed: 877.30 km/s\\nââ - Shock arrival time: 2024-03-24 21:34 (i.e. predicted transit time: 43.78 hours)\"\n",
      "  }, {\n",
      "    \"predictedMethodName\" : \"Ensemble WSA-ENLIL + Cone (NASA M2M)\",\n",
      "    \"submissionTime\" : \"2024-03-24T01:00Z\",\n",
      "    \"predictedArrivalTime\" : \"2024-03-24T22:32Z\",\n",
      "    \"uncertaintyMinusInHrs\" : 6.0,\n",
      "    \"uncertaintyPlusInHrs\" : 9.0,\n",
      "    \"confidenceInPercentage\" : 100.0,\n",
      "    \"predictedMaxKpLowerRange\" : 4.0,\n",
      "    \"predictedMaxKpUpperRange\" : 6.0,\n",
      "    \"predictedDstMin\" : null,\n",
      "    \"predictedDstMinTime\" : null,\n",
      "    \"differenceInHrs\" : \"8.37\",\n",
      "    \"leadTimeInHrs\" : \"13.17\",\n",
      "    \"predictionNote\" : \"2-CME ensemble with CMEs with IDs 2024-03-23T01:25:00-CME-001 and 2024-03-23T01:48:00-CME-001 \\n\\nEnsemble modeling estimates the spread/uncertainty in CME arrival time predictions using the WSA-ENLIL+Cone model due to uncertainties in CME input parameters.  This is achieved by measuring N CME input parameters, then performing an ensemble of N runs of WSA-ENLIL cone model.  This gives an ensemble of N CME arrival times and impact estimates.\\n\\nNASA GSFC SWRC ENLIL settings:\\nENLIL version: 2.7\\nResolution: low2 (256x30x90)\\nAmbient settings: a3b1f\\nWSA version: 2.2\\n(Enlil 2.7 w/res:low2 ambient:a3b1f, WSA2.2)\\n\\n\\nNotification from: Moon to Mars Space Weather Analysis Office Notifications\\n##\\n## Message Issue Date: 2024-03-24T13:14:38Z\\n## Message ID: 20240324-AL-003\\n##\\n## Disclaimer: NOAA's Space Weather Prediction Center is the United States Government official source for space weather forecasts. This \\\"Experimental Research Information\\\" consists of preliminary NASA research products and should be interpreted and used accordingly.\\n\\n\\n## Summary:\\n\\nBETA PRODUCT. ENSEMBLE PRODUCT IS STILL IN DEVELOPMENT MODE. PLEASE LET US KNOW IF YOU HAVE ANY SUGGESTIONS FOR MODIFICATIONS.  \\n\\nEnsemble modeling update on CMEs with IDs 2024-03-23T01:25:00-CME-001 and 2024-03-23T01:48:00-CME-001 (see previous notification 20240323-AL-013). Based on analysis by the Moon to Mars Space Weather Analysis Office and heliospheric ensemble modeling carried out at the Community Coordinated Modeling Center, it is estimated that the CME may impact STEREO A. For 24 ensemble members (see notes section), simulations indicate that the leading edge of the CME will reach STEREO A between about 2024-03-24T13:59Z and 2024-03-25T04:12Z (average arrival 2024-03-24T19:28Z) for 100% of simulations.\\n\\nAdditionally the CME is estimated to reach NASA missions near Earth between about 2024-03-24T16:47Z and 2024-03-25T07:59Z (average arrival 2024-03-24T22:32Z) for 100% of simulations.  The ensemble-based forecast indicates that there is a 57% chance for the maximum Kp index to be in the 4-6 range (below minor to moderate).\\n\\nLinks to the ensemble details of the modeled event:\\nhttps://iswa.gsfc.nasa.gov/ENSEMBLE/2024-03-23_ncmes1_sims24_LAHAINA059/20240323_012500_ncmes1_sims24_LAHAINA059_anim_tim-den.gif\\nhttps://iswa.gsfc.nasa.gov/ENSEMBLE/2024-03-23_ncmes1_sims24_LAHAINA059/20240323_012500_ncmes1_sims24_LAHAINA059_arrival_Earth.gif\\nhttps://iswa.gsfc.nasa.gov/ENSEMBLE/2024-03-23_ncmes1_sims24_LAHAINA059/20240323_012500_ncmes1_sims24_LAHAINA059_Earth_stack.gif\\nhttps://iswa.gsfc.nasa.gov/ENSEMBLE/2024-03-23_ncmes1_sims24_LAHAINA059/20240323_012500_ncmes1_sims24_LAHAINA059_arrival_STA.gif\\nhttps://iswa.gsfc.nasa.gov/ENSEMBLE/2024-03-23_ncmes1_sims24_LAHAINA059/20240323_012500_ncmes1_sims24_LAHAINA059_STA_stack.gif\\n\\n## Notes:\\nThese CME events (2024-03-23T01:25:00-CME-001 and 2024-03-23T01:48:00-CME-001) are also predicted to have an impact Solar Orbiter at 2024-03-23T14:01Z, Psyche at 2024-03-27T22:00Z (minor impact) and Lucy at 2024-03-27T16:00Z (minor impact) (plus minus 7 hours) based on previous heliospheric modeling (see notifications 20240323-AL-012 and 20240323-AL-013)\\n\\nEnsemble CME modeling at M2M is performed by building sets of initial CME parameters and carrying out separate simulations for each set. This approach allows a mapping of initial CME parameter uncertainties into a statistical characterization of CME arrival times and impact at locations of interest.\\n\\nDescription of links: For each location, the first link shows the WSA-ENLIL+Cone model animation for the median CME input parameters, the second link shows the probabilistic distribution of predicted arrival times histogram, and the third link shows a stack plot of the WSA-ENLIL+Cone modeled magnetic field, velocity, density, and temperature for all ensemble members. For missions near Earth, a histogram of the probabilistic Kp forecast is also provided.\\n\\nFor the full details of the modeled event, please go here:\\nhttps://iswa.gsfc.nasa.gov/ENSEMBLE/2024-03-23_ncmes1_sims24_LAHAINA059/Detailed_results_20240323_012500_ncmes1_sims24_LAHAINA059.txt\\n\\n\\nCommunity Coordinated Modeling Center Database Of Notifications, Knowledge, Information (CCMC DONKI) Disclaimer\\n\\nData and/or information stored within the CCMC DONKI is provided \\\"as is\\\" without any warranty of any kind, either expressed, implied, or statutory, including, but not limited to, any warranty that the data and/or information will conform to specifications, any implied warranties of merchantability, fitness for a particular purpose, or freedom from infringement, any warranty that the information will be error free, or any warranty that documentation, if provided, will conform to the data and/or information. In no event shall the United States Government, or its contractors or subcontractors, be liable for any damages, including, but not limited to, direct, indirect, special or consequential damages, arising out of, resulting from, or in any way connected with this information, whether or not based upon warranty, contract, tort, or otherwise, whether or not injury was sustained by persons or property or otherwise, and whether or not loss was sustained from, or arose out of the results of, or use of, the data and/or information. The United States Government disclaims all warranties and liabilities regarding third party data and/or information, if present in the data and/or information generated and/or compiled by CCMC DONKI, and distributes it \\\"as is\\\".\\n\\nUse of data and/or information stored within the CCMC DONKI does not, in any manner, constitute an endorsement by NASA of any test results, resulting designs, hardware, or other matters. Use of data and/or information stored within the CCMC DONKI does not, in any manner, constitute the grant of a license to RECIPIENT under any NASA copyright, patent, patent application or other intellectual property.\\n\\nThe terms of this disclaimer shall be construed, and the legal relations between the parties hereto shall be determined, in accordance with United States federal law.\\n\\nNOAA's Space Weather Prediction Center is the United States Government official source for space weather forecasts. This \\\"Experimental Research Information\\\" consists of preliminary NASA research products and should be interpreted and used accordingly.\"\n",
      "  }, {\n",
      "    \"predictedMethodName\" : \"Cone + HAF (SEPC, NSSC, CAS)\",\n",
      "    \"submissionTime\" : \"2024-03-24T02:40Z\",\n",
      "    \"predictedArrivalTime\" : \"2024-03-24T12:00Z\",\n",
      "    \"uncertaintyMinusInHrs\" : null,\n",
      "    \"uncertaintyPlusInHrs\" : null,\n",
      "    \"confidenceInPercentage\" : 80.0,\n",
      "    \"predictedMaxKpLowerRange\" : 6.0,\n",
      "    \"predictedMaxKpUpperRange\" : 8.0,\n",
      "    \"predictedDstMin\" : null,\n",
      "    \"predictedDstMinTime\" : null,\n",
      "    \"differenceInHrs\" : \"-2.17\",\n",
      "    \"leadTimeInHrs\" : \"11.50\",\n",
      "    \"predictionNote\" : \"predicted CME shock arrival time: 2024-03-24T12:00Z\\nConfidence that the CME will arrive: 80%\\nKp Range: 6-8\"\n",
      "  }, {\n",
      "    \"predictedMethodName\" : \"IZMIRAN\",\n",
      "    \"submissionTime\" : \"2024-03-24T07:21Z\",\n",
      "    \"predictedArrivalTime\" : \"2024-03-25T09:40Z\",\n",
      "    \"uncertaintyMinusInHrs\" : 17.0,\n",
      "    \"uncertaintyPlusInHrs\" : 17.0,\n",
      "    \"confidenceInPercentage\" : null,\n",
      "    \"predictedMaxKpLowerRange\" : 5.0,\n",
      "    \"predictedMaxKpUpperRange\" : 7.0,\n",
      "    \"predictedDstMin\" : null,\n",
      "    \"predictedDstMinTime\" : null,\n",
      "    \"differenceInHrs\" : \"19.50\",\n",
      "    \"leadTimeInHrs\" : \"6.82\",\n",
      "    \"predictionNote\" : \"Initial CME velocity = 1000 km/s\\nBackground SW velocity = 500 km/s\\nHeliolongitude = 0 deg\"\n",
      "  }, {\n",
      "    \"predictedMethodName\" : \"Average of all Methods\",\n",
      "    \"submissionTime\" : \"2024-03-24T14:02Z\",\n",
      "    \"predictedArrivalTime\" : \"2024-03-24T20:00Z\",\n",
      "    \"uncertaintyMinusInHrs\" : null,\n",
      "    \"uncertaintyPlusInHrs\" : null,\n",
      "    \"confidenceInPercentage\" : 90.0,\n",
      "    \"predictedMaxKpLowerRange\" : 5.33333,\n",
      "    \"predictedMaxKpUpperRange\" : 7.33333,\n",
      "    \"predictedDstMin\" : null,\n",
      "    \"predictedDstMinTime\" : null,\n",
      "    \"differenceInHrs\" : \"5.83\",\n",
      "    \"leadTimeInHrs\" : \"0.13\",\n",
      "    \"predictionNote\" : \"This is the auto generated average of all submitted predictions for this CME\"\n",
      "  } ]\n",
      "}"
     ]
    },
    {
     "name": "stderr",
     "output_type": "stream",
     "text": [
      "100 22558  100 22558    0     0  34435      0 --:--:-- --:--:-- --:--:-- 34387\n"
     ]
    }
   ],
   "source": [
    "\n",
    "#!curl https://kauai.ccmc.gsfc.nasa.gov/CMEscoreboard/WS/get/predictions?CMEID=2024-03-23T01:48:00-CME-001\n",
    "\n",
    "# 2023-04-21T18:12:00-CME-001\n",
    "\n",
    "\n",
    "#direct access to specific event\n",
    "\n",
    "#os.system('curl https://kauai.ccmc.gsfc.nasa.gov/CMEscoreboard/WS/get/predictions?CMEID=2024-03-23T01:48:00-CME-001')\n",
    "\n",
    "#time restriction\n",
    "#os.system('curl https://kauai.ccmc.gsfc.nasa.gov/CMEscoreboard/WS/get/predictions ?CMEtimeStart=2024-03-23&CMEtimeEnd=2024-03-26')\n",
    "\n",
    "#model selection\n",
    "#os.system('curl https://kauai.ccmc.gsfc.nasa.gov/CMEscoreboard/WS/get/predictions?CMEID=2024-03-23T01:48:00-CME-001&method=CMEFM%20v.0.1')\n",
    "\n",
    "os.system('curl https://kauai.ccmc.gsfc.nasa.gov/CMEscoreboard/WS/get/predictions?CMEID=2024-03-23T01:48:00-CME-001&method=ELEvo')\n"
   ]
  },
  {
   "cell_type": "code",
   "execution_count": null,
   "id": "fc07be86-b4de-4bfc-9747-7200fe43f077",
   "metadata": {},
   "outputs": [],
   "source": []
  },
  {
   "cell_type": "code",
   "execution_count": null,
   "id": "e8ef51ba-b736-43a0-bd8c-2babf2f6b4ac",
   "metadata": {},
   "outputs": [],
   "source": []
  },
  {
   "cell_type": "code",
   "execution_count": null,
   "id": "1db0f1a0-64f0-45e1-bd1b-f2c40e89b9cf",
   "metadata": {},
   "outputs": [],
   "source": []
  }
 ],
 "metadata": {
  "kernelspec": {
   "display_name": "Python 3 (ipykernel)",
   "language": "python",
   "name": "python3"
  },
  "language_info": {
   "codemirror_mode": {
    "name": "ipython",
    "version": 3
   },
   "file_extension": ".py",
   "mimetype": "text/x-python",
   "name": "python",
   "nbconvert_exporter": "python",
   "pygments_lexer": "ipython3",
   "version": "3.10.0"
  }
 },
 "nbformat": 4,
 "nbformat_minor": 5
}
