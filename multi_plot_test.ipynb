{
 "cells": [
  {
   "cell_type": "code",
   "execution_count": 1,
   "id": "b662ece5-a465-4271-b72f-c8cb50e99921",
   "metadata": {
    "tags": []
   },
   "outputs": [
    {
     "name": "stdout",
     "output_type": "stream",
     "text": [
      "system is mac\n",
      "8\n",
      "0\n",
      "8\n",
      "0\n",
      "\n"
     ]
    },
    {
     "name": "stderr",
     "output_type": "stream",
     "text": [
      "[NbConvertApp] Converting notebook multi_plot_test.ipynb to script\n",
      "[NbConvertApp] Writing 2028 bytes to multi_plot_test.py\n"
     ]
    },
    {
     "data": {
      "text/plain": [
       "0"
      ]
     },
     "execution_count": 1,
     "metadata": {},
     "output_type": "execute_result"
    }
   ],
   "source": [
    "#demonstrator for plotting with matplotlib with multiprocessing\n",
    "\n",
    "#https://docs.python.org/3/library/multiprocessing.html\n",
    "\n",
    "import multiprocessing as mp\n",
    "import matplotlib\n",
    "import matplotlib.pyplot as plt\n",
    "import numpy as np\n",
    "import time\n",
    "import sys\n",
    "import os\n",
    "\n",
    "matplotlib.use('Agg')\n",
    "\n",
    "#### check for system type\n",
    "#server\n",
    "if sys.platform == 'linux': \n",
    "    print('system is linux')\n",
    "    used=50\n",
    "    \n",
    "#mac\n",
    "if sys.platform =='darwin':  \n",
    "    print('system is mac')\n",
    "    print(os.system('sysctl -n hw.physicalcpu'))\n",
    "    print(os.system('sysctl -n hw.logicalcpu'))\n",
    "    used=8\n",
    "    \n",
    "print()\n",
    "\n",
    "plotsdir='plots_multi' \n",
    "\n",
    "if os.path.isdir(plotsdir) == False: os.mkdir(plotsdir)\n",
    "\n",
    "os.system('jupyter nbconvert --to script multi_plot_test.ipynb')   \n"
   ]
  },
  {
   "cell_type": "code",
   "execution_count": 2,
   "id": "e05fc957-8c5d-4b7e-9754-3a378d87ce5e",
   "metadata": {
    "tags": []
   },
   "outputs": [
    {
     "name": "stdout",
     "output_type": "stream",
     "text": [
      "[0.39004999 0.69594257 0.78519836 ... 0.42725629 0.26742946 0.16097445]\n",
      "[0 1 2 3 4 5 6 7 8 9]\n"
     ]
    }
   ],
   "source": [
    "def make_plot(i):\n",
    "    \n",
    "\n",
    "    plt.figure(1,figsize=(20,10),dpi=100)\n",
    "    plt.plot(data,'ok',markersize=0.1,alpha=0.1)\n",
    "    plt.title(str(i)+title)    \n",
    "    plt.savefig(plotsdir+'/'+str(i)+'.png',dpi=100)\n",
    "    plt.close(1)\n",
    "\n",
    "    \n",
    "counter = np.arange(0,10,1)  # pool counter\n",
    "\n",
    "#global variables\n",
    "title ='Hello'    \n",
    "data=  np.random.rand(1000000) #1 mio random numbers\n",
    "\n",
    "print(data)\n",
    "print(counter)\n",
    "#print(len(np.arange(0,100,1e-4)))\n",
    "#p=zip([parameters,data])"
   ]
  },
  {
   "cell_type": "code",
   "execution_count": 3,
   "id": "7a21147e-4857-4b4d-92b9-1b651f9550f0",
   "metadata": {
    "tags": []
   },
   "outputs": [
    {
     "name": "stdout",
     "output_type": "stream",
     "text": [
      "Using multiprocessing, nr of cores 8 , nr of processes used:  8\n",
      "done\n",
      "plotting takes 1.72 seconds\n"
     ]
    }
   ],
   "source": [
    "t0 = time.time()\n",
    "\n",
    "\n",
    "#define pool using fork and number of processes\n",
    "#using fork works on both mac and linux\n",
    "pool=mp.get_context('fork').Pool(processes=used)\n",
    "print('Using multiprocessing, nr of cores',mp.cpu_count(), ', nr of processes used: ',used)\n",
    "\n",
    "# Map the worker function onto the parameters    \n",
    "pool.map(make_plot, counter)\n",
    "pool.close()\n",
    "pool.join()     \n",
    "\n",
    "t1 = time.time()\n",
    "multi_time=np.round(t1-t0,2)\n",
    "\n",
    "print('done')\n",
    "print('plotting takes', np.round(multi_time,2), 'seconds')    "
   ]
  },
  {
   "cell_type": "code",
   "execution_count": 4,
   "id": "a472006d-8499-4626-8457-e71021d5b884",
   "metadata": {
    "tags": []
   },
   "outputs": [
    {
     "name": "stdout",
     "output_type": "stream",
     "text": [
      "plotting takes 4.86 seconds\n",
      "multiprocessing is a factor, 2.83  faster\n"
     ]
    }
   ],
   "source": [
    "t0 = time.time()\n",
    "\n",
    "for i in counter:\n",
    "    make_plot(i)\n",
    "    \n",
    "t1 = time.time()\n",
    "single_time=np.round(t1-t0,2)\n",
    "print('plotting takes', np.round(single_time,2), 'seconds')      \n",
    "\n",
    "print('multiprocessing is a factor,',np.round(single_time/multi_time,2), ' faster')"
   ]
  },
  {
   "cell_type": "code",
   "execution_count": null,
   "id": "2b4614e4-b2b8-4455-a424-f068ada889f9",
   "metadata": {},
   "outputs": [],
   "source": [
    "##example for writing in the same array with multiple processes\n",
    "\n",
    "\n",
    "\n",
    "####"
   ]
  },
  {
   "cell_type": "code",
   "execution_count": null,
   "id": "b152a628-36e8-4325-97f3-914502b6a833",
   "metadata": {},
   "outputs": [],
   "source": []
  }
 ],
 "metadata": {
  "kernelspec": {
   "display_name": "Python 3 (ipykernel)",
   "language": "python",
   "name": "python3"
  },
  "language_info": {
   "codemirror_mode": {
    "name": "ipython",
    "version": 3
   },
   "file_extension": ".py",
   "mimetype": "text/x-python",
   "name": "python",
   "nbconvert_exporter": "python",
   "pygments_lexer": "ipython3",
   "version": "3.10.0"
  }
 },
 "nbformat": 4,
 "nbformat_minor": 5
}
