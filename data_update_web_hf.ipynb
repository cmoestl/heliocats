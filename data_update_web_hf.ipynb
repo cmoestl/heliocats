{
 "cells": [
  {
   "cell_type": "markdown",
   "id": "2c7a256e-b56d-47ee-bcf5-4348bf3bd624",
   "metadata": {
    "tags": []
   },
   "source": [
    "## data updates with high frequency for the helioforecast.space website\n",
    "\n",
    "Main author: C. Möstl, Austrian Space Weather Office, GeoSphere Austria\n",
    "\n",
    "https://github.com/cmoestl/heliocats\n",
    "\n",
    "uses environment 'envs/env_helio4.yml'"
   ]
  },
  {
   "cell_type": "code",
   "execution_count": 9,
   "id": "757ca544-7eb5-4e31-a500-f93e3914195f",
   "metadata": {
    "tags": []
   },
   "outputs": [
    {
     "name": "stderr",
     "output_type": "stream",
     "text": [
      "[NbConvertApp] Converting notebook data_update_web_hf.ipynb to script\n",
      "[NbConvertApp] Writing 7209 bytes to data_update_web_hf.py\n"
     ]
    }
   ],
   "source": [
    "# https://github.com/cmoestl/heliocats  data_update_web_hf.py\n",
    "\n",
    "# for updating data with high frequency on the servers\n",
    "\n",
    "# MIT LICENSE\n",
    "# Copyright 2020-2023, Christian Moestl \n",
    "# Permission is hereby granted, free of charge, to any person obtaining a copy of this \n",
    "# software and associated documentation files (the \"Software\"), to deal in the Software\n",
    "# without restriction, including without limitation the rights to use, copy, modify, \n",
    "# merge, publish, distribute, sublicense, and/or sell copies of the Software, and to \n",
    "# permit persons to whom the Software is furnished to do so, subject to the following \n",
    "# conditions:\n",
    "# The above copyright notice and this permission notice shall be included in all copies \n",
    "# or substantial portions of the Software.\n",
    "# THE SOFTWARE IS PROVIDED \"AS IS\", WITHOUT WARRANTY OF ANY KIND, EXPRESS OR IMPLIED, \n",
    "# INCLUDING BUT NOT LIMITED TO THE WARRANTIES OF MERCHANTABILITY, FITNESS FOR A\n",
    "# PARTICULAR PURPOSE AND NONINFRINGEMENT. IN NO EVENT SHALL THE AUTHORS OR COPYRIGHT \n",
    "# HOLDERS BE LIABLE FOR ANY CLAIM, DAMAGES OR OTHER LIABILITY, WHETHER IN AN ACTION OF \n",
    "# CONTRACT, TORT OR OTHERWISE, ARISING FROM, OUT OF OR IN CONNECTION WITH THE SOFTWARE \n",
    "# OR THE USE OR OTHER DEALINGS IN THE SOFTWARE.\n",
    "\n",
    "import pickle\n",
    "import importlib\n",
    "import matplotlib.pyplot as plt\n",
    "import matplotlib\n",
    "import matplotlib.dates as mdates\n",
    "import sys\n",
    "import numpy as np\n",
    "import datetime\n",
    "import scipy.signal\n",
    "import urllib\n",
    "import json\n",
    "import os   \n",
    "import time\n",
    "import h5py\n",
    "import pytz\n",
    "import copy\n",
    "import cdflib\n",
    "\n",
    "#import \n",
    "from heliocats import data as hd\n",
    "importlib.reload(hd) #reload again while debugging\n",
    "\n",
    "from heliocats import plot as hp\n",
    "importlib.reload(hp) #reload again while debugging\n",
    "\n",
    "\n",
    "\n",
    "################################################ CHECK  ##############################################\n",
    "matplotlib.use('Agg')   #for server\n",
    "#%matplotlib inline     \n",
    "\n",
    "import os\n",
    "os.system('jupyter nbconvert --to script data_update_web_hf.ipynb')   \n",
    "\n",
    "\n",
    "#switches\n",
    "get_noaa=1\n",
    "get_stereoa=1\n",
    "\n",
    "####################################################################################################################\n",
    "\n",
    "#test execution times\n",
    "t0all = time.time()\n"
   ]
  },
  {
   "cell_type": "markdown",
   "id": "a1c436e0-430d-4398-b43e-f1796b186dfb",
   "metadata": {
    "tags": []
   },
   "source": [
    "### Configure paths\n"
   ]
  },
  {
   "cell_type": "code",
   "execution_count": 10,
   "id": "9f5b515c-0aa2-47b1-9b3d-03576f63883d",
   "metadata": {
    "tags": []
   },
   "outputs": [
    {
     "name": "stdout",
     "output_type": "stream",
     "text": [
      " \n",
      "------ PATHS \n",
      "/Users/chris/python/data/insitu_python/\n",
      "/Users/chris/python/data/insitu_python/plots/\n",
      "/Users/chris/python/data/insitu_python/plots_positions/\n",
      "/Users/chris/python/ops/data/noaa/\n",
      "/Users/chris/python/data/wind/\n",
      "/Users/chris/python/data/stereoa/\n",
      "/Users/chris/python/data/insitu_python/ML_struct_arrays/\n"
     ]
    }
   ],
   "source": [
    "from config import data_path\n",
    "\n",
    "\n",
    "print(' ')\n",
    "print('------ PATHS ')\n",
    "\n",
    "print(data_path)\n",
    "\n",
    "plot_path=data_path+'plots/'\n",
    "position_path=data_path+'plots_positions/'\n",
    "sun_path=data_path+'plots_sun/'\n",
    "\n",
    "print(plot_path)\n",
    "print(position_path)\n",
    "\n",
    "from config import noaa_path\n",
    "print(noaa_path)\n",
    "\n",
    "from config import wind_path\n",
    "print(wind_path)\n",
    "\n",
    "from config import stereoa_path\n",
    "print(stereoa_path)\n",
    "\n",
    "from config import data_path_ml\n",
    "print(data_path_ml)\n",
    "\n",
    "\n",
    "########### make directories first time\n",
    "if os.path.isdir(plot_path) == False: os.mkdir(plot_path)\n",
    "if os.path.isdir(plot_path+'omni2') == False: os.mkdir(plot_path+'omni2')\n",
    "if os.path.isdir(plot_path+'wind') == False: os.mkdir(plot_path+'wind')\n",
    "if os.path.isdir(plot_path+'stereoa') == False: os.mkdir(plot_path+'stereoa')\n",
    "if os.path.isdir(plot_path+'combined') == False: os.mkdir(plot_path+'combined')\n",
    "\n",
    "\n",
    "if os.path.isdir(position_path) == False: os.mkdir(position_path)\n",
    "if os.path.isdir(sun_path) == False: os.mkdir(sun_path)\n",
    "if os.path.isdir(noaa_path) == False: os.mkdir(noaa_path)\n",
    "if os.path.isdir(data_path_ml) == False: os.mkdir(data_path_ml)"
   ]
  },
  {
   "cell_type": "markdown",
   "id": "1ce5f56d-7070-43a5-a667-26670c04e6c1",
   "metadata": {
    "tags": []
   },
   "source": [
    "### NOAA real time solar wind and Dst"
   ]
  },
  {
   "cell_type": "code",
   "execution_count": 11,
   "id": "48d08b10-cbed-4d5a-8dae-1e6f8991eb0b",
   "metadata": {
    "tags": []
   },
   "outputs": [
    {
     "name": "stdout",
     "output_type": "stream",
     "text": [
      " \n",
      "------ NOAA real time solar wind data \n",
      "download NOAA real time solar wind plasma and mag and dst\n",
      "2023-07-13 UTC\n",
      "/Users/chris/python/ops/data/noaa/plasma/plasma-7-day_2023-07-13.json\n",
      "/Users/chris/python/ops/data/noaa/mag/mag-7-day_2023-07-13.json\n",
      "/Users/chris/python/ops/data/noaa/dst/dst-7-day_2023-07-13.json\n",
      "NOAA download complete\n",
      " \n",
      "convert NOAA real time solar wind archive to pickle file\n",
      "directories for the json data\n",
      "/Users/chris/python/ops/data/noaa/mag/\n",
      "Sorted file list to be read with cutoff  100  files. \n",
      "['mag-7-day_2023-07-11T08h.json' 'mag-7-day_2023-07-11T09h.json'\n",
      " 'mag-7-day_2023-07-11T11h.json' 'mag-7-day_2023-07-11T12h.json'\n",
      " 'mag-7-day_2023-07-11T13h.json' 'mag-7-day_2023-07-13.json']\n",
      "/Users/chris/python/ops/data/noaa/plasma/\n",
      "['plasma-7-day_2023-07-11T08h.json' 'plasma-7-day_2023-07-11T09h.json'\n",
      " 'plasma-7-day_2023-07-11T11h.json' 'plasma-7-day_2023-07-11T12h.json'\n",
      " 'plasma-7-day_2023-07-11T13h.json' 'plasma-7-day_2023-07-13.json']\n",
      "\n",
      "saved as  /Users/chris/python/data/insitu_python/plots/noaa/NOAA_RTSW_2023_Jul_03_2023_Jul_13.png\n",
      "saved as  /Users/chris/python/data/insitu_python/plots/noaa/NOAA_RTSW_now.png\n",
      "saved as  /Users/chris/python/data/insitu_python/plots/noaa/NOAA_RTSW_now.pdf\n",
      "\n",
      "NOAA download, save as pickle and plotting takes 4.86 seconds\n"
     ]
    }
   ],
   "source": [
    "print(' ')\n",
    "print('------ NOAA real time solar wind data ')\n",
    "\n",
    "#test execution times\n",
    "t0 = time.time()\n",
    "\n",
    "\n",
    "if get_noaa > 0:\n",
    "    print('download NOAA real time solar wind plasma and mag and dst')\n",
    "    datestr=str(datetime.datetime.utcnow().strftime(\"%Y-%m-%d\"))\n",
    "    print(datestr+' UTC')\n",
    "\n",
    "    plasma='http://services.swpc.noaa.gov/products/solar-wind/plasma-7-day.json'\n",
    "    mag='http://services.swpc.noaa.gov/products/solar-wind/mag-7-day.json'\n",
    "    dst='https://services.swpc.noaa.gov/products/kyoto-dst.json'\n",
    "\n",
    "    try: \n",
    "        urllib.request.urlretrieve(plasma, noaa_path+'plasma/plasma-7-day_'+datestr+'.json')\n",
    "        print(noaa_path+'plasma/plasma-7-day_'+datestr+'.json')\n",
    "    except urllib.error.URLError as e:\n",
    "        print(' ', plasma,' ',e.reason)\n",
    "\n",
    "    try: \n",
    "        urllib.request.urlretrieve(mag, noaa_path+'mag/mag-7-day_'+datestr+'.json')\n",
    "        print(noaa_path+'mag/mag-7-day_'+datestr+'.json')\n",
    "    except urllib.error.URLError as e:\n",
    "        print(' ', mag,' ',e.reason)\n",
    "        \n",
    "\n",
    "    try: \n",
    "        urllib.request.urlretrieve(dst, noaa_path+'dst/dst-7-day_'+datestr+'.json')\n",
    "        print(noaa_path+'dst/dst-7-day_'+datestr+'.json')\n",
    "    except urllib.error.URLError as e:\n",
    "        print(' ', mag,' ',e.reason)\n",
    " \n",
    "    print('NOAA download complete')\n",
    "\n",
    "else:\n",
    "    print('NOAA data NOT downloaded, turn on switch')  \n",
    "\n",
    "    \n",
    "######## SAVE NOAA DATA AS PICKLE\n",
    "\n",
    "\n",
    "\n",
    "save_noaa=1\n",
    "filenoaa='noaa_rtsw_latest_100files.p'\n",
    "# last parameter gives a cutoff, so only the latest N files are taken for the NOAA data pickle file\n",
    "if save_noaa > 0: hd.save_noaa_rtsw_data(data_path,noaa_path,filenoaa,100)\n",
    "\n",
    "\n",
    "[noaa,hnoaa]=pickle.load(open(data_path+filenoaa, \"rb\" ) ) \n",
    "\n",
    " \n",
    "#plot\n",
    "start=datetime.datetime.utcnow() - datetime.timedelta(days=10)\n",
    "end=datetime.datetime.utcnow() \n",
    "hp.plot_insitu_update_noaa_rtsw(noaa, start, end,'NOAA_RTSW',plot_path+'noaa/',now=True)\n",
    "\n",
    "\n",
    "t1 = time.time()\n",
    "\n",
    "print()\n",
    "print('NOAA download, save as pickle and plotting takes', np.round(t1-t0,2), 'seconds')\n",
    "\n",
    "\n",
    "    "
   ]
  },
  {
   "cell_type": "markdown",
   "id": "621fc7c3-027b-47df-b3ea-fd23c8df1f76",
   "metadata": {},
   "source": [
    "### STEREO-A beacon data"
   ]
  },
  {
   "cell_type": "code",
   "execution_count": null,
   "id": "971f0af3-f5bd-4f2f-a2a6-30acc93001cd",
   "metadata": {
    "tags": []
   },
   "outputs": [
    {
     "name": "stdout",
     "output_type": "stream",
     "text": [
      " \n",
      "------ download STEREO-A beacon data \n",
      " \n",
      "download STEREO-A beacon data to  /Users/chris/python/data/stereoa/\n",
      "STA_LB_IMPACT_20230708_V02.cdf\n",
      "STA_LB_PLASTIC_20230708_V14.cdf\n",
      "STA_LB_IMPACT_20230709_V02.cdf\n",
      "STA_LB_PLASTIC_20230709_V14.cdf\n"
     ]
    }
   ],
   "source": [
    "print(' ')\n",
    "print('------ download STEREO-A beacon data ')\n",
    "print(' ')\n",
    "\n",
    "\n",
    "if get_stereoa > 0:\n",
    "    hd.stereoa_download_beacon(start_year=datetime.datetime.utcnow().year,start_month=datetime.datetime.utcnow().month,start_day=datetime.datetime.utcnow().day-5,stereoa_path=stereoa_path)   \n",
    "\n",
    "print('------ process STEREO-A beacon data to pickle') \n",
    "   \n",
    "#define filename\n",
    "file_sta_beacon='stereoa_beacon_last_10days_now.p'   \n",
    "\n",
    "#save pickle file\n",
    "hd.save_stereoa_beacon_data(stereoa_path,file_sta_beacon,datetime.datetime.utcnow()-datetime.timedelta(days=10),datetime.datetime.utcnow(),coord='RTN' )   \n",
    "    \n",
    "#load pickle    \n",
    "[sta,hsta]=pickle.load(open(data_path+file_sta_beacon, \"rb\" ) )  \n",
    "\n",
    "#plot\n",
    "start=datetime.datetime.utcnow() - datetime.timedelta(days=10)\n",
    "end=datetime.datetime.utcnow() \n",
    "hp.plot_insitu_update_stereoa_beacon(sta, start, end,'STEREO-A_beacon',plot_path+'stereoa/',now=True)\n",
    "    "
   ]
  },
  {
   "cell_type": "markdown",
   "id": "59c8b2fa-b024-4b75-ba17-babe579b4e5c",
   "metadata": {
    "tags": []
   },
   "source": [
    "### positions and SDO plot"
   ]
  },
  {
   "cell_type": "code",
   "execution_count": 5,
   "id": "3bdbc09f-b8e2-4c63-b52e-1d9615558f4a",
   "metadata": {
    "tags": []
   },
   "outputs": [
    {
     "name": "stdout",
     "output_type": "stream",
     "text": [
      " \n",
      "------ POSITIONS \n",
      "saved as  /Users/chris/python/data/insitu_python/plots_positions/positions_2023_Jul_13.png\n",
      "saved as  /Users/chris/python/data/insitu_python/plots_positions/positions_now.png\n",
      " \n",
      "------ SDO realtime images \n",
      "saved  /Users/chris/python/data/insitu_python/plots_sun/latest_1024_0193.jpg\n",
      "saved  /Users/chris/python/data/insitu_python/plots_sun/latest_1024_HMIB.jpg\n",
      "\n",
      "Positions and SDO images takes 2.45 seconds\n"
     ]
    }
   ],
   "source": [
    "\n",
    "t0 = time.time()\n",
    "print(' ')\n",
    "print('------ POSITIONS ')\n",
    "\n",
    "# spacecraft positions image\n",
    "hp.plot_positions(datetime.datetime.utcnow(),position_path, 'HEEQ',now=True)\n",
    "\n",
    "print(' ')\n",
    "print('------ SDO realtime images ')\n",
    "\n",
    "\n",
    "# get current SDO images \n",
    "hd.get_sdo_realtime_image(sun_path)\n",
    "\n",
    "\n",
    "\n",
    "t1 = time.time()\n",
    "\n",
    "print()\n",
    "print('Positions and SDO images takes', np.round(t1-t0,2), 'seconds')\n",
    "\n",
    "\n"
   ]
  },
  {
   "cell_type": "code",
   "execution_count": 7,
   "id": "f959ee0e-a683-4fc8-b111-082e308e2e46",
   "metadata": {},
   "outputs": [
    {
     "name": "stdout",
     "output_type": "stream",
     "text": [
      " \n",
      " \n",
      " \n",
      "------------------\n",
      "Runtime for full high frequency data update: 39.55 seconds\n",
      "--------------------------------------------------------------------------------------\n"
     ]
    }
   ],
   "source": [
    "\n",
    "t1all = time.time()\n",
    "\n",
    "print(' ')\n",
    "print(' ')\n",
    "print(' ')\n",
    "print('------------------')\n",
    "print('Runtime for full high frequency data update:', np.round((t1all-t0all),2), 'seconds')\n",
    "print('--------------------------------------------------------------------------------------')\n",
    "\n"
   ]
  },
  {
   "cell_type": "code",
   "execution_count": null,
   "id": "cd08b1c9-8a7c-4b97-bbcc-d32fd851ccf9",
   "metadata": {},
   "outputs": [],
   "source": []
  }
 ],
 "metadata": {
  "kernelspec": {
   "display_name": "Python 3 (ipykernel)",
   "language": "python",
   "name": "python3"
  },
  "language_info": {
   "codemirror_mode": {
    "name": "ipython",
    "version": 3
   },
   "file_extension": ".py",
   "mimetype": "text/x-python",
   "name": "python",
   "nbconvert_exporter": "python",
   "pygments_lexer": "ipython3",
   "version": "3.10.0"
  }
 },
 "nbformat": 4,
 "nbformat_minor": 5
}
