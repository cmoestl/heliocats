{
 "cells": [
  {
   "cell_type": "markdown",
   "metadata": {},
   "source": [
    "## CME statistics\n",
    "\n",
    "***\n",
    "Operations:\n",
    "1. \n",
    "2. \n",
    "3. "
   ]
  },
  {
   "cell_type": "code",
   "execution_count": 4,
   "metadata": {},
   "outputs": [
    {
     "name": "stdout",
     "output_type": "stream",
     "text": [
      "hello\n"
     ]
    }
   ],
   "source": [
    "# Conda dependencies are listed under environment.yml\n",
    "\n",
    "from scipy import stats\n",
    "import scipy.io\n",
    "from matplotlib import cm\n",
    "import sys\n",
    "import matplotlib\n",
    "import matplotlib.pyplot as plt\n",
    "import matplotlib.dates as mdates\n",
    "import numpy as np\n",
    "import astropy.constants as const\n",
    "import sunpy.time\n",
    "import time\n",
    "import pickle\n",
    "import seaborn as sns\n",
    "import os\n",
    "import urllib\n",
    "import json\n",
    "\n",
    "\n",
    "#warnings.filterwarnings('ignore') # some numpy mean-of-empty-slice runtime warnings\n",
    "\n",
    "\n",
    "print('hello')"
   ]
  },
  {
   "cell_type": "markdown",
   "metadata": {},
   "source": [
    "## Catalog reading\n",
    "\n"
   ]
  },
  {
   "cell_type": "code",
   "execution_count": 5,
   "metadata": {
    "scrolled": true
   },
   "outputs": [
    {
     "name": "stdout",
     "output_type": "stream",
     "text": [
      "\n",
      "cme_stats.py main program.\n",
      "ICME parameters at all 4 terrestrial planets.\n",
      "Christian Moestl, IWF Graz, Austria\n",
      "loaded  icmecat/HELCATS_ICMECAT_v20.p\n"
     ]
    },
    {
     "data": {
      "text/plain": [
       "Index(['icmecat_id', 'sc_insitu', 'icme_start_time', 'mo_start_time',\n",
       "       'mo_end_time', 'icme_end_time', 'icme_bmax', 'icme_bmean',\n",
       "       'icme_duration', 'mo_bmax', 'mo_bmean', 'mo_bstd', 'mo_bzmean',\n",
       "       'mo_bzmin', 'mo_duration', 'mo_sc_heliodistance', 'sc_long_heeq',\n",
       "       'sc_lat_heeq'],\n",
       "      dtype='object')"
      ]
     },
     "execution_count": 5,
     "metadata": {},
     "output_type": "execute_result"
    }
   ],
   "source": [
    "\n",
    "plt.close('all')\n",
    "print()\n",
    "print('cme_stats.py main program.')\n",
    "print('ICME parameters at all 4 terrestrial planets.')\n",
    "print('Christian Moestl, IWF Graz, Austria')\n",
    "\n",
    "\n",
    "#save as pickle with datetime\n",
    "file='icmecat/HELCATS_ICMECAT_v20.p'\n",
    "print('loaded ', file)\n",
    "ic=pickle.load(open(file, \"rb\" ) )  \n",
    "ic.keys() "
   ]
  },
  {
   "cell_type": "code",
   "execution_count": 11,
   "metadata": {},
   "outputs": [],
   "source": [
    "wini=np.where(ic.sc_insitu == 'Wind')[:][0] \n",
    "vexi=np.where(ic.sc_insitu == 'VEX')[:][0]  \n",
    "mesi=np.where(ic.sc_insitu == 'MESSENGER')[:][0]   \n",
    "stai=np.where(ic.sc_insitu == 'STEREO-A')[:][0]    \n",
    "stbi=np.where(ic.sc_insitu == 'STEREO-B')[:][0]    \n",
    "mavi=np.where(ic.sc_insitu == 'MAVEN')[:][0]    \n",
    "ulyi=np.where(ic.sc_insitu == 'ULYSSES')[:][0]    \n",
    "\n",
    "#pspi=np.where(ic.sc_insitu == 'ParkerSolarProbe')[:][0]    \n",
    "\n",
    "\n",
    "#get parameters\n",
    "ic.keys()  \n",
    "\n",
    "########################### get all parameters from ICMECAT for easier handling\n",
    "# id for each event\n",
    "iid=ic.icmecat_id.to_numpy()\n",
    "\n",
    "# observing spacecraft\n",
    "isc=ic.sc_insitu.to_numpy()  \n",
    "#parameters\n",
    "mo_bmax=ic.mo_bmax.to_numpy()\n",
    "sc_heliodistance=ic.mo_sc_heliodistance.to_numpy()\n",
    "\n"
   ]
  },
  {
   "cell_type": "code",
   "execution_count": 7,
   "metadata": {},
   "outputs": [
    {
     "data": {
      "text/plain": [
       "(183,)"
      ]
     },
     "execution_count": 7,
     "metadata": {},
     "output_type": "execute_result"
    }
   ],
   "source": [
    "wini.shape"
   ]
  },
  {
   "cell_type": "code",
   "execution_count": 10,
   "metadata": {},
   "outputs": [
    {
     "name": "stdout",
     "output_type": "stream",
     "text": [
      "1.0453333333333334\n",
      "0.031046502039503408\n"
     ]
    },
    {
     "data": {
      "image/png": "[encoded data removed]",
      "text/plain": [
       "<Figure size 360x360 with 1 Axes>"
      ]
     },
     "metadata": {
      "needs_background": "light"
     },
     "output_type": "display_data"
    }
   ],
   "source": [
    "fig=plt.figure(1,figsize=(5,5))\n",
    "fsize=15\n",
    "plt.plot(ic.mo_sc_heliodistance, ic.mo_bmax,'bo')   \n",
    "print(np.mean(ic.mo_sc_heliodistance[stbi]))\n",
    "print(np.std(ic.mo_sc_heliodistance[stbi]))\n",
    "\n"
   ]
  },
  {
   "cell_type": "code",
   "execution_count": null,
   "metadata": {},
   "outputs": [],
   "source": []
  },
  {
   "cell_type": "code",
   "execution_count": null,
   "metadata": {},
   "outputs": [],
   "source": []
  }
 ],
 "metadata": {
  "kernelspec": {
   "display_name": "Python 3",
   "language": "python",
   "name": "python3"
  },
  "language_info": {
   "codemirror_mode": {
    "name": "ipython",
    "version": 3
   },
   "file_extension": ".py",
   "mimetype": "text/x-python",
   "name": "python",
   "nbconvert_exporter": "python",
   "pygments_lexer": "ipython3",
   "version": "3.7.6"
  }
 },
 "nbformat": 4,
 "nbformat_minor": 4
}
