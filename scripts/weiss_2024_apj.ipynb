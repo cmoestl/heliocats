{
 "cells": [
  {
   "cell_type": "markdown",
   "id": "26552cc8-ba26-41f7-ba8c-40f97738cf98",
   "metadata": {},
   "source": [
    "### script for Weiss, NC, Moestl 2024"
   ]
  },
  {
   "cell_type": "code",
   "execution_count": 49,
   "id": "1557f0ac-fdfc-4230-a6aa-03d31d13f43f",
   "metadata": {
    "tags": []
   },
   "outputs": [
    {
     "name": "stdout",
     "output_type": "stream",
     "text": [
      "sunpy: 4.1.2\n",
      "astropy: 5.3.1\n",
      "done\n"
     ]
    }
   ],
   "source": [
    "import matplotlib\n",
    "from matplotlib import cm\n",
    "import matplotlib.pyplot as plt\n",
    "import matplotlib.dates as mdates\n",
    "from mpl_toolkits.mplot3d import Axes3D\n",
    "from matplotlib import rc\n",
    "import seaborn as sns\n",
    "import numpy as np\n",
    "import scipy.io\n",
    "from scipy import stats\n",
    "import sys\n",
    "from datetime import datetime\n",
    "from datetime import timedelta\n",
    "import time\n",
    "import pickle\n",
    "import os\n",
    "import copy\n",
    "import urllib\n",
    "import json\n",
    "import warnings\n",
    "import importlib\n",
    "\n",
    "\n",
    "import sunpy\n",
    "import sunpy.time\n",
    "from sunpy.time import parse_time\n",
    "\n",
    "\n",
    "import astropy\n",
    "import astropy.constants as const\n",
    "\n",
    "#our own packages\n",
    "\n",
    "#data_path='/Users/chris/python/data/may_2024_events/'\n",
    "\n",
    "plt.rcParams[\"figure.figsize\"] = (15,8)\n",
    "plt.close('all')\n",
    "\n",
    "#constants: \n",
    "#solar radius\n",
    "Rs_in_AU=float(const.R_sun/const.au)\n",
    "#define AU in km\n",
    "AU_in_km=const.au.value/1e3\n",
    "\n",
    "\n",
    "print('sunpy:',sunpy.__version__)\n",
    "print('astropy:',astropy.__version__)\n",
    "\n",
    "print('done')\n",
    "\n",
    "pos=pickle.load( open( '../results/positions/positions_HEEQ_10min_new2.p', \"rb\" ) )\n",
    "\n",
    "stap=pos[2]\n",
    "\n",
    "winp=pos[5]\n",
    "\n",
    "file='../icmecat/HELIO4CAST_ICMECAT_v22_numpy.p'\n",
    "[ic,ic_np,h,p]=pickle.load( open(file, 'rb'))   \n"
   ]
  },
  {
   "cell_type": "code",
   "execution_count": 67,
   "id": "5f84ae92-17fa-4c7a-90f5-e9afb1c93d8c",
   "metadata": {
    "tags": []
   },
   "outputs": [
    {
     "name": "stdout",
     "output_type": "stream",
     "text": [
      "132 133\n",
      "2023-04-23 17:02:00+00:00\n",
      "2023-04-23 14:29:00+00:00\n"
     ]
    }
   ],
   "source": [
    "w=np.where(ic.icmecat_id=='ICME_Wind_WEILER_20230423_01')[0][0]\n",
    "s=np.where(ic.icmecat_id=='ICME_STEREO_A_WEILER_20230423_01')[0][0]\n",
    "\n",
    "print(w,s)\n",
    "print(mdates.num2date(ic.icme_start_time[w]))\n",
    "print(mdates.num2date(ic.icme_start_time[s]))\n"
   ]
  },
  {
   "cell_type": "code",
   "execution_count": 70,
   "id": "7e4337ab-7425-4826-83c9-c56701ae9e38",
   "metadata": {
    "tags": []
   },
   "outputs": [
    {
     "name": "stdout",
     "output_type": "stream",
     "text": [
      "time difference in seconds 9180.0\n",
      "\n",
      "STEREO-A exact position at shock arrival \n",
      "Wind exact position at shock arrival \n",
      "difference in radial position in km\n",
      "4760780.809099778\n"
     ]
    }
   ],
   "source": [
    "tw=ic.icme_start_time[w]\n",
    "ta=ic.icme_start_time[s]\n",
    "\n",
    "dts=np.round(((tw-ta)*24*60*60),1)\n",
    "print('time difference in seconds',dts)\n",
    "\n",
    "\n",
    "print()\n",
    "\n",
    "\n",
    "sta_posind=np.where(stap['time']>ta)[0][0]\n",
    "print('STEREO-A exact position at shock arrival ')\n",
    "se=stap['r'][sta_posind]\n",
    "\n",
    "\n",
    "wind_posind=np.where(winp['time']>tw)[0][0]\n",
    "print('Wind exact position at shock arrival ')\n",
    "we=winp['r'][wind_posind]\n",
    "\n",
    "print('difference in radial position in km')\n",
    "ds=(we-se)*const.au.value/1e3\n",
    "print(ds)\n",
    "\n"
   ]
  },
  {
   "cell_type": "code",
   "execution_count": 73,
   "id": "b1ee779d-c7ec-4714-b8eb-77e20c48a1aa",
   "metadata": {
    "tags": []
   },
   "outputs": [
    {
     "name": "stdout",
     "output_type": "stream",
     "text": [
      "speed of shock from STA to Wind 518.6035739760106 km/s\n"
     ]
    }
   ],
   "source": [
    "v=ds/dts\n",
    "print('speed of shock from STA to Wind',v, 'km/s')\n",
    "\n",
    "\n",
    "\n",
    "\n",
    "\n"
   ]
  },
  {
   "cell_type": "code",
   "execution_count": null,
   "id": "fbb4aefa-5329-437c-914b-d519ee189049",
   "metadata": {},
   "outputs": [],
   "source": []
  }
 ],
 "metadata": {
  "kernelspec": {
   "display_name": "Python 3 (ipykernel)",
   "language": "python",
   "name": "python3"
  },
  "language_info": {
   "codemirror_mode": {
    "name": "ipython",
    "version": 3
   },
   "file_extension": ".py",
   "mimetype": "text/x-python",
   "name": "python",
   "nbconvert_exporter": "python",
   "pygments_lexer": "ipython3",
   "version": "3.10.0"
  }
 },
 "nbformat": 4,
 "nbformat_minor": 5
}
