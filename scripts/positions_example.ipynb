{
 "cells": [
  {
   "cell_type": "markdown",
   "id": "6f493795-f837-423f-99dc-d55797901921",
   "metadata": {},
   "source": [
    "#### Getting spacecraft positions\n"
   ]
  },
  {
   "cell_type": "code",
   "execution_count": 1,
   "id": "b4986cfc-fd8f-4673-8a82-03b635347bfa",
   "metadata": {},
   "outputs": [
    {
     "name": "stderr",
     "output_type": "stream",
     "text": [
      "/nas/helio/heliofc/miniconda3/envs/helio2/lib/python3.7/site-packages/tqdm/auto.py:22: TqdmWarning: IProgress not found. Please update jupyter and ipywidgets. See https://ipywidgets.readthedocs.io/en/stable/user_install.html\n",
      "  from .autonotebook import tqdm as notebook_tqdm\n"
     ]
    }
   ],
   "source": [
    "import numpy as np\n",
    "import matplotlib\n",
    "import matplotlib.pyplot as plt\n",
    "import datetime\n",
    "from datetime import timedelta\n",
    "\n",
    "import astropy\n",
    "import sunpy\n",
    "import astroquery  \n",
    "from sunpy.coordinates import frames, get_horizons_coord\n",
    "\n",
    "\n",
    "import heliopy.data.spice as spicedata\n",
    "import heliopy.spice as spice\n",
    "\n",
    "import astropy.units as u\n",
    "import astrospice"
   ]
  },
  {
   "cell_type": "markdown",
   "id": "fd7a8b78-7df5-46da-8880-dbbb7679f4b0",
   "metadata": {},
   "source": [
    "### sunpy - only works for small array sizes"
   ]
  },
  {
   "cell_type": "code",
   "execution_count": 2,
   "id": "4082838d-6fcf-4caa-8fec-c3b475e0e53e",
   "metadata": {},
   "outputs": [
    {
     "ename": "ValueError",
     "evalue": "Input values did not match any of the formats where the format keyword is optional: {'datetime': TypeError('Input values for datetime class must be datetime objects'), 'ymdhms': ValueError(\"'stop', 'step', 'start' not allowed as YMDHMS key name(s)\"), 'iso': TypeError('Input values for iso class must be strings'), 'isot': TypeError('Input values for isot class must be strings'), 'yday': TypeError('Input values for yday class must be strings'), 'datetime64': TypeError('Input values for datetime64 class must be datetime64 objects'), 'fits': TypeError('Input values for fits class must be strings'), 'byear_str': TypeError('Input values for byear_str class must be strings'), 'jyear_str': TypeError('Input values for jyear_str class must be strings'), 'astropy_time': TypeError('Input values for astropy_time class must all be same astropy Time type.')}",
     "output_type": "error",
     "traceback": [
      "\u001b[0;31m---------------------------------------------------------------------------\u001b[0m",
      "\u001b[0;31mTypeError\u001b[0m                                 Traceback (most recent call last)",
      "\u001b[0;32m/nas/helio/heliofc/miniconda3/envs/helio2/lib/python3.7/site-packages/astropy/time/core.py\u001b[0m in \u001b[0;36m_get_time_fmt\u001b[0;34m(self, val, val2, format, scale, precision, in_subfmt, out_subfmt)\u001b[0m\n\u001b[1;32m    533\u001b[0m             \u001b[0;32mtry\u001b[0m\u001b[0;34m:\u001b[0m\u001b[0;34m\u001b[0m\u001b[0;34m\u001b[0m\u001b[0m\n\u001b[0;32m--> 534\u001b[0;31m                 \u001b[0;32mreturn\u001b[0m \u001b[0mcls\u001b[0m\u001b[0;34m(\u001b[0m\u001b[0mval\u001b[0m\u001b[0;34m,\u001b[0m \u001b[0mval2\u001b[0m\u001b[0;34m,\u001b[0m \u001b[0mscale\u001b[0m\u001b[0;34m,\u001b[0m \u001b[0mprecision\u001b[0m\u001b[0;34m,\u001b[0m \u001b[0min_subfmt\u001b[0m\u001b[0;34m,\u001b[0m \u001b[0mout_subfmt\u001b[0m\u001b[0;34m)\u001b[0m\u001b[0;34m\u001b[0m\u001b[0;34m\u001b[0m\u001b[0m\n\u001b[0m\u001b[1;32m    535\u001b[0m             \u001b[0;32mexcept\u001b[0m \u001b[0mUnitConversionError\u001b[0m\u001b[0;34m:\u001b[0m\u001b[0;34m\u001b[0m\u001b[0;34m\u001b[0m\u001b[0m\n",
      "\u001b[0;32m/nas/helio/heliofc/miniconda3/envs/helio2/lib/python3.7/site-packages/astropy/time/formats.py\u001b[0m in \u001b[0;36m__init__\u001b[0;34m(self, val1, val2, scale, precision, in_subfmt, out_subfmt, from_jd)\u001b[0m\n\u001b[1;32m    145\u001b[0m         \u001b[0;32melse\u001b[0m\u001b[0;34m:\u001b[0m\u001b[0;34m\u001b[0m\u001b[0;34m\u001b[0m\u001b[0m\n\u001b[0;32m--> 146\u001b[0;31m             \u001b[0mval1\u001b[0m\u001b[0;34m,\u001b[0m \u001b[0mval2\u001b[0m \u001b[0;34m=\u001b[0m \u001b[0mself\u001b[0m\u001b[0;34m.\u001b[0m\u001b[0m_check_val_type\u001b[0m\u001b[0;34m(\u001b[0m\u001b[0mval1\u001b[0m\u001b[0;34m,\u001b[0m \u001b[0mval2\u001b[0m\u001b[0;34m)\u001b[0m\u001b[0;34m\u001b[0m\u001b[0;34m\u001b[0m\u001b[0m\n\u001b[0m\u001b[1;32m    147\u001b[0m             \u001b[0mself\u001b[0m\u001b[0;34m.\u001b[0m\u001b[0mset_jds\u001b[0m\u001b[0;34m(\u001b[0m\u001b[0mval1\u001b[0m\u001b[0;34m,\u001b[0m \u001b[0mval2\u001b[0m\u001b[0;34m)\u001b[0m\u001b[0;34m\u001b[0m\u001b[0;34m\u001b[0m\u001b[0m\n",
      "\u001b[0;32m/nas/helio/heliofc/miniconda3/envs/helio2/lib/python3.7/site-packages/astropy/time/formats.py\u001b[0m in \u001b[0;36m_check_val_type\u001b[0;34m(self, val1, val2)\u001b[0m\n\u001b[1;32m    745\u001b[0m             raise TypeError('Input values for {} class must be '\n\u001b[0;32m--> 746\u001b[0;31m                             'datetime objects'.format(self.name))\n\u001b[0m\u001b[1;32m    747\u001b[0m         \u001b[0;32mif\u001b[0m \u001b[0mval2\u001b[0m \u001b[0;32mis\u001b[0m \u001b[0;32mnot\u001b[0m \u001b[0;32mNone\u001b[0m\u001b[0;34m:\u001b[0m\u001b[0;34m\u001b[0m\u001b[0;34m\u001b[0m\u001b[0m\n",
      "\u001b[0;31mTypeError\u001b[0m: Input values for datetime class must be datetime objects",
      "\nThe above exception was the direct cause of the following exception:\n",
      "\u001b[0;31mValueError\u001b[0m                                Traceback (most recent call last)",
      "\u001b[0;32m/tmp/ipykernel_2498603/1236586597.py\u001b[0m in \u001b[0;36m<module>\u001b[0;34m\u001b[0m\n\u001b[1;32m      1\u001b[0m \u001b[0;31m#Solar Orbiter\u001b[0m\u001b[0;34m\u001b[0m\u001b[0;34m\u001b[0m\u001b[0;34m\u001b[0m\u001b[0m\n\u001b[0;32m----> 2\u001b[0;31m \u001b[0mcoord\u001b[0m \u001b[0;34m=\u001b[0m \u001b[0mget_horizons_coord\u001b[0m\u001b[0;34m(\u001b[0m\u001b[0;34m'Solar Orbiter'\u001b[0m\u001b[0;34m,\u001b[0m \u001b[0mtime\u001b[0m\u001b[0;34m=\u001b[0m\u001b[0;34m{\u001b[0m\u001b[0;34m'start'\u001b[0m\u001b[0;34m:\u001b[0m \u001b[0;34m'2022-09-01'\u001b[0m\u001b[0;34m,\u001b[0m \u001b[0;34m'stop'\u001b[0m\u001b[0;34m:\u001b[0m \u001b[0;34m'2022-09-30'\u001b[0m\u001b[0;34m,\u001b[0m \u001b[0;34m'step'\u001b[0m\u001b[0;34m:\u001b[0m \u001b[0;34m'60m'\u001b[0m\u001b[0;34m}\u001b[0m\u001b[0;34m)\u001b[0m\u001b[0;34m\u001b[0m\u001b[0;34m\u001b[0m\u001b[0m\n\u001b[0m\u001b[1;32m      3\u001b[0m \u001b[0msolo_heeq\u001b[0m \u001b[0;34m=\u001b[0m \u001b[0mcoord\u001b[0m\u001b[0;34m.\u001b[0m\u001b[0mtransform_to\u001b[0m\u001b[0;34m(\u001b[0m\u001b[0mframes\u001b[0m\u001b[0;34m.\u001b[0m\u001b[0mHeliographicStonyhurst\u001b[0m\u001b[0;34m)\u001b[0m \u001b[0;31m#HEEQ\u001b[0m\u001b[0;34m\u001b[0m\u001b[0;34m\u001b[0m\u001b[0m\n\u001b[1;32m      4\u001b[0m \u001b[0msolo_hee\u001b[0m \u001b[0;34m=\u001b[0m \u001b[0mcoord\u001b[0m\u001b[0;34m.\u001b[0m\u001b[0mtransform_to\u001b[0m\u001b[0;34m(\u001b[0m\u001b[0mframes\u001b[0m\u001b[0;34m.\u001b[0m\u001b[0mHeliocentricEarthEcliptic\u001b[0m\u001b[0;34m)\u001b[0m  \u001b[0;31m#HEE\u001b[0m\u001b[0;34m\u001b[0m\u001b[0;34m\u001b[0m\u001b[0m\n\u001b[1;32m      5\u001b[0m \u001b[0;34m\u001b[0m\u001b[0m\n",
      "\u001b[0;32m/nas/helio/heliofc/miniconda3/envs/helio2/lib/python3.7/site-packages/sunpy/coordinates/ephemeris.py\u001b[0m in \u001b[0;36mget_horizons_coord\u001b[0;34m(body, time, id_type)\u001b[0m\n\u001b[1;32m    182\u001b[0m         \u001b[0;34m(\u001b[0m\u001b[0;36m0.2523461\u001b[0m\u001b[0;34m,\u001b[0m \u001b[0;34m-\u001b[0m\u001b[0;36m3.55863351\u001b[0m\u001b[0;34m,\u001b[0m \u001b[0;36m0.99923086\u001b[0m\u001b[0;34m)\u001b[0m\u001b[0;34m>\u001b[0m\u001b[0;34m\u001b[0m\u001b[0;34m\u001b[0m\u001b[0m\n\u001b[1;32m    183\u001b[0m     \"\"\"\n\u001b[0;32m--> 184\u001b[0;31m     \u001b[0mobstime\u001b[0m \u001b[0;34m=\u001b[0m \u001b[0mparse_time\u001b[0m\u001b[0;34m(\u001b[0m\u001b[0mtime\u001b[0m\u001b[0;34m)\u001b[0m\u001b[0;34m\u001b[0m\u001b[0;34m\u001b[0m\u001b[0m\n\u001b[0m\u001b[1;32m    185\u001b[0m     \u001b[0marray_time\u001b[0m \u001b[0;34m=\u001b[0m \u001b[0mnp\u001b[0m\u001b[0;34m.\u001b[0m\u001b[0mreshape\u001b[0m\u001b[0;34m(\u001b[0m\u001b[0mobstime\u001b[0m\u001b[0;34m,\u001b[0m \u001b[0;34m(\u001b[0m\u001b[0;34m-\u001b[0m\u001b[0;36m1\u001b[0m\u001b[0;34m,\u001b[0m\u001b[0;34m)\u001b[0m\u001b[0;34m)\u001b[0m  \u001b[0;31m# Convert to an array, even if scalar\u001b[0m\u001b[0;34m\u001b[0m\u001b[0;34m\u001b[0m\u001b[0m\n\u001b[1;32m    186\u001b[0m \u001b[0;34m\u001b[0m\u001b[0m\n",
      "\u001b[0;32m/nas/helio/heliofc/miniconda3/envs/helio2/lib/python3.7/site-packages/sunpy/time/time.py\u001b[0m in \u001b[0;36mparse_time\u001b[0;34m(time_string, format, **kwargs)\u001b[0m\n\u001b[1;32m    291\u001b[0m         \u001b[0mrt\u001b[0m \u001b[0;34m=\u001b[0m \u001b[0mTime\u001b[0m\u001b[0;34m.\u001b[0m\u001b[0mnow\u001b[0m\u001b[0;34m(\u001b[0m\u001b[0;34m)\u001b[0m\u001b[0;34m\u001b[0m\u001b[0;34m\u001b[0m\u001b[0m\n\u001b[1;32m    292\u001b[0m     \u001b[0;32melse\u001b[0m\u001b[0;34m:\u001b[0m\u001b[0;34m\u001b[0m\u001b[0;34m\u001b[0m\u001b[0m\n\u001b[0;32m--> 293\u001b[0;31m         \u001b[0mrt\u001b[0m \u001b[0;34m=\u001b[0m \u001b[0mconvert_time\u001b[0m\u001b[0;34m(\u001b[0m\u001b[0mtime_string\u001b[0m\u001b[0;34m,\u001b[0m \u001b[0mformat\u001b[0m\u001b[0;34m=\u001b[0m\u001b[0mformat\u001b[0m\u001b[0;34m,\u001b[0m \u001b[0;34m**\u001b[0m\u001b[0mkwargs\u001b[0m\u001b[0;34m)\u001b[0m\u001b[0;34m\u001b[0m\u001b[0;34m\u001b[0m\u001b[0m\n\u001b[0m\u001b[1;32m    294\u001b[0m \u001b[0;34m\u001b[0m\u001b[0m\n\u001b[1;32m    295\u001b[0m     \u001b[0;32mreturn\u001b[0m \u001b[0mrt\u001b[0m\u001b[0;34m\u001b[0m\u001b[0;34m\u001b[0m\u001b[0m\n",
      "\u001b[0;32m/nas/helio/heliofc/miniconda3/envs/helio2/lib/python3.7/functools.py\u001b[0m in \u001b[0;36mwrapper\u001b[0;34m(*args, **kw)\u001b[0m\n\u001b[1;32m    838\u001b[0m                             '1 positional argument')\n\u001b[1;32m    839\u001b[0m \u001b[0;34m\u001b[0m\u001b[0m\n\u001b[0;32m--> 840\u001b[0;31m         \u001b[0;32mreturn\u001b[0m \u001b[0mdispatch\u001b[0m\u001b[0;34m(\u001b[0m\u001b[0margs\u001b[0m\u001b[0;34m[\u001b[0m\u001b[0;36m0\u001b[0m\u001b[0;34m]\u001b[0m\u001b[0;34m.\u001b[0m\u001b[0m__class__\u001b[0m\u001b[0;34m)\u001b[0m\u001b[0;34m(\u001b[0m\u001b[0;34m*\u001b[0m\u001b[0margs\u001b[0m\u001b[0;34m,\u001b[0m \u001b[0;34m**\u001b[0m\u001b[0mkw\u001b[0m\u001b[0;34m)\u001b[0m\u001b[0;34m\u001b[0m\u001b[0;34m\u001b[0m\u001b[0m\n\u001b[0m\u001b[1;32m    841\u001b[0m \u001b[0;34m\u001b[0m\u001b[0m\n\u001b[1;32m    842\u001b[0m     \u001b[0mfuncname\u001b[0m \u001b[0;34m=\u001b[0m \u001b[0mgetattr\u001b[0m\u001b[0;34m(\u001b[0m\u001b[0mfunc\u001b[0m\u001b[0;34m,\u001b[0m \u001b[0;34m'__name__'\u001b[0m\u001b[0;34m,\u001b[0m \u001b[0;34m'singledispatch function'\u001b[0m\u001b[0;34m)\u001b[0m\u001b[0;34m\u001b[0m\u001b[0;34m\u001b[0m\u001b[0m\n",
      "\u001b[0;32m/nas/helio/heliofc/miniconda3/envs/helio2/lib/python3.7/site-packages/sunpy/time/time.py\u001b[0m in \u001b[0;36mconvert_time\u001b[0;34m(time_string, format, **kwargs)\u001b[0m\n\u001b[1;32m    138\u001b[0m \u001b[0;32mdef\u001b[0m \u001b[0mconvert_time\u001b[0m\u001b[0;34m(\u001b[0m\u001b[0mtime_string\u001b[0m\u001b[0;34m,\u001b[0m \u001b[0mformat\u001b[0m\u001b[0;34m=\u001b[0m\u001b[0;32mNone\u001b[0m\u001b[0;34m,\u001b[0m \u001b[0;34m**\u001b[0m\u001b[0mkwargs\u001b[0m\u001b[0;34m)\u001b[0m\u001b[0;34m:\u001b[0m\u001b[0;34m\u001b[0m\u001b[0;34m\u001b[0m\u001b[0m\n\u001b[1;32m    139\u001b[0m     \u001b[0;31m# default case when no type matches\u001b[0m\u001b[0;34m\u001b[0m\u001b[0;34m\u001b[0m\u001b[0;34m\u001b[0m\u001b[0m\n\u001b[0;32m--> 140\u001b[0;31m     \u001b[0;32mreturn\u001b[0m \u001b[0mTime\u001b[0m\u001b[0;34m(\u001b[0m\u001b[0mtime_string\u001b[0m\u001b[0;34m,\u001b[0m \u001b[0mformat\u001b[0m\u001b[0;34m=\u001b[0m\u001b[0mformat\u001b[0m\u001b[0;34m,\u001b[0m \u001b[0;34m**\u001b[0m\u001b[0mkwargs\u001b[0m\u001b[0;34m)\u001b[0m\u001b[0;34m\u001b[0m\u001b[0;34m\u001b[0m\u001b[0m\n\u001b[0m\u001b[1;32m    141\u001b[0m \u001b[0;34m\u001b[0m\u001b[0m\n\u001b[1;32m    142\u001b[0m \u001b[0;34m\u001b[0m\u001b[0m\n",
      "\u001b[0;32m/nas/helio/heliofc/miniconda3/envs/helio2/lib/python3.7/site-packages/astropy/time/core.py\u001b[0m in \u001b[0;36m__init__\u001b[0;34m(self, val, val2, format, scale, precision, in_subfmt, out_subfmt, location, copy)\u001b[0m\n\u001b[1;32m    427\u001b[0m         \u001b[0;32melse\u001b[0m\u001b[0;34m:\u001b[0m\u001b[0;34m\u001b[0m\u001b[0;34m\u001b[0m\u001b[0m\n\u001b[1;32m    428\u001b[0m             self._init_from_vals(val, val2, format, scale, copy,\n\u001b[0;32m--> 429\u001b[0;31m                                  precision, in_subfmt, out_subfmt)\n\u001b[0m\u001b[1;32m    430\u001b[0m             \u001b[0mself\u001b[0m\u001b[0;34m.\u001b[0m\u001b[0mSCALES\u001b[0m \u001b[0;34m=\u001b[0m \u001b[0mTIME_TYPES\u001b[0m\u001b[0;34m[\u001b[0m\u001b[0mself\u001b[0m\u001b[0;34m.\u001b[0m\u001b[0mscale\u001b[0m\u001b[0;34m]\u001b[0m\u001b[0;34m\u001b[0m\u001b[0;34m\u001b[0m\u001b[0m\n\u001b[1;32m    431\u001b[0m \u001b[0;34m\u001b[0m\u001b[0m\n",
      "\u001b[0;32m/nas/helio/heliofc/miniconda3/envs/helio2/lib/python3.7/site-packages/astropy/time/core.py\u001b[0m in \u001b[0;36m_init_from_vals\u001b[0;34m(self, val, val2, format, scale, copy, precision, in_subfmt, out_subfmt)\u001b[0m\n\u001b[1;32m    482\u001b[0m         \u001b[0;31m# Parse / convert input values into internal jd1, jd2 based on format\u001b[0m\u001b[0;34m\u001b[0m\u001b[0;34m\u001b[0m\u001b[0;34m\u001b[0m\u001b[0m\n\u001b[1;32m    483\u001b[0m         self._time = self._get_time_fmt(val, val2, format, scale,\n\u001b[0;32m--> 484\u001b[0;31m                                         precision, in_subfmt, out_subfmt)\n\u001b[0m\u001b[1;32m    485\u001b[0m         \u001b[0mself\u001b[0m\u001b[0;34m.\u001b[0m\u001b[0m_format\u001b[0m \u001b[0;34m=\u001b[0m \u001b[0mself\u001b[0m\u001b[0;34m.\u001b[0m\u001b[0m_time\u001b[0m\u001b[0;34m.\u001b[0m\u001b[0mname\u001b[0m\u001b[0;34m\u001b[0m\u001b[0;34m\u001b[0m\u001b[0m\n\u001b[1;32m    486\u001b[0m \u001b[0;34m\u001b[0m\u001b[0m\n",
      "\u001b[0;32m/nas/helio/heliofc/miniconda3/envs/helio2/lib/python3.7/site-packages/astropy/time/core.py\u001b[0m in \u001b[0;36m_get_time_fmt\u001b[0;34m(self, val, val2, format, scale, precision, in_subfmt, out_subfmt)\u001b[0m\n\u001b[1;32m    550\u001b[0m             raise ValueError(f'Input values did not match any of the formats '\n\u001b[1;32m    551\u001b[0m                              \u001b[0;34mf'where the format keyword is optional: '\u001b[0m\u001b[0;34m\u001b[0m\u001b[0;34m\u001b[0m\u001b[0m\n\u001b[0;32m--> 552\u001b[0;31m                              f'{problems}') from problems[formats[0][0]]\n\u001b[0m\u001b[1;32m    553\u001b[0m \u001b[0;34m\u001b[0m\u001b[0m\n\u001b[1;32m    554\u001b[0m     \u001b[0;34m@\u001b[0m\u001b[0mclassmethod\u001b[0m\u001b[0;34m\u001b[0m\u001b[0;34m\u001b[0m\u001b[0m\n",
      "\u001b[0;31mValueError\u001b[0m: Input values did not match any of the formats where the format keyword is optional: {'datetime': TypeError('Input values for datetime class must be datetime objects'), 'ymdhms': ValueError(\"'stop', 'step', 'start' not allowed as YMDHMS key name(s)\"), 'iso': TypeError('Input values for iso class must be strings'), 'isot': TypeError('Input values for isot class must be strings'), 'yday': TypeError('Input values for yday class must be strings'), 'datetime64': TypeError('Input values for datetime64 class must be datetime64 objects'), 'fits': TypeError('Input values for fits class must be strings'), 'byear_str': TypeError('Input values for byear_str class must be strings'), 'jyear_str': TypeError('Input values for jyear_str class must be strings'), 'astropy_time': TypeError('Input values for astropy_time class must all be same astropy Time type.')}"
     ]
    }
   ],
   "source": [
    "#Solar Orbiter\n",
    "coord = get_horizons_coord('Solar Orbiter', time={'start': '2022-09-01', 'stop': '2022-09-30', 'step': '60m'})  \n",
    "solo_heeq = coord.transform_to(frames.HeliographicStonyhurst) #HEEQ\n",
    "solo_hee = coord.transform_to(frames.HeliocentricEarthEcliptic)  #HEE\n",
    "\n",
    "solo_time=solo_heeq.obstime.to_datetime()\n",
    "solo_r=solo_heeq.radius.value\n",
    "solo_lon=np.deg2rad(solo_heeq.lon.value)\n",
    "solo_lat=np.deg2rad(solo_heeq.lat.value)\n",
    "\n",
    "\n",
    "#PSP\n",
    "coord = get_horizons_coord('Parker Solar Probe', time={'start': '2022-09-01', 'stop': '2022-09-30', 'step': '60m'})  \n",
    "psp_heeq=coord.transform_to(frames.HeliographicStonyhurst)\n",
    "\n",
    "psp_time=psp_heeq.obstime.to_datetime()\n",
    "psp_r=psp_heeq.radius.value\n",
    "psp_lon=np.deg2rad(psp_heeq.lon.value)\n",
    "psp_lat=np.deg2rad(psp_heeq.lat.value)\n",
    "\n",
    "    "
   ]
  },
  {
   "cell_type": "code",
   "execution_count": null,
   "id": "65f5c2e7-d269-4e66-9c6e-2c718ed0125b",
   "metadata": {},
   "outputs": [],
   "source": [
    "%matplotlib inline\n",
    "\n",
    "fig=plt.figure(1, figsize=(19.2,10.8), dpi=100) #full hd\n",
    "ax = plt.subplot2grid((1,1), (0, 0), rowspan=7, projection='polar')\n",
    "\n",
    "plt.plot(solo_lon,solo_r,'b')\n",
    "plt.plot(psp_lon,psp_r,'k')\n",
    "\n",
    "print(np.size(solo_lon))\n",
    "\n"
   ]
  },
  {
   "cell_type": "markdown",
   "id": "5da90b8f-60fd-49fc-a1fe-a56f0f45f9e6",
   "metadata": {},
   "source": [
    "## for larger arrays"
   ]
  },
  {
   "cell_type": "markdown",
   "id": "8e2c4d84-3901-47b4-862f-1091afefaafd",
   "metadata": {},
   "source": [
    "### heliopy"
   ]
  },
  {
   "cell_type": "code",
   "execution_count": null,
   "id": "f1eaced6-b7a9-43fa-b6d8-d91d08b4019d",
   "metadata": {},
   "outputs": [],
   "source": [
    "#heliopy - not for Solar Orbiter because this uses an old kernel\n",
    "\n",
    "\n",
    "def cart2sphere(x,y,z):\n",
    "    r = np.sqrt(x**2+ y**2 + z**2)           \n",
    "    theta = np.arctan2(z,np.sqrt(x**2+ y**2))\n",
    "    phi = np.arctan2(y,x)                    \n",
    "    return (r, theta, phi)\n",
    "\n",
    "starttime = datetime.datetime(2022, 9, 1)\n",
    "endtime = starttime + timedelta(days=30)\n",
    "psp_time2 = []\n",
    "while starttime < endtime:\n",
    "    psp_time2.append(starttime)\n",
    "    starttime += timedelta(hours=24) \n",
    "\n",
    "spice.furnish(spicedata.get_kernel('psp_pred'))\n",
    "psp2=spice.Trajectory('SPP')\n",
    "psp2.generate_positions(psp_time2, 'Sun','HEEQ')\n",
    "psp2.change_units(astropy.units.AU)\n",
    "[psp2_r, psp2_lat, psp2_lon]=cart2sphere(psp2.x,psp2.y,psp2.z)\n",
    "\n",
    "\n",
    "fig=plt.figure(1, figsize=(19.2,10.8), dpi=100) #full hd\n",
    "ax = plt.subplot2grid((1,1), (0, 0), rowspan=7, projection='polar')\n",
    "\n",
    "plt.plot(psp_lon,psp_r,'k')\n",
    "plt.plot(psp2_lon,psp2_r,'ob',markersize=5)"
   ]
  },
  {
   "cell_type": "code",
   "execution_count": null,
   "id": "52ec362d-69c7-491b-821e-c1fa5cb60ce7",
   "metadata": {},
   "outputs": [],
   "source": [
    "#print(np.nanmean(psp2_r.value[0:100]-psp_r[0:100]))"
   ]
  },
  {
   "cell_type": "code",
   "execution_count": null,
   "id": "128737c4-96f3-4f7b-8b21-1a36b2dc799a",
   "metadata": {},
   "outputs": [],
   "source": []
  },
  {
   "cell_type": "code",
   "execution_count": null,
   "id": "7e31e9cb-f2d7-46e9-b418-9099e09c5873",
   "metadata": {},
   "outputs": [],
   "source": []
  },
  {
   "cell_type": "markdown",
   "id": "69e1b50c-319c-49c4-a439-b51459f93ec4",
   "metadata": {},
   "source": [
    "## astrospice for Solar Orbiter (note: not compatible with HelioSat!)"
   ]
  },
  {
   "cell_type": "code",
   "execution_count": null,
   "id": "9a6e8be1-ce96-4757-b80f-106bb214f003",
   "metadata": {},
   "outputs": [],
   "source": [
    "kernels = astrospice.registry.get_kernels('solar orbiter', 'predict')\n",
    "solo_kernel = kernels[0]\n",
    "\n",
    "#res_in_days=1/(24)\n",
    "res_in_days=3\n",
    "\n",
    "starttime = datetime.datetime(2022, 9, 1)\n",
    "endtime = datetime.datetime(2022, 9,30)\n",
    "solo2_time = []\n",
    "while starttime < endtime:\n",
    "        solo2_time.append(starttime)\n",
    "        starttime += timedelta(days=res_in_days)\n",
    "\n",
    "solo2_coords = astrospice.generate_coords('Solar Orbiter', solo2_time)\n",
    "solo2_coords_heeq = solo2_coords.transform_to(sunpy.coordinates.HeliographicStonyhurst())\n",
    "\n",
    "print(np.size(solo2_coords_heeq))\n",
    "\n",
    "\n",
    "\n",
    "\n",
    "\n",
    "solo2_lon=solo2_coords_heeq.lon.to(u.rad).value\n",
    "solo2_lat=solo2_coords_heeq.lat.to(u.rad).value\n",
    "solo2_r=solo2_coords_heeq.radius.to(u.au).value"
   ]
  },
  {
   "cell_type": "code",
   "execution_count": null,
   "id": "a53cc88e-1a8e-4f58-9c79-453c992b30e2",
   "metadata": {},
   "outputs": [],
   "source": [
    "\n",
    "fig=plt.figure(1, figsize=(19.2,10.8), dpi=100) #full hd\n",
    "ax = plt.subplot2grid((1,1), (0, 0), rowspan=7, projection='polar')\n",
    "\n",
    "plt.plot(solo_lon,solo_r,'k')\n",
    "plt.plot(solo2_lon, solo2_r, 'ob',markersize=5)\n",
    "\n",
    "#plt.savefig('../lineups/position_test.pdf')\n"
   ]
  },
  {
   "cell_type": "code",
   "execution_count": 42,
   "id": "4be4983c-da66-49c9-b105-24176e3e8418",
   "metadata": {},
   "outputs": [],
   "source": [
    "#solo2_lon[0:100]-solo_lon[0:100]"
   ]
  },
  {
   "cell_type": "code",
   "execution_count": null,
   "id": "e86a1e65-67ed-4b63-ad7a-6c2c7f411f26",
   "metadata": {},
   "outputs": [],
   "source": []
  }
 ],
 "metadata": {
  "kernelspec": {
   "display_name": "Python 3 (ipykernel)",
   "language": "python",
   "name": "python3"
  },
  "language_info": {
   "codemirror_mode": {
    "name": "ipython",
    "version": 3
   },
   "file_extension": ".py",
   "mimetype": "text/x-python",
   "name": "python",
   "nbconvert_exporter": "python",
   "pygments_lexer": "ipython3",
   "version": "3.10.0"
  }
 },
 "nbformat": 4,
 "nbformat_minor": 5
}
