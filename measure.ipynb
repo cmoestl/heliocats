{
 "cells": [
  {
   "cell_type": "markdown",
   "metadata": {},
   "source": [
    "### Make plotly plots for measuring features in solar wind data"
   ]
  },
  {
   "cell_type": "code",
   "execution_count": 32,
   "metadata": {},
   "outputs": [
    {
     "name": "stdout",
     "output_type": "stream",
     "text": [
      " \n"
     ]
    }
   ],
   "source": [
    "import pickle\n",
    "import os\n",
    "import numpy as np\n",
    "from sunpy.time import parse_time\n",
    "import matplotlib.pyplot as plt\n",
    "import matplotlib.dates as mdates\n",
    "from datetime import datetime\n",
    "\n",
    "from heliocats import data as hd\n",
    "import copy\n",
    "\n",
    "data_path='/Users/chris/python/data/insitu_python/'\n",
    "\n",
    "#Plotly imports\n",
    "from plotly.subplots import make_subplots\n",
    "import plotly.graph_objects as go\n",
    "import plotly.io as pio\n",
    "from plotly.offline import iplot, init_notebook_mode\n",
    "import plotly.express as px\n",
    "pio.renderers.default = 'browser'\n",
    "\n",
    "print(' ' )"
   ]
  },
  {
   "cell_type": "markdown",
   "metadata": {},
   "source": [
    "#### print files in data_path"
   ]
  },
  {
   "cell_type": "code",
   "execution_count": 15,
   "metadata": {},
   "outputs": [
    {
     "name": "stdout",
     "output_type": "stream",
     "text": [
      ".DS_Store\n",
      "ML_struct_arrays\n",
      "bepi_ib_2019_now_e2k.p\n",
      "bepi_ib_2019_now_rtn.p\n",
      "bepi_ib_e2k_test.p\n",
      "bepi_ib_rtn_test.p\n",
      "bepi_ob_2019_now_e2k.p\n",
      "bepi_ob_2019_now_rtn.p\n",
      "bepi_ob_e2k_test.p\n",
      "juno_2011_2016_rtn.p\n",
      "maven_2014_2018_removed.p\n",
      "maven_2014_2018_removed_smoothed.p\n",
      "maven_2014_2021_removed_no_plasma.p\n",
      "maven_2014_2021_removed_smoothed_no_plasma.p\n",
      "messenger_2007_2015_sceq_removed.p\n",
      "msl_2012_2019_rad.p\n",
      "new_data_headers.txt\n",
      "noaa_dst_last_300files_now.p\n",
      "noaa_dst_last_35files_now.p\n",
      "noaa_rtsw\n",
      "noaa_rtsw_last_2500files_now.p\n",
      "noaa_rtsw_last_300files_now.p\n",
      "noaa_rtsw_last_35files_now.p\n",
      "omni_1963_now.p\n",
      "plots\n",
      "plots_positions\n",
      "plots_sun\n",
      "positions_psp_solo_sta_bepi_wind_planets_HEEQ_10min_degrees.p\n",
      "positions_psp_solo_sta_bepi_wind_planets_HEEQ_10min_rad.p\n",
      "positions_psp_solo_sta_bepi_wind_planets_HEEQ_1hour_degrees.p\n",
      "positions_psp_solo_sta_bepi_wind_planets_HEEQ_1hour_rad.p\n",
      "predicted-solar-cycle-2023_apr_19.json\n",
      "psp_2018_now_rtn.p\n",
      "psp_rtn_test.p\n",
      "rc_list.htm\n",
      "solo_2020_now_rtn.p\n",
      "solo_rtn_test.p\n",
      "ssn.p\n",
      "ssn_13ms.p\n",
      "ssn_m.p\n",
      "ssn_prelim.p\n",
      "stereoa_2007_2020_sceq.p\n",
      "stereoa_2007_now_rtn.p\n",
      "stereoa_2020_now_sceq_beacon.p\n",
      "stereoa_beacon_gsm_last_300days_now.p\n",
      "stereoa_beacon_gsm_last_35days_now.p\n",
      "stereoa_beacon_rtn_last_300days_now.p\n",
      "stereoa_beacon_rtn_last_35days_now.p\n",
      "stereoa_rtn_test.p\n",
      "stereob_2007_2014_rtn.p\n",
      "stereob_2007_2014_sceq.p\n",
      "ulysses_1990_2009_rtn.p\n",
      "vex_2007_2014_sceq_removed.p\n",
      "wind_1995_2021_heeq.p\n",
      "wind_1995_now_heeq.p\n",
      "wind_1995_now_rtn.p\n",
      "wind_gse_test.p\n",
      "wind_heeq_test.p\n",
      "wind_rtn_test.p\n"
     ]
    }
   ],
   "source": [
    "files = os.listdir(data_path)\n",
    "files.sort()\n",
    "fnames=[os.path.join(data_path, f) for f in files]\n",
    "for item in files:\n",
    "    print(item)"
   ]
  },
  {
   "cell_type": "code",
   "execution_count": 19,
   "metadata": {
    "tags": []
   },
   "outputs": [],
   "source": [
    "#file='solo_2020_now_rtn.p'\n",
    "#file='psp_2018_now_rtn.p'\n",
    "file='bepi_ib_2019_now_rtn.p'\n",
    "#file='bepi_ob_2019_now_rtn.p'\n",
    "#file='stereoa_beacon_rtn_last_300days_now.p'\n",
    "#file='wind_1995_now_rtn.p'\n",
    "#file='solo_rtn_test.p'\n",
    "\n",
    "\n",
    "[sc,header]=pickle.load(open(data_path+file, \"rb\" ) ) \n",
    "\n",
    "#cutout array for these dates\n",
    "start=datetime(2022,3,10)\n",
    "end=datetime(2022,4,10)\n",
    "\n",
    "#scnum=mdates.date2num(sc.time)\n",
    "startind=np.argmin(abs(start-sc.time))\n",
    "endind=np.argmin(abs(end-sc.time))\n",
    "\n",
    "sc=sc[startind:endind]\n",
    "\n",
    "######## save cutout data if needed\n",
    "\n",
    "#pickle_file='data/bepi_cutout_2022_march_10_april_10.p'\n",
    "#pickle.dump([sc, header], open(pickle_file, \"wb\"))\n",
    "#[bepi,hbepi]=pickle.load(open(pickle_file, \"rb\" ) )\n",
    "\n",
    "#plt.plot(bepi.time,bepi.bt)\n",
    "#plt.plot(bepi.time,bepi.bx)\n",
    "#plt.plot(bepi.time,bepi.by)\n",
    "#plt.plot(bepi.time,bepi.bz)\n",
    "#header"
   ]
  },
  {
   "cell_type": "code",
   "execution_count": 30,
   "metadata": {
    "tags": []
   },
   "outputs": [],
   "source": [
    "file_sta_beacon_rtn='stereoa_beacon_rtn_last_35days_now.p'   \n",
    "#load rtn\n",
    "[sta_rtn,hsta]=pickle.load(open(data_path+file_sta_beacon_rtn, \"rb\" ) )  "
   ]
  },
  {
   "cell_type": "code",
   "execution_count": 48,
   "metadata": {
    "tags": []
   },
   "outputs": [
    {
     "name": "stdout",
     "output_type": "stream",
     "text": [
      "conversion RTN to GSE\n",
      "conversion RTN to GSE done\n"
     ]
    }
   ],
   "source": [
    "def convert_RTN_to_GSE_sta_l1(sc_in):\n",
    "\n",
    "    sc=copy.deepcopy(sc_in)\n",
    "\n",
    "    print('conversion RTN to GSE') \n",
    "    \n",
    "    heeq_bx=np.zeros(len(sc))\n",
    "    heeq_by=np.zeros(len(sc))\n",
    "    heeq_bz=np.zeros(len(sc))\n",
    "    \n",
    "    jd=np.zeros(len(sc))\n",
    "    mjd=np.zeros(len(sc))\n",
    "    \n",
    "     \n",
    "    ########## first RTN to HEEQ \n",
    "    \n",
    "    #go through all data points\n",
    "    for i in np.arange(0,len(sc)):\n",
    "\n",
    "        #HEEQ vectors\n",
    "        X_heeq=[1,0,0]\n",
    "        Y_heeq=[0,1,0]\n",
    "        Z_heeq=[0,0,1]\n",
    "\n",
    "        #normalized X RTN vector\n",
    "        Xrtn=[sc.x[i],sc.y[i],sc.z[i]]/np.linalg.norm([sc.x[i],sc.y[i],sc.z[i]])\n",
    "        #solar rotation axis at 0, 0, 1 in HEEQ\n",
    "        Yrtn=np.cross(Z_heeq,Xrtn)/np.linalg.norm(np.cross(Z_heeq,Xrtn))\n",
    "        Zrtn=np.cross(Xrtn, Yrtn)/np.linalg.norm(np.cross(Xrtn, Yrtn))\n",
    "        \n",
    "        #project into new system\n",
    "        heeq_bx[i]=np.dot(np.dot(sc.bx[i],Xrtn)+np.dot(sc.by[i],Yrtn)+np.dot(sc.bz[i],Zrtn),X_heeq)\n",
    "        heeq_by[i]=np.dot(np.dot(sc.bx[i],Xrtn)+np.dot(sc.by[i],Yrtn)+np.dot(sc.bz[i],Zrtn),Y_heeq)\n",
    "        heeq_bz[i]=np.dot(np.dot(sc.bx[i],Xrtn)+np.dot(sc.by[i],Yrtn)+np.dot(sc.bz[i],Zrtn),Z_heeq)\n",
    "    \n",
    "        #then HEEQ to GSE\n",
    "        jd[i]=parse_time(sc.time[i]).jd\n",
    "        mjd[i]=float(int(jd[i]-2400000.5))  #use modified julian date  \n",
    "        \n",
    "        #then lambda_sun\n",
    "        T00=(mjd[i]-51544.5)/36525.0\n",
    "        dobj=sc.time[i]\n",
    "        UT=dobj.hour + dobj.minute / 60. + dobj.second / 3600. #time in UT in hours   \n",
    "        LAMBDA=280.460+36000.772*T00+0.04107*UT\n",
    "        M=357.528+35999.050*T00+0.04107*UT\n",
    "        \n",
    "        #lt2 is lambdasun in Hapgood, equation 5, here in rad\n",
    "        lt2=(LAMBDA+(1.915-0.0048*T00)*np.sin(M*np.pi/180)+0.020*np.sin(2*M*np.pi/180))*np.pi/180\n",
    "        \n",
    "        #note that some of these equations are repeated later for the GSE to GSM conversion\n",
    "        S1=np.matrix([[np.cos(lt2+np.pi), np.sin(lt2+np.pi),  0], [-np.sin(lt2+np.pi) , np.cos(lt2+np.pi) , 0], [0,  0,  1]])\n",
    "        #create S2 matrix with angles with reversed sign for transformation HEEQ to HAE\n",
    "        omega_node=(73.6667+0.013958*((mjd[i]+3242)/365.25))*np.pi/180 #in rad\n",
    "        S2_omega=np.matrix([[np.cos(-omega_node), np.sin(-omega_node),  0], [-np.sin(-omega_node) , np.cos(-omega_node) , 0], [0,  0,  1]])\n",
    "        inclination_ecl=7.25*np.pi/180\n",
    "        S2_incl=np.matrix([[1,0,0],[0,np.cos(-inclination_ecl), np.sin(-inclination_ecl)], [0, -np.sin(-inclination_ecl), np.cos(-inclination_ecl)]])\n",
    "        #calculate theta\n",
    "        theta_node=np.arctan(np.cos(inclination_ecl)*np.tan(lt2-omega_node)) \n",
    "\n",
    "        #quadrant of theta must be opposite lt2 - omega_node Hapgood 1992 end of section 5   \n",
    "        #get lambda-omega angle in degree mod 360   \n",
    "        lambda_omega_deg=np.mod(lt2-omega_node,2*np.pi)*180/np.pi\n",
    "        #get theta_node in deg\n",
    "        theta_node_deg=theta_node*180/np.pi\n",
    "        #if in same quadrant, then theta_node = theta_node +pi   \n",
    "        if abs(lambda_omega_deg-theta_node_deg) < 180: theta_node=theta_node+np.pi\n",
    "        S2_theta=np.matrix([[np.cos(-theta_node), np.sin(-theta_node),  0], [-np.sin(-theta_node) , np.cos(-theta_node) , 0], [0,  0,  1]])\n",
    "\n",
    "        #make S2 matrix\n",
    "        S2=np.dot(np.dot(S2_omega,S2_incl),S2_theta)\n",
    "        #this is the matrix S2^-1 x S1\n",
    "        HEEQ_to_HEE_matrix=np.dot(S1, S2)\n",
    "        #convert HEEQ components to HEE\n",
    "        HEEQ=np.matrix([[heeq_bx[i]],[heeq_by[i]],[heeq_bz[i]]]) \n",
    "        HEE=np.dot(HEEQ_to_HEE_matrix,HEEQ)\n",
    "        #change of sign HEE X / Y to GSE is needed\n",
    "        sc.bx[i]=-HEE[0]\n",
    "        sc.by[i]=-HEE[1]\n",
    "        sc.bz[i]=HEE[2]\n",
    "    \n",
    "    print('conversion RTN to GSE done') \n",
    "   \n",
    "    return sc\n",
    "\n",
    "\n",
    "\n",
    "\n",
    "sta_gse=convert_RTN_to_GSE_sta_l1(sta_rtn)\n",
    "\n",
    "\n"
   ]
  },
  {
   "cell_type": "code",
   "execution_count": 53,
   "metadata": {
    "tags": []
   },
   "outputs": [
    {
     "data": {
      "text/plain": [
       "[<matplotlib.lines.Line2D at 0x168d27d00>]"
      ]
     },
     "execution_count": 53,
     "metadata": {},
     "output_type": "execute_result"
    },
    {
     "data": {
      "image/png": "[encoded data removed]",
      "text/plain": [
       "<Figure size 1200x800 with 1 Axes>"
      ]
     },
     "metadata": {},
     "output_type": "display_data"
    }
   ],
   "source": [
    "plt.figure(figsize=(12,8),dpi=100)\n",
    "\n",
    "plt.plot(sta_rtn.time,sta_rtn.by)\n",
    "plt.plot(sta_gse.time,-sta_gse.by,linewidth=0.5)\n",
    "\n",
    "#plt.plot(sta_rtn.time,sta_rtn.bx)\n",
    "#plt.plot(sta_gse.time,sta_gse.bx,linewidth=0.5)"
   ]
  },
  {
   "cell_type": "code",
   "execution_count": 25,
   "metadata": {
    "tags": []
   },
   "outputs": [],
   "source": [
    "\n",
    "fig = make_subplots(rows=1, cols=1, shared_xaxes=True)\n",
    "\n",
    "#for column, color in zip(['b_x', 'b_y', 'b_z', 'b_tot'], ['red', 'green', 'blue', 'black']):\n",
    "fig.add_trace(go.Scatter(x=sta_rtn.time, y=sta_rtn.by, name='By rtn',line_color='red'), row=1, col=1)\n",
    "fig.add_trace(go.Scatter(x=sta_gsm.time, y=sta_gsm.by, name='By gsm',line_color='green'), row=1, col=1)\n"
   ]
  },
  {
   "cell_type": "markdown",
   "metadata": {},
   "source": [
    "\n",
    "### Use plotly for measuring times"
   ]
  },
  {
   "cell_type": "markdown",
   "metadata": {},
   "source": [
    "#### with plasma data\n"
   ]
  },
  {
   "cell_type": "code",
   "execution_count": 4,
   "metadata": {
    "tags": []
   },
   "outputs": [],
   "source": [
    "nrows=5\n",
    "#init_notebook_mode(connected = True)\n",
    "#init_notebook_mode(connected = False)\n",
    "\n",
    "#fig=plt.figure(figsize=(10,6), dpi=150)\n",
    "\n",
    "fig = make_subplots(rows=nrows, cols=1, shared_xaxes=True,row_heights=[0.3,0.2, 0.2, 0.2, 0.1])\n",
    "\n",
    "\n",
    "#for column, color in zip(['b_x', 'b_y', 'b_z', 'b_tot'], ['red', 'green', 'blue', 'black']):\n",
    "fig.add_trace(go.Scatter(x=sc.time, y=sc.bx, name='Bx',line_color='red'), row=1, col=1)\n",
    "fig.update_yaxes(title_text=\"B [nT] RTN\", row=1, col=1)\n",
    "fig.add_trace(go.Scatter(x=sc.time, y=sc.by, name='By',line_color='green'), row=1, col=1)\n",
    "fig.add_trace(go.Scatter(x=sc.time, y=sc.bz, name='Bz',line_color='blue'), row=1, col=1)\n",
    "fig.add_trace(go.Scatter(x=sc.time, y=sc.bt, name='Bt',line_color='black'), row=1, col=1)\n",
    "\n",
    "fig.add_trace(go.Scatter(x=sc.time, y=sc.vt, name='Vt',line_color='black'), row=2, col=1)\n",
    "fig.update_yaxes(title_text=\"V [km/s]\", row=2, col=1)\n",
    "\n",
    "fig.add_trace(go.Scatter(x=sc.time, y=sc.np, name='Np',line_color='black'), row=3, col=1)\n",
    "fig.update_yaxes(title_text=\"Np [ccm-3]\", row=3, col=1)\n",
    "\n",
    "fig.add_trace(go.Scatter(x=sc.time, y=sc.tp, name='Tp',line_color='black'), row=4, col=1)\n",
    "fig.update_yaxes(title_text=\"Tp [K]\", row=4, col=1)\n",
    "\n",
    "fig.add_trace(go.Scatter(x=sc.time, y=sc.r, name='R',line_color='black'), row=5, col=1)\n",
    "fig.update_yaxes(title_text=\"R [AU]\", row=5, col=1)\n",
    "\n",
    "\n",
    "#fig.update_layout(title='sc data')\n",
    "\n",
    "fig.write_html(f'measure.html')\n",
    "fig.show()"
   ]
  },
  {
   "cell_type": "markdown",
   "metadata": {},
   "source": [
    "### no plasma data"
   ]
  },
  {
   "cell_type": "code",
   "execution_count": 12,
   "metadata": {},
   "outputs": [],
   "source": [
    "#def on_plot_click(trace, points, state):\n",
    "#    if points.point_inds:\n",
    "#        clicked_index = points.point_inds[0]\n",
    "#        clicked_x = df['x_values'][clicked_index]\n",
    "#        clicked_y = df['y_values'][clicked_index]\n",
    "#        print(f\"Clicked on point ({clicked_x}, {clicked_y})\")\n",
    "\n",
    "\n",
    "nrows=3\n",
    "#init_notebook_mode(connected = True)\n",
    "#init_notebook_mode(connected = False)\n",
    "\n",
    "#fig=plt.figure(figsize=(10,6), dpi=150)\n",
    "\n",
    "fig = make_subplots(rows=nrows, cols=1, shared_xaxes=True,row_heights=[0.6, 0.2,0.2])\n",
    "\n",
    "#for column, color in zip(['b_x', 'b_y', 'b_z', 'b_tot'], ['red', 'green', 'blue', 'black']):\n",
    "fig.add_trace(go.Scatter(x=sc.time, y=sc.bx, name='Bx',line_color='red'), row=1, col=1)\n",
    "fig.add_trace(go.Scatter(x=sc.time, y=sc.by, name='By',line_color='green'), row=1, col=1)\n",
    "fig.add_trace(go.Scatter(x=sc.time, y=sc.bz, name='Bz',line_color='blue'), row=1, col=1)\n",
    "fig.add_trace(go.Scatter(x=sc.time, y=sc.bt, name='Bt',line_color='black'), row=1, col=1)\n",
    "fig.update_yaxes(title_text=\"B [nT] RTN\", row=1, col=1)\n",
    "fig.add_trace(go.Scatter(x=sc.time, y=sc.r, name='R',line_color='black'), row=2, col=1)\n",
    "fig.update_yaxes(title_text=\"R [AU]\", row=2, col=1)\n",
    "\n",
    "fig.add_trace(go.Scatter(x=sc.time, y=sc.lon, name='Longitude',line_color='black'), row=3, col=1)\n",
    "fig.update_yaxes(title_text=\"longitude [deg] HEEQ\", row=3, col=1)\n",
    "\n",
    "# Attach the custom click event callback\n",
    "#fig.data[0].on_click(on_plot_click)\n",
    "\n",
    "fig.show()\n",
    "#fig.update_layout(title='Wind')\n",
    "\n",
    "#fig.write_html(f'measure_mag.html')\n"
   ]
  },
  {
   "cell_type": "code",
   "execution_count": 18,
   "metadata": {},
   "outputs": [],
   "source": [
    "\n",
    "\n",
    "#check positions in positions file and in data file\n",
    "\n",
    "#plt.plot(solo.time,solo.lat,'b-')\n",
    "#plt.plot(pos[1].time,np.rad2deg(pos[1].lat),'k-')   \n",
    "\n",
    "#from plotly.subplots import make_subplots\n",
    "#fig = make_subplots(rows=1, cols=1, shared_xaxes=True)\n",
    "#fig.add_trace(go.Scatter(x=solo.time, y=solo.lat, name='lat solo',line_color='red'))\n",
    "#fig.add_trace(go.Scatter(x=mdates.num2date(pos[1].time), y=np.rad2deg(pos[1].lat), name='lat pos',line_color='green'))\n",
    "\n",
    "#fig.write_html(f'measure.html')\n"
   ]
  },
  {
   "cell_type": "code",
   "execution_count": 42,
   "metadata": {
    "tags": []
   },
   "outputs": [],
   "source": [
    "#print('load Solar Orbiter SCEQ')\n",
    "#filesolo='solo_2020_april_2022_sep_mag_sceq.p'\n",
    "#solo=pickle.load(open(data_path+filesolo, \"rb\" ) ) \n",
    "#sc=solo\n",
    "#sc_label='Solar Orbiter'\n",
    "#start1='2022-Jan-1 00:00'\n",
    "#end1='2022-Jun-30 00:00'\n",
    "\n",
    "\n",
    "#print('load Solar Orbiter SCEQ')\n",
    "#filesolo='solo_2020_april_2022_june_rtn.p'\n",
    "#solo=pickle.load(open(data_path+filesolo, \"rb\" ) ) \n",
    "#sc=solo\n",
    "#sc_label='Solar Orbiter'\n",
    "#start1='2022-Jan-1 00:00'\n",
    "#end1='2022-Jun-30 00:00'\n",
    "\n",
    "#print('PSP SCEQ')\n",
    "#filepsp='psp_2022_add_mag_sceq.p'\n",
    "#psp=pickle.load(open(data_path+filepsp, \"rb\" ) ) \n",
    "#filepsp='psp_2022_add_mag_rtn.p'\n",
    "#psp=pickle.load(open(data_path+filepsp, \"rb\" ) ) \n",
    "\n",
    "#sc=psp\n",
    "#sc_label='PSP'\n",
    "#start1='2022-Jan-1 00:00'\n",
    "#end1='2022-Mar-31 00:00'\n",
    "\n",
    "\n",
    "#print('wind HEEQ')\n",
    "#filesolo='wind_2018_now_heeq.p'\n",
    "#[wind,windh]=pickle.load(open(data_path+filesolo, \"rb\" ) ) \n",
    "#sc=wind\n",
    "#sc_label='Wind'\n",
    "#start1='2022-Sep-1 00:00'\n",
    "#end1='2022-Nov-11 00:00'\n",
    "\n",
    "\n",
    "#print('load bepi')\n",
    "#file='bepi_2021_2022_ib_sceq.p'\n",
    "#file='bepi_2021_2022_ib_sceq.p'\n",
    "\n",
    "#bepi=pickle.load(open(data_path+file, \"rb\" ) ) \n",
    "#sc=bepi\n",
    "#sc_label='Bepi'\n",
    "#start1='2022-Apr-1 00:00'\n",
    "#end1='2022-Nov-31 00:00'\n",
    "\n",
    "\n",
    "#print('load sta')\n",
    "#filesolo='stereoa_2020_now_sceq_beacon.p'\n",
    "#[sta,stah]=pickle.load(open(data_path+filesolo, \"rb\" ) ) \n",
    "#sc=sta\n",
    "#sc_label='STEREO-A'\n",
    "#start1='2022-Feb-1 00:00'\n",
    "#end1='2022-Nov-11 00:00'\n",
    "\n",
    "\n",
    "\n",
    "####### select parts for plotting\n",
    "sc=sc[-100000:-1]\n",
    "\n",
    "#sc[0:1]\n",
    "\n"
   ]
  },
  {
   "cell_type": "code",
   "execution_count": null,
   "metadata": {},
   "outputs": [],
   "source": []
  }
 ],
 "metadata": {
  "kernelspec": {
   "display_name": "Python 3 (ipykernel)",
   "language": "python",
   "name": "python3"
  },
  "language_info": {
   "codemirror_mode": {
    "name": "ipython",
    "version": 3
   },
   "file_extension": ".py",
   "mimetype": "text/x-python",
   "name": "python",
   "nbconvert_exporter": "python",
   "pygments_lexer": "ipython3",
   "version": "3.10.0"
  }
 },
 "nbformat": 4,
 "nbformat_minor": 4
}
