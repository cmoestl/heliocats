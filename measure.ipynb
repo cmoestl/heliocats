{
 "cells": [
  {
   "cell_type": "markdown",
   "metadata": {},
   "source": [
    "### Make plotly plots for measuring features in solar wind data"
   ]
  },
  {
   "cell_type": "code",
   "execution_count": 1,
   "metadata": {},
   "outputs": [],
   "source": [
    "import pickle\n",
    "import os\n",
    "import numpy as np\n",
    "from sunpy.time import parse_time\n",
    "import matplotlib.pyplot as plt\n",
    "\n",
    "data_path='data/'\n",
    "\n",
    "#Plotly imports\n",
    "from plotly.subplots import make_subplots\n",
    "import plotly.graph_objects as go\n",
    "import plotly.io as pio\n",
    "from plotly.offline import iplot, init_notebook_mode\n",
    "import plotly.express as px\n",
    "pio.renderers.default = 'browser'"
   ]
  },
  {
   "cell_type": "markdown",
   "metadata": {},
   "source": [
    "#### print files in data_path"
   ]
  },
  {
   "cell_type": "code",
   "execution_count": 2,
   "metadata": {},
   "outputs": [
    {
     "name": "stdout",
     "output_type": "stream",
     "text": [
      "data/.DS_Store\n",
      "data/.ipynb_checkpoints\n",
      "data/AAREADME_insitu.txt\n",
      "data/EISN_current.csv\n",
      "data/HCME_WP3_V06.vot\n",
      "data/HELIO4CAST_ICMECAT_juno_davies_chris.csv\n",
      "data/SN_d_tot_V2.0.csv\n",
      "data/SN_m_tot_V2.0.csv\n",
      "data/SN_ms_tot_V2.0.csv\n",
      "data/TableCyclesMiMa.txt\n",
      "data/bepi_2019_2021_sceq.p\n",
      "data/bepi_2021_2022_ib_sceq.p\n",
      "data/davies_2020_paper\n",
      "data/maven_2014_2018_removed.p\n",
      "data/maven_2014_2018_removed_smoothed.p\n",
      "data/maven_2014_2021_removed_no_plasma.p\n",
      "data/maven_2014_2021_removed_smoothed_no_plasma.p\n",
      "data/messenger_2007_2015_sceq_removed.p\n",
      "data/msl_2012_2019_rad.p\n",
      "data/noaa_rtsw_last100days_now.p\n",
      "data/observed-solar-cycle-indices_2023_apr_19.json\n",
      "data/omni2_all_years.dat\n",
      "data/omni_1963_now.p\n",
      "data/positions_2007_2023_HEEQ_6hours.sav\n",
      "data/predicted-solar-cycle-2023_apr_19.json\n",
      "data/predicted-solar-cycle_2020_may_27.json\n",
      "data/psp_2018_2022_rtn.p\n",
      "data/psp_2018_2022_sceq.p\n",
      "data/psp_2022_add_mag_rtn.p\n",
      "data/psp_2022_add_mag_sceq.p\n",
      "data/psp_2022_rtn_new_jan2023.p\n",
      "data/psp_2022_rtn_sep_oct.p\n",
      "data/psp_2022_sceq_new_jan2023.p\n",
      "data/rc_list.htm\n",
      "data/solo_2020_april_2022_sep_mag_rtn.p\n",
      "data/solo_2020_april_2022_sep_mag_sceq.p\n",
      "data/solo_2020_april_2022_sep_rtn.p\n",
      "data/solo_2020_april_2022_sep_sceq.p\n",
      "data/ssn.p\n",
      "data/ssn_13ms.p\n",
      "data/ssn_m.p\n",
      "data/ssn_prelim.p\n",
      "data/stereoa_2007_2020_sceq.p\n",
      "data/stereoa_2020_now_rtn_beacon.p\n",
      "data/stereoa_2020_now_sceq_beacon.p\n",
      "data/stereob_2007_2014_sceq.p\n",
      "data/ulysses_1990_2009_rtn.p\n",
      "data/vex_2007_2014_sceq_removed.p\n",
      "data/wind_1995_2021_heeq.p\n",
      "data/wind_2018_now_gse.p\n",
      "data/wind_2018_now_heeq.p\n",
      "data/wsa_hux_mars_aug2014_jan2018.p\n",
      "data/wsa_hux_mars_aug2014_jan2018.txt\n"
     ]
    }
   ],
   "source": [
    "files = os.listdir(data_path)\n",
    "files.sort()\n",
    "fnames=[os.path.join(data_path, f) for f in files]\n",
    "for item in fnames:\n",
    "    print(item)"
   ]
  },
  {
   "cell_type": "code",
   "execution_count": 3,
   "metadata": {},
   "outputs": [
    {
     "name": "stdout",
     "output_type": "stream",
     "text": [
      "wind HEEQ\n"
     ]
    }
   ],
   "source": [
    "#print('load Solar Orbiter SCEQ')\n",
    "#filesolo='solo_2020_april_2022_sep_mag_sceq.p'\n",
    "#solo=pickle.load(open(data_path+filesolo, \"rb\" ) ) \n",
    "#sc=solo\n",
    "#sc_label='Solar Orbiter'\n",
    "#start1='2022-Jan-1 00:00'\n",
    "#end1='2022-Jun-30 00:00'\n",
    "\n",
    "\n",
    "#print('load Solar Orbiter SCEQ')\n",
    "#filesolo='solo_2020_april_2022_june_rtn.p'\n",
    "#solo=pickle.load(open(data_path+filesolo, \"rb\" ) ) \n",
    "#sc=solo\n",
    "#sc_label='Solar Orbiter'\n",
    "#start1='2022-Jan-1 00:00'\n",
    "#end1='2022-Jun-30 00:00'\n",
    "\n",
    "#print('PSP SCEQ')\n",
    "#filepsp='psp_2022_add_mag_sceq.p'\n",
    "#psp=pickle.load(open(data_path+filepsp, \"rb\" ) ) \n",
    "#filepsp='psp_2022_add_mag_rtn.p'\n",
    "#psp=pickle.load(open(data_path+filepsp, \"rb\" ) ) \n",
    "\n",
    "#sc=psp\n",
    "#sc_label='PSP'\n",
    "#start1='2022-Jan-1 00:00'\n",
    "#end1='2022-Mar-31 00:00'\n",
    "\n",
    "\n",
    "print('wind HEEQ')\n",
    "filesolo='wind_2018_now_heeq.p'\n",
    "[wind,windh]=pickle.load(open(data_path+filesolo, \"rb\" ) ) \n",
    "sc=wind\n",
    "sc_label='Wind'\n",
    "#start1='2022-Sep-1 00:00'\n",
    "#end1='2022-Nov-11 00:00'\n",
    "\n",
    "\n",
    "#print('load bepi')\n",
    "#file='bepi_2021_2022_ib_sceq.p'\n",
    "#file='bepi_2021_2022_ib_sceq.p'\n",
    "\n",
    "#bepi=pickle.load(open(data_path+file, \"rb\" ) ) \n",
    "#sc=bepi\n",
    "#sc_label='Bepi'\n",
    "#start1='2022-Apr-1 00:00'\n",
    "#end1='2022-Nov-31 00:00'\n",
    "\n",
    "\n",
    "#print('load sta')\n",
    "#filesolo='stereoa_2020_now_sceq_beacon.p'\n",
    "#[sta,stah]=pickle.load(open(data_path+filesolo, \"rb\" ) ) \n",
    "#sc=sta\n",
    "#sc_label='STEREO-A'\n",
    "#start1='2022-Feb-1 00:00'\n",
    "#end1='2022-Nov-11 00:00'\n",
    "\n",
    "\n",
    "\n",
    "####### select parts for plotting\n",
    "sc=sc[-100000:-1]\n",
    "\n",
    "#sc[0:1]\n",
    "\n"
   ]
  },
  {
   "cell_type": "markdown",
   "metadata": {},
   "source": [
    "### Use plotly for measuring times"
   ]
  },
  {
   "cell_type": "markdown",
   "metadata": {},
   "source": [
    "#### with plasma data\n"
   ]
  },
  {
   "cell_type": "code",
   "execution_count": 4,
   "metadata": {},
   "outputs": [],
   "source": [
    "nrows=4\n",
    "#init_notebook_mode(connected = True)\n",
    "#init_notebook_mode(connected = False)\n",
    "\n",
    "#fig=plt.figure(figsize=(10,6), dpi=150)\n",
    "\n",
    "fig = make_subplots(rows=nrows, cols=1, shared_xaxes=True)\n",
    "\n",
    "\n",
    "#for column, color in zip(['b_x', 'b_y', 'b_z', 'b_tot'], ['red', 'green', 'blue', 'black']):\n",
    "fig.add_trace(go.Scatter(x=sc.time, y=sc.bx, name='Bx',line_color='red'), row=1, col=1)\n",
    "fig.add_trace(go.Scatter(x=sc.time, y=sc.by, name='By',line_color='green'), row=1, col=1)\n",
    "fig.add_trace(go.Scatter(x=sc.time, y=sc.bz, name='Bz',line_color='blue'), row=1, col=1)\n",
    "fig.add_trace(go.Scatter(x=sc.time, y=sc.bt, name='Bt',line_color='black'), row=1, col=1)\n",
    "\n",
    "fig.add_trace(go.Scatter(x=sc.time, y=sc.vt, name='Vt',line_color='black'), row=2, col=1)\n",
    "fig.add_trace(go.Scatter(x=sc.time, y=sc.np, name='Np',line_color='black'), row=3, col=1)\n",
    "fig.add_trace(go.Scatter(x=sc.time, y=sc.tp, name='Tp',line_color='black'), row=4, col=1)\n",
    "\n",
    "fig.update_layout(title='Wind')\n",
    "\n",
    "fig.write_html(f'/Users/chris/python/heliocats/measure.html')\n",
    "fig.show()"
   ]
  },
  {
   "cell_type": "markdown",
   "metadata": {},
   "source": [
    "### no plasma data"
   ]
  },
  {
   "cell_type": "code",
   "execution_count": 7,
   "metadata": {},
   "outputs": [],
   "source": [
    "nrows=1\n",
    "#init_notebook_mode(connected = True)\n",
    "#init_notebook_mode(connected = False)\n",
    "\n",
    "#fig=plt.figure(figsize=(10,6), dpi=150)\n",
    "\n",
    "fig = make_subplots(rows=nrows, cols=1, shared_xaxes=True)\n",
    "\n",
    "#for column, color in zip(['b_x', 'b_y', 'b_z', 'b_tot'], ['red', 'green', 'blue', 'black']):\n",
    "fig.add_trace(go.Scatter(x=sc.time, y=sc.bx, name='Bx',line_color='red'), row=1, col=1)\n",
    "fig.add_trace(go.Scatter(x=sc.time, y=sc.by, name='By',line_color='green'), row=1, col=1)\n",
    "fig.add_trace(go.Scatter(x=sc.time, y=sc.bz, name='Bz',line_color='blue'), row=1, col=1)\n",
    "fig.add_trace(go.Scatter(x=sc.time, y=sc.bt, name='Bt',line_color='black'), row=1, col=1)\n",
    "\n",
    "fig.update_layout(title='Wind')\n",
    "\n",
    "fig.write_html(f'/Users/chris/python/heliocats/measure.html')\n",
    "fig.show()"
   ]
  },
  {
   "cell_type": "code",
   "execution_count": null,
   "metadata": {},
   "outputs": [],
   "source": []
  }
 ],
 "metadata": {
  "kernelspec": {
   "display_name": "Python 3 (ipykernel)",
   "language": "python",
   "name": "python3"
  },
  "language_info": {
   "codemirror_mode": {
    "name": "ipython",
    "version": 3
   },
   "file_extension": ".py",
   "mimetype": "text/x-python",
   "name": "python",
   "nbconvert_exporter": "python",
   "pygments_lexer": "ipython3",
   "version": "3.10.0"
  }
 },
 "nbformat": 4,
 "nbformat_minor": 4
}
