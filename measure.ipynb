{
 "cells": [
  {
   "cell_type": "markdown",
   "metadata": {},
   "source": [
    "### Make plotly plots for measuring features in solar wind data"
   ]
  },
  {
   "cell_type": "code",
   "execution_count": 1,
   "metadata": {},
   "outputs": [
    {
     "name": "stderr",
     "output_type": "stream",
     "text": [
      "/Users/chris/python/miniconda3/envs/helio4/lib/python3.10/site-packages/tqdm/auto.py:21: TqdmWarning: IProgress not found. Please update jupyter and ipywidgets. See https://ipywidgets.readthedocs.io/en/stable/user_install.html\n",
      "  from .autonotebook import tqdm as notebook_tqdm\n"
     ]
    },
    {
     "name": "stdout",
     "output_type": "stream",
     "text": [
      " \n"
     ]
    }
   ],
   "source": [
    "import pickle\n",
    "import os\n",
    "import numpy as np\n",
    "from sunpy.time import parse_time\n",
    "import matplotlib.pyplot as plt\n",
    "import matplotlib.dates as mdates\n",
    "from datetime import datetime\n",
    "\n",
    "from heliocats import data as hd\n",
    "import copy\n",
    "\n",
    "data_path='/Users/chris/python/data/insitu_python/'\n",
    "\n",
    "#Plotly imports\n",
    "from plotly.subplots import make_subplots\n",
    "import plotly.graph_objects as go\n",
    "import plotly.io as pio\n",
    "from plotly.offline import iplot, init_notebook_mode\n",
    "import plotly.express as px\n",
    "pio.renderers.default = 'browser'\n",
    "\n",
    "print(' ' )"
   ]
  },
  {
   "cell_type": "markdown",
   "metadata": {},
   "source": [
    "#### print files in data_path"
   ]
  },
  {
   "cell_type": "code",
   "execution_count": 2,
   "metadata": {},
   "outputs": [
    {
     "name": "stdout",
     "output_type": "stream",
     "text": [
      ".DS_Store\n",
      "ML_struct_arrays\n",
      "bepi_ib_2019_now_e2k.p\n",
      "bepi_ib_2019_now_rtn.p\n",
      "bepi_ib_e2k_test.p\n",
      "bepi_ib_rtn_test.p\n",
      "bepi_ob_2019_now_e2k.p\n",
      "bepi_ob_2019_now_rtn.p\n",
      "bepi_ob_e2k_test.p\n",
      "juno_2011_2016_rtn.p\n",
      "juno_2011_2016_rtn_old.p\n",
      "maven_2014_2018_removed.p\n",
      "maven_2014_2018_removed_smoothed.p\n",
      "maven_2014_2021_removed_no_plasma.p\n",
      "maven_2014_2021_removed_smoothed_no_plasma.p\n",
      "messenger_2007_2015_sceq_removed.p\n",
      "msl_2012_2019_rad.p\n",
      "new_data_headers.txt\n",
      "noaa_dst_last_2500_now.p\n",
      "noaa_dst_last_300files_now.p\n",
      "noaa_dst_last_35files_now.p\n",
      "noaa_rtsw\n",
      "noaa_rtsw_last_2500files_now.p\n",
      "noaa_rtsw_last_300files_now.p\n",
      "noaa_rtsw_last_35files_now.p\n",
      "noaa_rtsw_march_2023.p\n",
      "noaa_xray2_last_7days_now.p\n",
      "noaa_xray_last_7days_now.p\n",
      "omni_1963_now.p\n",
      "plots\n",
      "plots_positions\n",
      "plots_sun\n",
      "positions_psp_solo_sta_bepi_wind_juno_juice_ulysses_planets_HEEQ_10min_degrees.p\n",
      "positions_psp_solo_sta_bepi_wind_juno_juice_ulysses_planets_HEEQ_10min_rad.p\n",
      "positions_psp_solo_sta_bepi_wind_juno_juice_ulysses_planets_HEEQ_1hour_degrees.p\n",
      "positions_psp_solo_sta_bepi_wind_juno_juice_ulysses_planets_HEEQ_1hour_rad.p\n",
      "positions_psp_solo_sta_bepi_wind_planets_HEEQ_10min_degrees.p\n",
      "positions_psp_solo_sta_bepi_wind_planets_HEEQ_10min_rad.p\n",
      "positions_psp_solo_sta_bepi_wind_planets_HEEQ_1hour_degrees.p\n",
      "positions_psp_solo_sta_bepi_wind_planets_HEEQ_1hour_rad.p\n",
      "predicted-solar-cycle-2023_apr_19.json\n",
      "psp_2018_now_rtn.p\n",
      "psp_rtn_test.p\n",
      "rc_list.htm\n",
      "solo_2020_now_rtn.p\n",
      "solo_rtn_test.p\n",
      "ssn.p\n",
      "ssn_13ms.p\n",
      "ssn_m.p\n",
      "ssn_prelim.p\n",
      "stereoa_2007_2020_sceq.p\n",
      "stereoa_2007_now_rtn.p\n",
      "stereoa_2020_now_sceq_beacon.p\n",
      "stereoa_beacon_gsm_last_300days_now.p\n",
      "stereoa_beacon_gsm_last_35days_now.p\n",
      "stereoa_beacon_rtn_last_300days_now.p\n",
      "stereoa_beacon_rtn_last_35days_now.p\n",
      "stereoa_rtn_test.p\n",
      "stereob_2007_2014_rtn.p\n",
      "stereob_2007_2014_sceq.p\n",
      "ulysses_1990_2009_rtn.p\n",
      "vex_2007_2014_sceq_removed.p\n",
      "wind_1995_2021_heeq.p\n",
      "wind_1995_now_gse.p\n",
      "wind_1995_now_heeq.p\n",
      "wind_1995_now_rtn.p\n",
      "wind_gse_test.p\n",
      "wind_heeq_test.p\n",
      "wind_rtn_test.p\n"
     ]
    }
   ],
   "source": [
    "files = os.listdir(data_path)\n",
    "files.sort()\n",
    "fnames=[os.path.join(data_path, f) for f in files]\n",
    "for item in files:\n",
    "    print(item)"
   ]
  },
  {
   "cell_type": "code",
   "execution_count": 3,
   "metadata": {
    "tags": []
   },
   "outputs": [
    {
     "data": {
      "text/plain": [
       "[<matplotlib.lines.Line2D at 0x17fcd8400>]"
      ]
     },
     "execution_count": 3,
     "metadata": {},
     "output_type": "execute_result"
    },
    {
     "data": {
      "image/png": "[encoded data removed]",
      "text/plain": [
       "<Figure size 640x480 with 1 Axes>"
      ]
     },
     "metadata": {},
     "output_type": "display_data"
    }
   ],
   "source": [
    "#file='solo_2020_now_rtn.p'\n",
    "\n",
    "#file='psp_2018_now_rtn.p'\n",
    "file='psp_rtn_test.p'\n",
    "\n",
    "\n",
    "\n",
    "#file='bepi_ib_2019_now_rtn.p'  #preferred ib over ob\n",
    "#file='bepi_ob_2019_now_rtn.p'\n",
    "\n",
    "#file='stereoa_2007_now_rtn.p'\n",
    "#file='stereoa_beacon_rtn_last_300days_now.p'\n",
    "#file='stereoa_beacon_rtn_last_35days_now.p'\n",
    "\n",
    "#file='wind_1995_now_rtn.p'\n",
    "\n",
    "\n",
    "#file='solo_rtn_test.p'\n",
    "#file='psp_rtn_test.p'\n",
    "\n",
    "#file='ulysses_1990_2009_rtn.p'\n",
    "\n",
    "#file='juno_2011_2016_rtn.p'\n",
    "#file='juno_2011_2016_rtn_old.p'\n",
    "\n",
    "\n",
    "#file='omni_1963_now.p'\n",
    "\n",
    "[sc,header]=pickle.load(open(data_path+file, \"rb\" ) ) \n",
    "\n",
    "#start=datetime(2012,7,20)\n",
    "#end=datetime(2012,7,31)\n",
    "\n",
    "#start=datetime(1963,1,1)\n",
    "#end=datetime(2024,1,1)\n",
    "\n",
    "\n",
    "\n",
    "#start=datetime(1989,1,1)\n",
    "#end=datetime(2010,1,1)\n",
    "\n",
    "\n",
    "\n",
    "#cutout array for these dates\n",
    "start=datetime(2023,4,1)\n",
    "end=datetime(2023,12,31)\n",
    "\n",
    "#scnum=mdates.date2num(sc.time)\n",
    "startind=np.argmin(abs(start-sc.time))\n",
    "endind=np.argmin(abs(end-sc.time))\n",
    "\n",
    "sc=sc[startind:endind]\n",
    "\n",
    "######## save cutout data if needed\n",
    "\n",
    "#pickle_file='data/bepi_cutout_2022_march_10_april_10.p'\n",
    "#pickle.dump([sc, header], open(pickle_file, \"wb\"))\n",
    "#[bepi,hbepi]=pickle.load(open(pickle_file, \"rb\" ) )\n",
    "\n",
    "plt.plot(sc.time,sc.bt)\n",
    "plt.plot(sc.time,sc.bx)\n",
    "plt.plot(sc.time,sc.by)\n",
    "plt.plot(sc.time,sc.bz)\n",
    "\n",
    "\n",
    "\n",
    "#header"
   ]
  },
  {
   "cell_type": "markdown",
   "metadata": {},
   "source": [
    "\n",
    "### Use plotly for measuring times"
   ]
  },
  {
   "cell_type": "markdown",
   "metadata": {},
   "source": [
    "#### with plasma data\n"
   ]
  },
  {
   "cell_type": "code",
   "execution_count": 4,
   "metadata": {
    "tags": []
   },
   "outputs": [],
   "source": [
    "nrows=5\n",
    "#init_notebook_mode(connected = True)\n",
    "#init_notebook_mode(connected = False)\n",
    "\n",
    "#fig=plt.figure(figsize=(10,6), dpi=150)\n",
    "\n",
    "fig = make_subplots(rows=nrows, cols=1, shared_xaxes=True,row_heights=[0.3,0.2, 0.2, 0.2, 0.1])\n",
    "\n",
    "\n",
    "#for column, color in zip(['b_x', 'b_y', 'b_z', 'b_tot'], ['red', 'green', 'blue', 'black']):\n",
    "fig.add_trace(go.Scatter(x=sc.time, y=sc.bx, name='Bx',line_color='red'), row=1, col=1)\n",
    "fig.update_yaxes(title_text=\"B [nT] RTN\", row=1, col=1)\n",
    "fig.add_trace(go.Scatter(x=sc.time, y=sc.by, name='By',line_color='green'), row=1, col=1)\n",
    "fig.add_trace(go.Scatter(x=sc.time, y=sc.bz, name='Bz',line_color='blue'), row=1, col=1)\n",
    "fig.add_trace(go.Scatter(x=sc.time, y=sc.bt, name='Bt',line_color='black'), row=1, col=1)\n",
    "\n",
    "fig.add_trace(go.Scatter(x=sc.time, y=sc.vt, name='Vt',line_color='black'), row=2, col=1)\n",
    "fig.update_yaxes(title_text=\"V [km/s]\", row=2, col=1)\n",
    "\n",
    "fig.add_trace(go.Scatter(x=sc.time, y=sc.np, name='Np',line_color='black'), row=3, col=1)\n",
    "fig.update_yaxes(title_text=\"Np [ccm-3]\", row=3, col=1)\n",
    "\n",
    "fig.add_trace(go.Scatter(x=sc.time, y=sc.tp, name='Tp',line_color='black'), row=4, col=1)\n",
    "fig.update_yaxes(title_text=\"Tp [K]\", row=4, col=1)\n",
    "\n",
    "fig.add_trace(go.Scatter(x=sc.time, y=sc.r, name='R',line_color='black'), row=5, col=1)\n",
    "fig.update_yaxes(title_text=\"R [AU]\", row=5, col=1)\n",
    "\n",
    "\n",
    "#fig.update_layout(title='sc data')\n",
    "\n",
    "fig.write_html(f'measure.html')\n",
    "fig.show()"
   ]
  },
  {
   "cell_type": "markdown",
   "metadata": {},
   "source": [
    "### no plasma data"
   ]
  },
  {
   "cell_type": "code",
   "execution_count": 19,
   "metadata": {},
   "outputs": [],
   "source": [
    "#def on_plot_click(trace, points, state):\n",
    "#    if points.point_inds:\n",
    "#        clicked_index = points.point_inds[0]\n",
    "#        clicked_x = df['x_values'][clicked_index]\n",
    "#        clicked_y = df['y_values'][clicked_index]\n",
    "#        print(f\"Clicked on point ({clicked_x}, {clicked_y})\")\n",
    "\n",
    "\n",
    "nrows=3\n",
    "#init_notebook_mode(connected = True)\n",
    "#init_notebook_mode(connected = False)\n",
    "\n",
    "#fig=plt.figure(figsize=(10,6), dpi=150)\n",
    "\n",
    "fig = make_subplots(rows=nrows, cols=1, shared_xaxes=True,row_heights=[0.6, 0.2,0.2])\n",
    "\n",
    "#for column, color in zip(['b_x', 'b_y', 'b_z', 'b_tot'], ['red', 'green', 'blue', 'black']):\n",
    "fig.add_trace(go.Scatter(x=sc.time, y=sc.bx, name='Bx',line_color='red'), row=1, col=1)\n",
    "fig.add_trace(go.Scatter(x=sc.time, y=sc.by, name='By',line_color='green'), row=1, col=1)\n",
    "fig.add_trace(go.Scatter(x=sc.time, y=sc.bz, name='Bz',line_color='blue'), row=1, col=1)\n",
    "fig.add_trace(go.Scatter(x=sc.time, y=sc.bt, name='Bt',line_color='black'), row=1, col=1)\n",
    "fig.update_yaxes(title_text=\"B [nT] RTN\", row=1, col=1)\n",
    "fig.add_trace(go.Scatter(x=sc.time, y=sc.r, name='R',line_color='black'), row=2, col=1)\n",
    "fig.update_yaxes(title_text=\"R [AU]\", row=2, col=1)\n",
    "\n",
    "fig.add_trace(go.Scatter(x=sc.time, y=sc.lon, name='Longitude',line_color='black'), row=3, col=1)\n",
    "fig.update_yaxes(title_text=\"longitude [deg] HEEQ\", row=3, col=1)\n",
    "\n",
    "# Attach the custom click event callback\n",
    "#fig.data[0].on_click(on_plot_click)\n",
    "\n",
    "fig.show()\n",
    "#fig.update_layout(title='Wind')\n",
    "\n",
    "#fig.write_html(f'measure_mag.html')\n"
   ]
  },
  {
   "cell_type": "code",
   "execution_count": 22,
   "metadata": {
    "tags": []
   },
   "outputs": [],
   "source": [
    "[psp, solo, sta, stb, bepi, l1, earth, mercury, venus, mars, jupiter, saturn, uranus, neptune]=pickle.load( open( 'results/positions/positions_psp_solo_sta_bepi_wind_planets_HEEQ_10min_degrees.p', \"rb\" ) )"
   ]
  },
  {
   "cell_type": "code",
   "execution_count": 23,
   "metadata": {
    "tags": []
   },
   "outputs": [],
   "source": [
    "fig = make_subplots(rows=1, cols=1, shared_xaxes=True)\n",
    "fig.add_trace(go.Scatter(x=psp.time, y=psp.r, name='R',line_color='green'), row=1, col=1)"
   ]
  },
  {
   "cell_type": "markdown",
   "metadata": {},
   "source": [
    "### for OMNI solar wind, Dst, and SSN in 2 plots"
   ]
  },
  {
   "cell_type": "code",
   "execution_count": null,
   "metadata": {
    "tags": []
   },
   "outputs": [],
   "source": [
    "file='omni_1963_now.p'\n",
    "\n",
    "[sc,header]=pickle.load(open(data_path+file, \"rb\" ) ) \n",
    "\n",
    "#start=datetime(2012,7,20)\n",
    "#end=datetime(2012,7,31)\n",
    "\n",
    "start=datetime(1963,1,1)\n",
    "end=datetime(2024,1,1)"
   ]
  },
  {
   "cell_type": "code",
   "execution_count": null,
   "metadata": {
    "tags": []
   },
   "outputs": [],
   "source": [
    "nrows=5\n",
    "#init_notebook_mode(connected = True)\n",
    "#init_notebook_mode(connected = False)\n",
    "\n",
    "#fig=plt.figure(figsize=(10,6), dpi=150)\n",
    "\n",
    "fig = make_subplots(rows=nrows, cols=1, shared_xaxes=True,row_heights=[0.3,0.2, 0.2, 0.2, 0.1])\n",
    "\n",
    "\n",
    "#for column, color in zip(['b_x', 'b_y', 'b_z', 'b_tot'], ['red', 'green', 'blue', 'black']):\n",
    "fig.add_trace(go.Scatter(x=sc.time, y=sc.bx, name='Bx',line_color='red'), row=1, col=1)\n",
    "fig.update_yaxes(title_text=\"B [nT] RTN\", row=1, col=1)\n",
    "fig.add_trace(go.Scatter(x=sc.time, y=sc.by, name='By',line_color='green'), row=1, col=1)\n",
    "fig.add_trace(go.Scatter(x=sc.time, y=sc.bz, name='Bz',line_color='blue'), row=1, col=1)\n",
    "fig.add_trace(go.Scatter(x=sc.time, y=sc.bt, name='Bt',line_color='black'), row=1, col=1)\n",
    "\n",
    "fig.add_trace(go.Scatter(x=sc.time, y=sc.vt, name='Vt',line_color='black'), row=2, col=1)\n",
    "fig.update_yaxes(title_text=\"V [km/s]\", row=2, col=1)\n",
    "\n",
    "fig.add_trace(go.Scatter(x=sc.time, y=sc.np, name='Np',line_color='black'), row=3, col=1)\n",
    "fig.update_yaxes(title_text=\"Np [ccm-3]\", row=3, col=1)\n",
    "\n",
    "fig.add_trace(go.Scatter(x=sc.time, y=sc.dst, name='Dst',line_color='black'), row=4, col=1)\n",
    "fig.update_yaxes(title_text=\"Dst [nT]\", row=4, col=1)\n",
    "\n",
    "\n",
    "#fig.update_layout(title='sc data')\n",
    "\n",
    "fig.write_html(f'omni.html')\n",
    "fig.show()"
   ]
  },
  {
   "cell_type": "code",
   "execution_count": 12,
   "metadata": {},
   "outputs": [],
   "source": [
    "### Dst and Sunspot number\n",
    "\n",
    "nrows=2\n",
    "#init_notebook_mode(connected = True)\n",
    "#init_notebook_mode(connected = False)\n",
    "\n",
    "#fig=plt.figure(figsize=(10,6), dpi=150)\n",
    "\n",
    "fig = make_subplots(rows=nrows, cols=1, shared_xaxes=True,row_heights=[0.5,0.5])\n",
    "\n",
    "fig.add_trace(go.Scatter(x=sc.time, y=sc.spot, name='SSN',line_color='red'), row=1, col=1)\n",
    "fig.update_yaxes(title_text=\"SSN\", row=1, col=1)\n",
    "\n",
    "fig.add_trace(go.Scatter(x=sc.time, y=sc.dst, name='Dst',line_color='black'), row=2, col=1)\n",
    "fig.update_yaxes(title_text=\"Dst [nT]\", row=2, col=1)\n",
    "\n",
    "\n",
    "#fig.update_layout(title='sc data')\n",
    "\n",
    "fig.write_html(f'dst_ssn.html')\n",
    "fig.show()"
   ]
  },
  {
   "cell_type": "code",
   "execution_count": null,
   "metadata": {},
   "outputs": [],
   "source": []
  },
  {
   "cell_type": "code",
   "execution_count": null,
   "metadata": {},
   "outputs": [],
   "source": []
  },
  {
   "cell_type": "code",
   "execution_count": null,
   "metadata": {},
   "outputs": [],
   "source": []
  },
  {
   "cell_type": "code",
   "execution_count": null,
   "metadata": {},
   "outputs": [],
   "source": []
  },
  {
   "cell_type": "code",
   "execution_count": null,
   "metadata": {},
   "outputs": [],
   "source": []
  },
  {
   "cell_type": "code",
   "execution_count": null,
   "metadata": {},
   "outputs": [],
   "source": []
  },
  {
   "cell_type": "code",
   "execution_count": null,
   "metadata": {},
   "outputs": [],
   "source": []
  },
  {
   "cell_type": "code",
   "execution_count": null,
   "metadata": {},
   "outputs": [],
   "source": [
    "\n",
    "\n",
    "#check positions in positions file and in data file\n",
    "\n",
    "#plt.plot(solo.time,solo.lat,'b-')\n",
    "#plt.plot(pos[1].time,np.rad2deg(pos[1].lat),'k-')   \n",
    "\n",
    "#from plotly.subplots import make_subplots\n",
    "#fig = make_subplots(rows=1, cols=1, shared_xaxes=True)\n",
    "#fig.add_trace(go.Scatter(x=solo.time, y=solo.lat, name='lat solo',line_color='red'))\n",
    "#fig.add_trace(go.Scatter(x=mdates.num2date(pos[1].time), y=np.rad2deg(pos[1].lat), name='lat pos',line_color='green'))\n",
    "\n",
    "#fig.write_html(f'measure.html')\n"
   ]
  },
  {
   "cell_type": "code",
   "execution_count": 42,
   "metadata": {
    "tags": []
   },
   "outputs": [],
   "source": [
    "#print('load Solar Orbiter SCEQ')\n",
    "#filesolo='solo_2020_april_2022_sep_mag_sceq.p'\n",
    "#solo=pickle.load(open(data_path+filesolo, \"rb\" ) ) \n",
    "#sc=solo\n",
    "#sc_label='Solar Orbiter'\n",
    "#start1='2022-Jan-1 00:00'\n",
    "#end1='2022-Jun-30 00:00'\n",
    "\n",
    "\n",
    "#print('load Solar Orbiter SCEQ')\n",
    "#filesolo='solo_2020_april_2022_june_rtn.p'\n",
    "#solo=pickle.load(open(data_path+filesolo, \"rb\" ) ) \n",
    "#sc=solo\n",
    "#sc_label='Solar Orbiter'\n",
    "#start1='2022-Jan-1 00:00'\n",
    "#end1='2022-Jun-30 00:00'\n",
    "\n",
    "#print('PSP SCEQ')\n",
    "#filepsp='psp_2022_add_mag_sceq.p'\n",
    "#psp=pickle.load(open(data_path+filepsp, \"rb\" ) ) \n",
    "#filepsp='psp_2022_add_mag_rtn.p'\n",
    "#psp=pickle.load(open(data_path+filepsp, \"rb\" ) ) \n",
    "\n",
    "#sc=psp\n",
    "#sc_label='PSP'\n",
    "#start1='2022-Jan-1 00:00'\n",
    "#end1='2022-Mar-31 00:00'\n",
    "\n",
    "\n",
    "#print('wind HEEQ')\n",
    "#filesolo='wind_2018_now_heeq.p'\n",
    "#[wind,windh]=pickle.load(open(data_path+filesolo, \"rb\" ) ) \n",
    "#sc=wind\n",
    "#sc_label='Wind'\n",
    "#start1='2022-Sep-1 00:00'\n",
    "#end1='2022-Nov-11 00:00'\n",
    "\n",
    "\n",
    "#print('load bepi')\n",
    "#file='bepi_2021_2022_ib_sceq.p'\n",
    "#file='bepi_2021_2022_ib_sceq.p'\n",
    "\n",
    "#bepi=pickle.load(open(data_path+file, \"rb\" ) ) \n",
    "#sc=bepi\n",
    "#sc_label='Bepi'\n",
    "#start1='2022-Apr-1 00:00'\n",
    "#end1='2022-Nov-31 00:00'\n",
    "\n",
    "\n",
    "#print('load sta')\n",
    "#filesolo='stereoa_2020_now_sceq_beacon.p'\n",
    "#[sta,stah]=pickle.load(open(data_path+filesolo, \"rb\" ) ) \n",
    "#sc=sta\n",
    "#sc_label='STEREO-A'\n",
    "#start1='2022-Feb-1 00:00'\n",
    "#end1='2022-Nov-11 00:00'\n",
    "\n",
    "\n",
    "\n",
    "####### select parts for plotting\n",
    "sc=sc[-100000:-1]\n",
    "\n",
    "#sc[0:1]\n",
    "\n"
   ]
  },
  {
   "cell_type": "code",
   "execution_count": null,
   "metadata": {},
   "outputs": [],
   "source": []
  }
 ],
 "metadata": {
  "kernelspec": {
   "display_name": "Python 3 (ipykernel)",
   "language": "python",
   "name": "python3"
  },
  "language_info": {
   "codemirror_mode": {
    "name": "ipython",
    "version": 3
   },
   "file_extension": ".py",
   "mimetype": "text/x-python",
   "name": "python",
   "nbconvert_exporter": "python",
   "pygments_lexer": "ipython3",
   "version": "3.10.0"
  }
 },
 "nbformat": 4,
 "nbformat_minor": 4
}
