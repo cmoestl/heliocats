{
 "cells": [
  {
   "cell_type": "markdown",
   "metadata": {},
   "source": [
    "### Make plotly plots for measuring features in solar wind data"
   ]
  },
  {
   "cell_type": "code",
   "execution_count": 1,
   "metadata": {
    "tags": []
   },
   "outputs": [
    {
     "name": "stderr",
     "output_type": "stream",
     "text": [
      "/Users/chris/python/miniconda3/envs/helio4/lib/python3.10/site-packages/tqdm/auto.py:21: TqdmWarning: IProgress not found. Please update jupyter and ipywidgets. See https://ipywidgets.readthedocs.io/en/stable/user_install.html\n",
      "  from .autonotebook import tqdm as notebook_tqdm\n"
     ]
    },
    {
     "name": "stdout",
     "output_type": "stream",
     "text": [
      " \n"
     ]
    }
   ],
   "source": [
    "import pickle\n",
    "import os\n",
    "import numpy as np\n",
    "from sunpy.time import parse_time\n",
    "import matplotlib.pyplot as plt\n",
    "import matplotlib.dates as mdates\n",
    "from datetime import datetime\n",
    "\n",
    "from heliocats import data as hd\n",
    "import copy\n",
    "\n",
    "data_path='/Users/chris/python/data/insitu_python/'\n",
    "\n",
    "#data_path='/Users/chris/python/data/may_2024_events/'\n",
    "\n",
    "\n",
    "#Plotly imports\n",
    "from plotly.subplots import make_subplots\n",
    "import plotly.graph_objects as go\n",
    "import plotly.io as pio\n",
    "from plotly.offline import iplot, init_notebook_mode\n",
    "import plotly.express as px\n",
    "pio.renderers.default = 'browser'\n",
    "\n",
    "print(' ' )"
   ]
  },
  {
   "cell_type": "markdown",
   "metadata": {},
   "source": [
    "#### print files in data_path"
   ]
  },
  {
   "cell_type": "code",
   "execution_count": 2,
   "metadata": {
    "tags": []
   },
   "outputs": [
    {
     "name": "stdout",
     "output_type": "stream",
     "text": [
      ".DS_Store\n",
      "ML_struct_arrays\n",
      "bepi_ib_2019_now_e2k.p\n",
      "bepi_ib_2019_now_rtn.p\n",
      "bepi_ib_2019_now_rtn_before_change.p\n",
      "bepi_ib_e2k_test.p\n",
      "bepi_ib_rtn_test.p\n",
      "bepi_ob_2019_now_e2k.p\n",
      "bepi_ob_2019_now_rtn.p\n",
      "bepi_ob_2019_now_rtn_file_before_new_conversion.p\n",
      "bepi_ob_e2k_test.p\n",
      "bepi_ob_rtn_test.p\n",
      "juno_2011_2016_rtn.p\n",
      "juno_2011_2016_rtn_old.p\n",
      "maven_2014_2018_removed.p\n",
      "maven_2014_2018_removed_smoothed.p\n",
      "maven_2014_2021_removed_no_plasma.p\n",
      "maven_2014_2021_removed_smoothed_no_plasma.p\n",
      "messenger_2007_2015_sceq_removed.p\n",
      "msl_2012_2019_rad.p\n",
      "new_data_headers.txt\n",
      "noaa_archive_gsm.p\n",
      "noaa_dst_last_2500_now.p\n",
      "noaa_dst_last_300files_now.p\n",
      "noaa_dst_last_35files_now.p\n",
      "noaa_rtsw\n",
      "noaa_rtsw_last_2500files_now.p\n",
      "noaa_rtsw_last_300files_now.p\n",
      "noaa_rtsw_last_35files_now.p\n",
      "noaa_rtsw_march_2023.p\n",
      "noaa_xray2_last_7days_now.p\n",
      "noaa_xray_last_7days_now.p\n",
      "omni_1963_now.p\n",
      "plots\n",
      "plots_positions\n",
      "plots_sun\n",
      "positions_psp_solo_sta_bepi_wind_juno_juice_ulysses_planets_HEEQ_10min_degrees.p\n",
      "positions_psp_solo_sta_bepi_wind_juno_juice_ulysses_planets_HEEQ_10min_rad.p\n",
      "positions_psp_solo_sta_bepi_wind_juno_juice_ulysses_planets_HEEQ_1hour_degrees.p\n",
      "positions_psp_solo_sta_bepi_wind_juno_juice_ulysses_planets_HEEQ_1hour_rad.p\n",
      "positions_psp_solo_sta_bepi_wind_planets_HEEQ_10min_degrees.p\n",
      "positions_psp_solo_sta_bepi_wind_planets_HEEQ_10min_rad.p\n",
      "positions_psp_solo_sta_bepi_wind_planets_HEEQ_1hour_degrees.p\n",
      "positions_psp_solo_sta_bepi_wind_planets_HEEQ_1hour_rad.p\n",
      "predicted-solar-cycle-2023_apr_19.json\n",
      "psp_2018_now_rtn.p\n",
      "psp_rtn_oct_2024_apr_2025.p\n",
      "rc_list.htm\n",
      "solo_2020_now_rtn.p\n",
      "solo_lowlat_now.p\n",
      "solo_rtn_2024-03-20.p\n",
      "solo_rtn_2024-03-23.p\n",
      "solo_rtn_2024-03-25.p\n",
      "solo_rtn_test.p\n",
      "ssn.p\n",
      "ssn_13ms.p\n",
      "ssn_m.p\n",
      "ssn_prelim.p\n",
      "stereoa_2007_2020_sceq.p\n",
      "stereoa_2007_now_rtn.p\n",
      "stereoa_2020_now_sceq_beacon.p\n",
      "stereoa_beacon_gsm_last_300days_now.p\n",
      "stereoa_beacon_gsm_last_35days_now.p\n",
      "stereoa_beacon_gsm_last_400days_now.p\n",
      "stereoa_beacon_rtn_last_300days_now.p\n",
      "stereoa_beacon_rtn_last_35days_now.p\n",
      "stereoa_beacon_rtn_last_400days_now.p\n",
      "stereoa_rtn_test.p\n",
      "stereob_2007_2014_rtn.p\n",
      "stereob_2007_2014_sceq.p\n",
      "ulysses_1990_2009_rtn.p\n",
      "vex_2007_2014_sceq_removed.p\n",
      "wind_1995_2021_heeq.p\n",
      "wind_1995_now_gse.p\n",
      "wind_1995_now_heeq.p\n",
      "wind_1995_now_rtn.p\n",
      "wind_gse_test.p\n",
      "wind_heeq_test.p\n",
      "wind_rtn_test.p\n"
     ]
    }
   ],
   "source": [
    "files = os.listdir(data_path)\n",
    "files.sort()\n",
    "fnames=[os.path.join(data_path, f) for f in files]\n",
    "for item in files:\n",
    "    print(item)"
   ]
  },
  {
   "cell_type": "code",
   "execution_count": 6,
   "metadata": {
    "tags": []
   },
   "outputs": [
    {
     "data": {
      "text/plain": [
       "'Science level 2 solar wind magnetic field (FIELDS) and plasma data (SWEAP/SPI/MOM) from Parker Solar Probe, obtained from https://spdf.gsfc.nasa.gov/pub/data/psp/fields/l2/mag_rtn_1min and https://spdf.gsfc.nasa.gov/pub/data/psp/sweap/spi/l3/spi_sf00_l3_mom/  Timerange: 2024-Oct-01 00:00 to 2025-Apr-29 23:59, resampled to a time resolution of 1 min. The data are available in a numpy recarray, fields can be accessed by psp.time, psp.bx, psp.vt etc. Total number of data points: 303840. Units are btxyz [nT, RTN], vtxyz  [km s^-1, RTN], np[cm^-3], tp [K], heliospheric position x/y/z [km] or r/lon/lat [AU, degree, HEEQ]. Made with heliocats/data_update_web_science.ipynb, by Emma Davies and Christian Möstl. File creation date: 2025-Sep-24 09:20 UTC'"
      ]
     },
     "execution_count": 6,
     "metadata": {},
     "output_type": "execute_result"
    },
    {
     "data": {
      "image/png": "[encoded data removed]",
      "text/plain": [
       "<Figure size 640x480 with 1 Axes>"
      ]
     },
     "metadata": {},
     "output_type": "display_data"
    }
   ],
   "source": [
    "\n",
    "#file='psp_2018_now_rtn.p'\n",
    "#file='psp_rtn_test.p'\n",
    "\n",
    "file='psp_rtn_oct_2024_apr_2025.p'\n",
    "\n",
    "#file='solo_2020_now_rtn.p'\n",
    "#file='solo_rtn_2024-03-23.p'\n",
    "#file='solo_rtn_2024-03-25.p'\n",
    "#file='solo_rtn_test.p'\n",
    "\n",
    "#file='solo_lowlat_now.p'\n",
    "\n",
    "#file='bepi_ob_rtn_test.p'\n",
    "#file='bepi_ib_2019_now_rtn.p'  #preferred ib over ob\n",
    "\n",
    "\n",
    "#file='bepi_ob_2019_now_rtn.p'  #preferred ib over ob\n",
    "#file='bepi_ob_2019_now_rtn.p'\n",
    "\n",
    "\n",
    "#file='stereoa_2007_now_rtn.p'\n",
    "#file='stereoa_beacon_rtn_last_400days_now.p'\n",
    "#file='stereoa_beacon_gsm_last_35days_now.p'\n",
    "\n",
    "#file='noaa_archive_gsm.p'\n",
    "\n",
    "#file='stereoa_beacon_rtn_last_35days_now.p'\n",
    "#file='noaa_rtsw_last_35files_now.p'\n",
    "\n",
    "#file='wind_1995_now_heeq.p'\n",
    "\n",
    "#file='wind_1995_now_rtn.p'\n",
    "\n",
    "#file='wind_1995_now_gse.p'\n",
    "\n",
    "\n",
    "#file='noaa_rtsw_last_300files_now.p'\n",
    "\n",
    "#file='psp_rtn_test.p'\n",
    "\n",
    "#file='ulysses_1990_2009_rtn.p'\n",
    "\n",
    "#file='juno_2011_2016_rtn.p'\n",
    "#file='juno_2011_2016_rtn_old.p'\n",
    "\n",
    "\n",
    "#file='omni_1963_now.p'\n",
    "\n",
    "\n",
    "#data_path='/Users/chris/python/data/may_2024_events/'\n",
    "#file=\"noaa_rtsw_last_35files_now.p\" \n",
    "\n",
    "\n",
    "[sc,header]=pickle.load(open(data_path+file, \"rb\" ) ) \n",
    "\n",
    "\n",
    "\n",
    "#start=datetime(2012,7,20)\n",
    "#end=datetime(2012,7,31)\n",
    "\n",
    "#start=datetime(1963,1,1)\n",
    "#end=datetime(2024,1,1)\n",
    "\n",
    "\n",
    "\n",
    "#start=datetime(1989,1,1)\n",
    "#end=datetime(2010,1,1)\n",
    "\n",
    "\n",
    "#start=datetime(1998,3,1)\n",
    "#end=datetime(1998,4,1)\n",
    "\n",
    "\n",
    "start=datetime(2024,10,1)\n",
    "\n",
    "end=datetime(2024,12,1)\n",
    "\n",
    "#end=datetime(2025,4,30)\n",
    "\n",
    "\n",
    "#cutout array for these dates\n",
    "#start=datetime(2005,2,23,6)\n",
    "#start=datetime(2024,12,1)\n",
    "#end=datetime(2024,12,31)\n",
    "\n",
    "\n",
    "#cutout array for these dates\n",
    "#start=datetime(2001,2,1)\n",
    "#end=datetime(2002,5,30)\n",
    "\n",
    "\n",
    "#cutout array for these dates\n",
    "#start=datetime(1998,1,1)\n",
    "\n",
    "#end=datetime(1998,12,31)\n",
    "\n",
    "\n",
    "\n",
    "#scnum=mdates.date2num(sc.time)\n",
    "startind=np.argmin(abs(start-sc.time))\n",
    "endind=np.argmin(abs(end-sc.time))\n",
    "\n",
    "sc=sc[startind:endind]\n",
    "\n",
    "######## save cutout data if needed\n",
    "\n",
    "#pickle_file='data/bepi_cutout_2022_march_10_april_10.p'\n",
    "#pickle.dump([sc, header], open(pickle_file, \"wb\"))\n",
    "#[bepi,hbepi]=pickle.load(open(pickle_file, \"rb\" ) )\n",
    "\n",
    "plt.plot(sc.time,sc.bt)\n",
    "plt.plot(sc.time,sc.bx)\n",
    "plt.plot(sc.time,sc.by)\n",
    "plt.plot(sc.time,sc.bz)\n",
    "\n",
    "\n",
    "\n",
    "header"
   ]
  },
  {
   "cell_type": "markdown",
   "metadata": {},
   "source": [
    "\n",
    "### Use plotly for measuring times"
   ]
  },
  {
   "cell_type": "markdown",
   "metadata": {},
   "source": [
    "#### with plasma data\n"
   ]
  },
  {
   "cell_type": "code",
   "execution_count": 7,
   "metadata": {
    "tags": []
   },
   "outputs": [],
   "source": [
    "nrows=5\n",
    "#init_notebook_mode(connected = True)\n",
    "#init_notebook_mode(connected = False)\n",
    "\n",
    "#fig=plt.figure(figsize=(10,6), dpi=150)\n",
    "fig = make_subplots(rows=nrows, cols=1, shared_xaxes=True,row_heights=[0.3,0.2, 0.2, 0.2, 0.1])\n",
    "\n",
    "\n",
    "#for column, color in zip(['b_x', 'b_y', 'b_z', 'b_tot'], ['red', 'green', 'blue', 'black']):\n",
    "fig.add_trace(go.Scatter(x=sc.time, y=sc.bx, name='Bx',line_color='red'), row=1, col=1)\n",
    "fig.update_yaxes(title_text=\"B [nT] RTN\", row=1, col=1)\n",
    "fig.add_trace(go.Scatter(x=sc.time, y=sc.by, name='By',line_color='green'), row=1, col=1)\n",
    "fig.add_trace(go.Scatter(x=sc.time, y=sc.bz, name='Bz',line_color='blue'), row=1, col=1)\n",
    "fig.add_trace(go.Scatter(x=sc.time, y=sc.bt, name='Bt',line_color='black'), row=1, col=1)\n",
    "\n",
    "fig.add_trace(go.Scatter(x=sc.time, y=sc.vt, name='Vt',line_color='black'), row=2, col=1)\n",
    "fig.update_yaxes(title_text=\"V [km/s]\", row=2, col=1)\n",
    "\n",
    "fig.add_trace(go.Scatter(x=sc.time, y=sc.np, name='Np',line_color='black'), row=3, col=1)\n",
    "fig.update_yaxes(title_text=\"Np [ccm-3]\", row=3, col=1)\n",
    "\n",
    "fig.add_trace(go.Scatter(x=sc.time, y=sc.tp, name='Tp',line_color='black'), row=4, col=1)\n",
    "fig.update_yaxes(title_text=\"Tp [K]\", row=4, col=1)\n",
    "\n",
    "fig.add_trace(go.Scatter(x=sc.time, y=sc.r, name='R',line_color='black'), row=5, col=1)\n",
    "fig.update_yaxes(title_text=\"R [AU]\", row=5, col=1)\n",
    "\n",
    "\n",
    "#fig.update_layout(title='sc data')\n",
    "\n",
    "#### save as vector graphics\n",
    "fig.show(config = {\n",
    "  'toImageButtonOptions': {\n",
    "    'format': 'svg', \n",
    "    'filename': 'custom_image',\n",
    "    'height': 800,\n",
    "    'width': 1000,\n",
    "    'scale':6 # Multiply title/legend/axis/canvas sizes by this factor\n",
    "  }\n",
    "})\n",
    "\n",
    "\n",
    "\n",
    "fig.write_html(f'measure.html')"
   ]
  },
  {
   "cell_type": "markdown",
   "metadata": {
    "tags": []
   },
   "source": [
    "### for PSP"
   ]
  },
  {
   "cell_type": "code",
   "execution_count": null,
   "metadata": {
    "tags": []
   },
   "outputs": [],
   "source": [
    "nrows=5\n",
    "#init_notebook_mode(connected = True)\n",
    "#init_notebook_mode(connected = False)\n",
    "\n",
    "#fig=plt.figure(figsize=(10,6), dpi=150)\n",
    "fig = make_subplots(rows=nrows, cols=1, shared_xaxes=True,row_heights=[0.3,0.2, 0.2, 0.2, 0.1])\n",
    "\n",
    "\n",
    "#for column, color in zip(['b_x', 'b_y', 'b_z', 'b_tot'], ['red', 'green', 'blue', 'black']):\n",
    "fig.add_trace(go.Scatter(x=sc.time, y=sc.bx, name='Bx',line_color='red'), row=1, col=1)\n",
    "fig.update_yaxes(title_text=\"B [nT] RTN\", row=1, col=1)\n",
    "fig.add_trace(go.Scatter(x=sc.time, y=sc.by, name='By',line_color='green'), row=1, col=1)\n",
    "fig.add_trace(go.Scatter(x=sc.time, y=sc.bz, name='Bz',line_color='blue'), row=1, col=1)\n",
    "fig.add_trace(go.Scatter(x=sc.time, y=sc.bt, name='Bt',line_color='black'), row=1, col=1)\n",
    "\n",
    "fig.add_trace(go.Scatter(x=sc.time, y=sc.vt, name='Vt',mode='markers',marker=dict(color='black')), row=2, col=1)\n",
    "fig.update_yaxes(title_text=\"V [km/s]\", row=2, col=1)\n",
    "\n",
    "fig.add_trace(go.Scatter(x=sc.time, y=sc.np, name='Np',mode='markers',marker=dict(color='black')), row=3, col=1)\n",
    "fig.update_yaxes(title_text=\"Np [ccm-3]\", row=3, col=1)\n",
    "\n",
    "fig.add_trace(go.Scatter(x=sc.time, y=sc.tp, name='Tp',mode='markers',marker=dict(color='black')), row=4, col=1)\n",
    "fig.update_yaxes(title_text=\"Tp [K]\", row=4, col=1)\n",
    "\n",
    "fig.add_trace(go.Scatter(x=sc.time, y=sc.r, name='R',line_color='black'), row=5, col=1)\n",
    "fig.update_yaxes(title_text=\"R [AU]\", row=5, col=1)\n",
    "\n",
    "\n",
    "#fig.update_layout(title='sc data')\n",
    "\n",
    "#### save as vector graphics\n",
    "fig.show(config = {\n",
    "  'toImageButtonOptions': {\n",
    "    'format': 'svg', \n",
    "    'filename': 'custom_image',\n",
    "    'height': 800,\n",
    "    'width': 1000,\n",
    "    'scale':6 # Multiply title/legend/axis/canvas sizes by this factor\n",
    "  }\n",
    "})\n",
    "\n",
    "\n",
    "\n",
    "fig.write_html(f'measure.html')"
   ]
  },
  {
   "cell_type": "markdown",
   "metadata": {},
   "source": [
    "### no plasma data"
   ]
  },
  {
   "cell_type": "code",
   "execution_count": 20,
   "metadata": {},
   "outputs": [],
   "source": [
    "#def on_plot_click(trace, points, state):\n",
    "#    if points.point_inds:\n",
    "#        clicked_index = points.point_inds[0]\n",
    "#        clicked_x = df['x_values'][clicked_index]\n",
    "#        clicked_y = df['y_values'][clicked_index]\n",
    "#        print(f\"Clicked on point ({clicked_x}, {clicked_y})\")\n",
    "\n",
    "\n",
    "nrows=3\n",
    "#init_notebook_mode(connected = True)\n",
    "#init_notebook_mode(connected = False)\n",
    "\n",
    "#fig=plt.figure(figsize=(10,6), dpi=150)\n",
    "\n",
    "fig = make_subplots(rows=nrows, cols=1, shared_xaxes=True,row_heights=[0.6, 0.2,0.2])\n",
    "\n",
    "#for column, color in zip(['b_x', 'b_y', 'b_z', 'b_tot'], ['red', 'green', 'blue', 'black']):\n",
    "fig.add_trace(go.Scatter(x=sc.time, y=sc.bx, name='Bx',line_color='red'), row=1, col=1)\n",
    "fig.add_trace(go.Scatter(x=sc.time, y=sc.by, name='By',line_color='green'), row=1, col=1)\n",
    "fig.add_trace(go.Scatter(x=sc.time, y=sc.bz, name='Bz',line_color='blue'), row=1, col=1)\n",
    "fig.add_trace(go.Scatter(x=sc.time, y=sc.bt, name='Bt',line_color='black'), row=1, col=1)\n",
    "fig.update_yaxes(title_text=\"B [nT] RTN\", row=1, col=1)\n",
    "fig.add_trace(go.Scatter(x=sc.time, y=sc.r, name='R',line_color='black'), row=2, col=1)\n",
    "fig.update_yaxes(title_text=\"R [AU]\", row=2, col=1)\n",
    "\n",
    "fig.add_trace(go.Scatter(x=sc.time, y=sc.lon, name='Longitude',line_color='black'), row=3, col=1)\n",
    "fig.update_yaxes(title_text=\"longitude [deg] HEEQ\", row=3, col=1)\n",
    "\n",
    "# Attach the custom click event callback\n",
    "#fig.data[0].on_click(on_plot_click)\n",
    "\n",
    "fig.show()\n",
    "#fig.update_layout(title='Wind')\n",
    "\n",
    "#fig.write_html(f'measure_mag.html')\n"
   ]
  },
  {
   "cell_type": "code",
   "execution_count": 7,
   "metadata": {
    "tags": []
   },
   "outputs": [
    {
     "name": "stdout",
     "output_type": "stream",
     "text": [
      "positions file loaded\n"
     ]
    }
   ],
   "source": [
    "### Positions with Emmas  file\n",
    "# in rad with 10 min resolution and matplotlib datenumbers\n",
    "pos=pickle.load( open( 'results/positions/positions_all_HEEQ_10min_rad_ed.p', \"rb\" ) )\n",
    "print('positions file loaded')"
   ]
  },
  {
   "cell_type": "code",
   "execution_count": 27,
   "metadata": {
    "tags": []
   },
   "outputs": [],
   "source": [
    "fig = make_subplots(rows=1, cols=1, shared_xaxes=True)\n",
    "fig.add_trace(go.Scatter(x=pos['psp'].time, y=pos['psp'].r, name='R',line_color='green'), row=1, col=1)"
   ]
  },
  {
   "cell_type": "markdown",
   "metadata": {
    "tags": []
   },
   "source": [
    "### check SolO ICMEs\n",
    "\n"
   ]
  },
  {
   "cell_type": "code",
   "execution_count": 28,
   "metadata": {
    "tags": []
   },
   "outputs": [],
   "source": [
    "\n",
    "[ic,header,parameters] = pickle.load(open('icmecat/HELIO4CAST_ICMECAT_v23_pandas.p', \"rb\" ))\n",
    "\n",
    "soloi=np.where(ic.sc_insitu=='SolarOrbiter')[0]\n",
    "ics = np.array(ic.loc[soloi,'icme_start_time'])\n",
    "\n",
    "soloi2=np.where(ic.sc_insitu=='SolarOrbiter')[0]\n",
    "ics2 = np.array(ic.loc[soloi2,'mo_start_time'])\n",
    "\n",
    "soloi3=np.where(ic.sc_insitu=='SolarOrbiter')[0]\n",
    "ics3 = np.array(ic.loc[soloi3,'mo_end_time'])\n",
    "\n"
   ]
  },
  {
   "cell_type": "code",
   "execution_count": 48,
   "metadata": {
    "tags": []
   },
   "outputs": [],
   "source": [
    "nrows=3\n",
    "#init_notebook_mode(connected = True)\n",
    "#init_notebook_mode(connected = False)\n",
    "\n",
    "#fig=plt.figure(figsize=(10,6), dpi=150)\n",
    "\n",
    "fig = make_subplots(rows=nrows, cols=1, shared_xaxes=True,row_heights=[0.6, 0.2,0.2])\n",
    "\n",
    "#for column, color in zip(['b_x', 'b_y', 'b_z', 'b_tot'], ['red', 'green', 'blue', 'black']):\n",
    "\n",
    "fig.add_trace(go.Scatter(x=sc.time, y=sc.bx, name='Bx',line_color='red'), row=1, col=1)\n",
    "fig.add_trace(go.Scatter(x=sc.time, y=sc.by, name='By',line_color='green'), row=1, col=1)\n",
    "fig.add_trace(go.Scatter(x=sc.time, y=sc.bz, name='Bz',line_color='blue'), row=1, col=1)\n",
    "fig.add_trace(go.Scatter(x=sc.time, y=sc.bt, name='Bt',line_color='black'), row=1, col=1)\n",
    "fig.update_yaxes(title_text=\"B [nT] RTN\", row=1, col=1)\n",
    "\n",
    "for i in np.arange(0,len(icsa)):\n",
    "    fig.add_vline(x=ics[i], line_width=3, line_dash='dash', line_color='black',row=1, col=1)\n",
    "    fig.add_vline(x=ics2[i], line_width=3, line_dash='dash', line_color='black',row=1, col=1)\n",
    "    fig.add_vline(x=ics3[i], line_width=3, line_dash='dash', line_color='black',row=1, col=1)\n",
    "\n",
    "    \n",
    "fig.add_trace(go.Scatter(x=sc.time, y=sc.r, name='R',line_color='black'), row=2, col=1)\n",
    "fig.update_yaxes(title_text=\"R [AU]\", row=2, col=1)\n",
    "\n",
    "\n",
    "\n",
    "fig.add_trace(go.Scatter(x=sc.time, y=sc.lon, name='Longitude',line_color='black'), row=3, col=1)\n",
    "fig.update_yaxes(title_text=\"longitude [deg] HEEQ\", row=3, col=1)\n",
    "\n",
    "\n",
    "\n",
    "# Attach the custom click event callback\n",
    "#fig.data[0].on_click(on_plot_click)\n",
    "\n",
    "fig.show()"
   ]
  },
  {
   "cell_type": "markdown",
   "metadata": {},
   "source": [
    "### for OMNI solar wind, Dst, and SSN in 2 plots"
   ]
  },
  {
   "cell_type": "code",
   "execution_count": null,
   "metadata": {
    "tags": []
   },
   "outputs": [],
   "source": [
    "file='omni_1963_now.p'\n",
    "\n",
    "[sc,header]=pickle.load(open(data_path+file, \"rb\" ) ) \n",
    "\n",
    "#start=datetime(2012,7,20)\n",
    "#end=datetime(2012,7,31)\n",
    "\n",
    "start=datetime(1963,1,1)\n",
    "end=datetime(2024,1,1)"
   ]
  },
  {
   "cell_type": "code",
   "execution_count": null,
   "metadata": {
    "tags": []
   },
   "outputs": [],
   "source": [
    "nrows=5\n",
    "#init_notebook_mode(connected = True)\n",
    "#init_notebook_mode(connected = False)\n",
    "\n",
    "#fig=plt.figure(figsize=(10,6), dpi=150)\n",
    "\n",
    "fig = make_subplots(rows=nrows, cols=1, shared_xaxes=True,row_heights=[0.3,0.2, 0.2, 0.2, 0.1])\n",
    "\n",
    "\n",
    "#for column, color in zip(['b_x', 'b_y', 'b_z', 'b_tot'], ['red', 'green', 'blue', 'black']):\n",
    "fig.add_trace(go.Scatter(x=sc.time, y=sc.bx, name='Bx',line_color='red'), row=1, col=1)\n",
    "fig.update_yaxes(title_text=\"B [nT] RTN\", row=1, col=1)\n",
    "fig.add_trace(go.Scatter(x=sc.time, y=sc.by, name='By',line_color='green'), row=1, col=1)\n",
    "fig.add_trace(go.Scatter(x=sc.time, y=sc.bz, name='Bz',line_color='blue'), row=1, col=1)\n",
    "fig.add_trace(go.Scatter(x=sc.time, y=sc.bt, name='Bt',line_color='black'), row=1, col=1)\n",
    "\n",
    "fig.add_trace(go.Scatter(x=sc.time, y=sc.vt, name='Vt',line_color='black'), row=2, col=1)\n",
    "fig.update_yaxes(title_text=\"V [km/s]\", row=2, col=1)\n",
    "\n",
    "fig.add_trace(go.Scatter(x=sc.time, y=sc.np, name='Np',line_color='black'), row=3, col=1)\n",
    "fig.update_yaxes(title_text=\"Np [ccm-3]\", row=3, col=1)\n",
    "\n",
    "fig.add_trace(go.Scatter(x=sc.time, y=sc.dst, name='Dst',line_color='black'), row=4, col=1)\n",
    "fig.update_yaxes(title_text=\"Dst [nT]\", row=4, col=1)\n",
    "\n",
    "\n",
    "#fig.update_layout(title='sc data')\n",
    "\n",
    "fig.write_html(f'omni.html')\n",
    "fig.show()"
   ]
  },
  {
   "cell_type": "code",
   "execution_count": null,
   "metadata": {},
   "outputs": [],
   "source": [
    "### Dst and Sunspot number\n",
    "\n",
    "nrows=2\n",
    "#init_notebook_mode(connected = True)\n",
    "#init_notebook_mode(connected = False)\n",
    "\n",
    "#fig=plt.figure(figsize=(10,6), dpi=150)\n",
    "\n",
    "fig = make_subplots(rows=nrows, cols=1, shared_xaxes=True,row_heights=[0.5,0.5])\n",
    "\n",
    "fig.add_trace(go.Scatter(x=sc.time, y=sc.spot, name='SSN',line_color='red'), row=1, col=1)\n",
    "fig.update_yaxes(title_text=\"SSN\", row=1, col=1)\n",
    "\n",
    "fig.add_trace(go.Scatter(x=sc.time, y=sc.dst, name='Dst',line_color='black'), row=2, col=1)\n",
    "fig.update_yaxes(title_text=\"Dst [nT]\", row=2, col=1)\n",
    "\n",
    "\n",
    "#fig.update_layout(title='sc data')\n",
    "\n",
    "fig.write_html(f'dst_ssn.html')\n",
    "fig.show()"
   ]
  },
  {
   "cell_type": "markdown",
   "metadata": {},
   "source": [
    "## scaling"
   ]
  },
  {
   "cell_type": "code",
   "execution_count": null,
   "metadata": {},
   "outputs": [],
   "source": [
    "\n",
    "import seaborn as sns\n",
    "sns.set_context('paper')\n",
    "sns.set_style('whitegrid')\n",
    "\n",
    "fig=plt.figure(1, figsize=(10,5), dpi=100) #full hd\n",
    "\n",
    "\n",
    "scale=1/0.40**(-1.5)\n",
    "\n",
    "scale2=1/0.40**(-2.0)\n",
    "scale3=1/0.40**(-1.0)\n",
    "\n",
    "\n",
    "bts=sc.bt*scale\n",
    "bxs=sc.bx*scale\n",
    "bys=sc.by*scale\n",
    "bzs=sc.bz*scale\n",
    "\n",
    "\n",
    "bzs2=sc.bz*scale2\n",
    "bzs3=sc.bz*scale3\n",
    "\n",
    "\n",
    "\n",
    "plt.plot(sc.time,bts,'-k')\n",
    "#plt.plot(sc.time,bxs,'-r')\n",
    "#plt.plot(sc.time,bys,'-g')\n",
    "plt.plot(sc.time,bzs,'-b')\n",
    "\n",
    "#plt.fill_between(sc.time, bzs, color='skyblue', alpha=0.3)\n",
    "\n",
    "#plt.plot(sc.time,bzs2,'--b')\n",
    "#plt.plot(sc.time,bzs3,'--b')\n",
    "\n",
    "plt.ylabel('B [nT] RTN ') \n",
    "plt.title('SolO RTN Bn (blue) and Bt (black) scaled with exponents -1.0 to -2.0')\n",
    "\n",
    "\n",
    "plt.fill_between(sc.time, bzs3, bzs2,color='lightblue', interpolate=True)\n",
    "\n",
    "\n"
   ]
  },
  {
   "cell_type": "code",
   "execution_count": null,
   "metadata": {},
   "outputs": [],
   "source": [
    "def calc_coupling_newell(by, bz, v):\n",
    "    #Empirical Formula for dFlux/dt - the Newell coupling\n",
    "    #e.g. paragraph 25 in Newell et al. 2010 doi:10.1029/2009JA014805\n",
    "    #input: needs arrays for by, bz, v    \n",
    "    \n",
    "    bt = np.sqrt(by**2 + bz**2)\n",
    "    bztemp = bz\n",
    "    bztemp[bz == 0] = 0.001\n",
    "    tc = np.arctan2(by,bztemp)     #calculate clock angle (theta_c = t_c)\n",
    "    neg_tc = bt*np.cos(tc)*bz < 0  #similar to IDL code sol_coup.pro\n",
    "    tc[neg_tc] = tc[neg_tc] + np.pi\n",
    "    sintc = np.abs(np.sin(tc/2.))\n",
    "    nc = (v**1.33333)*(sintc**2.66667)*(bt**0.66667)\n",
    "    \n",
    "    return nc\n",
    "\n",
    "\n",
    "def nc_weights(nc):    \n",
    "\n",
    "    #this function is for 1 hour time resolution\n",
    "    nc_weight=np.zeros(len(nc))\n",
    "\n",
    "    prev_hour_weight = 0.65    # reduce weighting by factor with each hour back\n",
    "    \n",
    "    weights=np.zeros(4)\n",
    "\n",
    "    weights[3] = 1  #the current fraction of hour is weighted as linear\n",
    "    weights[2] = prev_hour_weight  \n",
    "    weights[1] = prev_hour_weight**2  \n",
    "    weights[0] = prev_hour_weight**3      \n",
    "    \n",
    "    for i in np.arange(4,len(nc)):\n",
    "        #add and normalize\n",
    "        nc_weight[i] = np.round(np.nansum(nc[i-3:i+1]*weights)/ np.nansum(weights),1)    \n",
    "    \n",
    "    return nc_weight\n",
    "\n",
    "print(' ')\n",
    "print('calculate Newell coupling without propagation first')\n",
    "print(' ')\n",
    "#n-> dst\n",
    "#w-> solar wind\n",
    "\n",
    "\n",
    "\n",
    "vassumed=np.zeros(np.size(bzs))+820\n",
    "\n",
    "#minute resolution\n",
    "solo_nc=calc_coupling_newell(bys,bzs,vassumed)/4421\n",
    "#interpolate to 1 hour first\n",
    "\n",
    "\n",
    "time_hourly=np.array([\n",
    "datetime(2024, 3, 23, 12, 0),\n",
    "datetime(2024, 3, 23, 13, 0),\n",
    "datetime(2024, 3, 23, 14, 0),\n",
    "datetime(2024, 3, 23, 15, 0),\n",
    "datetime(2024, 3, 23, 16, 0),\n",
    "datetime(2024, 3, 23, 17, 0),\n",
    "datetime(2024, 3, 23, 18, 0),\n",
    "]\n",
    ")\n",
    "solo_nci=np.interp(mdates.date2num(time_hourly),mdates.date2num(sc.time),solo_nc)\n",
    "\n",
    "\n",
    "\n",
    "#then do weighting\n",
    "solo_nc_fin=nc_weights(solo_nci)\n",
    "\n",
    "\n",
    "plt.title('Newell coupling from Solar Orbiter data')\n",
    "\n",
    "plt.ylabel('Nc')\n",
    "\n",
    "plt.plot(sc.time,solo_nc,alpha=0.5)\n",
    "plt.plot(time_hourly,solo_nci,'ok')\n",
    "plt.plot(time_hourly,solo_nc_fin,'-r')\n",
    "\n"
   ]
  },
  {
   "cell_type": "code",
   "execution_count": null,
   "metadata": {},
   "outputs": [],
   "source": []
  },
  {
   "cell_type": "code",
   "execution_count": null,
   "metadata": {},
   "outputs": [],
   "source": []
  },
  {
   "cell_type": "code",
   "execution_count": null,
   "metadata": {},
   "outputs": [],
   "source": []
  },
  {
   "cell_type": "code",
   "execution_count": null,
   "metadata": {},
   "outputs": [],
   "source": []
  },
  {
   "cell_type": "code",
   "execution_count": null,
   "metadata": {},
   "outputs": [],
   "source": [
    "\n",
    "\n",
    "#check positions in positions file and in data file\n",
    "\n",
    "#plt.plot(solo.time,solo.lat,'b-')\n",
    "#plt.plot(pos[1].time,np.rad2deg(pos[1].lat),'k-')   \n",
    "\n",
    "#from plotly.subplots import make_subplots\n",
    "#fig = make_subplots(rows=1, cols=1, shared_xaxes=True)\n",
    "#fig.add_trace(go.Scatter(x=solo.time, y=solo.lat, name='lat solo',line_color='red'))\n",
    "#fig.add_trace(go.Scatter(x=mdates.num2date(pos[1].time), y=np.rad2deg(pos[1].lat), name='lat pos',line_color='green'))\n",
    "\n",
    "#fig.write_html(f'measure.html')\n"
   ]
  },
  {
   "cell_type": "code",
   "execution_count": null,
   "metadata": {
    "tags": []
   },
   "outputs": [],
   "source": [
    "#print('load Solar Orbiter SCEQ')\n",
    "#filesolo='solo_2020_april_2022_sep_mag_sceq.p'\n",
    "#solo=pickle.load(open(data_path+filesolo, \"rb\" ) ) \n",
    "#sc=solo\n",
    "#sc_label='Solar Orbiter'\n",
    "#start1='2022-Jan-1 00:00'\n",
    "#end1='2022-Jun-30 00:00'\n",
    "\n",
    "\n",
    "#print('load Solar Orbiter SCEQ')\n",
    "#filesolo='solo_2020_april_2022_june_rtn.p'\n",
    "#solo=pickle.load(open(data_path+filesolo, \"rb\" ) ) \n",
    "#sc=solo\n",
    "#sc_label='Solar Orbiter'\n",
    "#start1='2022-Jan-1 00:00'\n",
    "#end1='2022-Jun-30 00:00'\n",
    "\n",
    "#print('PSP SCEQ')\n",
    "#filepsp='psp_2022_add_mag_sceq.p'\n",
    "#psp=pickle.load(open(data_path+filepsp, \"rb\" ) ) \n",
    "#filepsp='psp_2022_add_mag_rtn.p'\n",
    "#psp=pickle.load(open(data_path+filepsp, \"rb\" ) ) \n",
    "\n",
    "#sc=psp\n",
    "#sc_label='PSP'\n",
    "#start1='2022-Jan-1 00:00'\n",
    "#end1='2022-Mar-31 00:00'\n",
    "\n",
    "\n",
    "#print('wind HEEQ')\n",
    "#filesolo='wind_2018_now_heeq.p'\n",
    "#[wind,windh]=pickle.load(open(data_path+filesolo, \"rb\" ) ) \n",
    "#sc=wind\n",
    "#sc_label='Wind'\n",
    "#start1='2022-Sep-1 00:00'\n",
    "#end1='2022-Nov-11 00:00'\n",
    "\n",
    "\n",
    "#print('load bepi')\n",
    "#file='bepi_2021_2022_ib_sceq.p'\n",
    "#file='bepi_2021_2022_ib_sceq.p'\n",
    "\n",
    "#bepi=pickle.load(open(data_path+file, \"rb\" ) ) \n",
    "#sc=bepi\n",
    "#sc_label='Bepi'\n",
    "#start1='2022-Apr-1 00:00'\n",
    "#end1='2022-Nov-31 00:00'\n",
    "\n",
    "\n",
    "#print('load sta')\n",
    "#filesolo='stereoa_2020_now_sceq_beacon.p'\n",
    "#[sta,stah]=pickle.load(open(data_path+filesolo, \"rb\" ) ) \n",
    "#sc=sta\n",
    "#sc_label='STEREO-A'\n",
    "#start1='2022-Feb-1 00:00'\n",
    "#end1='2022-Nov-11 00:00'\n",
    "\n",
    "\n",
    "\n",
    "####### select parts for plotting\n",
    "sc=sc[-100000:-1]\n",
    "\n",
    "#sc[0:1]\n",
    "\n"
   ]
  },
  {
   "cell_type": "code",
   "execution_count": null,
   "metadata": {},
   "outputs": [],
   "source": []
  },
  {
   "cell_type": "code",
   "execution_count": null,
   "metadata": {},
   "outputs": [],
   "source": []
  },
  {
   "cell_type": "code",
   "execution_count": 6,
   "metadata": {},
   "outputs": [],
   "source": [
    "####### check STEREO-A distance to Earth\n",
    "\n",
    "\n",
    "#cutout array for these dates\n",
    "start=datetime(2023,1,1,0)\n",
    "end=datetime(2024,8,31)\n",
    "\n",
    "\n",
    "file='stereoa_2007_now_rtn.p'\n",
    "\n",
    "[sta,header]=pickle.load(open(data_path+file, \"rb\" ) ) \n",
    "\n",
    "\n",
    "startind=np.argmin(abs(start-sta.time))\n",
    "endind=np.argmin(abs(end-sta.time))\n",
    "\n",
    "sta=sta[startind:endind]\n",
    "\n",
    "\n",
    "\n",
    "\n",
    "\n",
    "file='wind_1995_now_rtn.p'\n",
    "\n",
    "[win,header]=pickle.load(open(data_path+file, \"rb\" ) ) \n",
    "\n",
    "\n",
    "startind=np.argmin(abs(start-win.time))\n",
    "endind=np.argmin(abs(end-win.time))\n",
    "\n",
    "win=win[startind:endind]\n",
    "\n"
   ]
  },
  {
   "cell_type": "code",
   "execution_count": 9,
   "metadata": {},
   "outputs": [
    {
     "data": {
      "text/plain": [
       "[<matplotlib.lines.Line2D at 0x1776c1e70>]"
      ]
     },
     "execution_count": 9,
     "metadata": {},
     "output_type": "execute_result"
    },
    {
     "data": {
      "image/png": "[encoded data removed]",
      "text/plain": [
       "<Figure size 640x480 with 1 Axes>"
      ]
     },
     "metadata": {},
     "output_type": "display_data"
    }
   ],
   "source": [
    "plt.plot(win.time,win.r,'-k')\n",
    "plt.plot(sta.time,sta.r,'-r')\n",
    "\n"
   ]
  },
  {
   "cell_type": "code",
   "execution_count": 10,
   "metadata": {},
   "outputs": [
    {
     "ename": "ValueError",
     "evalue": "operands could not be broadcast together with shapes (375839,) (470944,) ",
     "output_type": "error",
     "traceback": [
      "\u001b[0;31m---------------------------------------------------------------------------\u001b[0m",
      "\u001b[0;31mValueError\u001b[0m                                Traceback (most recent call last)",
      "Cell \u001b[0;32mIn[10], line 1\u001b[0m\n\u001b[0;32m----> 1\u001b[0m plt\u001b[38;5;241m.\u001b[39mplot(win\u001b[38;5;241m.\u001b[39mtime,\u001b[43mwin\u001b[49m\u001b[38;5;241;43m.\u001b[39;49m\u001b[43mr\u001b[49m\u001b[38;5;241;43m-\u001b[39;49m\u001b[43msta\u001b[49m\u001b[38;5;241;43m.\u001b[39;49m\u001b[43mr\u001b[49m)\n",
      "\u001b[0;31mValueError\u001b[0m: operands could not be broadcast together with shapes (375839,) (470944,) "
     ]
    }
   ],
   "source": [
    "plt.plot(win.time,win.r-sta.r)"
   ]
  },
  {
   "cell_type": "code",
   "execution_count": null,
   "metadata": {},
   "outputs": [],
   "source": []
  },
  {
   "cell_type": "code",
   "execution_count": null,
   "metadata": {},
   "outputs": [],
   "source": []
  }
 ],
 "metadata": {
  "kernelspec": {
   "display_name": "Python 3 (ipykernel)",
   "language": "python",
   "name": "python3"
  },
  "language_info": {
   "codemirror_mode": {
    "name": "ipython",
    "version": 3
   },
   "file_extension": ".py",
   "mimetype": "text/x-python",
   "name": "python",
   "nbconvert_exporter": "python",
   "pygments_lexer": "ipython3",
   "version": "3.10.0"
  }
 },
 "nbformat": 4,
 "nbformat_minor": 4
}
